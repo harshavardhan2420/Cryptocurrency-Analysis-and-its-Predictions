{
 "cells": [
  {
   "cell_type": "markdown",
   "id": "f9179960",
   "metadata": {},
   "source": [
    "## ETHEREUM COIN PRICE PREDICTION"
   ]
  },
  {
   "cell_type": "code",
   "execution_count": 1,
   "id": "c18e9f5a",
   "metadata": {},
   "outputs": [
    {
     "data": {
      "text/html": [
       "<div>\n",
       "<style scoped>\n",
       "    .dataframe tbody tr th:only-of-type {\n",
       "        vertical-align: middle;\n",
       "    }\n",
       "\n",
       "    .dataframe tbody tr th {\n",
       "        vertical-align: top;\n",
       "    }\n",
       "\n",
       "    .dataframe thead th {\n",
       "        text-align: right;\n",
       "    }\n",
       "</style>\n",
       "<table border=\"1\" class=\"dataframe\">\n",
       "  <thead>\n",
       "    <tr style=\"text-align: right;\">\n",
       "      <th></th>\n",
       "      <th>Date</th>\n",
       "      <th>Open</th>\n",
       "      <th>High</th>\n",
       "      <th>Low</th>\n",
       "      <th>Close</th>\n",
       "      <th>Adj Close</th>\n",
       "      <th>Volume</th>\n",
       "    </tr>\n",
       "  </thead>\n",
       "  <tbody>\n",
       "    <tr>\n",
       "      <th>0</th>\n",
       "      <td>01-01-2018</td>\n",
       "      <td>755.757019</td>\n",
       "      <td>782.530029</td>\n",
       "      <td>742.004028</td>\n",
       "      <td>772.640991</td>\n",
       "      <td>772.640991</td>\n",
       "      <td>2595760128</td>\n",
       "    </tr>\n",
       "    <tr>\n",
       "      <th>1</th>\n",
       "      <td>02-01-2018</td>\n",
       "      <td>772.346008</td>\n",
       "      <td>914.830017</td>\n",
       "      <td>772.346008</td>\n",
       "      <td>884.443970</td>\n",
       "      <td>884.443970</td>\n",
       "      <td>5783349760</td>\n",
       "    </tr>\n",
       "    <tr>\n",
       "      <th>2</th>\n",
       "      <td>03-01-2018</td>\n",
       "      <td>886.000000</td>\n",
       "      <td>974.471008</td>\n",
       "      <td>868.450989</td>\n",
       "      <td>962.719971</td>\n",
       "      <td>962.719971</td>\n",
       "      <td>5093159936</td>\n",
       "    </tr>\n",
       "    <tr>\n",
       "      <th>3</th>\n",
       "      <td>04-01-2018</td>\n",
       "      <td>961.713013</td>\n",
       "      <td>1045.079956</td>\n",
       "      <td>946.085999</td>\n",
       "      <td>980.921997</td>\n",
       "      <td>980.921997</td>\n",
       "      <td>6502859776</td>\n",
       "    </tr>\n",
       "    <tr>\n",
       "      <th>4</th>\n",
       "      <td>05-01-2018</td>\n",
       "      <td>975.750000</td>\n",
       "      <td>1075.390015</td>\n",
       "      <td>956.325012</td>\n",
       "      <td>997.719971</td>\n",
       "      <td>997.719971</td>\n",
       "      <td>6683149824</td>\n",
       "    </tr>\n",
       "    <tr>\n",
       "      <th>...</th>\n",
       "      <td>...</td>\n",
       "      <td>...</td>\n",
       "      <td>...</td>\n",
       "      <td>...</td>\n",
       "      <td>...</td>\n",
       "      <td>...</td>\n",
       "      <td>...</td>\n",
       "    </tr>\n",
       "    <tr>\n",
       "      <th>2246</th>\n",
       "      <td>25-02-2024</td>\n",
       "      <td>2992.366699</td>\n",
       "      <td>3117.428955</td>\n",
       "      <td>2984.393066</td>\n",
       "      <td>3112.697266</td>\n",
       "      <td>3112.697266</td>\n",
       "      <td>14620450464</td>\n",
       "    </tr>\n",
       "    <tr>\n",
       "      <th>2247</th>\n",
       "      <td>26-02-2024</td>\n",
       "      <td>3112.529053</td>\n",
       "      <td>3197.375000</td>\n",
       "      <td>3037.954590</td>\n",
       "      <td>3178.993652</td>\n",
       "      <td>3178.993652</td>\n",
       "      <td>17504464351</td>\n",
       "    </tr>\n",
       "    <tr>\n",
       "      <th>2248</th>\n",
       "      <td>27-02-2024</td>\n",
       "      <td>3178.405029</td>\n",
       "      <td>3287.958008</td>\n",
       "      <td>3167.830566</td>\n",
       "      <td>3244.519287</td>\n",
       "      <td>3244.519287</td>\n",
       "      <td>21090315368</td>\n",
       "    </tr>\n",
       "    <tr>\n",
       "      <th>2249</th>\n",
       "      <td>28-02-2024</td>\n",
       "      <td>3243.893311</td>\n",
       "      <td>3485.450928</td>\n",
       "      <td>3201.575928</td>\n",
       "      <td>3385.703857</td>\n",
       "      <td>3385.703857</td>\n",
       "      <td>32885894265</td>\n",
       "    </tr>\n",
       "    <tr>\n",
       "      <th>2250</th>\n",
       "      <td>29-02-2024</td>\n",
       "      <td>3386.802734</td>\n",
       "      <td>3518.969238</td>\n",
       "      <td>3303.905273</td>\n",
       "      <td>3341.919678</td>\n",
       "      <td>3341.919678</td>\n",
       "      <td>28469171094</td>\n",
       "    </tr>\n",
       "  </tbody>\n",
       "</table>\n",
       "<p>2251 rows × 7 columns</p>\n",
       "</div>"
      ],
      "text/plain": [
       "            Date         Open         High          Low        Close  \\\n",
       "0     01-01-2018   755.757019   782.530029   742.004028   772.640991   \n",
       "1     02-01-2018   772.346008   914.830017   772.346008   884.443970   \n",
       "2     03-01-2018   886.000000   974.471008   868.450989   962.719971   \n",
       "3     04-01-2018   961.713013  1045.079956   946.085999   980.921997   \n",
       "4     05-01-2018   975.750000  1075.390015   956.325012   997.719971   \n",
       "...          ...          ...          ...          ...          ...   \n",
       "2246  25-02-2024  2992.366699  3117.428955  2984.393066  3112.697266   \n",
       "2247  26-02-2024  3112.529053  3197.375000  3037.954590  3178.993652   \n",
       "2248  27-02-2024  3178.405029  3287.958008  3167.830566  3244.519287   \n",
       "2249  28-02-2024  3243.893311  3485.450928  3201.575928  3385.703857   \n",
       "2250  29-02-2024  3386.802734  3518.969238  3303.905273  3341.919678   \n",
       "\n",
       "        Adj Close       Volume  \n",
       "0      772.640991   2595760128  \n",
       "1      884.443970   5783349760  \n",
       "2      962.719971   5093159936  \n",
       "3      980.921997   6502859776  \n",
       "4      997.719971   6683149824  \n",
       "...           ...          ...  \n",
       "2246  3112.697266  14620450464  \n",
       "2247  3178.993652  17504464351  \n",
       "2248  3244.519287  21090315368  \n",
       "2249  3385.703857  32885894265  \n",
       "2250  3341.919678  28469171094  \n",
       "\n",
       "[2251 rows x 7 columns]"
      ]
     },
     "execution_count": 1,
     "metadata": {},
     "output_type": "execute_result"
    }
   ],
   "source": [
    "import pandas as pd\n",
    "Ethereum_data = pd.read_csv(\"ETHEREUM_DATA.csv\")\n",
    "Ethereum_data"
   ]
  },
  {
   "cell_type": "code",
   "execution_count": 2,
   "id": "0f70dfbd",
   "metadata": {},
   "outputs": [
    {
     "data": {
      "text/plain": [
       "0    772.640991\n",
       "1    884.443970\n",
       "2    962.719971\n",
       "3    980.921997\n",
       "4    997.719971\n",
       "Name: Close, dtype: float64"
      ]
     },
     "execution_count": 2,
     "metadata": {},
     "output_type": "execute_result"
    }
   ],
   "source": [
    "Data = Ethereum_data.reset_index()[\"Close\"]\n",
    "Data.head()"
   ]
  },
  {
   "cell_type": "code",
   "execution_count": 3,
   "id": "9784de06",
   "metadata": {},
   "outputs": [
    {
     "data": {
      "text/plain": [
       "[<matplotlib.lines.Line2D at 0x1df4df9a310>]"
      ]
     },
     "execution_count": 3,
     "metadata": {},
     "output_type": "execute_result"
    },
    {
     "data": {
      "image/png": "[encoded data removed]",
      "text/plain": [
       "<Figure size 640x480 with 1 Axes>"
      ]
     },
     "metadata": {},
     "output_type": "display_data"
    }
   ],
   "source": [
    "import matplotlib.pyplot as plt\n",
    "plt.plot(Data)"
   ]
  },
  {
   "cell_type": "code",
   "execution_count": 4,
   "id": "f3bd3e2f",
   "metadata": {},
   "outputs": [
    {
     "data": {
      "text/plain": [
       "0        772.640991\n",
       "1        884.443970\n",
       "2        962.719971\n",
       "3        980.921997\n",
       "4        997.719971\n",
       "           ...     \n",
       "2246    3112.697266\n",
       "2247    3178.993652\n",
       "2248    3244.519287\n",
       "2249    3385.703857\n",
       "2250    3341.919678\n",
       "Name: Close, Length: 2251, dtype: float64"
      ]
     },
     "execution_count": 4,
     "metadata": {},
     "output_type": "execute_result"
    }
   ],
   "source": [
    "import numpy as np\n",
    "Data"
   ]
  },
  {
   "cell_type": "code",
   "execution_count": 5,
   "id": "0efcc567",
   "metadata": {},
   "outputs": [
    {
     "name": "stdout",
     "output_type": "stream",
     "text": [
      "[[0.14559324]\n",
      " [0.16924134]\n",
      " [0.18579795]\n",
      " ...\n",
      " [0.66843457]\n",
      " [0.69829734]\n",
      " [0.68903629]]\n"
     ]
    }
   ],
   "source": [
    "from sklearn.preprocessing import MinMaxScaler\n",
    "scalar = MinMaxScaler(feature_range = (0,1))\n",
    "Data = scalar.fit_transform(np.array(Data).reshape(-1,1))\n",
    "print(Data)"
   ]
  },
  {
   "cell_type": "code",
   "execution_count": 6,
   "id": "d370bd25",
   "metadata": {},
   "outputs": [
    {
     "data": {
      "text/plain": [
       "(1688, 563)"
      ]
     },
     "execution_count": 6,
     "metadata": {},
     "output_type": "execute_result"
    }
   ],
   "source": [
    "training_size = int(len(Data)*0.75)\n",
    "test_size = len(Data)-training_size\n",
    "train_data, test_data = Data[0:training_size,:], Data[training_size:len(Data),:1]\n",
    "training_size, test_size"
   ]
  },
  {
   "cell_type": "code",
   "execution_count": 7,
   "id": "1b1d5c4b",
   "metadata": {},
   "outputs": [
    {
     "data": {
      "text/plain": [
       "array([[0.14559324],\n",
       "       [0.16924134],\n",
       "       [0.18579795],\n",
       "       ...,\n",
       "       [0.40125146],\n",
       "       [0.3918317 ],\n",
       "       [0.38494181]])"
      ]
     },
     "execution_count": 7,
     "metadata": {},
     "output_type": "execute_result"
    }
   ],
   "source": [
    "train_data"
   ]
  },
  {
   "cell_type": "code",
   "execution_count": 8,
   "id": "4a460eba",
   "metadata": {},
   "outputs": [],
   "source": [
    "import numpy\n",
    "def create_dataset(dataset, time_step=1):\n",
    "    dataX, dataY = [],[]\n",
    "    for i in range(len(dataset)-time_step-1):\n",
    "        a = dataset[i:(i+time_step), 0]\n",
    "        dataX.append(a)\n",
    "        dataY.append(dataset[i + time_step,0])\n",
    "    return numpy.array(dataX), numpy.array(dataY) "
   ]
  },
  {
   "cell_type": "code",
   "execution_count": 9,
   "id": "80c246d1",
   "metadata": {},
   "outputs": [],
   "source": [
    "time_step = 100\n",
    "X_train, Y_train = create_dataset(train_data, time_step)\n",
    "X_test, Y_test = create_dataset(test_data, time_step)"
   ]
  },
  {
   "cell_type": "code",
   "execution_count": 10,
   "id": "62a7b2a6",
   "metadata": {},
   "outputs": [
    {
     "name": "stdout",
     "output_type": "stream",
     "text": [
      "(1587, 100)\n",
      "(1587,)\n"
     ]
    },
    {
     "data": {
      "text/plain": [
       "(None, None)"
      ]
     },
     "execution_count": 10,
     "metadata": {},
     "output_type": "execute_result"
    }
   ],
   "source": [
    "print(X_train.shape), print(Y_train.shape)"
   ]
  },
  {
   "cell_type": "code",
   "execution_count": 11,
   "id": "79260ccd",
   "metadata": {},
   "outputs": [
    {
     "name": "stdout",
     "output_type": "stream",
     "text": [
      "(462, 100)\n",
      "(462,)\n"
     ]
    },
    {
     "data": {
      "text/plain": [
       "(None, None)"
      ]
     },
     "execution_count": 11,
     "metadata": {},
     "output_type": "execute_result"
    }
   ],
   "source": [
    "print(X_test.shape), print(Y_test.shape)"
   ]
  },
  {
   "cell_type": "code",
   "execution_count": 12,
   "id": "843e715b",
   "metadata": {},
   "outputs": [],
   "source": [
    "X_train = X_train.reshape(X_train.shape[0],X_train.shape[1],1)\n",
    "X_test = X_test.reshape(X_test.shape[0],X_test.shape[1],1)"
   ]
  },
  {
   "cell_type": "code",
   "execution_count": 13,
   "id": "bb824812",
   "metadata": {},
   "outputs": [],
   "source": [
    "from tensorflow.keras.models import Sequential\n",
    "from tensorflow.keras.layers import Dense\n",
    "from tensorflow.keras.layers import LSTM"
   ]
  },
  {
   "cell_type": "code",
   "execution_count": 14,
   "id": "3cfe5855",
   "metadata": {},
   "outputs": [
    {
     "name": "stderr",
     "output_type": "stream",
     "text": [
      "C:\\Users\\91636\\Desktop\\project\\my_kernal\\Lib\\site-packages\\keras\\src\\layers\\rnn\\rnn.py:204: UserWarning: Do not pass an `input_shape`/`input_dim` argument to a layer. When using Sequential models, prefer using an `Input(shape)` object as the first layer in the model instead.\n",
      "  super().__init__(**kwargs)\n"
     ]
    }
   ],
   "source": [
    "model = Sequential()\n",
    "model.add(LSTM(50,return_sequences=True, input_shape=(100,1)))\n",
    "model.add(LSTM(50,return_sequences=True))\n",
    "model.add(LSTM(50))\n",
    "model.add(Dense(1))\n",
    "model.compile(loss=\"mean_squared_error\",optimizer=\"adam\")"
   ]
  },
  {
   "cell_type": "code",
   "execution_count": 15,
   "id": "62511ea6",
   "metadata": {},
   "outputs": [
    {
     "data": {
      "text/html": [
       "<pre style=\"white-space:pre;overflow-x:auto;line-height:normal;font-family:Menlo,'DejaVu Sans Mono',consolas,'Courier New',monospace\"><span style=\"font-weight: bold\">Model: \"sequential\"</span>\n",
       "</pre>\n"
      ],
      "text/plain": [
       "\u001b[1mModel: \"sequential\"\u001b[0m\n"
      ]
     },
     "metadata": {},
     "output_type": "display_data"
    },
    {
     "data": {
      "text/html": [
       "<pre style=\"white-space:pre;overflow-x:auto;line-height:normal;font-family:Menlo,'DejaVu Sans Mono',consolas,'Courier New',monospace\">┏━━━━━━━━━━━━━━━━━━━━━━━━━━━━━━━━━┳━━━━━━━━━━━━━━━━━━━━━━━━┳━━━━━━━━━━━━━━━┓\n",
       "┃<span style=\"font-weight: bold\"> Layer (type)                    </span>┃<span style=\"font-weight: bold\"> Output Shape           </span>┃<span style=\"font-weight: bold\">       Param # </span>┃\n",
       "┡━━━━━━━━━━━━━━━━━━━━━━━━━━━━━━━━━╇━━━━━━━━━━━━━━━━━━━━━━━━╇━━━━━━━━━━━━━━━┩\n",
       "│ lstm (<span style=\"color: #0087ff; text-decoration-color: #0087ff\">LSTM</span>)                     │ (<span style=\"color: #00d7ff; text-decoration-color: #00d7ff\">None</span>, <span style=\"color: #00af00; text-decoration-color: #00af00\">100</span>, <span style=\"color: #00af00; text-decoration-color: #00af00\">50</span>)        │        <span style=\"color: #00af00; text-decoration-color: #00af00\">10,400</span> │\n",
       "├─────────────────────────────────┼────────────────────────┼───────────────┤\n",
       "│ lstm_1 (<span style=\"color: #0087ff; text-decoration-color: #0087ff\">LSTM</span>)                   │ (<span style=\"color: #00d7ff; text-decoration-color: #00d7ff\">None</span>, <span style=\"color: #00af00; text-decoration-color: #00af00\">100</span>, <span style=\"color: #00af00; text-decoration-color: #00af00\">50</span>)        │        <span style=\"color: #00af00; text-decoration-color: #00af00\">20,200</span> │\n",
       "├─────────────────────────────────┼────────────────────────┼───────────────┤\n",
       "│ lstm_2 (<span style=\"color: #0087ff; text-decoration-color: #0087ff\">LSTM</span>)                   │ (<span style=\"color: #00d7ff; text-decoration-color: #00d7ff\">None</span>, <span style=\"color: #00af00; text-decoration-color: #00af00\">50</span>)             │        <span style=\"color: #00af00; text-decoration-color: #00af00\">20,200</span> │\n",
       "├─────────────────────────────────┼────────────────────────┼───────────────┤\n",
       "│ dense (<span style=\"color: #0087ff; text-decoration-color: #0087ff\">Dense</span>)                   │ (<span style=\"color: #00d7ff; text-decoration-color: #00d7ff\">None</span>, <span style=\"color: #00af00; text-decoration-color: #00af00\">1</span>)              │            <span style=\"color: #00af00; text-decoration-color: #00af00\">51</span> │\n",
       "└─────────────────────────────────┴────────────────────────┴───────────────┘\n",
       "</pre>\n"
      ],
      "text/plain": [
       "┏━━━━━━━━━━━━━━━━━━━━━━━━━━━━━━━━━┳━━━━━━━━━━━━━━━━━━━━━━━━┳━━━━━━━━━━━━━━━┓\n",
       "┃\u001b[1m \u001b[0m\u001b[1mLayer (type)                   \u001b[0m\u001b[1m \u001b[0m┃\u001b[1m \u001b[0m\u001b[1mOutput Shape          \u001b[0m\u001b[1m \u001b[0m┃\u001b[1m \u001b[0m\u001b[1m      Param #\u001b[0m\u001b[1m \u001b[0m┃\n",
       "┡━━━━━━━━━━━━━━━━━━━━━━━━━━━━━━━━━╇━━━━━━━━━━━━━━━━━━━━━━━━╇━━━━━━━━━━━━━━━┩\n",
       "│ lstm (\u001b[38;5;33mLSTM\u001b[0m)                     │ (\u001b[38;5;45mNone\u001b[0m, \u001b[38;5;34m100\u001b[0m, \u001b[38;5;34m50\u001b[0m)        │        \u001b[38;5;34m10,400\u001b[0m │\n",
       "├─────────────────────────────────┼────────────────────────┼───────────────┤\n",
       "│ lstm_1 (\u001b[38;5;33mLSTM\u001b[0m)                   │ (\u001b[38;5;45mNone\u001b[0m, \u001b[38;5;34m100\u001b[0m, \u001b[38;5;34m50\u001b[0m)        │        \u001b[38;5;34m20,200\u001b[0m │\n",
       "├─────────────────────────────────┼────────────────────────┼───────────────┤\n",
       "│ lstm_2 (\u001b[38;5;33mLSTM\u001b[0m)                   │ (\u001b[38;5;45mNone\u001b[0m, \u001b[38;5;34m50\u001b[0m)             │        \u001b[38;5;34m20,200\u001b[0m │\n",
       "├─────────────────────────────────┼────────────────────────┼───────────────┤\n",
       "│ dense (\u001b[38;5;33mDense\u001b[0m)                   │ (\u001b[38;5;45mNone\u001b[0m, \u001b[38;5;34m1\u001b[0m)              │            \u001b[38;5;34m51\u001b[0m │\n",
       "└─────────────────────────────────┴────────────────────────┴───────────────┘\n"
      ]
     },
     "metadata": {},
     "output_type": "display_data"
    },
    {
     "data": {
      "text/html": [
       "<pre style=\"white-space:pre;overflow-x:auto;line-height:normal;font-family:Menlo,'DejaVu Sans Mono',consolas,'Courier New',monospace\"><span style=\"font-weight: bold\"> Total params: </span><span style=\"color: #00af00; text-decoration-color: #00af00\">50,851</span> (198.64 KB)\n",
       "</pre>\n"
      ],
      "text/plain": [
       "\u001b[1m Total params: \u001b[0m\u001b[38;5;34m50,851\u001b[0m (198.64 KB)\n"
      ]
     },
     "metadata": {},
     "output_type": "display_data"
    },
    {
     "data": {
      "text/html": [
       "<pre style=\"white-space:pre;overflow-x:auto;line-height:normal;font-family:Menlo,'DejaVu Sans Mono',consolas,'Courier New',monospace\"><span style=\"font-weight: bold\"> Trainable params: </span><span style=\"color: #00af00; text-decoration-color: #00af00\">50,851</span> (198.64 KB)\n",
       "</pre>\n"
      ],
      "text/plain": [
       "\u001b[1m Trainable params: \u001b[0m\u001b[38;5;34m50,851\u001b[0m (198.64 KB)\n"
      ]
     },
     "metadata": {},
     "output_type": "display_data"
    },
    {
     "data": {
      "text/html": [
       "<pre style=\"white-space:pre;overflow-x:auto;line-height:normal;font-family:Menlo,'DejaVu Sans Mono',consolas,'Courier New',monospace\"><span style=\"font-weight: bold\"> Non-trainable params: </span><span style=\"color: #00af00; text-decoration-color: #00af00\">0</span> (0.00 B)\n",
       "</pre>\n"
      ],
      "text/plain": [
       "\u001b[1m Non-trainable params: \u001b[0m\u001b[38;5;34m0\u001b[0m (0.00 B)\n"
      ]
     },
     "metadata": {},
     "output_type": "display_data"
    }
   ],
   "source": [
    "model.summary()"
   ]
  },
  {
   "cell_type": "code",
   "execution_count": 16,
   "id": "ad1ae081",
   "metadata": {},
   "outputs": [
    {
     "name": "stdout",
     "output_type": "stream",
     "text": [
      "Epoch 1/100\n",
      "\u001b[1m25/25\u001b[0m \u001b[32m━━━━━━━━━━━━━━━━━━━━\u001b[0m\u001b[37m\u001b[0m \u001b[1m5s\u001b[0m 85ms/step - loss: 0.0493 - val_loss: 0.0011\n",
      "Epoch 2/100\n",
      "\u001b[1m25/25\u001b[0m \u001b[32m━━━━━━━━━━━━━━━━━━━━\u001b[0m\u001b[37m\u001b[0m \u001b[1m2s\u001b[0m 67ms/step - loss: 0.0029 - val_loss: 0.0013\n",
      "Epoch 3/100\n",
      "\u001b[1m25/25\u001b[0m \u001b[32m━━━━━━━━━━━━━━━━━━━━\u001b[0m\u001b[37m\u001b[0m \u001b[1m2s\u001b[0m 68ms/step - loss: 0.0023 - val_loss: 0.0015\n",
      "Epoch 4/100\n",
      "\u001b[1m25/25\u001b[0m \u001b[32m━━━━━━━━━━━━━━━━━━━━\u001b[0m\u001b[37m\u001b[0m \u001b[1m2s\u001b[0m 68ms/step - loss: 0.0021 - val_loss: 0.0010\n",
      "Epoch 5/100\n",
      "\u001b[1m25/25\u001b[0m \u001b[32m━━━━━━━━━━━━━━━━━━━━\u001b[0m\u001b[37m\u001b[0m \u001b[1m2s\u001b[0m 67ms/step - loss: 0.0021 - val_loss: 0.0012\n",
      "Epoch 6/100\n",
      "\u001b[1m25/25\u001b[0m \u001b[32m━━━━━━━━━━━━━━━━━━━━\u001b[0m\u001b[37m\u001b[0m \u001b[1m2s\u001b[0m 71ms/step - loss: 0.0021 - val_loss: 8.7180e-04\n",
      "Epoch 7/100\n",
      "\u001b[1m25/25\u001b[0m \u001b[32m━━━━━━━━━━━━━━━━━━━━\u001b[0m\u001b[37m\u001b[0m \u001b[1m2s\u001b[0m 78ms/step - loss: 0.0019 - val_loss: 9.6310e-04\n",
      "Epoch 8/100\n",
      "\u001b[1m25/25\u001b[0m \u001b[32m━━━━━━━━━━━━━━━━━━━━\u001b[0m\u001b[37m\u001b[0m \u001b[1m2s\u001b[0m 71ms/step - loss: 0.0017 - val_loss: 8.7087e-04\n",
      "Epoch 9/100\n",
      "\u001b[1m25/25\u001b[0m \u001b[32m━━━━━━━━━━━━━━━━━━━━\u001b[0m\u001b[37m\u001b[0m \u001b[1m2s\u001b[0m 70ms/step - loss: 0.0017 - val_loss: 0.0011\n",
      "Epoch 10/100\n",
      "\u001b[1m25/25\u001b[0m \u001b[32m━━━━━━━━━━━━━━━━━━━━\u001b[0m\u001b[37m\u001b[0m \u001b[1m2s\u001b[0m 68ms/step - loss: 0.0017 - val_loss: 7.6019e-04\n",
      "Epoch 11/100\n",
      "\u001b[1m25/25\u001b[0m \u001b[32m━━━━━━━━━━━━━━━━━━━━\u001b[0m\u001b[37m\u001b[0m \u001b[1m2s\u001b[0m 70ms/step - loss: 0.0013 - val_loss: 7.4269e-04\n",
      "Epoch 12/100\n",
      "\u001b[1m25/25\u001b[0m \u001b[32m━━━━━━━━━━━━━━━━━━━━\u001b[0m\u001b[37m\u001b[0m \u001b[1m2s\u001b[0m 70ms/step - loss: 0.0016 - val_loss: 6.7744e-04\n",
      "Epoch 13/100\n",
      "\u001b[1m25/25\u001b[0m \u001b[32m━━━━━━━━━━━━━━━━━━━━\u001b[0m\u001b[37m\u001b[0m \u001b[1m2s\u001b[0m 68ms/step - loss: 0.0014 - val_loss: 5.7598e-04\n",
      "Epoch 14/100\n",
      "\u001b[1m25/25\u001b[0m \u001b[32m━━━━━━━━━━━━━━━━━━━━\u001b[0m\u001b[37m\u001b[0m \u001b[1m2s\u001b[0m 85ms/step - loss: 0.0014 - val_loss: 9.4561e-04\n",
      "Epoch 15/100\n",
      "\u001b[1m25/25\u001b[0m \u001b[32m━━━━━━━━━━━━━━━━━━━━\u001b[0m\u001b[37m\u001b[0m \u001b[1m2s\u001b[0m 91ms/step - loss: 0.0017 - val_loss: 4.9329e-04\n",
      "Epoch 16/100\n",
      "\u001b[1m25/25\u001b[0m \u001b[32m━━━━━━━━━━━━━━━━━━━━\u001b[0m\u001b[37m\u001b[0m \u001b[1m2s\u001b[0m 71ms/step - loss: 0.0011 - val_loss: 5.2499e-04\n",
      "Epoch 17/100\n",
      "\u001b[1m25/25\u001b[0m \u001b[32m━━━━━━━━━━━━━━━━━━━━\u001b[0m\u001b[37m\u001b[0m \u001b[1m2s\u001b[0m 74ms/step - loss: 0.0010 - val_loss: 6.9701e-04\n",
      "Epoch 18/100\n",
      "\u001b[1m25/25\u001b[0m \u001b[32m━━━━━━━━━━━━━━━━━━━━\u001b[0m\u001b[37m\u001b[0m \u001b[1m2s\u001b[0m 71ms/step - loss: 0.0011 - val_loss: 4.6172e-04\n",
      "Epoch 19/100\n",
      "\u001b[1m25/25\u001b[0m \u001b[32m━━━━━━━━━━━━━━━━━━━━\u001b[0m\u001b[37m\u001b[0m \u001b[1m2s\u001b[0m 76ms/step - loss: 9.5975e-04 - val_loss: 6.9437e-04\n",
      "Epoch 20/100\n",
      "\u001b[1m25/25\u001b[0m \u001b[32m━━━━━━━━━━━━━━━━━━━━\u001b[0m\u001b[37m\u001b[0m \u001b[1m2s\u001b[0m 79ms/step - loss: 9.6118e-04 - val_loss: 5.5702e-04\n",
      "Epoch 21/100\n",
      "\u001b[1m25/25\u001b[0m \u001b[32m━━━━━━━━━━━━━━━━━━━━\u001b[0m\u001b[37m\u001b[0m \u001b[1m2s\u001b[0m 75ms/step - loss: 8.3562e-04 - val_loss: 3.7588e-04\n",
      "Epoch 22/100\n",
      "\u001b[1m25/25\u001b[0m \u001b[32m━━━━━━━━━━━━━━━━━━━━\u001b[0m\u001b[37m\u001b[0m \u001b[1m2s\u001b[0m 73ms/step - loss: 8.3783e-04 - val_loss: 5.6046e-04\n",
      "Epoch 23/100\n",
      "\u001b[1m25/25\u001b[0m \u001b[32m━━━━━━━━━━━━━━━━━━━━\u001b[0m\u001b[37m\u001b[0m \u001b[1m2s\u001b[0m 79ms/step - loss: 9.8342e-04 - val_loss: 3.5746e-04\n",
      "Epoch 24/100\n",
      "\u001b[1m25/25\u001b[0m \u001b[32m━━━━━━━━━━━━━━━━━━━━\u001b[0m\u001b[37m\u001b[0m \u001b[1m2s\u001b[0m 93ms/step - loss: 7.1778e-04 - val_loss: 3.5692e-04\n",
      "Epoch 25/100\n",
      "\u001b[1m25/25\u001b[0m \u001b[32m━━━━━━━━━━━━━━━━━━━━\u001b[0m\u001b[37m\u001b[0m \u001b[1m3s\u001b[0m 120ms/step - loss: 7.7448e-04 - val_loss: 7.0766e-04\n",
      "Epoch 26/100\n",
      "\u001b[1m25/25\u001b[0m \u001b[32m━━━━━━━━━━━━━━━━━━━━\u001b[0m\u001b[37m\u001b[0m \u001b[1m2s\u001b[0m 70ms/step - loss: 9.6475e-04 - val_loss: 9.5973e-04\n",
      "Epoch 27/100\n",
      "\u001b[1m25/25\u001b[0m \u001b[32m━━━━━━━━━━━━━━━━━━━━\u001b[0m\u001b[37m\u001b[0m \u001b[1m2s\u001b[0m 72ms/step - loss: 0.0010 - val_loss: 3.8495e-04\n",
      "Epoch 28/100\n",
      "\u001b[1m25/25\u001b[0m \u001b[32m━━━━━━━━━━━━━━━━━━━━\u001b[0m\u001b[37m\u001b[0m \u001b[1m2s\u001b[0m 75ms/step - loss: 6.6483e-04 - val_loss: 7.6944e-04\n",
      "Epoch 29/100\n",
      "\u001b[1m25/25\u001b[0m \u001b[32m━━━━━━━━━━━━━━━━━━━━\u001b[0m\u001b[37m\u001b[0m \u001b[1m2s\u001b[0m 71ms/step - loss: 0.0011 - val_loss: 8.6093e-04\n",
      "Epoch 30/100\n",
      "\u001b[1m25/25\u001b[0m \u001b[32m━━━━━━━━━━━━━━━━━━━━\u001b[0m\u001b[37m\u001b[0m \u001b[1m2s\u001b[0m 70ms/step - loss: 7.1008e-04 - val_loss: 2.7999e-04\n",
      "Epoch 31/100\n",
      "\u001b[1m25/25\u001b[0m \u001b[32m━━━━━━━━━━━━━━━━━━━━\u001b[0m\u001b[37m\u001b[0m \u001b[1m2s\u001b[0m 67ms/step - loss: 5.9507e-04 - val_loss: 2.9538e-04\n",
      "Epoch 32/100\n",
      "\u001b[1m25/25\u001b[0m \u001b[32m━━━━━━━━━━━━━━━━━━━━\u001b[0m\u001b[37m\u001b[0m \u001b[1m2s\u001b[0m 70ms/step - loss: 6.4912e-04 - val_loss: 2.9883e-04\n",
      "Epoch 33/100\n",
      "\u001b[1m25/25\u001b[0m \u001b[32m━━━━━━━━━━━━━━━━━━━━\u001b[0m\u001b[37m\u001b[0m \u001b[1m2s\u001b[0m 68ms/step - loss: 6.5829e-04 - val_loss: 2.7015e-04\n",
      "Epoch 34/100\n",
      "\u001b[1m25/25\u001b[0m \u001b[32m━━━━━━━━━━━━━━━━━━━━\u001b[0m\u001b[37m\u001b[0m \u001b[1m2s\u001b[0m 70ms/step - loss: 5.7472e-04 - val_loss: 2.9242e-04\n",
      "Epoch 35/100\n",
      "\u001b[1m25/25\u001b[0m \u001b[32m━━━━━━━━━━━━━━━━━━━━\u001b[0m\u001b[37m\u001b[0m \u001b[1m2s\u001b[0m 71ms/step - loss: 5.5547e-04 - val_loss: 2.6911e-04\n",
      "Epoch 36/100\n",
      "\u001b[1m25/25\u001b[0m \u001b[32m━━━━━━━━━━━━━━━━━━━━\u001b[0m\u001b[37m\u001b[0m \u001b[1m2s\u001b[0m 77ms/step - loss: 6.1981e-04 - val_loss: 2.6618e-04\n",
      "Epoch 37/100\n",
      "\u001b[1m25/25\u001b[0m \u001b[32m━━━━━━━━━━━━━━━━━━━━\u001b[0m\u001b[37m\u001b[0m \u001b[1m2s\u001b[0m 77ms/step - loss: 4.5490e-04 - val_loss: 0.0010\n",
      "Epoch 38/100\n",
      "\u001b[1m25/25\u001b[0m \u001b[32m━━━━━━━━━━━━━━━━━━━━\u001b[0m\u001b[37m\u001b[0m \u001b[1m2s\u001b[0m 73ms/step - loss: 7.0727e-04 - val_loss: 2.4267e-04\n",
      "Epoch 39/100\n",
      "\u001b[1m25/25\u001b[0m \u001b[32m━━━━━━━━━━━━━━━━━━━━\u001b[0m\u001b[37m\u001b[0m \u001b[1m2s\u001b[0m 82ms/step - loss: 5.0890e-04 - val_loss: 2.3931e-04\n",
      "Epoch 40/100\n",
      "\u001b[1m25/25\u001b[0m \u001b[32m━━━━━━━━━━━━━━━━━━━━\u001b[0m\u001b[37m\u001b[0m \u001b[1m3s\u001b[0m 123ms/step - loss: 5.1647e-04 - val_loss: 4.2208e-04\n",
      "Epoch 41/100\n",
      "\u001b[1m25/25\u001b[0m \u001b[32m━━━━━━━━━━━━━━━━━━━━\u001b[0m\u001b[37m\u001b[0m \u001b[1m2s\u001b[0m 71ms/step - loss: 6.4548e-04 - val_loss: 2.4796e-04\n",
      "Epoch 42/100\n",
      "\u001b[1m25/25\u001b[0m \u001b[32m━━━━━━━━━━━━━━━━━━━━\u001b[0m\u001b[37m\u001b[0m \u001b[1m2s\u001b[0m 71ms/step - loss: 4.5509e-04 - val_loss: 4.6887e-04\n",
      "Epoch 43/100\n",
      "\u001b[1m25/25\u001b[0m \u001b[32m━━━━━━━━━━━━━━━━━━━━\u001b[0m\u001b[37m\u001b[0m \u001b[1m2s\u001b[0m 66ms/step - loss: 6.2406e-04 - val_loss: 2.4861e-04\n",
      "Epoch 44/100\n",
      "\u001b[1m25/25\u001b[0m \u001b[32m━━━━━━━━━━━━━━━━━━━━\u001b[0m\u001b[37m\u001b[0m \u001b[1m2s\u001b[0m 75ms/step - loss: 4.6703e-04 - val_loss: 2.4043e-04\n",
      "Epoch 45/100\n",
      "\u001b[1m25/25\u001b[0m \u001b[32m━━━━━━━━━━━━━━━━━━━━\u001b[0m\u001b[37m\u001b[0m \u001b[1m2s\u001b[0m 67ms/step - loss: 4.8557e-04 - val_loss: 1.9701e-04\n",
      "Epoch 46/100\n",
      "\u001b[1m25/25\u001b[0m \u001b[32m━━━━━━━━━━━━━━━━━━━━\u001b[0m\u001b[37m\u001b[0m \u001b[1m2s\u001b[0m 72ms/step - loss: 4.4079e-04 - val_loss: 2.0440e-04\n",
      "Epoch 47/100\n",
      "\u001b[1m25/25\u001b[0m \u001b[32m━━━━━━━━━━━━━━━━━━━━\u001b[0m\u001b[37m\u001b[0m \u001b[1m2s\u001b[0m 67ms/step - loss: 4.5859e-04 - val_loss: 2.0651e-04\n",
      "Epoch 48/100\n",
      "\u001b[1m25/25\u001b[0m \u001b[32m━━━━━━━━━━━━━━━━━━━━\u001b[0m\u001b[37m\u001b[0m \u001b[1m2s\u001b[0m 72ms/step - loss: 4.1808e-04 - val_loss: 2.2648e-04\n",
      "Epoch 49/100\n",
      "\u001b[1m25/25\u001b[0m \u001b[32m━━━━━━━━━━━━━━━━━━━━\u001b[0m\u001b[37m\u001b[0m \u001b[1m2s\u001b[0m 78ms/step - loss: 4.8390e-04 - val_loss: 1.8341e-04\n",
      "Epoch 50/100\n",
      "\u001b[1m25/25\u001b[0m \u001b[32m━━━━━━━━━━━━━━━━━━━━\u001b[0m\u001b[37m\u001b[0m \u001b[1m2s\u001b[0m 70ms/step - loss: 4.6042e-04 - val_loss: 2.3144e-04\n",
      "Epoch 51/100\n",
      "\u001b[1m25/25\u001b[0m \u001b[32m━━━━━━━━━━━━━━━━━━━━\u001b[0m\u001b[37m\u001b[0m \u001b[1m2s\u001b[0m 72ms/step - loss: 4.0430e-04 - val_loss: 2.9540e-04\n",
      "Epoch 52/100\n",
      "\u001b[1m25/25\u001b[0m \u001b[32m━━━━━━━━━━━━━━━━━━━━\u001b[0m\u001b[37m\u001b[0m \u001b[1m2s\u001b[0m 74ms/step - loss: 4.6045e-04 - val_loss: 2.0281e-04\n",
      "Epoch 53/100\n",
      "\u001b[1m25/25\u001b[0m \u001b[32m━━━━━━━━━━━━━━━━━━━━\u001b[0m\u001b[37m\u001b[0m \u001b[1m2s\u001b[0m 76ms/step - loss: 3.7823e-04 - val_loss: 4.0582e-04\n",
      "Epoch 54/100\n",
      "\u001b[1m25/25\u001b[0m \u001b[32m━━━━━━━━━━━━━━━━━━━━\u001b[0m\u001b[37m\u001b[0m \u001b[1m2s\u001b[0m 74ms/step - loss: 4.4677e-04 - val_loss: 5.4074e-04\n",
      "Epoch 55/100\n",
      "\u001b[1m25/25\u001b[0m \u001b[32m━━━━━━━━━━━━━━━━━━━━\u001b[0m\u001b[37m\u001b[0m \u001b[1m2s\u001b[0m 85ms/step - loss: 4.8463e-04 - val_loss: 1.6615e-04\n",
      "Epoch 56/100\n",
      "\u001b[1m25/25\u001b[0m \u001b[32m━━━━━━━━━━━━━━━━━━━━\u001b[0m\u001b[37m\u001b[0m \u001b[1m2s\u001b[0m 72ms/step - loss: 3.9044e-04 - val_loss: 5.7910e-04\n",
      "Epoch 57/100\n",
      "\u001b[1m25/25\u001b[0m \u001b[32m━━━━━━━━━━━━━━━━━━━━\u001b[0m\u001b[37m\u001b[0m \u001b[1m2s\u001b[0m 68ms/step - loss: 4.4269e-04 - val_loss: 4.4102e-04\n",
      "Epoch 58/100\n",
      "\u001b[1m25/25\u001b[0m \u001b[32m━━━━━━━━━━━━━━━━━━━━\u001b[0m\u001b[37m\u001b[0m \u001b[1m3s\u001b[0m 120ms/step - loss: 4.6473e-04 - val_loss: 3.0967e-04\n",
      "Epoch 59/100\n",
      "\u001b[1m25/25\u001b[0m \u001b[32m━━━━━━━━━━━━━━━━━━━━\u001b[0m\u001b[37m\u001b[0m \u001b[1m2s\u001b[0m 76ms/step - loss: 3.7067e-04 - val_loss: 2.2484e-04\n",
      "Epoch 60/100\n",
      "\u001b[1m25/25\u001b[0m \u001b[32m━━━━━━━━━━━━━━━━━━━━\u001b[0m\u001b[37m\u001b[0m \u001b[1m2s\u001b[0m 75ms/step - loss: 4.2374e-04 - val_loss: 1.5777e-04\n",
      "Epoch 61/100\n",
      "\u001b[1m25/25\u001b[0m \u001b[32m━━━━━━━━━━━━━━━━━━━━\u001b[0m\u001b[37m\u001b[0m \u001b[1m2s\u001b[0m 68ms/step - loss: 4.3825e-04 - val_loss: 1.5787e-04\n",
      "Epoch 62/100\n",
      "\u001b[1m25/25\u001b[0m \u001b[32m━━━━━━━━━━━━━━━━━━━━\u001b[0m\u001b[37m\u001b[0m \u001b[1m2s\u001b[0m 70ms/step - loss: 4.1206e-04 - val_loss: 2.3069e-04\n",
      "Epoch 63/100\n",
      "\u001b[1m25/25\u001b[0m \u001b[32m━━━━━━━━━━━━━━━━━━━━\u001b[0m\u001b[37m\u001b[0m \u001b[1m2s\u001b[0m 71ms/step - loss: 5.0090e-04 - val_loss: 1.5998e-04\n",
      "Epoch 64/100\n",
      "\u001b[1m25/25\u001b[0m \u001b[32m━━━━━━━━━━━━━━━━━━━━\u001b[0m\u001b[37m\u001b[0m \u001b[1m2s\u001b[0m 73ms/step - loss: 3.6247e-04 - val_loss: 1.9729e-04\n",
      "Epoch 65/100\n",
      "\u001b[1m25/25\u001b[0m \u001b[32m━━━━━━━━━━━━━━━━━━━━\u001b[0m\u001b[37m\u001b[0m \u001b[1m2s\u001b[0m 68ms/step - loss: 3.7866e-04 - val_loss: 1.5263e-04\n",
      "Epoch 66/100\n",
      "\u001b[1m25/25\u001b[0m \u001b[32m━━━━━━━━━━━━━━━━━━━━\u001b[0m\u001b[37m\u001b[0m \u001b[1m3s\u001b[0m 124ms/step - loss: 4.0692e-04 - val_loss: 3.2530e-04\n",
      "Epoch 67/100\n",
      "\u001b[1m25/25\u001b[0m \u001b[32m━━━━━━━━━━━━━━━━━━━━\u001b[0m\u001b[37m\u001b[0m \u001b[1m2s\u001b[0m 69ms/step - loss: 4.8083e-04 - val_loss: 1.6003e-04\n",
      "Epoch 68/100\n",
      "\u001b[1m25/25\u001b[0m \u001b[32m━━━━━━━━━━━━━━━━━━━━\u001b[0m\u001b[37m\u001b[0m \u001b[1m2s\u001b[0m 71ms/step - loss: 3.8825e-04 - val_loss: 8.3939e-04\n",
      "Epoch 69/100\n",
      "\u001b[1m25/25\u001b[0m \u001b[32m━━━━━━━━━━━━━━━━━━━━\u001b[0m\u001b[37m\u001b[0m \u001b[1m2s\u001b[0m 68ms/step - loss: 6.2774e-04 - val_loss: 1.4943e-04\n",
      "Epoch 70/100\n",
      "\u001b[1m25/25\u001b[0m \u001b[32m━━━━━━━━━━━━━━━━━━━━\u001b[0m\u001b[37m\u001b[0m \u001b[1m2s\u001b[0m 68ms/step - loss: 3.3608e-04 - val_loss: 1.4138e-04\n",
      "Epoch 71/100\n",
      "\u001b[1m25/25\u001b[0m \u001b[32m━━━━━━━━━━━━━━━━━━━━\u001b[0m\u001b[37m\u001b[0m \u001b[1m2s\u001b[0m 73ms/step - loss: 3.3764e-04 - val_loss: 2.6808e-04\n",
      "Epoch 72/100\n",
      "\u001b[1m25/25\u001b[0m \u001b[32m━━━━━━━━━━━━━━━━━━━━\u001b[0m\u001b[37m\u001b[0m \u001b[1m2s\u001b[0m 77ms/step - loss: 4.6432e-04 - val_loss: 1.5192e-04\n",
      "Epoch 73/100\n",
      "\u001b[1m25/25\u001b[0m \u001b[32m━━━━━━━━━━━━━━━━━━━━\u001b[0m\u001b[37m\u001b[0m \u001b[1m2s\u001b[0m 68ms/step - loss: 3.5920e-04 - val_loss: 5.7504e-04\n",
      "Epoch 74/100\n",
      "\u001b[1m25/25\u001b[0m \u001b[32m━━━━━━━━━━━━━━━━━━━━\u001b[0m\u001b[37m\u001b[0m \u001b[1m2s\u001b[0m 69ms/step - loss: 4.5718e-04 - val_loss: 1.6101e-04\n",
      "Epoch 75/100\n",
      "\u001b[1m25/25\u001b[0m \u001b[32m━━━━━━━━━━━━━━━━━━━━\u001b[0m\u001b[37m\u001b[0m \u001b[1m2s\u001b[0m 71ms/step - loss: 3.0302e-04 - val_loss: 1.5827e-04\n",
      "Epoch 76/100\n",
      "\u001b[1m25/25\u001b[0m \u001b[32m━━━━━━━━━━━━━━━━━━━━\u001b[0m\u001b[37m\u001b[0m \u001b[1m2s\u001b[0m 72ms/step - loss: 4.4983e-04 - val_loss: 1.7350e-04\n",
      "Epoch 77/100\n",
      "\u001b[1m25/25\u001b[0m \u001b[32m━━━━━━━━━━━━━━━━━━━━\u001b[0m\u001b[37m\u001b[0m \u001b[1m2s\u001b[0m 69ms/step - loss: 3.1111e-04 - val_loss: 1.3764e-04\n",
      "Epoch 78/100\n",
      "\u001b[1m25/25\u001b[0m \u001b[32m━━━━━━━━━━━━━━━━━━━━\u001b[0m\u001b[37m\u001b[0m \u001b[1m2s\u001b[0m 70ms/step - loss: 3.2504e-04 - val_loss: 1.3431e-04\n",
      "Epoch 79/100\n",
      "\u001b[1m25/25\u001b[0m \u001b[32m━━━━━━━━━━━━━━━━━━━━\u001b[0m\u001b[37m\u001b[0m \u001b[1m2s\u001b[0m 82ms/step - loss: 3.6700e-04 - val_loss: 2.2017e-04\n",
      "Epoch 80/100\n",
      "\u001b[1m25/25\u001b[0m \u001b[32m━━━━━━━━━━━━━━━━━━━━\u001b[0m\u001b[37m\u001b[0m \u001b[1m2s\u001b[0m 94ms/step - loss: 3.1646e-04 - val_loss: 1.3033e-04\n",
      "Epoch 81/100\n",
      "\u001b[1m25/25\u001b[0m \u001b[32m━━━━━━━━━━━━━━━━━━━━\u001b[0m\u001b[37m\u001b[0m \u001b[1m2s\u001b[0m 90ms/step - loss: 3.6718e-04 - val_loss: 1.3405e-04\n",
      "Epoch 82/100\n",
      "\u001b[1m25/25\u001b[0m \u001b[32m━━━━━━━━━━━━━━━━━━━━\u001b[0m\u001b[37m\u001b[0m \u001b[1m3s\u001b[0m 103ms/step - loss: 3.6121e-04 - val_loss: 1.8118e-04\n",
      "Epoch 83/100\n",
      "\u001b[1m25/25\u001b[0m \u001b[32m━━━━━━━━━━━━━━━━━━━━\u001b[0m\u001b[37m\u001b[0m \u001b[1m2s\u001b[0m 79ms/step - loss: 5.2490e-04 - val_loss: 1.6271e-04\n",
      "Epoch 84/100\n",
      "\u001b[1m25/25\u001b[0m \u001b[32m━━━━━━━━━━━━━━━━━━━━\u001b[0m\u001b[37m\u001b[0m \u001b[1m2s\u001b[0m 86ms/step - loss: 3.5261e-04 - val_loss: 2.2463e-04\n",
      "Epoch 85/100\n",
      "\u001b[1m25/25\u001b[0m \u001b[32m━━━━━━━━━━━━━━━━━━━━\u001b[0m\u001b[37m\u001b[0m \u001b[1m3s\u001b[0m 107ms/step - loss: 4.3032e-04 - val_loss: 1.4417e-04\n",
      "Epoch 86/100\n",
      "\u001b[1m25/25\u001b[0m \u001b[32m━━━━━━━━━━━━━━━━━━━━\u001b[0m\u001b[37m\u001b[0m \u001b[1m2s\u001b[0m 86ms/step - loss: 3.9224e-04 - val_loss: 1.4884e-04\n",
      "Epoch 87/100\n",
      "\u001b[1m25/25\u001b[0m \u001b[32m━━━━━━━━━━━━━━━━━━━━\u001b[0m\u001b[37m\u001b[0m \u001b[1m2s\u001b[0m 87ms/step - loss: 4.8431e-04 - val_loss: 1.3124e-04\n",
      "Epoch 88/100\n",
      "\u001b[1m25/25\u001b[0m \u001b[32m━━━━━━━━━━━━━━━━━━━━\u001b[0m\u001b[37m\u001b[0m \u001b[1m2s\u001b[0m 92ms/step - loss: 3.1732e-04 - val_loss: 1.3636e-04\n",
      "Epoch 89/100\n",
      "\u001b[1m25/25\u001b[0m \u001b[32m━━━━━━━━━━━━━━━━━━━━\u001b[0m\u001b[37m\u001b[0m \u001b[1m2s\u001b[0m 89ms/step - loss: 3.2393e-04 - val_loss: 1.5934e-04\n",
      "Epoch 90/100\n",
      "\u001b[1m25/25\u001b[0m \u001b[32m━━━━━━━━━━━━━━━━━━━━\u001b[0m\u001b[37m\u001b[0m \u001b[1m2s\u001b[0m 84ms/step - loss: 3.2726e-04 - val_loss: 1.2862e-04\n",
      "Epoch 91/100\n",
      "\u001b[1m25/25\u001b[0m \u001b[32m━━━━━━━━━━━━━━━━━━━━\u001b[0m\u001b[37m\u001b[0m \u001b[1m2s\u001b[0m 79ms/step - loss: 3.5237e-04 - val_loss: 1.4865e-04\n",
      "Epoch 92/100\n",
      "\u001b[1m25/25\u001b[0m \u001b[32m━━━━━━━━━━━━━━━━━━━━\u001b[0m\u001b[37m\u001b[0m \u001b[1m2s\u001b[0m 77ms/step - loss: 3.5757e-04 - val_loss: 1.2802e-04\n",
      "Epoch 93/100\n",
      "\u001b[1m25/25\u001b[0m \u001b[32m━━━━━━━━━━━━━━━━━━━━\u001b[0m\u001b[37m\u001b[0m \u001b[1m2s\u001b[0m 79ms/step - loss: 3.8511e-04 - val_loss: 2.1842e-04\n",
      "Epoch 94/100\n",
      "\u001b[1m25/25\u001b[0m \u001b[32m━━━━━━━━━━━━━━━━━━━━\u001b[0m\u001b[37m\u001b[0m \u001b[1m2s\u001b[0m 81ms/step - loss: 3.5142e-04 - val_loss: 5.0959e-04\n",
      "Epoch 95/100\n",
      "\u001b[1m25/25\u001b[0m \u001b[32m━━━━━━━━━━━━━━━━━━━━\u001b[0m\u001b[37m\u001b[0m \u001b[1m2s\u001b[0m 73ms/step - loss: 4.5213e-04 - val_loss: 1.9629e-04\n",
      "Epoch 96/100\n",
      "\u001b[1m25/25\u001b[0m \u001b[32m━━━━━━━━━━━━━━━━━━━━\u001b[0m\u001b[37m\u001b[0m \u001b[1m2s\u001b[0m 78ms/step - loss: 2.9465e-04 - val_loss: 2.4239e-04\n",
      "Epoch 97/100\n",
      "\u001b[1m25/25\u001b[0m \u001b[32m━━━━━━━━━━━━━━━━━━━━\u001b[0m\u001b[37m\u001b[0m \u001b[1m2s\u001b[0m 77ms/step - loss: 3.6417e-04 - val_loss: 1.6618e-04\n",
      "Epoch 98/100\n",
      "\u001b[1m25/25\u001b[0m \u001b[32m━━━━━━━━━━━━━━━━━━━━\u001b[0m\u001b[37m\u001b[0m \u001b[1m2s\u001b[0m 80ms/step - loss: 3.1780e-04 - val_loss: 2.4627e-04\n",
      "Epoch 99/100\n",
      "\u001b[1m25/25\u001b[0m \u001b[32m━━━━━━━━━━━━━━━━━━━━\u001b[0m\u001b[37m\u001b[0m \u001b[1m2s\u001b[0m 79ms/step - loss: 3.6224e-04 - val_loss: 1.6811e-04\n",
      "Epoch 100/100\n",
      "\u001b[1m25/25\u001b[0m \u001b[32m━━━━━━━━━━━━━━━━━━━━\u001b[0m\u001b[37m\u001b[0m \u001b[1m2s\u001b[0m 79ms/step - loss: 3.5314e-04 - val_loss: 4.7978e-04\n"
     ]
    },
    {
     "data": {
      "text/plain": [
       "<keras.src.callbacks.history.History at 0x1df6971a3d0>"
      ]
     },
     "execution_count": 16,
     "metadata": {},
     "output_type": "execute_result"
    }
   ],
   "source": [
    "model.fit(X_train,Y_train, validation_data=(X_test,Y_test),epochs=100,batch_size = 64, verbose = 1)"
   ]
  },
  {
   "cell_type": "code",
   "execution_count": 17,
   "id": "af334590",
   "metadata": {},
   "outputs": [],
   "source": [
    "import tensorflow as tf"
   ]
  },
  {
   "cell_type": "code",
   "execution_count": 20,
   "id": "82699f96",
   "metadata": {},
   "outputs": [
    {
     "name": "stdout",
     "output_type": "stream",
     "text": [
      "\u001b[1m50/50\u001b[0m \u001b[32m━━━━━━━━━━━━━━━━━━━━\u001b[0m\u001b[37m\u001b[0m \u001b[1m2s\u001b[0m 24ms/step\n",
      "\u001b[1m15/15\u001b[0m \u001b[32m━━━━━━━━━━━━━━━━━━━━\u001b[0m\u001b[37m\u001b[0m \u001b[1m0s\u001b[0m 15ms/step\n"
     ]
    }
   ],
   "source": [
    "train_predict = model.predict(X_train)\n",
    "test_predict = model.predict(X_test)"
   ]
  },
  {
   "cell_type": "code",
   "execution_count": 21,
   "id": "6bdfa7ef",
   "metadata": {},
   "outputs": [],
   "source": [
    "train_predict = scalar.inverse_transform(train_predict)\n",
    "test_predict = scalar.inverse_transform(test_predict)"
   ]
  },
  {
   "cell_type": "code",
   "execution_count": 22,
   "id": "1c558306",
   "metadata": {},
   "outputs": [
    {
     "data": {
      "text/plain": [
       "1640.2996480217416"
      ]
     },
     "execution_count": 22,
     "metadata": {},
     "output_type": "execute_result"
    }
   ],
   "source": [
    "import math\n",
    "from sklearn.metrics import mean_squared_error\n",
    "math.sqrt(mean_squared_error(Y_train, train_predict))"
   ]
  },
  {
   "cell_type": "code",
   "execution_count": 23,
   "id": "e47d5c80",
   "metadata": {},
   "outputs": [
    {
     "data": {
      "text/plain": [
       "1805.5282984116814"
      ]
     },
     "execution_count": 23,
     "metadata": {},
     "output_type": "execute_result"
    }
   ],
   "source": [
    "math.sqrt(mean_squared_error(Y_test, test_predict))"
   ]
  },
  {
   "cell_type": "code",
   "execution_count": 24,
   "id": "dc7d0a71",
   "metadata": {},
   "outputs": [
    {
     "data": {
      "image/png": "[encoded data removed]",
      "text/plain": [
       "<Figure size 640x480 with 1 Axes>"
      ]
     },
     "metadata": {},
     "output_type": "display_data"
    }
   ],
   "source": [
    "look_back = 100\n",
    "trainPredictPlot = numpy.empty_like(Data)\n",
    "trainPredictPlot[:, :] = np.nan\n",
    "trainPredictPlot[look_back:len(train_predict)+look_back, :] = train_predict\n",
    "testPredictPlot = numpy.empty_like(Data)\n",
    "testPredictPlot[:,:] = numpy.nan\n",
    "testPredictPlot[len(train_predict)+(look_back*2)+1:len(Data)-1,:] = test_predict\n",
    "plt.plot(scalar.inverse_transform(Data))\n",
    "plt.plot(trainPredictPlot)\n",
    "plt.plot(testPredictPlot)\n",
    "plt.show()"
   ]
  },
  {
   "cell_type": "code",
   "execution_count": 25,
   "id": "a171a1ed",
   "metadata": {},
   "outputs": [
    {
     "data": {
      "text/plain": [
       "563"
      ]
     },
     "execution_count": 25,
     "metadata": {},
     "output_type": "execute_result"
    }
   ],
   "source": [
    "len(test_data)"
   ]
  },
  {
   "cell_type": "code",
   "execution_count": 27,
   "id": "53f651e2",
   "metadata": {},
   "outputs": [
    {
     "data": {
      "text/plain": [
       "(1, 100)"
      ]
     },
     "execution_count": 27,
     "metadata": {},
     "output_type": "execute_result"
    }
   ],
   "source": [
    "x_input = test_data[463:].reshape(1,-1)\n",
    "x_input.shape"
   ]
  },
  {
   "cell_type": "code",
   "execution_count": 28,
   "id": "0f733f95",
   "metadata": {},
   "outputs": [],
   "source": [
    "temp_input = list(x_input)\n",
    "temp_input = temp_input[0].tolist()"
   ]
  },
  {
   "cell_type": "code",
   "execution_count": 29,
   "id": "4730bc42",
   "metadata": {},
   "outputs": [
    {
     "data": {
      "text/plain": [
       "[0.418826039162245,\n",
       " 0.4183576162621164,\n",
       " 0.4223640231976607,\n",
       " 0.4230537732741526,\n",
       " 0.4185850888186568,\n",
       " 0.41099827602647726,\n",
       " 0.4156348668037791,\n",
       " 0.41152957009578184,\n",
       " 0.4163155282576774,\n",
       " 0.4236305360498372,\n",
       " 0.44024810790303454,\n",
       " 0.4461679166277021,\n",
       " 0.4566430612758835,\n",
       " 0.4673512555178165,\n",
       " 0.45419911397188695,\n",
       " 0.4808328060663839,\n",
       " 0.48107654503433556,\n",
       " 0.4773630379930021,\n",
       " 0.4797504915408372,\n",
       " 0.4527010490578533,\n",
       " 0.44793331975100104,\n",
       " 0.46033038710248064,\n",
       " 0.47216055487174446,\n",
       " 0.4515923984880016,\n",
       " 0.45319761561635025,\n",
       " 0.44675795075100955,\n",
       " 0.4511558374825645,\n",
       " 0.44282192887207195,\n",
       " 0.44790651879495824,\n",
       " 0.4558660918114392,\n",
       " 0.47426424875781836,\n",
       " 0.470567266600209,\n",
       " 0.46139715796611924,\n",
       " 0.4628501930690668,\n",
       " 0.4541576473560396,\n",
       " 0.48530856509098497,\n",
       " 0.4787148077894991,\n",
       " 0.46879990124479387,\n",
       " 0.466975525823139,\n",
       " 0.4647346768404623,\n",
       " 0.47972198661347526,\n",
       " 0.48046409933095546,\n",
       " 0.4497785576109782,\n",
       " 0.46210487863685734,\n",
       " 0.46202220366595953,\n",
       " 0.45630652609428407,\n",
       " 0.45233874575188326,\n",
       " 0.47564075405852935,\n",
       " 0.47813546304039184,\n",
       " 0.5283231648513487,\n",
       " 0.5362583124457846,\n",
       " 0.516130693564599,\n",
       " 0.5271586400551261,\n",
       " 0.5050855510507009,\n",
       " 0.5133605905825499,\n",
       " 0.5295050402889953,\n",
       " 0.5169575469163216,\n",
       " 0.5039809283763098,\n",
       " 0.5087357478160487,\n",
       " 0.5045245899862056,\n",
       " 0.5012088629506287,\n",
       " 0.4709437708657617,\n",
       " 0.4561079717669872,\n",
       " 0.4546010767026728,\n",
       " 0.4512482206058465,\n",
       " 0.46171603242412573,\n",
       " 0.46186119127876185,\n",
       " 0.4596027850037205,\n",
       " 0.4722631626690048,\n",
       " 0.4780649233657322,\n",
       " 0.46496168469678073,\n",
       " 0.4694627987553867,\n",
       " 0.4703539950032513,\n",
       " 0.46781585696190936,\n",
       " 0.4664426568071558,\n",
       " 0.46841880095233024,\n",
       " 0.48392565657233144,\n",
       " 0.49482786072450646,\n",
       " 0.4940159312933855,\n",
       " 0.5083163310126105,\n",
       " 0.5112167723599225,\n",
       " 0.5125582660841007,\n",
       " 0.5444009995588825,\n",
       " 0.541031412350423,\n",
       " 0.5697377114302091,\n",
       " 0.5795682388211815,\n",
       " 0.575192505620418,\n",
       " 0.5715927606622829,\n",
       " 0.5911210503581426,\n",
       " 0.6047800345348876,\n",
       " 0.6195711136932293,\n",
       " 0.6104445889481876,\n",
       " 0.6105824665827778,\n",
       " 0.6001443475646173,\n",
       " 0.6151043914698496,\n",
       " 0.6405521286213832,\n",
       " 0.6545748620261364,\n",
       " 0.6684345694132352,\n",
       " 0.6982973372868068,\n",
       " 0.6890362914514729]"
      ]
     },
     "execution_count": 29,
     "metadata": {},
     "output_type": "execute_result"
    }
   ],
   "source": [
    "temp_input"
   ]
  },
  {
   "cell_type": "code",
   "execution_count": 30,
   "id": "224fae28",
   "metadata": {},
   "outputs": [
    {
     "name": "stdout",
     "output_type": "stream",
     "text": [
      "[0.66088265]\n",
      "101\n",
      "1 day input [0.41835762 0.42236402 0.42305377 0.41858509 0.41099828 0.41563487\n",
      " 0.41152957 0.41631553 0.42363054 0.44024811 0.44616792 0.45664306\n",
      " 0.46735126 0.45419911 0.48083281 0.48107655 0.47736304 0.47975049\n",
      " 0.45270105 0.44793332 0.46033039 0.47216055 0.4515924  0.45319762\n",
      " 0.44675795 0.45115584 0.44282193 0.44790652 0.45586609 0.47426425\n",
      " 0.47056727 0.46139716 0.46285019 0.45415765 0.48530857 0.47871481\n",
      " 0.4687999  0.46697553 0.46473468 0.47972199 0.4804641  0.44977856\n",
      " 0.46210488 0.4620222  0.45630653 0.45233875 0.47564075 0.47813546\n",
      " 0.52832316 0.53625831 0.51613069 0.52715864 0.50508555 0.51336059\n",
      " 0.52950504 0.51695755 0.50398093 0.50873575 0.50452459 0.50120886\n",
      " 0.47094377 0.45610797 0.45460108 0.45124822 0.46171603 0.46186119\n",
      " 0.45960279 0.47226316 0.47806492 0.46496168 0.4694628  0.470354\n",
      " 0.46781586 0.46644266 0.4684188  0.48392566 0.49482786 0.49401593\n",
      " 0.50831633 0.51121677 0.51255827 0.544401   0.54103141 0.56973771\n",
      " 0.57956824 0.57519251 0.57159276 0.59112105 0.60478003 0.61957111\n",
      " 0.61044459 0.61058247 0.60014435 0.61510439 0.64055213 0.65457486\n",
      " 0.66843457 0.69829734 0.68903629 0.66088265]\n",
      "1 day output [[0.633554]]\n",
      "1 day input [0.42236402 0.42305377 0.41858509 0.41099828 0.41563487 0.41152957\n",
      " 0.41631553 0.42363054 0.44024811 0.44616792 0.45664306 0.46735126\n",
      " 0.45419911 0.48083281 0.48107655 0.47736304 0.47975049 0.45270105\n",
      " 0.44793332 0.46033039 0.47216055 0.4515924  0.45319762 0.44675795\n",
      " 0.45115584 0.44282193 0.44790652 0.45586609 0.47426425 0.47056727\n",
      " 0.46139716 0.46285019 0.45415765 0.48530857 0.47871481 0.4687999\n",
      " 0.46697553 0.46473468 0.47972199 0.4804641  0.44977856 0.46210488\n",
      " 0.4620222  0.45630653 0.45233875 0.47564075 0.47813546 0.52832316\n",
      " 0.53625831 0.51613069 0.52715864 0.50508555 0.51336059 0.52950504\n",
      " 0.51695755 0.50398093 0.50873575 0.50452459 0.50120886 0.47094377\n",
      " 0.45610797 0.45460108 0.45124822 0.46171603 0.46186119 0.45960279\n",
      " 0.47226316 0.47806492 0.46496168 0.4694628  0.470354   0.46781586\n",
      " 0.46644266 0.4684188  0.48392566 0.49482786 0.49401593 0.50831633\n",
      " 0.51121677 0.51255827 0.544401   0.54103141 0.56973771 0.57956824\n",
      " 0.57519251 0.57159276 0.59112105 0.60478003 0.61957111 0.61044459\n",
      " 0.61058247 0.60014435 0.61510439 0.64055213 0.65457486 0.66843457\n",
      " 0.69829734 0.68903629 0.66088265 0.63355398]\n",
      "2 day output [[0.6059009]]\n",
      "1 day input [0.42305377 0.41858509 0.41099828 0.41563487 0.41152957 0.41631553\n",
      " 0.42363054 0.44024811 0.44616792 0.45664306 0.46735126 0.45419911\n",
      " 0.48083281 0.48107655 0.47736304 0.47975049 0.45270105 0.44793332\n",
      " 0.46033039 0.47216055 0.4515924  0.45319762 0.44675795 0.45115584\n",
      " 0.44282193 0.44790652 0.45586609 0.47426425 0.47056727 0.46139716\n",
      " 0.46285019 0.45415765 0.48530857 0.47871481 0.4687999  0.46697553\n",
      " 0.46473468 0.47972199 0.4804641  0.44977856 0.46210488 0.4620222\n",
      " 0.45630653 0.45233875 0.47564075 0.47813546 0.52832316 0.53625831\n",
      " 0.51613069 0.52715864 0.50508555 0.51336059 0.52950504 0.51695755\n",
      " 0.50398093 0.50873575 0.50452459 0.50120886 0.47094377 0.45610797\n",
      " 0.45460108 0.45124822 0.46171603 0.46186119 0.45960279 0.47226316\n",
      " 0.47806492 0.46496168 0.4694628  0.470354   0.46781586 0.46644266\n",
      " 0.4684188  0.48392566 0.49482786 0.49401593 0.50831633 0.51121677\n",
      " 0.51255827 0.544401   0.54103141 0.56973771 0.57956824 0.57519251\n",
      " 0.57159276 0.59112105 0.60478003 0.61957111 0.61044459 0.61058247\n",
      " 0.60014435 0.61510439 0.64055213 0.65457486 0.66843457 0.69829734\n",
      " 0.68903629 0.66088265 0.63355398 0.60590088]\n",
      "3 day output [[0.57901]]\n",
      "1 day input [0.41858509 0.41099828 0.41563487 0.41152957 0.41631553 0.42363054\n",
      " 0.44024811 0.44616792 0.45664306 0.46735126 0.45419911 0.48083281\n",
      " 0.48107655 0.47736304 0.47975049 0.45270105 0.44793332 0.46033039\n",
      " 0.47216055 0.4515924  0.45319762 0.44675795 0.45115584 0.44282193\n",
      " 0.44790652 0.45586609 0.47426425 0.47056727 0.46139716 0.46285019\n",
      " 0.45415765 0.48530857 0.47871481 0.4687999  0.46697553 0.46473468\n",
      " 0.47972199 0.4804641  0.44977856 0.46210488 0.4620222  0.45630653\n",
      " 0.45233875 0.47564075 0.47813546 0.52832316 0.53625831 0.51613069\n",
      " 0.52715864 0.50508555 0.51336059 0.52950504 0.51695755 0.50398093\n",
      " 0.50873575 0.50452459 0.50120886 0.47094377 0.45610797 0.45460108\n",
      " 0.45124822 0.46171603 0.46186119 0.45960279 0.47226316 0.47806492\n",
      " 0.46496168 0.4694628  0.470354   0.46781586 0.46644266 0.4684188\n",
      " 0.48392566 0.49482786 0.49401593 0.50831633 0.51121677 0.51255827\n",
      " 0.544401   0.54103141 0.56973771 0.57956824 0.57519251 0.57159276\n",
      " 0.59112105 0.60478003 0.61957111 0.61044459 0.61058247 0.60014435\n",
      " 0.61510439 0.64055213 0.65457486 0.66843457 0.69829734 0.68903629\n",
      " 0.66088265 0.63355398 0.60590088 0.57901001]\n",
      "4 day output [[0.55309993]]\n",
      "1 day input [0.41099828 0.41563487 0.41152957 0.41631553 0.42363054 0.44024811\n",
      " 0.44616792 0.45664306 0.46735126 0.45419911 0.48083281 0.48107655\n",
      " 0.47736304 0.47975049 0.45270105 0.44793332 0.46033039 0.47216055\n",
      " 0.4515924  0.45319762 0.44675795 0.45115584 0.44282193 0.44790652\n",
      " 0.45586609 0.47426425 0.47056727 0.46139716 0.46285019 0.45415765\n",
      " 0.48530857 0.47871481 0.4687999  0.46697553 0.46473468 0.47972199\n",
      " 0.4804641  0.44977856 0.46210488 0.4620222  0.45630653 0.45233875\n",
      " 0.47564075 0.47813546 0.52832316 0.53625831 0.51613069 0.52715864\n",
      " 0.50508555 0.51336059 0.52950504 0.51695755 0.50398093 0.50873575\n",
      " 0.50452459 0.50120886 0.47094377 0.45610797 0.45460108 0.45124822\n",
      " 0.46171603 0.46186119 0.45960279 0.47226316 0.47806492 0.46496168\n",
      " 0.4694628  0.470354   0.46781586 0.46644266 0.4684188  0.48392566\n",
      " 0.49482786 0.49401593 0.50831633 0.51121677 0.51255827 0.544401\n",
      " 0.54103141 0.56973771 0.57956824 0.57519251 0.57159276 0.59112105\n",
      " 0.60478003 0.61957111 0.61044459 0.61058247 0.60014435 0.61510439\n",
      " 0.64055213 0.65457486 0.66843457 0.69829734 0.68903629 0.66088265\n",
      " 0.63355398 0.60590088 0.57901001 0.55309993]\n",
      "5 day output [[0.5284209]]\n",
      "1 day input [0.41563487 0.41152957 0.41631553 0.42363054 0.44024811 0.44616792\n",
      " 0.45664306 0.46735126 0.45419911 0.48083281 0.48107655 0.47736304\n",
      " 0.47975049 0.45270105 0.44793332 0.46033039 0.47216055 0.4515924\n",
      " 0.45319762 0.44675795 0.45115584 0.44282193 0.44790652 0.45586609\n",
      " 0.47426425 0.47056727 0.46139716 0.46285019 0.45415765 0.48530857\n",
      " 0.47871481 0.4687999  0.46697553 0.46473468 0.47972199 0.4804641\n",
      " 0.44977856 0.46210488 0.4620222  0.45630653 0.45233875 0.47564075\n",
      " 0.47813546 0.52832316 0.53625831 0.51613069 0.52715864 0.50508555\n",
      " 0.51336059 0.52950504 0.51695755 0.50398093 0.50873575 0.50452459\n",
      " 0.50120886 0.47094377 0.45610797 0.45460108 0.45124822 0.46171603\n",
      " 0.46186119 0.45960279 0.47226316 0.47806492 0.46496168 0.4694628\n",
      " 0.470354   0.46781586 0.46644266 0.4684188  0.48392566 0.49482786\n",
      " 0.49401593 0.50831633 0.51121677 0.51255827 0.544401   0.54103141\n",
      " 0.56973771 0.57956824 0.57519251 0.57159276 0.59112105 0.60478003\n",
      " 0.61957111 0.61044459 0.61058247 0.60014435 0.61510439 0.64055213\n",
      " 0.65457486 0.66843457 0.69829734 0.68903629 0.66088265 0.63355398\n",
      " 0.60590088 0.57901001 0.55309993 0.52842093]\n",
      "6 day output [[0.5051742]]\n",
      "1 day input [0.41152957 0.41631553 0.42363054 0.44024811 0.44616792 0.45664306\n",
      " 0.46735126 0.45419911 0.48083281 0.48107655 0.47736304 0.47975049\n",
      " 0.45270105 0.44793332 0.46033039 0.47216055 0.4515924  0.45319762\n",
      " 0.44675795 0.45115584 0.44282193 0.44790652 0.45586609 0.47426425\n",
      " 0.47056727 0.46139716 0.46285019 0.45415765 0.48530857 0.47871481\n",
      " 0.4687999  0.46697553 0.46473468 0.47972199 0.4804641  0.44977856\n",
      " 0.46210488 0.4620222  0.45630653 0.45233875 0.47564075 0.47813546\n",
      " 0.52832316 0.53625831 0.51613069 0.52715864 0.50508555 0.51336059\n",
      " 0.52950504 0.51695755 0.50398093 0.50873575 0.50452459 0.50120886\n",
      " 0.47094377 0.45610797 0.45460108 0.45124822 0.46171603 0.46186119\n",
      " 0.45960279 0.47226316 0.47806492 0.46496168 0.4694628  0.470354\n",
      " 0.46781586 0.46644266 0.4684188  0.48392566 0.49482786 0.49401593\n",
      " 0.50831633 0.51121677 0.51255827 0.544401   0.54103141 0.56973771\n",
      " 0.57956824 0.57519251 0.57159276 0.59112105 0.60478003 0.61957111\n",
      " 0.61044459 0.61058247 0.60014435 0.61510439 0.64055213 0.65457486\n",
      " 0.66843457 0.69829734 0.68903629 0.66088265 0.63355398 0.60590088\n",
      " 0.57901001 0.55309993 0.52842093 0.50517422]\n",
      "7 day output [[0.4835088]]\n",
      "1 day input [0.41631553 0.42363054 0.44024811 0.44616792 0.45664306 0.46735126\n",
      " 0.45419911 0.48083281 0.48107655 0.47736304 0.47975049 0.45270105\n",
      " 0.44793332 0.46033039 0.47216055 0.4515924  0.45319762 0.44675795\n",
      " 0.45115584 0.44282193 0.44790652 0.45586609 0.47426425 0.47056727\n",
      " 0.46139716 0.46285019 0.45415765 0.48530857 0.47871481 0.4687999\n",
      " 0.46697553 0.46473468 0.47972199 0.4804641  0.44977856 0.46210488\n",
      " 0.4620222  0.45630653 0.45233875 0.47564075 0.47813546 0.52832316\n",
      " 0.53625831 0.51613069 0.52715864 0.50508555 0.51336059 0.52950504\n",
      " 0.51695755 0.50398093 0.50873575 0.50452459 0.50120886 0.47094377\n",
      " 0.45610797 0.45460108 0.45124822 0.46171603 0.46186119 0.45960279\n",
      " 0.47226316 0.47806492 0.46496168 0.4694628  0.470354   0.46781586\n",
      " 0.46644266 0.4684188  0.48392566 0.49482786 0.49401593 0.50831633\n",
      " 0.51121677 0.51255827 0.544401   0.54103141 0.56973771 0.57956824\n",
      " 0.57519251 0.57159276 0.59112105 0.60478003 0.61957111 0.61044459\n",
      " 0.61058247 0.60014435 0.61510439 0.64055213 0.65457486 0.66843457\n",
      " 0.69829734 0.68903629 0.66088265 0.63355398 0.60590088 0.57901001\n",
      " 0.55309993 0.52842093 0.50517422 0.4835088 ]\n",
      "8 day output [[0.46350607]]\n",
      "1 day input [0.42363054 0.44024811 0.44616792 0.45664306 0.46735126 0.45419911\n",
      " 0.48083281 0.48107655 0.47736304 0.47975049 0.45270105 0.44793332\n",
      " 0.46033039 0.47216055 0.4515924  0.45319762 0.44675795 0.45115584\n",
      " 0.44282193 0.44790652 0.45586609 0.47426425 0.47056727 0.46139716\n",
      " 0.46285019 0.45415765 0.48530857 0.47871481 0.4687999  0.46697553\n",
      " 0.46473468 0.47972199 0.4804641  0.44977856 0.46210488 0.4620222\n",
      " 0.45630653 0.45233875 0.47564075 0.47813546 0.52832316 0.53625831\n",
      " 0.51613069 0.52715864 0.50508555 0.51336059 0.52950504 0.51695755\n",
      " 0.50398093 0.50873575 0.50452459 0.50120886 0.47094377 0.45610797\n",
      " 0.45460108 0.45124822 0.46171603 0.46186119 0.45960279 0.47226316\n",
      " 0.47806492 0.46496168 0.4694628  0.470354   0.46781586 0.46644266\n",
      " 0.4684188  0.48392566 0.49482786 0.49401593 0.50831633 0.51121677\n",
      " 0.51255827 0.544401   0.54103141 0.56973771 0.57956824 0.57519251\n",
      " 0.57159276 0.59112105 0.60478003 0.61957111 0.61044459 0.61058247\n",
      " 0.60014435 0.61510439 0.64055213 0.65457486 0.66843457 0.69829734\n",
      " 0.68903629 0.66088265 0.63355398 0.60590088 0.57901001 0.55309993\n",
      " 0.52842093 0.50517422 0.4835088  0.46350607]\n"
     ]
    },
    {
     "name": "stdout",
     "output_type": "stream",
     "text": [
      "9 day output [[0.44517034]]\n",
      "1 day input [0.44024811 0.44616792 0.45664306 0.46735126 0.45419911 0.48083281\n",
      " 0.48107655 0.47736304 0.47975049 0.45270105 0.44793332 0.46033039\n",
      " 0.47216055 0.4515924  0.45319762 0.44675795 0.45115584 0.44282193\n",
      " 0.44790652 0.45586609 0.47426425 0.47056727 0.46139716 0.46285019\n",
      " 0.45415765 0.48530857 0.47871481 0.4687999  0.46697553 0.46473468\n",
      " 0.47972199 0.4804641  0.44977856 0.46210488 0.4620222  0.45630653\n",
      " 0.45233875 0.47564075 0.47813546 0.52832316 0.53625831 0.51613069\n",
      " 0.52715864 0.50508555 0.51336059 0.52950504 0.51695755 0.50398093\n",
      " 0.50873575 0.50452459 0.50120886 0.47094377 0.45610797 0.45460108\n",
      " 0.45124822 0.46171603 0.46186119 0.45960279 0.47226316 0.47806492\n",
      " 0.46496168 0.4694628  0.470354   0.46781586 0.46644266 0.4684188\n",
      " 0.48392566 0.49482786 0.49401593 0.50831633 0.51121677 0.51255827\n",
      " 0.544401   0.54103141 0.56973771 0.57956824 0.57519251 0.57159276\n",
      " 0.59112105 0.60478003 0.61957111 0.61044459 0.61058247 0.60014435\n",
      " 0.61510439 0.64055213 0.65457486 0.66843457 0.69829734 0.68903629\n",
      " 0.66088265 0.63355398 0.60590088 0.57901001 0.55309993 0.52842093\n",
      " 0.50517422 0.4835088  0.46350607 0.44517034]\n",
      "10 day output [[0.42843205]]\n",
      "1 day input [0.44616792 0.45664306 0.46735126 0.45419911 0.48083281 0.48107655\n",
      " 0.47736304 0.47975049 0.45270105 0.44793332 0.46033039 0.47216055\n",
      " 0.4515924  0.45319762 0.44675795 0.45115584 0.44282193 0.44790652\n",
      " 0.45586609 0.47426425 0.47056727 0.46139716 0.46285019 0.45415765\n",
      " 0.48530857 0.47871481 0.4687999  0.46697553 0.46473468 0.47972199\n",
      " 0.4804641  0.44977856 0.46210488 0.4620222  0.45630653 0.45233875\n",
      " 0.47564075 0.47813546 0.52832316 0.53625831 0.51613069 0.52715864\n",
      " 0.50508555 0.51336059 0.52950504 0.51695755 0.50398093 0.50873575\n",
      " 0.50452459 0.50120886 0.47094377 0.45610797 0.45460108 0.45124822\n",
      " 0.46171603 0.46186119 0.45960279 0.47226316 0.47806492 0.46496168\n",
      " 0.4694628  0.470354   0.46781586 0.46644266 0.4684188  0.48392566\n",
      " 0.49482786 0.49401593 0.50831633 0.51121677 0.51255827 0.544401\n",
      " 0.54103141 0.56973771 0.57956824 0.57519251 0.57159276 0.59112105\n",
      " 0.60478003 0.61957111 0.61044459 0.61058247 0.60014435 0.61510439\n",
      " 0.64055213 0.65457486 0.66843457 0.69829734 0.68903629 0.66088265\n",
      " 0.63355398 0.60590088 0.57901001 0.55309993 0.52842093 0.50517422\n",
      " 0.4835088  0.46350607 0.44517034 0.42843205]\n",
      "11 day output [[0.41316506]]\n",
      "1 day input [0.45664306 0.46735126 0.45419911 0.48083281 0.48107655 0.47736304\n",
      " 0.47975049 0.45270105 0.44793332 0.46033039 0.47216055 0.4515924\n",
      " 0.45319762 0.44675795 0.45115584 0.44282193 0.44790652 0.45586609\n",
      " 0.47426425 0.47056727 0.46139716 0.46285019 0.45415765 0.48530857\n",
      " 0.47871481 0.4687999  0.46697553 0.46473468 0.47972199 0.4804641\n",
      " 0.44977856 0.46210488 0.4620222  0.45630653 0.45233875 0.47564075\n",
      " 0.47813546 0.52832316 0.53625831 0.51613069 0.52715864 0.50508555\n",
      " 0.51336059 0.52950504 0.51695755 0.50398093 0.50873575 0.50452459\n",
      " 0.50120886 0.47094377 0.45610797 0.45460108 0.45124822 0.46171603\n",
      " 0.46186119 0.45960279 0.47226316 0.47806492 0.46496168 0.4694628\n",
      " 0.470354   0.46781586 0.46644266 0.4684188  0.48392566 0.49482786\n",
      " 0.49401593 0.50831633 0.51121677 0.51255827 0.544401   0.54103141\n",
      " 0.56973771 0.57956824 0.57519251 0.57159276 0.59112105 0.60478003\n",
      " 0.61957111 0.61044459 0.61058247 0.60014435 0.61510439 0.64055213\n",
      " 0.65457486 0.66843457 0.69829734 0.68903629 0.66088265 0.63355398\n",
      " 0.60590088 0.57901001 0.55309993 0.52842093 0.50517422 0.4835088\n",
      " 0.46350607 0.44517034 0.42843205 0.41316506]\n",
      "12 day output [[0.3992054]]\n",
      "1 day input [0.46735126 0.45419911 0.48083281 0.48107655 0.47736304 0.47975049\n",
      " 0.45270105 0.44793332 0.46033039 0.47216055 0.4515924  0.45319762\n",
      " 0.44675795 0.45115584 0.44282193 0.44790652 0.45586609 0.47426425\n",
      " 0.47056727 0.46139716 0.46285019 0.45415765 0.48530857 0.47871481\n",
      " 0.4687999  0.46697553 0.46473468 0.47972199 0.4804641  0.44977856\n",
      " 0.46210488 0.4620222  0.45630653 0.45233875 0.47564075 0.47813546\n",
      " 0.52832316 0.53625831 0.51613069 0.52715864 0.50508555 0.51336059\n",
      " 0.52950504 0.51695755 0.50398093 0.50873575 0.50452459 0.50120886\n",
      " 0.47094377 0.45610797 0.45460108 0.45124822 0.46171603 0.46186119\n",
      " 0.45960279 0.47226316 0.47806492 0.46496168 0.4694628  0.470354\n",
      " 0.46781586 0.46644266 0.4684188  0.48392566 0.49482786 0.49401593\n",
      " 0.50831633 0.51121677 0.51255827 0.544401   0.54103141 0.56973771\n",
      " 0.57956824 0.57519251 0.57159276 0.59112105 0.60478003 0.61957111\n",
      " 0.61044459 0.61058247 0.60014435 0.61510439 0.64055213 0.65457486\n",
      " 0.66843457 0.69829734 0.68903629 0.66088265 0.63355398 0.60590088\n",
      " 0.57901001 0.55309993 0.52842093 0.50517422 0.4835088  0.46350607\n",
      " 0.44517034 0.42843205 0.41316506 0.39920539]\n",
      "13 day output [[0.38637236]]\n",
      "1 day input [0.45419911 0.48083281 0.48107655 0.47736304 0.47975049 0.45270105\n",
      " 0.44793332 0.46033039 0.47216055 0.4515924  0.45319762 0.44675795\n",
      " 0.45115584 0.44282193 0.44790652 0.45586609 0.47426425 0.47056727\n",
      " 0.46139716 0.46285019 0.45415765 0.48530857 0.47871481 0.4687999\n",
      " 0.46697553 0.46473468 0.47972199 0.4804641  0.44977856 0.46210488\n",
      " 0.4620222  0.45630653 0.45233875 0.47564075 0.47813546 0.52832316\n",
      " 0.53625831 0.51613069 0.52715864 0.50508555 0.51336059 0.52950504\n",
      " 0.51695755 0.50398093 0.50873575 0.50452459 0.50120886 0.47094377\n",
      " 0.45610797 0.45460108 0.45124822 0.46171603 0.46186119 0.45960279\n",
      " 0.47226316 0.47806492 0.46496168 0.4694628  0.470354   0.46781586\n",
      " 0.46644266 0.4684188  0.48392566 0.49482786 0.49401593 0.50831633\n",
      " 0.51121677 0.51255827 0.544401   0.54103141 0.56973771 0.57956824\n",
      " 0.57519251 0.57159276 0.59112105 0.60478003 0.61957111 0.61044459\n",
      " 0.61058247 0.60014435 0.61510439 0.64055213 0.65457486 0.66843457\n",
      " 0.69829734 0.68903629 0.66088265 0.63355398 0.60590088 0.57901001\n",
      " 0.55309993 0.52842093 0.50517422 0.4835088  0.46350607 0.44517034\n",
      " 0.42843205 0.41316506 0.39920539 0.38637236]\n",
      "14 day output [[0.3744841]]\n",
      "1 day input [0.48083281 0.48107655 0.47736304 0.47975049 0.45270105 0.44793332\n",
      " 0.46033039 0.47216055 0.4515924  0.45319762 0.44675795 0.45115584\n",
      " 0.44282193 0.44790652 0.45586609 0.47426425 0.47056727 0.46139716\n",
      " 0.46285019 0.45415765 0.48530857 0.47871481 0.4687999  0.46697553\n",
      " 0.46473468 0.47972199 0.4804641  0.44977856 0.46210488 0.4620222\n",
      " 0.45630653 0.45233875 0.47564075 0.47813546 0.52832316 0.53625831\n",
      " 0.51613069 0.52715864 0.50508555 0.51336059 0.52950504 0.51695755\n",
      " 0.50398093 0.50873575 0.50452459 0.50120886 0.47094377 0.45610797\n",
      " 0.45460108 0.45124822 0.46171603 0.46186119 0.45960279 0.47226316\n",
      " 0.47806492 0.46496168 0.4694628  0.470354   0.46781586 0.46644266\n",
      " 0.4684188  0.48392566 0.49482786 0.49401593 0.50831633 0.51121677\n",
      " 0.51255827 0.544401   0.54103141 0.56973771 0.57956824 0.57519251\n",
      " 0.57159276 0.59112105 0.60478003 0.61957111 0.61044459 0.61058247\n",
      " 0.60014435 0.61510439 0.64055213 0.65457486 0.66843457 0.69829734\n",
      " 0.68903629 0.66088265 0.63355398 0.60590088 0.57901001 0.55309993\n",
      " 0.52842093 0.50517422 0.4835088  0.46350607 0.44517034 0.42843205\n",
      " 0.41316506 0.39920539 0.38637236 0.37448409]\n",
      "15 day output [[0.36336952]]\n",
      "1 day input [0.48107655 0.47736304 0.47975049 0.45270105 0.44793332 0.46033039\n",
      " 0.47216055 0.4515924  0.45319762 0.44675795 0.45115584 0.44282193\n",
      " 0.44790652 0.45586609 0.47426425 0.47056727 0.46139716 0.46285019\n",
      " 0.45415765 0.48530857 0.47871481 0.4687999  0.46697553 0.46473468\n",
      " 0.47972199 0.4804641  0.44977856 0.46210488 0.4620222  0.45630653\n",
      " 0.45233875 0.47564075 0.47813546 0.52832316 0.53625831 0.51613069\n",
      " 0.52715864 0.50508555 0.51336059 0.52950504 0.51695755 0.50398093\n",
      " 0.50873575 0.50452459 0.50120886 0.47094377 0.45610797 0.45460108\n",
      " 0.45124822 0.46171603 0.46186119 0.45960279 0.47226316 0.47806492\n",
      " 0.46496168 0.4694628  0.470354   0.46781586 0.46644266 0.4684188\n",
      " 0.48392566 0.49482786 0.49401593 0.50831633 0.51121677 0.51255827\n",
      " 0.544401   0.54103141 0.56973771 0.57956824 0.57519251 0.57159276\n",
      " 0.59112105 0.60478003 0.61957111 0.61044459 0.61058247 0.60014435\n",
      " 0.61510439 0.64055213 0.65457486 0.66843457 0.69829734 0.68903629\n",
      " 0.66088265 0.63355398 0.60590088 0.57901001 0.55309993 0.52842093\n",
      " 0.50517422 0.4835088  0.46350607 0.44517034 0.42843205 0.41316506\n",
      " 0.39920539 0.38637236 0.37448409 0.36336952]\n",
      "16 day output [[0.3528766]]\n",
      "1 day input [0.47736304 0.47975049 0.45270105 0.44793332 0.46033039 0.47216055\n",
      " 0.4515924  0.45319762 0.44675795 0.45115584 0.44282193 0.44790652\n",
      " 0.45586609 0.47426425 0.47056727 0.46139716 0.46285019 0.45415765\n",
      " 0.48530857 0.47871481 0.4687999  0.46697553 0.46473468 0.47972199\n",
      " 0.4804641  0.44977856 0.46210488 0.4620222  0.45630653 0.45233875\n",
      " 0.47564075 0.47813546 0.52832316 0.53625831 0.51613069 0.52715864\n",
      " 0.50508555 0.51336059 0.52950504 0.51695755 0.50398093 0.50873575\n",
      " 0.50452459 0.50120886 0.47094377 0.45610797 0.45460108 0.45124822\n",
      " 0.46171603 0.46186119 0.45960279 0.47226316 0.47806492 0.46496168\n",
      " 0.4694628  0.470354   0.46781586 0.46644266 0.4684188  0.48392566\n",
      " 0.49482786 0.49401593 0.50831633 0.51121677 0.51255827 0.544401\n",
      " 0.54103141 0.56973771 0.57956824 0.57519251 0.57159276 0.59112105\n",
      " 0.60478003 0.61957111 0.61044459 0.61058247 0.60014435 0.61510439\n",
      " 0.64055213 0.65457486 0.66843457 0.69829734 0.68903629 0.66088265\n",
      " 0.63355398 0.60590088 0.57901001 0.55309993 0.52842093 0.50517422\n",
      " 0.4835088  0.46350607 0.44517034 0.42843205 0.41316506 0.39920539\n",
      " 0.38637236 0.37448409 0.36336952 0.3528766 ]\n",
      "17 day output [[0.34287578]]\n",
      "1 day input [0.47975049 0.45270105 0.44793332 0.46033039 0.47216055 0.4515924\n",
      " 0.45319762 0.44675795 0.45115584 0.44282193 0.44790652 0.45586609\n",
      " 0.47426425 0.47056727 0.46139716 0.46285019 0.45415765 0.48530857\n",
      " 0.47871481 0.4687999  0.46697553 0.46473468 0.47972199 0.4804641\n",
      " 0.44977856 0.46210488 0.4620222  0.45630653 0.45233875 0.47564075\n",
      " 0.47813546 0.52832316 0.53625831 0.51613069 0.52715864 0.50508555\n",
      " 0.51336059 0.52950504 0.51695755 0.50398093 0.50873575 0.50452459\n",
      " 0.50120886 0.47094377 0.45610797 0.45460108 0.45124822 0.46171603\n",
      " 0.46186119 0.45960279 0.47226316 0.47806492 0.46496168 0.4694628\n",
      " 0.470354   0.46781586 0.46644266 0.4684188  0.48392566 0.49482786\n",
      " 0.49401593 0.50831633 0.51121677 0.51255827 0.544401   0.54103141\n",
      " 0.56973771 0.57956824 0.57519251 0.57159276 0.59112105 0.60478003\n",
      " 0.61957111 0.61044459 0.61058247 0.60014435 0.61510439 0.64055213\n",
      " 0.65457486 0.66843457 0.69829734 0.68903629 0.66088265 0.63355398\n",
      " 0.60590088 0.57901001 0.55309993 0.52842093 0.50517422 0.4835088\n",
      " 0.46350607 0.44517034 0.42843205 0.41316506 0.39920539 0.38637236\n",
      " 0.37448409 0.36336952 0.3528766  0.34287578]\n",
      "18 day output [[0.33326173]]\n",
      "1 day input [0.45270105 0.44793332 0.46033039 0.47216055 0.4515924  0.45319762\n",
      " 0.44675795 0.45115584 0.44282193 0.44790652 0.45586609 0.47426425\n",
      " 0.47056727 0.46139716 0.46285019 0.45415765 0.48530857 0.47871481\n",
      " 0.4687999  0.46697553 0.46473468 0.47972199 0.4804641  0.44977856\n",
      " 0.46210488 0.4620222  0.45630653 0.45233875 0.47564075 0.47813546\n",
      " 0.52832316 0.53625831 0.51613069 0.52715864 0.50508555 0.51336059\n",
      " 0.52950504 0.51695755 0.50398093 0.50873575 0.50452459 0.50120886\n",
      " 0.47094377 0.45610797 0.45460108 0.45124822 0.46171603 0.46186119\n",
      " 0.45960279 0.47226316 0.47806492 0.46496168 0.4694628  0.470354\n",
      " 0.46781586 0.46644266 0.4684188  0.48392566 0.49482786 0.49401593\n",
      " 0.50831633 0.51121677 0.51255827 0.544401   0.54103141 0.56973771\n",
      " 0.57956824 0.57519251 0.57159276 0.59112105 0.60478003 0.61957111\n",
      " 0.61044459 0.61058247 0.60014435 0.61510439 0.64055213 0.65457486\n",
      " 0.66843457 0.69829734 0.68903629 0.66088265 0.63355398 0.60590088\n",
      " 0.57901001 0.55309993 0.52842093 0.50517422 0.4835088  0.46350607\n",
      " 0.44517034 0.42843205 0.41316506 0.39920539 0.38637236 0.37448409\n",
      " 0.36336952 0.3528766  0.34287578 0.33326173]\n",
      "19 day output [[0.3239526]]\n",
      "1 day input [0.44793332 0.46033039 0.47216055 0.4515924  0.45319762 0.44675795\n",
      " 0.45115584 0.44282193 0.44790652 0.45586609 0.47426425 0.47056727\n",
      " 0.46139716 0.46285019 0.45415765 0.48530857 0.47871481 0.4687999\n",
      " 0.46697553 0.46473468 0.47972199 0.4804641  0.44977856 0.46210488\n",
      " 0.4620222  0.45630653 0.45233875 0.47564075 0.47813546 0.52832316\n",
      " 0.53625831 0.51613069 0.52715864 0.50508555 0.51336059 0.52950504\n",
      " 0.51695755 0.50398093 0.50873575 0.50452459 0.50120886 0.47094377\n",
      " 0.45610797 0.45460108 0.45124822 0.46171603 0.46186119 0.45960279\n",
      " 0.47226316 0.47806492 0.46496168 0.4694628  0.470354   0.46781586\n",
      " 0.46644266 0.4684188  0.48392566 0.49482786 0.49401593 0.50831633\n",
      " 0.51121677 0.51255827 0.544401   0.54103141 0.56973771 0.57956824\n",
      " 0.57519251 0.57159276 0.59112105 0.60478003 0.61957111 0.61044459\n",
      " 0.61058247 0.60014435 0.61510439 0.64055213 0.65457486 0.66843457\n",
      " 0.69829734 0.68903629 0.66088265 0.63355398 0.60590088 0.57901001\n",
      " 0.55309993 0.52842093 0.50517422 0.4835088  0.46350607 0.44517034\n",
      " 0.42843205 0.41316506 0.39920539 0.38637236 0.37448409 0.36336952\n",
      " 0.3528766  0.34287578 0.33326173 0.32395259]\n"
     ]
    },
    {
     "name": "stdout",
     "output_type": "stream",
     "text": [
      "20 day output [[0.31488895]]\n",
      "1 day input [0.46033039 0.47216055 0.4515924  0.45319762 0.44675795 0.45115584\n",
      " 0.44282193 0.44790652 0.45586609 0.47426425 0.47056727 0.46139716\n",
      " 0.46285019 0.45415765 0.48530857 0.47871481 0.4687999  0.46697553\n",
      " 0.46473468 0.47972199 0.4804641  0.44977856 0.46210488 0.4620222\n",
      " 0.45630653 0.45233875 0.47564075 0.47813546 0.52832316 0.53625831\n",
      " 0.51613069 0.52715864 0.50508555 0.51336059 0.52950504 0.51695755\n",
      " 0.50398093 0.50873575 0.50452459 0.50120886 0.47094377 0.45610797\n",
      " 0.45460108 0.45124822 0.46171603 0.46186119 0.45960279 0.47226316\n",
      " 0.47806492 0.46496168 0.4694628  0.470354   0.46781586 0.46644266\n",
      " 0.4684188  0.48392566 0.49482786 0.49401593 0.50831633 0.51121677\n",
      " 0.51255827 0.544401   0.54103141 0.56973771 0.57956824 0.57519251\n",
      " 0.57159276 0.59112105 0.60478003 0.61957111 0.61044459 0.61058247\n",
      " 0.60014435 0.61510439 0.64055213 0.65457486 0.66843457 0.69829734\n",
      " 0.68903629 0.66088265 0.63355398 0.60590088 0.57901001 0.55309993\n",
      " 0.52842093 0.50517422 0.4835088  0.46350607 0.44517034 0.42843205\n",
      " 0.41316506 0.39920539 0.38637236 0.37448409 0.36336952 0.3528766\n",
      " 0.34287578 0.33326173 0.32395259 0.31488895]\n",
      "21 day output [[0.3060298]]\n",
      "1 day input [0.47216055 0.4515924  0.45319762 0.44675795 0.45115584 0.44282193\n",
      " 0.44790652 0.45586609 0.47426425 0.47056727 0.46139716 0.46285019\n",
      " 0.45415765 0.48530857 0.47871481 0.4687999  0.46697553 0.46473468\n",
      " 0.47972199 0.4804641  0.44977856 0.46210488 0.4620222  0.45630653\n",
      " 0.45233875 0.47564075 0.47813546 0.52832316 0.53625831 0.51613069\n",
      " 0.52715864 0.50508555 0.51336059 0.52950504 0.51695755 0.50398093\n",
      " 0.50873575 0.50452459 0.50120886 0.47094377 0.45610797 0.45460108\n",
      " 0.45124822 0.46171603 0.46186119 0.45960279 0.47226316 0.47806492\n",
      " 0.46496168 0.4694628  0.470354   0.46781586 0.46644266 0.4684188\n",
      " 0.48392566 0.49482786 0.49401593 0.50831633 0.51121677 0.51255827\n",
      " 0.544401   0.54103141 0.56973771 0.57956824 0.57519251 0.57159276\n",
      " 0.59112105 0.60478003 0.61957111 0.61044459 0.61058247 0.60014435\n",
      " 0.61510439 0.64055213 0.65457486 0.66843457 0.69829734 0.68903629\n",
      " 0.66088265 0.63355398 0.60590088 0.57901001 0.55309993 0.52842093\n",
      " 0.50517422 0.4835088  0.46350607 0.44517034 0.42843205 0.41316506\n",
      " 0.39920539 0.38637236 0.37448409 0.36336952 0.3528766  0.34287578\n",
      " 0.33326173 0.32395259 0.31488895 0.3060298 ]\n",
      "22 day output [[0.29735103]]\n",
      "1 day input [0.4515924  0.45319762 0.44675795 0.45115584 0.44282193 0.44790652\n",
      " 0.45586609 0.47426425 0.47056727 0.46139716 0.46285019 0.45415765\n",
      " 0.48530857 0.47871481 0.4687999  0.46697553 0.46473468 0.47972199\n",
      " 0.4804641  0.44977856 0.46210488 0.4620222  0.45630653 0.45233875\n",
      " 0.47564075 0.47813546 0.52832316 0.53625831 0.51613069 0.52715864\n",
      " 0.50508555 0.51336059 0.52950504 0.51695755 0.50398093 0.50873575\n",
      " 0.50452459 0.50120886 0.47094377 0.45610797 0.45460108 0.45124822\n",
      " 0.46171603 0.46186119 0.45960279 0.47226316 0.47806492 0.46496168\n",
      " 0.4694628  0.470354   0.46781586 0.46644266 0.4684188  0.48392566\n",
      " 0.49482786 0.49401593 0.50831633 0.51121677 0.51255827 0.544401\n",
      " 0.54103141 0.56973771 0.57956824 0.57519251 0.57159276 0.59112105\n",
      " 0.60478003 0.61957111 0.61044459 0.61058247 0.60014435 0.61510439\n",
      " 0.64055213 0.65457486 0.66843457 0.69829734 0.68903629 0.66088265\n",
      " 0.63355398 0.60590088 0.57901001 0.55309993 0.52842093 0.50517422\n",
      " 0.4835088  0.46350607 0.44517034 0.42843205 0.41316506 0.39920539\n",
      " 0.38637236 0.37448409 0.36336952 0.3528766  0.34287578 0.33326173\n",
      " 0.32395259 0.31488895 0.3060298  0.29735103]\n",
      "23 day output [[0.2888413]]\n",
      "1 day input [0.45319762 0.44675795 0.45115584 0.44282193 0.44790652 0.45586609\n",
      " 0.47426425 0.47056727 0.46139716 0.46285019 0.45415765 0.48530857\n",
      " 0.47871481 0.4687999  0.46697553 0.46473468 0.47972199 0.4804641\n",
      " 0.44977856 0.46210488 0.4620222  0.45630653 0.45233875 0.47564075\n",
      " 0.47813546 0.52832316 0.53625831 0.51613069 0.52715864 0.50508555\n",
      " 0.51336059 0.52950504 0.51695755 0.50398093 0.50873575 0.50452459\n",
      " 0.50120886 0.47094377 0.45610797 0.45460108 0.45124822 0.46171603\n",
      " 0.46186119 0.45960279 0.47226316 0.47806492 0.46496168 0.4694628\n",
      " 0.470354   0.46781586 0.46644266 0.4684188  0.48392566 0.49482786\n",
      " 0.49401593 0.50831633 0.51121677 0.51255827 0.544401   0.54103141\n",
      " 0.56973771 0.57956824 0.57519251 0.57159276 0.59112105 0.60478003\n",
      " 0.61957111 0.61044459 0.61058247 0.60014435 0.61510439 0.64055213\n",
      " 0.65457486 0.66843457 0.69829734 0.68903629 0.66088265 0.63355398\n",
      " 0.60590088 0.57901001 0.55309993 0.52842093 0.50517422 0.4835088\n",
      " 0.46350607 0.44517034 0.42843205 0.41316506 0.39920539 0.38637236\n",
      " 0.37448409 0.36336952 0.3528766  0.34287578 0.33326173 0.32395259\n",
      " 0.31488895 0.3060298  0.29735103 0.28884131]\n",
      "24 day output [[0.28049958]]\n",
      "1 day input [0.44675795 0.45115584 0.44282193 0.44790652 0.45586609 0.47426425\n",
      " 0.47056727 0.46139716 0.46285019 0.45415765 0.48530857 0.47871481\n",
      " 0.4687999  0.46697553 0.46473468 0.47972199 0.4804641  0.44977856\n",
      " 0.46210488 0.4620222  0.45630653 0.45233875 0.47564075 0.47813546\n",
      " 0.52832316 0.53625831 0.51613069 0.52715864 0.50508555 0.51336059\n",
      " 0.52950504 0.51695755 0.50398093 0.50873575 0.50452459 0.50120886\n",
      " 0.47094377 0.45610797 0.45460108 0.45124822 0.46171603 0.46186119\n",
      " 0.45960279 0.47226316 0.47806492 0.46496168 0.4694628  0.470354\n",
      " 0.46781586 0.46644266 0.4684188  0.48392566 0.49482786 0.49401593\n",
      " 0.50831633 0.51121677 0.51255827 0.544401   0.54103141 0.56973771\n",
      " 0.57956824 0.57519251 0.57159276 0.59112105 0.60478003 0.61957111\n",
      " 0.61044459 0.61058247 0.60014435 0.61510439 0.64055213 0.65457486\n",
      " 0.66843457 0.69829734 0.68903629 0.66088265 0.63355398 0.60590088\n",
      " 0.57901001 0.55309993 0.52842093 0.50517422 0.4835088  0.46350607\n",
      " 0.44517034 0.42843205 0.41316506 0.39920539 0.38637236 0.37448409\n",
      " 0.36336952 0.3528766  0.34287578 0.33326173 0.32395259 0.31488895\n",
      " 0.3060298  0.29735103 0.28884131 0.28049958]\n",
      "25 day output [[0.27233148]]\n",
      "1 day input [0.45115584 0.44282193 0.44790652 0.45586609 0.47426425 0.47056727\n",
      " 0.46139716 0.46285019 0.45415765 0.48530857 0.47871481 0.4687999\n",
      " 0.46697553 0.46473468 0.47972199 0.4804641  0.44977856 0.46210488\n",
      " 0.4620222  0.45630653 0.45233875 0.47564075 0.47813546 0.52832316\n",
      " 0.53625831 0.51613069 0.52715864 0.50508555 0.51336059 0.52950504\n",
      " 0.51695755 0.50398093 0.50873575 0.50452459 0.50120886 0.47094377\n",
      " 0.45610797 0.45460108 0.45124822 0.46171603 0.46186119 0.45960279\n",
      " 0.47226316 0.47806492 0.46496168 0.4694628  0.470354   0.46781586\n",
      " 0.46644266 0.4684188  0.48392566 0.49482786 0.49401593 0.50831633\n",
      " 0.51121677 0.51255827 0.544401   0.54103141 0.56973771 0.57956824\n",
      " 0.57519251 0.57159276 0.59112105 0.60478003 0.61957111 0.61044459\n",
      " 0.61058247 0.60014435 0.61510439 0.64055213 0.65457486 0.66843457\n",
      " 0.69829734 0.68903629 0.66088265 0.63355398 0.60590088 0.57901001\n",
      " 0.55309993 0.52842093 0.50517422 0.4835088  0.46350607 0.44517034\n",
      " 0.42843205 0.41316506 0.39920539 0.38637236 0.37448409 0.36336952\n",
      " 0.3528766  0.34287578 0.33326173 0.32395259 0.31488895 0.3060298\n",
      " 0.29735103 0.28884131 0.28049958 0.27233148]\n",
      "26 day output [[0.26434746]]\n",
      "1 day input [0.44282193 0.44790652 0.45586609 0.47426425 0.47056727 0.46139716\n",
      " 0.46285019 0.45415765 0.48530857 0.47871481 0.4687999  0.46697553\n",
      " 0.46473468 0.47972199 0.4804641  0.44977856 0.46210488 0.4620222\n",
      " 0.45630653 0.45233875 0.47564075 0.47813546 0.52832316 0.53625831\n",
      " 0.51613069 0.52715864 0.50508555 0.51336059 0.52950504 0.51695755\n",
      " 0.50398093 0.50873575 0.50452459 0.50120886 0.47094377 0.45610797\n",
      " 0.45460108 0.45124822 0.46171603 0.46186119 0.45960279 0.47226316\n",
      " 0.47806492 0.46496168 0.4694628  0.470354   0.46781586 0.46644266\n",
      " 0.4684188  0.48392566 0.49482786 0.49401593 0.50831633 0.51121677\n",
      " 0.51255827 0.544401   0.54103141 0.56973771 0.57956824 0.57519251\n",
      " 0.57159276 0.59112105 0.60478003 0.61957111 0.61044459 0.61058247\n",
      " 0.60014435 0.61510439 0.64055213 0.65457486 0.66843457 0.69829734\n",
      " 0.68903629 0.66088265 0.63355398 0.60590088 0.57901001 0.55309993\n",
      " 0.52842093 0.50517422 0.4835088  0.46350607 0.44517034 0.42843205\n",
      " 0.41316506 0.39920539 0.38637236 0.37448409 0.36336952 0.3528766\n",
      " 0.34287578 0.33326173 0.32395259 0.31488895 0.3060298  0.29735103\n",
      " 0.28884131 0.28049958 0.27233148 0.26434746]\n",
      "27 day output [[0.25655994]]\n",
      "1 day input [0.44790652 0.45586609 0.47426425 0.47056727 0.46139716 0.46285019\n",
      " 0.45415765 0.48530857 0.47871481 0.4687999  0.46697553 0.46473468\n",
      " 0.47972199 0.4804641  0.44977856 0.46210488 0.4620222  0.45630653\n",
      " 0.45233875 0.47564075 0.47813546 0.52832316 0.53625831 0.51613069\n",
      " 0.52715864 0.50508555 0.51336059 0.52950504 0.51695755 0.50398093\n",
      " 0.50873575 0.50452459 0.50120886 0.47094377 0.45610797 0.45460108\n",
      " 0.45124822 0.46171603 0.46186119 0.45960279 0.47226316 0.47806492\n",
      " 0.46496168 0.4694628  0.470354   0.46781586 0.46644266 0.4684188\n",
      " 0.48392566 0.49482786 0.49401593 0.50831633 0.51121677 0.51255827\n",
      " 0.544401   0.54103141 0.56973771 0.57956824 0.57519251 0.57159276\n",
      " 0.59112105 0.60478003 0.61957111 0.61044459 0.61058247 0.60014435\n",
      " 0.61510439 0.64055213 0.65457486 0.66843457 0.69829734 0.68903629\n",
      " 0.66088265 0.63355398 0.60590088 0.57901001 0.55309993 0.52842093\n",
      " 0.50517422 0.4835088  0.46350607 0.44517034 0.42843205 0.41316506\n",
      " 0.39920539 0.38637236 0.37448409 0.36336952 0.3528766  0.34287578\n",
      " 0.33326173 0.32395259 0.31488895 0.3060298  0.29735103 0.28884131\n",
      " 0.28049958 0.27233148 0.26434746 0.25655994]\n",
      "28 day output [[0.24898182]]\n",
      "1 day input [0.45586609 0.47426425 0.47056727 0.46139716 0.46285019 0.45415765\n",
      " 0.48530857 0.47871481 0.4687999  0.46697553 0.46473468 0.47972199\n",
      " 0.4804641  0.44977856 0.46210488 0.4620222  0.45630653 0.45233875\n",
      " 0.47564075 0.47813546 0.52832316 0.53625831 0.51613069 0.52715864\n",
      " 0.50508555 0.51336059 0.52950504 0.51695755 0.50398093 0.50873575\n",
      " 0.50452459 0.50120886 0.47094377 0.45610797 0.45460108 0.45124822\n",
      " 0.46171603 0.46186119 0.45960279 0.47226316 0.47806492 0.46496168\n",
      " 0.4694628  0.470354   0.46781586 0.46644266 0.4684188  0.48392566\n",
      " 0.49482786 0.49401593 0.50831633 0.51121677 0.51255827 0.544401\n",
      " 0.54103141 0.56973771 0.57956824 0.57519251 0.57159276 0.59112105\n",
      " 0.60478003 0.61957111 0.61044459 0.61058247 0.60014435 0.61510439\n",
      " 0.64055213 0.65457486 0.66843457 0.69829734 0.68903629 0.66088265\n",
      " 0.63355398 0.60590088 0.57901001 0.55309993 0.52842093 0.50517422\n",
      " 0.4835088  0.46350607 0.44517034 0.42843205 0.41316506 0.39920539\n",
      " 0.38637236 0.37448409 0.36336952 0.3528766  0.34287578 0.33326173\n",
      " 0.32395259 0.31488895 0.3060298  0.29735103 0.28884131 0.28049958\n",
      " 0.27233148 0.26434746 0.25655994 0.24898182]\n",
      "29 day output [[0.24162488]]\n",
      "[[0.6608826518058777], [0.6335539817810059], [0.6059008836746216], [0.579010009765625], [0.5530999302864075], [0.5284209251403809], [0.5051742196083069], [0.48350879549980164], [0.4635060727596283], [0.4451703429222107], [0.42843204736709595], [0.41316506266593933], [0.39920538663864136], [0.3863723576068878], [0.3744840919971466], [0.36336952447891235], [0.35287660360336304], [0.34287577867507935], [0.33326172828674316], [0.3239525854587555], [0.31488895416259766], [0.3060297966003418], [0.29735103249549866], [0.2888413071632385], [0.28049957752227783], [0.27233147621154785], [0.26434746384620667], [0.25655993819236755], [0.24898181855678558], [0.2416248768568039]]\n"
     ]
    }
   ],
   "source": [
    "from numpy import array\n",
    "lst_output = []\n",
    "n_steps = 100\n",
    "i = 0\n",
    "while (i<30):\n",
    "    if(len(temp_input)>100):\n",
    "        x_input = np.array(temp_input[1:])\n",
    "        print(\"{} day input {}\".format(1,x_input))\n",
    "        x_input = x_input.reshape(1,-1)\n",
    "        x_input = x_input.reshape (1, n_steps, 1)\n",
    "        yhat = model.predict(x_input, verbose = 0)\n",
    "        print(\"{} day output {}\". format (i, yhat))\n",
    "        temp_input.extend(yhat[0].tolist())\n",
    "        temp_input = temp_input[1:]\n",
    "        lst_output.extend(yhat.tolist())\n",
    "        i = i+1\n",
    "    else:\n",
    "        x_input = x_input.reshape((1, n_steps,1))\n",
    "        yhat = model.predict(x_input, verbose = 0)\n",
    "        print(yhat[0])\n",
    "        temp_input.extend(yhat[0].tolist())\n",
    "        print(len(temp_input))\n",
    "        lst_output.extend(yhat.tolist())\n",
    "        i = i+1\n",
    "print(lst_output)"
   ]
  },
  {
   "cell_type": "code",
   "execution_count": 31,
   "id": "d6ef6413",
   "metadata": {},
   "outputs": [
    {
     "name": "stdout",
     "output_type": "stream",
     "text": [
      "[101 102 103 104 105 106 107 108 109 110 111 112 113 114 115 116 117 118\n",
      " 119 120 121 122 123 124 125 126 127 128 129 130]\n"
     ]
    }
   ],
   "source": [
    "day_new = np.arange(1,101)\n",
    "day_pred = np.arange(101,131)\n",
    "print(day_pred)"
   ]
  },
  {
   "cell_type": "code",
   "execution_count": 32,
   "id": "f664cecf",
   "metadata": {},
   "outputs": [
    {
     "data": {
      "text/plain": [
       "2251"
      ]
     },
     "execution_count": 32,
     "metadata": {},
     "output_type": "execute_result"
    }
   ],
   "source": [
    "import matplotlib.pyplot as plt\n",
    "len(Data)"
   ]
  },
  {
   "cell_type": "code",
   "execution_count": 33,
   "id": "ed065ab3",
   "metadata": {},
   "outputs": [],
   "source": [
    "df3 = Data.tolist()\n",
    "df3.extend(lst_output)"
   ]
  },
  {
   "cell_type": "code",
   "execution_count": 34,
   "id": "c2bf316b",
   "metadata": {},
   "outputs": [
    {
     "name": "stdout",
     "output_type": "stream",
     "text": [
      "[[3208.81548873]\n",
      " [3079.61157359]\n",
      " [2948.87383414]\n",
      " [2821.73972233]\n",
      " [2699.24258994]\n",
      " [2582.56570505]\n",
      " [2472.66041635]\n",
      " [2370.23107693]\n",
      " [2275.6626223 ]\n",
      " [2188.97534188]\n",
      " [2109.84037788]\n",
      " [2037.6614466 ]\n",
      " [1971.66318195]\n",
      " [1910.99145543]\n",
      " [1854.78636167]\n",
      " [1802.23914159]\n",
      " [1752.63092951]\n",
      " [1705.34923837]\n",
      " [1659.89613182]\n",
      " [1615.88456087]\n",
      " [1573.0337142 ]\n",
      " [1531.14957418]\n",
      " [1490.11829458]\n",
      " [1449.88619296]\n",
      " [1410.44833785]\n",
      " [1371.83135914]\n",
      " [1334.0847123 ]\n",
      " [1297.26701122]\n",
      " [1261.43933555]\n",
      " [1226.65734029]]\n"
     ]
    }
   ],
   "source": [
    "print(scalar.inverse_transform(lst_output))"
   ]
  },
  {
   "cell_type": "code",
   "execution_count": 35,
   "id": "abd36f21",
   "metadata": {},
   "outputs": [
    {
     "data": {
      "text/plain": [
       "[<matplotlib.lines.Line2D at 0x1df75b89350>]"
      ]
     },
     "execution_count": 35,
     "metadata": {},
     "output_type": "execute_result"
    },
    {
     "data": {
      "image/png": "[encoded data removed]",
      "text/plain": [
       "<Figure size 640x480 with 1 Axes>"
      ]
     },
     "metadata": {},
     "output_type": "display_data"
    }
   ],
   "source": [
    "plt.plot(day_new,scalar.inverse_transform(Data[2151:]))\n",
    "plt.plot(day_pred,scalar.inverse_transform(lst_output))"
   ]
  },
  {
   "cell_type": "code",
   "execution_count": 36,
   "id": "15948729",
   "metadata": {},
   "outputs": [
    {
     "data": {
      "text/plain": [
       "[<matplotlib.lines.Line2D at 0x1df754c5890>]"
      ]
     },
     "execution_count": 36,
     "metadata": {},
     "output_type": "execute_result"
    },
    {
     "data": {
      "image/png": "[encoded data removed]",
      "text/plain": [
       "<Figure size 640x480 with 1 Axes>"
      ]
     },
     "metadata": {},
     "output_type": "display_data"
    }
   ],
   "source": [
    "df3=Data.tolist()\n",
    "df3.extend(lst_output)\n",
    "plt.plot(df3[2200:])"
   ]
  },
  {
   "cell_type": "code",
   "execution_count": 38,
   "id": "08eb952f",
   "metadata": {},
   "outputs": [],
   "source": [
    "df3=scalar.inverse_transform(df3).tolist()"
   ]
  },
  {
   "cell_type": "code",
   "execution_count": 39,
   "id": "9f823664",
   "metadata": {},
   "outputs": [
    {
     "data": {
      "text/plain": [
       "[<matplotlib.lines.Line2D at 0x1df760bde90>]"
      ]
     },
     "execution_count": 39,
     "metadata": {},
     "output_type": "execute_result"
    },
    {
     "data": {
      "image/png": "[encoded data removed]",
      "text/plain": [
       "<Figure size 640x480 with 1 Axes>"
      ]
     },
     "metadata": {},
     "output_type": "display_data"
    }
   ],
   "source": [
    "plt.plot(df3)"
   ]
  },
  {
   "cell_type": "code",
   "execution_count": null,
   "id": "7d75c1c2",
   "metadata": {},
   "outputs": [],
   "source": [
    " "
   ]
  }
 ],
 "metadata": {
  "kernelspec": {
   "display_name": "ML-Kernel",
   "language": "python",
   "name": "ml-kernel"
  },
  "language_info": {
   "codemirror_mode": {
    "name": "ipython",
    "version": 3
   },
   "file_extension": ".py",
   "mimetype": "text/x-python",
   "name": "python",
   "nbconvert_exporter": "python",
   "pygments_lexer": "ipython3",
   "version": "3.11.0"
  }
 },
 "nbformat": 4,
 "nbformat_minor": 5
}
