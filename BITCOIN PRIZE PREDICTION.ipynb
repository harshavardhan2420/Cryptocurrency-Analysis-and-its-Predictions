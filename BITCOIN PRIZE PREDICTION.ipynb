{
 "cells": [
  {
   "cell_type": "markdown",
   "id": "1af80fb0",
   "metadata": {},
   "source": [
    "## BITCOIN PRIZE PREDICTION"
   ]
  },
  {
   "cell_type": "code",
   "execution_count": 1,
   "id": "5b11184b",
   "metadata": {},
   "outputs": [
    {
     "data": {
      "text/html": [
       "<div>\n",
       "<style scoped>\n",
       "    .dataframe tbody tr th:only-of-type {\n",
       "        vertical-align: middle;\n",
       "    }\n",
       "\n",
       "    .dataframe tbody tr th {\n",
       "        vertical-align: top;\n",
       "    }\n",
       "\n",
       "    .dataframe thead th {\n",
       "        text-align: right;\n",
       "    }\n",
       "</style>\n",
       "<table border=\"1\" class=\"dataframe\">\n",
       "  <thead>\n",
       "    <tr style=\"text-align: right;\">\n",
       "      <th></th>\n",
       "      <th>Date</th>\n",
       "      <th>Open</th>\n",
       "      <th>High</th>\n",
       "      <th>Low</th>\n",
       "      <th>Close</th>\n",
       "      <th>Adj Close</th>\n",
       "      <th>Volume</th>\n",
       "    </tr>\n",
       "  </thead>\n",
       "  <tbody>\n",
       "    <tr>\n",
       "      <th>0</th>\n",
       "      <td>01-01-2017</td>\n",
       "      <td>963.658020</td>\n",
       "      <td>1003.080017</td>\n",
       "      <td>958.698975</td>\n",
       "      <td>998.325012</td>\n",
       "      <td>998.325012</td>\n",
       "      <td>1.477750e+08</td>\n",
       "    </tr>\n",
       "    <tr>\n",
       "      <th>1</th>\n",
       "      <td>02-01-2017</td>\n",
       "      <td>998.617004</td>\n",
       "      <td>1031.390015</td>\n",
       "      <td>996.702026</td>\n",
       "      <td>1021.750000</td>\n",
       "      <td>1021.750000</td>\n",
       "      <td>2.221850e+08</td>\n",
       "    </tr>\n",
       "    <tr>\n",
       "      <th>2</th>\n",
       "      <td>03-01-2017</td>\n",
       "      <td>1021.599976</td>\n",
       "      <td>1044.079956</td>\n",
       "      <td>1021.599976</td>\n",
       "      <td>1043.839966</td>\n",
       "      <td>1043.839966</td>\n",
       "      <td>1.851680e+08</td>\n",
       "    </tr>\n",
       "    <tr>\n",
       "      <th>3</th>\n",
       "      <td>04-01-2017</td>\n",
       "      <td>1044.400024</td>\n",
       "      <td>1159.420044</td>\n",
       "      <td>1044.400024</td>\n",
       "      <td>1154.729980</td>\n",
       "      <td>1154.729980</td>\n",
       "      <td>3.449460e+08</td>\n",
       "    </tr>\n",
       "    <tr>\n",
       "      <th>4</th>\n",
       "      <td>05-01-2017</td>\n",
       "      <td>1156.729980</td>\n",
       "      <td>1191.099976</td>\n",
       "      <td>910.416992</td>\n",
       "      <td>1013.380005</td>\n",
       "      <td>1013.380005</td>\n",
       "      <td>5.101990e+08</td>\n",
       "    </tr>\n",
       "    <tr>\n",
       "      <th>...</th>\n",
       "      <td>...</td>\n",
       "      <td>...</td>\n",
       "      <td>...</td>\n",
       "      <td>...</td>\n",
       "      <td>...</td>\n",
       "      <td>...</td>\n",
       "      <td>...</td>\n",
       "    </tr>\n",
       "    <tr>\n",
       "      <th>2611</th>\n",
       "      <td>25-02-2024</td>\n",
       "      <td>51565.214840</td>\n",
       "      <td>51950.027340</td>\n",
       "      <td>51306.171880</td>\n",
       "      <td>51733.238280</td>\n",
       "      <td>51733.238280</td>\n",
       "      <td>1.541324e+10</td>\n",
       "    </tr>\n",
       "    <tr>\n",
       "      <th>2612</th>\n",
       "      <td>26-02-2024</td>\n",
       "      <td>51730.539060</td>\n",
       "      <td>54938.175780</td>\n",
       "      <td>50931.031250</td>\n",
       "      <td>54522.402340</td>\n",
       "      <td>54522.402340</td>\n",
       "      <td>3.407441e+10</td>\n",
       "    </tr>\n",
       "    <tr>\n",
       "      <th>2613</th>\n",
       "      <td>27-02-2024</td>\n",
       "      <td>54519.363280</td>\n",
       "      <td>57537.839840</td>\n",
       "      <td>54484.199220</td>\n",
       "      <td>57085.371090</td>\n",
       "      <td>57085.371090</td>\n",
       "      <td>4.975683e+10</td>\n",
       "    </tr>\n",
       "    <tr>\n",
       "      <th>2614</th>\n",
       "      <td>28-02-2024</td>\n",
       "      <td>57071.097660</td>\n",
       "      <td>63913.132810</td>\n",
       "      <td>56738.425780</td>\n",
       "      <td>62504.789060</td>\n",
       "      <td>62504.789060</td>\n",
       "      <td>8.323916e+10</td>\n",
       "    </tr>\n",
       "    <tr>\n",
       "      <th>2615</th>\n",
       "      <td>29-02-2024</td>\n",
       "      <td>62499.183590</td>\n",
       "      <td>63585.644530</td>\n",
       "      <td>60498.730470</td>\n",
       "      <td>61198.382810</td>\n",
       "      <td>61198.382810</td>\n",
       "      <td>6.549661e+10</td>\n",
       "    </tr>\n",
       "  </tbody>\n",
       "</table>\n",
       "<p>2616 rows × 7 columns</p>\n",
       "</div>"
      ],
      "text/plain": [
       "            Date          Open          High           Low         Close  \\\n",
       "0     01-01-2017    963.658020   1003.080017    958.698975    998.325012   \n",
       "1     02-01-2017    998.617004   1031.390015    996.702026   1021.750000   \n",
       "2     03-01-2017   1021.599976   1044.079956   1021.599976   1043.839966   \n",
       "3     04-01-2017   1044.400024   1159.420044   1044.400024   1154.729980   \n",
       "4     05-01-2017   1156.729980   1191.099976    910.416992   1013.380005   \n",
       "...          ...           ...           ...           ...           ...   \n",
       "2611  25-02-2024  51565.214840  51950.027340  51306.171880  51733.238280   \n",
       "2612  26-02-2024  51730.539060  54938.175780  50931.031250  54522.402340   \n",
       "2613  27-02-2024  54519.363280  57537.839840  54484.199220  57085.371090   \n",
       "2614  28-02-2024  57071.097660  63913.132810  56738.425780  62504.789060   \n",
       "2615  29-02-2024  62499.183590  63585.644530  60498.730470  61198.382810   \n",
       "\n",
       "         Adj Close        Volume  \n",
       "0       998.325012  1.477750e+08  \n",
       "1      1021.750000  2.221850e+08  \n",
       "2      1043.839966  1.851680e+08  \n",
       "3      1154.729980  3.449460e+08  \n",
       "4      1013.380005  5.101990e+08  \n",
       "...            ...           ...  \n",
       "2611  51733.238280  1.541324e+10  \n",
       "2612  54522.402340  3.407441e+10  \n",
       "2613  57085.371090  4.975683e+10  \n",
       "2614  62504.789060  8.323916e+10  \n",
       "2615  61198.382810  6.549661e+10  \n",
       "\n",
       "[2616 rows x 7 columns]"
      ]
     },
     "execution_count": 1,
     "metadata": {},
     "output_type": "execute_result"
    }
   ],
   "source": [
    "import pandas as pd\n",
    "Bitcoin_data = pd.read_csv(\"BITCOIN_DATA.csv\")\n",
    "Bitcoin_data"
   ]
  },
  {
   "cell_type": "code",
   "execution_count": 3,
   "id": "ad374da4",
   "metadata": {},
   "outputs": [
    {
     "data": {
      "text/plain": [
       "0     998.325012\n",
       "1    1021.750000\n",
       "2    1043.839966\n",
       "3    1154.729980\n",
       "4    1013.380005\n",
       "Name: Close, dtype: float64"
      ]
     },
     "execution_count": 3,
     "metadata": {},
     "output_type": "execute_result"
    }
   ],
   "source": [
    "Data = Bitcoin_data.reset_index()[\"Close\"]\n",
    "Data.head()"
   ]
  },
  {
   "cell_type": "code",
   "execution_count": 4,
   "id": "dabae6bd",
   "metadata": {},
   "outputs": [
    {
     "data": {
      "text/plain": [
       "[<matplotlib.lines.Line2D at 0x28122bb3f90>]"
      ]
     },
     "execution_count": 4,
     "metadata": {},
     "output_type": "execute_result"
    },
    {
     "data": {
      "image/png": "[encoded data removed]",
      "text/plain": [
       "<Figure size 640x480 with 1 Axes>"
      ]
     },
     "metadata": {},
     "output_type": "display_data"
    }
   ],
   "source": [
    "import matplotlib.pyplot as plt\n",
    "plt.plot(Data)"
   ]
  },
  {
   "cell_type": "code",
   "execution_count": 5,
   "id": "943a9806",
   "metadata": {},
   "outputs": [
    {
     "data": {
      "text/plain": [
       "0         998.325012\n",
       "1        1021.750000\n",
       "2        1043.839966\n",
       "3        1154.729980\n",
       "4        1013.380005\n",
       "            ...     \n",
       "2611    51733.238280\n",
       "2612    54522.402340\n",
       "2613    57085.371090\n",
       "2614    62504.789060\n",
       "2615    61198.382810\n",
       "Name: Close, Length: 2616, dtype: float64"
      ]
     },
     "execution_count": 5,
     "metadata": {},
     "output_type": "execute_result"
    }
   ],
   "source": [
    "import numpy as np\n",
    "Data"
   ]
  },
  {
   "cell_type": "code",
   "execution_count": 6,
   "id": "1394ce70",
   "metadata": {},
   "outputs": [
    {
     "name": "stdout",
     "output_type": "stream",
     "text": [
      "[[0.00330246]\n",
      " [0.00365319]\n",
      " [0.00398393]\n",
      " ...\n",
      " [0.84306629]\n",
      " [0.92420857]\n",
      " [0.90464839]]\n"
     ]
    }
   ],
   "source": [
    "from sklearn.preprocessing import MinMaxScaler\n",
    "scalar = MinMaxScaler(feature_range = (0,1))\n",
    "Data = scalar.fit_transform(np.array(Data).reshape(-1,1))\n",
    "print(Data)"
   ]
  },
  {
   "cell_type": "code",
   "execution_count": 7,
   "id": "9cf87e6d",
   "metadata": {},
   "outputs": [
    {
     "data": {
      "text/plain": [
       "(1962, 654)"
      ]
     },
     "execution_count": 7,
     "metadata": {},
     "output_type": "execute_result"
    }
   ],
   "source": [
    "training_size = int(len(Data)*0.75)\n",
    "test_size = len(Data)-training_size\n",
    "train_data, test_data = Data[0:training_size,:], Data[training_size:len(Data),:1]\n",
    "training_size, test_size"
   ]
  },
  {
   "cell_type": "code",
   "execution_count": 8,
   "id": "b963d793",
   "metadata": {},
   "outputs": [],
   "source": [
    "import numpy\n",
    "def create_dataset(dataset, time_step=1):\n",
    "    dataX, dataY = [],[]\n",
    "    for i in range(len(dataset)-time_step-1):\n",
    "        a = dataset[i:(i+time_step), 0]\n",
    "        dataX.append(a)\n",
    "        dataY.append(dataset[i + time_step,0])\n",
    "    return numpy.array(dataX), numpy.array(dataY)"
   ]
  },
  {
   "cell_type": "code",
   "execution_count": 9,
   "id": "e6c58dd8",
   "metadata": {},
   "outputs": [],
   "source": [
    "time_step = 100\n",
    "X_train, Y_train = create_dataset(train_data, time_step)\n",
    "X_test, Y_test = create_dataset(test_data, time_step)"
   ]
  },
  {
   "cell_type": "code",
   "execution_count": 10,
   "id": "7fe7f68d",
   "metadata": {},
   "outputs": [
    {
     "name": "stdout",
     "output_type": "stream",
     "text": [
      "(1861, 100)\n",
      "(1861,)\n"
     ]
    },
    {
     "data": {
      "text/plain": [
       "(None, None)"
      ]
     },
     "execution_count": 10,
     "metadata": {},
     "output_type": "execute_result"
    }
   ],
   "source": [
    "print(X_train.shape), print(Y_train.shape)"
   ]
  },
  {
   "cell_type": "code",
   "execution_count": 11,
   "id": "98fea1f8",
   "metadata": {},
   "outputs": [
    {
     "name": "stdout",
     "output_type": "stream",
     "text": [
      "(553, 100)\n",
      "(553,)\n"
     ]
    },
    {
     "data": {
      "text/plain": [
       "(None, None)"
      ]
     },
     "execution_count": 11,
     "metadata": {},
     "output_type": "execute_result"
    }
   ],
   "source": [
    "print(X_test.shape), print(Y_test.shape)"
   ]
  },
  {
   "cell_type": "code",
   "execution_count": 12,
   "id": "b67fa6f9",
   "metadata": {},
   "outputs": [],
   "source": [
    "X_train = X_train.reshape(X_train.shape[0],X_train.shape[1],1)\n",
    "X_test = X_test.reshape(X_test.shape[0],X_test.shape[1],1)"
   ]
  },
  {
   "cell_type": "code",
   "execution_count": 13,
   "id": "30a06e1e",
   "metadata": {},
   "outputs": [],
   "source": [
    "from tensorflow.keras.models import Sequential\n",
    "from tensorflow.keras.layers import Dense\n",
    "from tensorflow.keras.layers import LSTM"
   ]
  },
  {
   "cell_type": "code",
   "execution_count": 14,
   "id": "34b009af",
   "metadata": {},
   "outputs": [
    {
     "name": "stderr",
     "output_type": "stream",
     "text": [
      "C:\\Users\\91636\\Desktop\\project\\my_kernal\\Lib\\site-packages\\keras\\src\\layers\\rnn\\rnn.py:204: UserWarning: Do not pass an `input_shape`/`input_dim` argument to a layer. When using Sequential models, prefer using an `Input(shape)` object as the first layer in the model instead.\n",
      "  super().__init__(**kwargs)\n"
     ]
    }
   ],
   "source": [
    "model = Sequential()\n",
    "model.add(LSTM(50,return_sequences=True, input_shape=(100,1)))\n",
    "model.add(LSTM(50,return_sequences=True))\n",
    "model.add(LSTM(50))\n",
    "model.add(Dense(1))\n",
    "model.compile(loss=\"mean_squared_error\",optimizer=\"adam\")"
   ]
  },
  {
   "cell_type": "code",
   "execution_count": 15,
   "id": "a22b24e9",
   "metadata": {},
   "outputs": [
    {
     "data": {
      "text/html": [
       "<pre style=\"white-space:pre;overflow-x:auto;line-height:normal;font-family:Menlo,'DejaVu Sans Mono',consolas,'Courier New',monospace\"><span style=\"font-weight: bold\">Model: \"sequential\"</span>\n",
       "</pre>\n"
      ],
      "text/plain": [
       "\u001b[1mModel: \"sequential\"\u001b[0m\n"
      ]
     },
     "metadata": {},
     "output_type": "display_data"
    },
    {
     "data": {
      "text/html": [
       "<pre style=\"white-space:pre;overflow-x:auto;line-height:normal;font-family:Menlo,'DejaVu Sans Mono',consolas,'Courier New',monospace\">┏━━━━━━━━━━━━━━━━━━━━━━━━━━━━━━━━━┳━━━━━━━━━━━━━━━━━━━━━━━━┳━━━━━━━━━━━━━━━┓\n",
       "┃<span style=\"font-weight: bold\"> Layer (type)                    </span>┃<span style=\"font-weight: bold\"> Output Shape           </span>┃<span style=\"font-weight: bold\">       Param # </span>┃\n",
       "┡━━━━━━━━━━━━━━━━━━━━━━━━━━━━━━━━━╇━━━━━━━━━━━━━━━━━━━━━━━━╇━━━━━━━━━━━━━━━┩\n",
       "│ lstm (<span style=\"color: #0087ff; text-decoration-color: #0087ff\">LSTM</span>)                     │ (<span style=\"color: #00d7ff; text-decoration-color: #00d7ff\">None</span>, <span style=\"color: #00af00; text-decoration-color: #00af00\">100</span>, <span style=\"color: #00af00; text-decoration-color: #00af00\">50</span>)        │        <span style=\"color: #00af00; text-decoration-color: #00af00\">10,400</span> │\n",
       "├─────────────────────────────────┼────────────────────────┼───────────────┤\n",
       "│ lstm_1 (<span style=\"color: #0087ff; text-decoration-color: #0087ff\">LSTM</span>)                   │ (<span style=\"color: #00d7ff; text-decoration-color: #00d7ff\">None</span>, <span style=\"color: #00af00; text-decoration-color: #00af00\">100</span>, <span style=\"color: #00af00; text-decoration-color: #00af00\">50</span>)        │        <span style=\"color: #00af00; text-decoration-color: #00af00\">20,200</span> │\n",
       "├─────────────────────────────────┼────────────────────────┼───────────────┤\n",
       "│ lstm_2 (<span style=\"color: #0087ff; text-decoration-color: #0087ff\">LSTM</span>)                   │ (<span style=\"color: #00d7ff; text-decoration-color: #00d7ff\">None</span>, <span style=\"color: #00af00; text-decoration-color: #00af00\">50</span>)             │        <span style=\"color: #00af00; text-decoration-color: #00af00\">20,200</span> │\n",
       "├─────────────────────────────────┼────────────────────────┼───────────────┤\n",
       "│ dense (<span style=\"color: #0087ff; text-decoration-color: #0087ff\">Dense</span>)                   │ (<span style=\"color: #00d7ff; text-decoration-color: #00d7ff\">None</span>, <span style=\"color: #00af00; text-decoration-color: #00af00\">1</span>)              │            <span style=\"color: #00af00; text-decoration-color: #00af00\">51</span> │\n",
       "└─────────────────────────────────┴────────────────────────┴───────────────┘\n",
       "</pre>\n"
      ],
      "text/plain": [
       "┏━━━━━━━━━━━━━━━━━━━━━━━━━━━━━━━━━┳━━━━━━━━━━━━━━━━━━━━━━━━┳━━━━━━━━━━━━━━━┓\n",
       "┃\u001b[1m \u001b[0m\u001b[1mLayer (type)                   \u001b[0m\u001b[1m \u001b[0m┃\u001b[1m \u001b[0m\u001b[1mOutput Shape          \u001b[0m\u001b[1m \u001b[0m┃\u001b[1m \u001b[0m\u001b[1m      Param #\u001b[0m\u001b[1m \u001b[0m┃\n",
       "┡━━━━━━━━━━━━━━━━━━━━━━━━━━━━━━━━━╇━━━━━━━━━━━━━━━━━━━━━━━━╇━━━━━━━━━━━━━━━┩\n",
       "│ lstm (\u001b[38;5;33mLSTM\u001b[0m)                     │ (\u001b[38;5;45mNone\u001b[0m, \u001b[38;5;34m100\u001b[0m, \u001b[38;5;34m50\u001b[0m)        │        \u001b[38;5;34m10,400\u001b[0m │\n",
       "├─────────────────────────────────┼────────────────────────┼───────────────┤\n",
       "│ lstm_1 (\u001b[38;5;33mLSTM\u001b[0m)                   │ (\u001b[38;5;45mNone\u001b[0m, \u001b[38;5;34m100\u001b[0m, \u001b[38;5;34m50\u001b[0m)        │        \u001b[38;5;34m20,200\u001b[0m │\n",
       "├─────────────────────────────────┼────────────────────────┼───────────────┤\n",
       "│ lstm_2 (\u001b[38;5;33mLSTM\u001b[0m)                   │ (\u001b[38;5;45mNone\u001b[0m, \u001b[38;5;34m50\u001b[0m)             │        \u001b[38;5;34m20,200\u001b[0m │\n",
       "├─────────────────────────────────┼────────────────────────┼───────────────┤\n",
       "│ dense (\u001b[38;5;33mDense\u001b[0m)                   │ (\u001b[38;5;45mNone\u001b[0m, \u001b[38;5;34m1\u001b[0m)              │            \u001b[38;5;34m51\u001b[0m │\n",
       "└─────────────────────────────────┴────────────────────────┴───────────────┘\n"
      ]
     },
     "metadata": {},
     "output_type": "display_data"
    },
    {
     "data": {
      "text/html": [
       "<pre style=\"white-space:pre;overflow-x:auto;line-height:normal;font-family:Menlo,'DejaVu Sans Mono',consolas,'Courier New',monospace\"><span style=\"font-weight: bold\"> Total params: </span><span style=\"color: #00af00; text-decoration-color: #00af00\">50,851</span> (198.64 KB)\n",
       "</pre>\n"
      ],
      "text/plain": [
       "\u001b[1m Total params: \u001b[0m\u001b[38;5;34m50,851\u001b[0m (198.64 KB)\n"
      ]
     },
     "metadata": {},
     "output_type": "display_data"
    },
    {
     "data": {
      "text/html": [
       "<pre style=\"white-space:pre;overflow-x:auto;line-height:normal;font-family:Menlo,'DejaVu Sans Mono',consolas,'Courier New',monospace\"><span style=\"font-weight: bold\"> Trainable params: </span><span style=\"color: #00af00; text-decoration-color: #00af00\">50,851</span> (198.64 KB)\n",
       "</pre>\n"
      ],
      "text/plain": [
       "\u001b[1m Trainable params: \u001b[0m\u001b[38;5;34m50,851\u001b[0m (198.64 KB)\n"
      ]
     },
     "metadata": {},
     "output_type": "display_data"
    },
    {
     "data": {
      "text/html": [
       "<pre style=\"white-space:pre;overflow-x:auto;line-height:normal;font-family:Menlo,'DejaVu Sans Mono',consolas,'Courier New',monospace\"><span style=\"font-weight: bold\"> Non-trainable params: </span><span style=\"color: #00af00; text-decoration-color: #00af00\">0</span> (0.00 B)\n",
       "</pre>\n"
      ],
      "text/plain": [
       "\u001b[1m Non-trainable params: \u001b[0m\u001b[38;5;34m0\u001b[0m (0.00 B)\n"
      ]
     },
     "metadata": {},
     "output_type": "display_data"
    }
   ],
   "source": [
    "model.summary()"
   ]
  },
  {
   "cell_type": "code",
   "execution_count": 16,
   "id": "89caa2bb",
   "metadata": {},
   "outputs": [
    {
     "name": "stdout",
     "output_type": "stream",
     "text": [
      "Epoch 1/100\n",
      "\u001b[1m30/30\u001b[0m \u001b[32m━━━━━━━━━━━━━━━━━━━━\u001b[0m\u001b[37m\u001b[0m \u001b[1m5s\u001b[0m 81ms/step - loss: 0.0351 - val_loss: 0.0069\n",
      "Epoch 2/100\n",
      "\u001b[1m30/30\u001b[0m \u001b[32m━━━━━━━━━━━━━━━━━━━━\u001b[0m\u001b[37m\u001b[0m \u001b[1m2s\u001b[0m 70ms/step - loss: 0.0030 - val_loss: 0.0013\n",
      "Epoch 3/100\n",
      "\u001b[1m30/30\u001b[0m \u001b[32m━━━━━━━━━━━━━━━━━━━━\u001b[0m\u001b[37m\u001b[0m \u001b[1m2s\u001b[0m 69ms/step - loss: 0.0018 - val_loss: 0.0013\n",
      "Epoch 4/100\n",
      "\u001b[1m30/30\u001b[0m \u001b[32m━━━━━━━━━━━━━━━━━━━━\u001b[0m\u001b[37m\u001b[0m \u001b[1m2s\u001b[0m 69ms/step - loss: 0.0020 - val_loss: 0.0011\n",
      "Epoch 5/100\n",
      "\u001b[1m30/30\u001b[0m \u001b[32m━━━━━━━━━━━━━━━━━━━━\u001b[0m\u001b[37m\u001b[0m \u001b[1m2s\u001b[0m 69ms/step - loss: 0.0016 - val_loss: 0.0010\n",
      "Epoch 6/100\n",
      "\u001b[1m30/30\u001b[0m \u001b[32m━━━━━━━━━━━━━━━━━━━━\u001b[0m\u001b[37m\u001b[0m \u001b[1m2s\u001b[0m 69ms/step - loss: 0.0015 - val_loss: 0.0011\n",
      "Epoch 7/100\n",
      "\u001b[1m30/30\u001b[0m \u001b[32m━━━━━━━━━━━━━━━━━━━━\u001b[0m\u001b[37m\u001b[0m \u001b[1m2s\u001b[0m 72ms/step - loss: 0.0014 - val_loss: 0.0016\n",
      "Epoch 8/100\n",
      "\u001b[1m30/30\u001b[0m \u001b[32m━━━━━━━━━━━━━━━━━━━━\u001b[0m\u001b[37m\u001b[0m \u001b[1m2s\u001b[0m 70ms/step - loss: 0.0017 - val_loss: 8.6665e-04\n",
      "Epoch 9/100\n",
      "\u001b[1m30/30\u001b[0m \u001b[32m━━━━━━━━━━━━━━━━━━━━\u001b[0m\u001b[37m\u001b[0m \u001b[1m2s\u001b[0m 71ms/step - loss: 0.0012 - val_loss: 7.3766e-04\n",
      "Epoch 10/100\n",
      "\u001b[1m30/30\u001b[0m \u001b[32m━━━━━━━━━━━━━━━━━━━━\u001b[0m\u001b[37m\u001b[0m \u001b[1m2s\u001b[0m 72ms/step - loss: 0.0011 - val_loss: 8.4381e-04\n",
      "Epoch 11/100\n",
      "\u001b[1m30/30\u001b[0m \u001b[32m━━━━━━━━━━━━━━━━━━━━\u001b[0m\u001b[37m\u001b[0m \u001b[1m2s\u001b[0m 72ms/step - loss: 0.0011 - val_loss: 7.0691e-04\n",
      "Epoch 12/100\n",
      "\u001b[1m30/30\u001b[0m \u001b[32m━━━━━━━━━━━━━━━━━━━━\u001b[0m\u001b[37m\u001b[0m \u001b[1m2s\u001b[0m 73ms/step - loss: 0.0010 - val_loss: 8.2013e-04\n",
      "Epoch 13/100\n",
      "\u001b[1m30/30\u001b[0m \u001b[32m━━━━━━━━━━━━━━━━━━━━\u001b[0m\u001b[37m\u001b[0m \u001b[1m2s\u001b[0m 71ms/step - loss: 9.8835e-04 - val_loss: 9.3984e-04\n",
      "Epoch 14/100\n",
      "\u001b[1m30/30\u001b[0m \u001b[32m━━━━━━━━━━━━━━━━━━━━\u001b[0m\u001b[37m\u001b[0m \u001b[1m2s\u001b[0m 74ms/step - loss: 0.0012 - val_loss: 8.0277e-04\n",
      "Epoch 15/100\n",
      "\u001b[1m30/30\u001b[0m \u001b[32m━━━━━━━━━━━━━━━━━━━━\u001b[0m\u001b[37m\u001b[0m \u001b[1m2s\u001b[0m 72ms/step - loss: 0.0011 - val_loss: 6.8373e-04\n",
      "Epoch 16/100\n",
      "\u001b[1m30/30\u001b[0m \u001b[32m━━━━━━━━━━━━━━━━━━━━\u001b[0m\u001b[37m\u001b[0m \u001b[1m2s\u001b[0m 72ms/step - loss: 9.5790e-04 - val_loss: 8.0585e-04\n",
      "Epoch 17/100\n",
      "\u001b[1m30/30\u001b[0m \u001b[32m━━━━━━━━━━━━━━━━━━━━\u001b[0m\u001b[37m\u001b[0m \u001b[1m2s\u001b[0m 72ms/step - loss: 0.0011 - val_loss: 0.0012\n",
      "Epoch 18/100\n",
      "\u001b[1m30/30\u001b[0m \u001b[32m━━━━━━━━━━━━━━━━━━━━\u001b[0m\u001b[37m\u001b[0m \u001b[1m2s\u001b[0m 72ms/step - loss: 8.9430e-04 - val_loss: 0.0013\n",
      "Epoch 19/100\n",
      "\u001b[1m30/30\u001b[0m \u001b[32m━━━━━━━━━━━━━━━━━━━━\u001b[0m\u001b[37m\u001b[0m \u001b[1m2s\u001b[0m 72ms/step - loss: 0.0012 - val_loss: 0.0011\n",
      "Epoch 20/100\n",
      "\u001b[1m30/30\u001b[0m \u001b[32m━━━━━━━━━━━━━━━━━━━━\u001b[0m\u001b[37m\u001b[0m \u001b[1m2s\u001b[0m 72ms/step - loss: 7.8390e-04 - val_loss: 4.6130e-04\n",
      "Epoch 21/100\n",
      "\u001b[1m30/30\u001b[0m \u001b[32m━━━━━━━━━━━━━━━━━━━━\u001b[0m\u001b[37m\u001b[0m \u001b[1m2s\u001b[0m 72ms/step - loss: 6.4592e-04 - val_loss: 4.7704e-04\n",
      "Epoch 22/100\n",
      "\u001b[1m30/30\u001b[0m \u001b[32m━━━━━━━━━━━━━━━━━━━━\u001b[0m\u001b[37m\u001b[0m \u001b[1m2s\u001b[0m 74ms/step - loss: 6.8392e-04 - val_loss: 4.4179e-04\n",
      "Epoch 23/100\n",
      "\u001b[1m30/30\u001b[0m \u001b[32m━━━━━━━━━━━━━━━━━━━━\u001b[0m\u001b[37m\u001b[0m \u001b[1m2s\u001b[0m 73ms/step - loss: 5.3023e-04 - val_loss: 0.0011\n",
      "Epoch 24/100\n",
      "\u001b[1m30/30\u001b[0m \u001b[32m━━━━━━━━━━━━━━━━━━━━\u001b[0m\u001b[37m\u001b[0m \u001b[1m2s\u001b[0m 73ms/step - loss: 6.5144e-04 - val_loss: 0.0011\n",
      "Epoch 25/100\n",
      "\u001b[1m30/30\u001b[0m \u001b[32m━━━━━━━━━━━━━━━━━━━━\u001b[0m\u001b[37m\u001b[0m \u001b[1m2s\u001b[0m 73ms/step - loss: 8.2890e-04 - val_loss: 7.2896e-04\n",
      "Epoch 26/100\n",
      "\u001b[1m30/30\u001b[0m \u001b[32m━━━━━━━━━━━━━━━━━━━━\u001b[0m\u001b[37m\u001b[0m \u001b[1m2s\u001b[0m 72ms/step - loss: 5.7420e-04 - val_loss: 4.6007e-04\n",
      "Epoch 27/100\n",
      "\u001b[1m30/30\u001b[0m \u001b[32m━━━━━━━━━━━━━━━━━━━━\u001b[0m\u001b[37m\u001b[0m \u001b[1m2s\u001b[0m 73ms/step - loss: 5.1510e-04 - val_loss: 8.5123e-04\n",
      "Epoch 28/100\n",
      "\u001b[1m30/30\u001b[0m \u001b[32m━━━━━━━━━━━━━━━━━━━━\u001b[0m\u001b[37m\u001b[0m \u001b[1m2s\u001b[0m 71ms/step - loss: 6.2421e-04 - val_loss: 5.2293e-04\n",
      "Epoch 29/100\n",
      "\u001b[1m30/30\u001b[0m \u001b[32m━━━━━━━━━━━━━━━━━━━━\u001b[0m\u001b[37m\u001b[0m \u001b[1m2s\u001b[0m 71ms/step - loss: 4.4196e-04 - val_loss: 6.4298e-04\n",
      "Epoch 30/100\n",
      "\u001b[1m30/30\u001b[0m \u001b[32m━━━━━━━━━━━━━━━━━━━━\u001b[0m\u001b[37m\u001b[0m \u001b[1m2s\u001b[0m 71ms/step - loss: 6.6409e-04 - val_loss: 4.7952e-04\n",
      "Epoch 31/100\n",
      "\u001b[1m30/30\u001b[0m \u001b[32m━━━━━━━━━━━━━━━━━━━━\u001b[0m\u001b[37m\u001b[0m \u001b[1m2s\u001b[0m 73ms/step - loss: 5.5236e-04 - val_loss: 3.4712e-04\n",
      "Epoch 32/100\n",
      "\u001b[1m30/30\u001b[0m \u001b[32m━━━━━━━━━━━━━━━━━━━━\u001b[0m\u001b[37m\u001b[0m \u001b[1m2s\u001b[0m 73ms/step - loss: 4.4628e-04 - val_loss: 3.1905e-04\n",
      "Epoch 33/100\n",
      "\u001b[1m30/30\u001b[0m \u001b[32m━━━━━━━━━━━━━━━━━━━━\u001b[0m\u001b[37m\u001b[0m \u001b[1m2s\u001b[0m 71ms/step - loss: 4.3808e-04 - val_loss: 3.3073e-04\n",
      "Epoch 34/100\n",
      "\u001b[1m30/30\u001b[0m \u001b[32m━━━━━━━━━━━━━━━━━━━━\u001b[0m\u001b[37m\u001b[0m \u001b[1m2s\u001b[0m 72ms/step - loss: 4.4940e-04 - val_loss: 4.7588e-04\n",
      "Epoch 35/100\n",
      "\u001b[1m30/30\u001b[0m \u001b[32m━━━━━━━━━━━━━━━━━━━━\u001b[0m\u001b[37m\u001b[0m \u001b[1m2s\u001b[0m 71ms/step - loss: 4.6803e-04 - val_loss: 4.8571e-04\n",
      "Epoch 36/100\n",
      "\u001b[1m30/30\u001b[0m \u001b[32m━━━━━━━━━━━━━━━━━━━━\u001b[0m\u001b[37m\u001b[0m \u001b[1m2s\u001b[0m 73ms/step - loss: 4.0592e-04 - val_loss: 3.1019e-04\n",
      "Epoch 37/100\n",
      "\u001b[1m30/30\u001b[0m \u001b[32m━━━━━━━━━━━━━━━━━━━━\u001b[0m\u001b[37m\u001b[0m \u001b[1m2s\u001b[0m 73ms/step - loss: 3.8987e-04 - val_loss: 5.1627e-04\n",
      "Epoch 38/100\n",
      "\u001b[1m30/30\u001b[0m \u001b[32m━━━━━━━━━━━━━━━━━━━━\u001b[0m\u001b[37m\u001b[0m \u001b[1m2s\u001b[0m 71ms/step - loss: 4.8135e-04 - val_loss: 6.1278e-04\n",
      "Epoch 39/100\n",
      "\u001b[1m30/30\u001b[0m \u001b[32m━━━━━━━━━━━━━━━━━━━━\u001b[0m\u001b[37m\u001b[0m \u001b[1m2s\u001b[0m 72ms/step - loss: 4.3734e-04 - val_loss: 3.3173e-04\n",
      "Epoch 40/100\n",
      "\u001b[1m30/30\u001b[0m \u001b[32m━━━━━━━━━━━━━━━━━━━━\u001b[0m\u001b[37m\u001b[0m \u001b[1m2s\u001b[0m 73ms/step - loss: 4.3890e-04 - val_loss: 7.6230e-04\n",
      "Epoch 41/100\n",
      "\u001b[1m30/30\u001b[0m \u001b[32m━━━━━━━━━━━━━━━━━━━━\u001b[0m\u001b[37m\u001b[0m \u001b[1m2s\u001b[0m 72ms/step - loss: 5.8230e-04 - val_loss: 3.0745e-04\n",
      "Epoch 42/100\n",
      "\u001b[1m30/30\u001b[0m \u001b[32m━━━━━━━━━━━━━━━━━━━━\u001b[0m\u001b[37m\u001b[0m \u001b[1m2s\u001b[0m 72ms/step - loss: 4.2657e-04 - val_loss: 2.5480e-04\n",
      "Epoch 43/100\n",
      "\u001b[1m30/30\u001b[0m \u001b[32m━━━━━━━━━━━━━━━━━━━━\u001b[0m\u001b[37m\u001b[0m \u001b[1m2s\u001b[0m 72ms/step - loss: 3.5530e-04 - val_loss: 3.7086e-04\n",
      "Epoch 44/100\n",
      "\u001b[1m30/30\u001b[0m \u001b[32m━━━━━━━━━━━━━━━━━━━━\u001b[0m\u001b[37m\u001b[0m \u001b[1m2s\u001b[0m 74ms/step - loss: 4.3966e-04 - val_loss: 4.2563e-04\n",
      "Epoch 45/100\n",
      "\u001b[1m30/30\u001b[0m \u001b[32m━━━━━━━━━━━━━━━━━━━━\u001b[0m\u001b[37m\u001b[0m \u001b[1m2s\u001b[0m 71ms/step - loss: 4.3057e-04 - val_loss: 8.9770e-04\n",
      "Epoch 46/100\n",
      "\u001b[1m30/30\u001b[0m \u001b[32m━━━━━━━━━━━━━━━━━━━━\u001b[0m\u001b[37m\u001b[0m \u001b[1m2s\u001b[0m 72ms/step - loss: 5.1950e-04 - val_loss: 3.6651e-04\n",
      "Epoch 47/100\n",
      "\u001b[1m30/30\u001b[0m \u001b[32m━━━━━━━━━━━━━━━━━━━━\u001b[0m\u001b[37m\u001b[0m \u001b[1m2s\u001b[0m 72ms/step - loss: 3.9832e-04 - val_loss: 3.3669e-04\n",
      "Epoch 48/100\n",
      "\u001b[1m30/30\u001b[0m \u001b[32m━━━━━━━━━━━━━━━━━━━━\u001b[0m\u001b[37m\u001b[0m \u001b[1m2s\u001b[0m 72ms/step - loss: 3.6237e-04 - val_loss: 5.5477e-04\n",
      "Epoch 49/100\n",
      "\u001b[1m30/30\u001b[0m \u001b[32m━━━━━━━━━━━━━━━━━━━━\u001b[0m\u001b[37m\u001b[0m \u001b[1m3s\u001b[0m 87ms/step - loss: 3.7463e-04 - val_loss: 5.9526e-04\n",
      "Epoch 50/100\n",
      "\u001b[1m30/30\u001b[0m \u001b[32m━━━━━━━━━━━━━━━━━━━━\u001b[0m\u001b[37m\u001b[0m \u001b[1m3s\u001b[0m 89ms/step - loss: 5.4748e-04 - val_loss: 2.7267e-04\n",
      "Epoch 51/100\n",
      "\u001b[1m30/30\u001b[0m \u001b[32m━━━━━━━━━━━━━━━━━━━━\u001b[0m\u001b[37m\u001b[0m \u001b[1m3s\u001b[0m 84ms/step - loss: 3.5772e-04 - val_loss: 2.1721e-04\n",
      "Epoch 52/100\n",
      "\u001b[1m30/30\u001b[0m \u001b[32m━━━━━━━━━━━━━━━━━━━━\u001b[0m\u001b[37m\u001b[0m \u001b[1m2s\u001b[0m 76ms/step - loss: 2.9044e-04 - val_loss: 2.2598e-04\n",
      "Epoch 53/100\n",
      "\u001b[1m30/30\u001b[0m \u001b[32m━━━━━━━━━━━━━━━━━━━━\u001b[0m\u001b[37m\u001b[0m \u001b[1m3s\u001b[0m 87ms/step - loss: 3.3606e-04 - val_loss: 2.1026e-04\n",
      "Epoch 54/100\n",
      "\u001b[1m30/30\u001b[0m \u001b[32m━━━━━━━━━━━━━━━━━━━━\u001b[0m\u001b[37m\u001b[0m \u001b[1m2s\u001b[0m 82ms/step - loss: 2.9926e-04 - val_loss: 2.1198e-04\n",
      "Epoch 55/100\n",
      "\u001b[1m30/30\u001b[0m \u001b[32m━━━━━━━━━━━━━━━━━━━━\u001b[0m\u001b[37m\u001b[0m \u001b[1m2s\u001b[0m 71ms/step - loss: 3.1053e-04 - val_loss: 3.5280e-04\n",
      "Epoch 56/100\n",
      "\u001b[1m30/30\u001b[0m \u001b[32m━━━━━━━━━━━━━━━━━━━━\u001b[0m\u001b[37m\u001b[0m \u001b[1m2s\u001b[0m 79ms/step - loss: 3.0788e-04 - val_loss: 2.9718e-04\n",
      "Epoch 57/100\n",
      "\u001b[1m30/30\u001b[0m \u001b[32m━━━━━━━━━━━━━━━━━━━━\u001b[0m\u001b[37m\u001b[0m \u001b[1m3s\u001b[0m 96ms/step - loss: 6.2675e-04 - val_loss: 2.7452e-04\n",
      "Epoch 58/100\n",
      "\u001b[1m30/30\u001b[0m \u001b[32m━━━━━━━━━━━━━━━━━━━━\u001b[0m\u001b[37m\u001b[0m \u001b[1m4s\u001b[0m 115ms/step - loss: 3.1244e-04 - val_loss: 1.8966e-04\n",
      "Epoch 59/100\n",
      "\u001b[1m30/30\u001b[0m \u001b[32m━━━━━━━━━━━━━━━━━━━━\u001b[0m\u001b[37m\u001b[0m \u001b[1m3s\u001b[0m 97ms/step - loss: 3.7150e-04 - val_loss: 2.5038e-04\n",
      "Epoch 60/100\n",
      "\u001b[1m30/30\u001b[0m \u001b[32m━━━━━━━━━━━━━━━━━━━━\u001b[0m\u001b[37m\u001b[0m \u001b[1m3s\u001b[0m 107ms/step - loss: 2.7604e-04 - val_loss: 1.8029e-04\n",
      "Epoch 61/100\n",
      "\u001b[1m30/30\u001b[0m \u001b[32m━━━━━━━━━━━━━━━━━━━━\u001b[0m\u001b[37m\u001b[0m \u001b[1m3s\u001b[0m 115ms/step - loss: 3.1550e-04 - val_loss: 2.5011e-04\n",
      "Epoch 62/100\n",
      "\u001b[1m30/30\u001b[0m \u001b[32m━━━━━━━━━━━━━━━━━━━━\u001b[0m\u001b[37m\u001b[0m \u001b[1m3s\u001b[0m 100ms/step - loss: 3.3128e-04 - val_loss: 2.0197e-04\n",
      "Epoch 63/100\n",
      "\u001b[1m30/30\u001b[0m \u001b[32m━━━━━━━━━━━━━━━━━━━━\u001b[0m\u001b[37m\u001b[0m \u001b[1m3s\u001b[0m 82ms/step - loss: 3.3390e-04 - val_loss: 1.7368e-04\n",
      "Epoch 64/100\n",
      "\u001b[1m30/30\u001b[0m \u001b[32m━━━━━━━━━━━━━━━━━━━━\u001b[0m\u001b[37m\u001b[0m \u001b[1m2s\u001b[0m 74ms/step - loss: 2.7340e-04 - val_loss: 2.6484e-04\n",
      "Epoch 65/100\n",
      "\u001b[1m30/30\u001b[0m \u001b[32m━━━━━━━━━━━━━━━━━━━━\u001b[0m\u001b[37m\u001b[0m \u001b[1m2s\u001b[0m 71ms/step - loss: 3.6789e-04 - val_loss: 0.0012\n",
      "Epoch 66/100\n",
      "\u001b[1m30/30\u001b[0m \u001b[32m━━━━━━━━━━━━━━━━━━━━\u001b[0m\u001b[37m\u001b[0m \u001b[1m3s\u001b[0m 100ms/step - loss: 5.6357e-04 - val_loss: 2.3998e-04\n",
      "Epoch 67/100\n",
      "\u001b[1m30/30\u001b[0m \u001b[32m━━━━━━━━━━━━━━━━━━━━\u001b[0m\u001b[37m\u001b[0m \u001b[1m3s\u001b[0m 93ms/step - loss: 2.8738e-04 - val_loss: 6.6796e-04\n",
      "Epoch 68/100\n",
      "\u001b[1m30/30\u001b[0m \u001b[32m━━━━━━━━━━━━━━━━━━━━\u001b[0m\u001b[37m\u001b[0m \u001b[1m3s\u001b[0m 109ms/step - loss: 3.8888e-04 - val_loss: 1.7571e-04\n",
      "Epoch 69/100\n",
      "\u001b[1m30/30\u001b[0m \u001b[32m━━━━━━━━━━━━━━━━━━━━\u001b[0m\u001b[37m\u001b[0m \u001b[1m3s\u001b[0m 109ms/step - loss: 2.6476e-04 - val_loss: 1.7229e-04\n",
      "Epoch 70/100\n",
      "\u001b[1m30/30\u001b[0m \u001b[32m━━━━━━━━━━━━━━━━━━━━\u001b[0m\u001b[37m\u001b[0m \u001b[1m3s\u001b[0m 109ms/step - loss: 2.5876e-04 - val_loss: 1.6309e-04\n",
      "Epoch 71/100\n",
      "\u001b[1m30/30\u001b[0m \u001b[32m━━━━━━━━━━━━━━━━━━━━\u001b[0m\u001b[37m\u001b[0m \u001b[1m3s\u001b[0m 114ms/step - loss: 3.0263e-04 - val_loss: 1.9747e-04\n",
      "Epoch 72/100\n",
      "\u001b[1m30/30\u001b[0m \u001b[32m━━━━━━━━━━━━━━━━━━━━\u001b[0m\u001b[37m\u001b[0m \u001b[1m3s\u001b[0m 110ms/step - loss: 2.6167e-04 - val_loss: 1.8779e-04\n",
      "Epoch 73/100\n",
      "\u001b[1m30/30\u001b[0m \u001b[32m━━━━━━━━━━━━━━━━━━━━\u001b[0m\u001b[37m\u001b[0m \u001b[1m3s\u001b[0m 105ms/step - loss: 2.7592e-04 - val_loss: 1.6094e-04\n",
      "Epoch 74/100\n",
      "\u001b[1m30/30\u001b[0m \u001b[32m━━━━━━━━━━━━━━━━━━━━\u001b[0m\u001b[37m\u001b[0m \u001b[1m2s\u001b[0m 79ms/step - loss: 2.6912e-04 - val_loss: 7.1372e-04\n",
      "Epoch 75/100\n",
      "\u001b[1m30/30\u001b[0m \u001b[32m━━━━━━━━━━━━━━━━━━━━\u001b[0m\u001b[37m\u001b[0m \u001b[1m2s\u001b[0m 75ms/step - loss: 4.8183e-04 - val_loss: 1.9666e-04\n",
      "Epoch 76/100\n",
      "\u001b[1m30/30\u001b[0m \u001b[32m━━━━━━━━━━━━━━━━━━━━\u001b[0m\u001b[37m\u001b[0m \u001b[1m2s\u001b[0m 72ms/step - loss: 2.4756e-04 - val_loss: 1.8039e-04\n",
      "Epoch 77/100\n",
      "\u001b[1m30/30\u001b[0m \u001b[32m━━━━━━━━━━━━━━━━━━━━\u001b[0m\u001b[37m\u001b[0m \u001b[1m2s\u001b[0m 71ms/step - loss: 2.6673e-04 - val_loss: 2.0945e-04\n",
      "Epoch 78/100\n",
      "\u001b[1m30/30\u001b[0m \u001b[32m━━━━━━━━━━━━━━━━━━━━\u001b[0m\u001b[37m\u001b[0m \u001b[1m2s\u001b[0m 72ms/step - loss: 2.9404e-04 - val_loss: 2.7880e-04\n",
      "Epoch 79/100\n",
      "\u001b[1m30/30\u001b[0m \u001b[32m━━━━━━━━━━━━━━━━━━━━\u001b[0m\u001b[37m\u001b[0m \u001b[1m2s\u001b[0m 71ms/step - loss: 2.6659e-04 - val_loss: 2.4605e-04\n",
      "Epoch 80/100\n",
      "\u001b[1m30/30\u001b[0m \u001b[32m━━━━━━━━━━━━━━━━━━━━\u001b[0m\u001b[37m\u001b[0m \u001b[1m2s\u001b[0m 71ms/step - loss: 2.4346e-04 - val_loss: 3.6493e-04\n",
      "Epoch 81/100\n",
      "\u001b[1m30/30\u001b[0m \u001b[32m━━━━━━━━━━━━━━━━━━━━\u001b[0m\u001b[37m\u001b[0m \u001b[1m2s\u001b[0m 71ms/step - loss: 3.1085e-04 - val_loss: 2.0773e-04\n",
      "Epoch 82/100\n",
      "\u001b[1m30/30\u001b[0m \u001b[32m━━━━━━━━━━━━━━━━━━━━\u001b[0m\u001b[37m\u001b[0m \u001b[1m2s\u001b[0m 72ms/step - loss: 3.0232e-04 - val_loss: 1.7916e-04\n",
      "Epoch 83/100\n",
      "\u001b[1m30/30\u001b[0m \u001b[32m━━━━━━━━━━━━━━━━━━━━\u001b[0m\u001b[37m\u001b[0m \u001b[1m2s\u001b[0m 71ms/step - loss: 3.0589e-04 - val_loss: 2.0692e-04\n",
      "Epoch 84/100\n",
      "\u001b[1m30/30\u001b[0m \u001b[32m━━━━━━━━━━━━━━━━━━━━\u001b[0m\u001b[37m\u001b[0m \u001b[1m2s\u001b[0m 71ms/step - loss: 2.3271e-04 - val_loss: 1.7166e-04\n",
      "Epoch 85/100\n",
      "\u001b[1m30/30\u001b[0m \u001b[32m━━━━━━━━━━━━━━━━━━━━\u001b[0m\u001b[37m\u001b[0m \u001b[1m2s\u001b[0m 70ms/step - loss: 2.6322e-04 - val_loss: 4.0038e-04\n",
      "Epoch 86/100\n",
      "\u001b[1m30/30\u001b[0m \u001b[32m━━━━━━━━━━━━━━━━━━━━\u001b[0m\u001b[37m\u001b[0m \u001b[1m2s\u001b[0m 72ms/step - loss: 3.8115e-04 - val_loss: 1.7607e-04\n",
      "Epoch 87/100\n",
      "\u001b[1m30/30\u001b[0m \u001b[32m━━━━━━━━━━━━━━━━━━━━\u001b[0m\u001b[37m\u001b[0m \u001b[1m2s\u001b[0m 73ms/step - loss: 2.6525e-04 - val_loss: 1.7644e-04\n",
      "Epoch 88/100\n",
      "\u001b[1m30/30\u001b[0m \u001b[32m━━━━━━━━━━━━━━━━━━━━\u001b[0m\u001b[37m\u001b[0m \u001b[1m2s\u001b[0m 72ms/step - loss: 2.5187e-04 - val_loss: 2.5897e-04\n",
      "Epoch 89/100\n",
      "\u001b[1m30/30\u001b[0m \u001b[32m━━━━━━━━━━━━━━━━━━━━\u001b[0m\u001b[37m\u001b[0m \u001b[1m2s\u001b[0m 72ms/step - loss: 2.9535e-04 - val_loss: 1.7973e-04\n",
      "Epoch 90/100\n",
      "\u001b[1m30/30\u001b[0m \u001b[32m━━━━━━━━━━━━━━━━━━━━\u001b[0m\u001b[37m\u001b[0m \u001b[1m2s\u001b[0m 75ms/step - loss: 2.5626e-04 - val_loss: 1.7676e-04\n",
      "Epoch 91/100\n",
      "\u001b[1m30/30\u001b[0m \u001b[32m━━━━━━━━━━━━━━━━━━━━\u001b[0m\u001b[37m\u001b[0m \u001b[1m2s\u001b[0m 71ms/step - loss: 2.9258e-04 - val_loss: 2.1297e-04\n",
      "Epoch 92/100\n",
      "\u001b[1m30/30\u001b[0m \u001b[32m━━━━━━━━━━━━━━━━━━━━\u001b[0m\u001b[37m\u001b[0m \u001b[1m2s\u001b[0m 83ms/step - loss: 2.4901e-04 - val_loss: 1.4896e-04\n",
      "Epoch 93/100\n",
      "\u001b[1m30/30\u001b[0m \u001b[32m━━━━━━━━━━━━━━━━━━━━\u001b[0m\u001b[37m\u001b[0m \u001b[1m2s\u001b[0m 72ms/step - loss: 2.6532e-04 - val_loss: 1.5750e-04\n",
      "Epoch 94/100\n",
      "\u001b[1m30/30\u001b[0m \u001b[32m━━━━━━━━━━━━━━━━━━━━\u001b[0m\u001b[37m\u001b[0m \u001b[1m2s\u001b[0m 81ms/step - loss: 2.4723e-04 - val_loss: 2.1895e-04\n",
      "Epoch 95/100\n",
      "\u001b[1m30/30\u001b[0m \u001b[32m━━━━━━━━━━━━━━━━━━━━\u001b[0m\u001b[37m\u001b[0m \u001b[1m2s\u001b[0m 77ms/step - loss: 2.9071e-04 - val_loss: 1.5019e-04\n",
      "Epoch 96/100\n",
      "\u001b[1m30/30\u001b[0m \u001b[32m━━━━━━━━━━━━━━━━━━━━\u001b[0m\u001b[37m\u001b[0m \u001b[1m2s\u001b[0m 70ms/step - loss: 2.7102e-04 - val_loss: 1.5628e-04\n",
      "Epoch 97/100\n",
      "\u001b[1m30/30\u001b[0m \u001b[32m━━━━━━━━━━━━━━━━━━━━\u001b[0m\u001b[37m\u001b[0m \u001b[1m2s\u001b[0m 75ms/step - loss: 2.5576e-04 - val_loss: 1.4856e-04\n",
      "Epoch 98/100\n",
      "\u001b[1m30/30\u001b[0m \u001b[32m━━━━━━━━━━━━━━━━━━━━\u001b[0m\u001b[37m\u001b[0m \u001b[1m3s\u001b[0m 85ms/step - loss: 2.5528e-04 - val_loss: 2.1838e-04\n",
      "Epoch 99/100\n",
      "\u001b[1m30/30\u001b[0m \u001b[32m━━━━━━━━━━━━━━━━━━━━\u001b[0m\u001b[37m\u001b[0m \u001b[1m2s\u001b[0m 71ms/step - loss: 2.9377e-04 - val_loss: 2.2941e-04\n",
      "Epoch 100/100\n",
      "\u001b[1m30/30\u001b[0m \u001b[32m━━━━━━━━━━━━━━━━━━━━\u001b[0m\u001b[37m\u001b[0m \u001b[1m2s\u001b[0m 74ms/step - loss: 2.5706e-04 - val_loss: 1.4664e-04\n"
     ]
    },
    {
     "data": {
      "text/plain": [
       "<keras.src.callbacks.history.History at 0x2813bd58250>"
      ]
     },
     "execution_count": 16,
     "metadata": {},
     "output_type": "execute_result"
    }
   ],
   "source": [
    "model.fit(X_train,Y_train, validation_data=(X_test,Y_test),epochs=100,batch_size = 64, verbose = 1)"
   ]
  },
  {
   "cell_type": "code",
   "execution_count": 17,
   "id": "6173c772",
   "metadata": {},
   "outputs": [
    {
     "name": "stdout",
     "output_type": "stream",
     "text": [
      "\u001b[1m59/59\u001b[0m \u001b[32m━━━━━━━━━━━━━━━━━━━━\u001b[0m\u001b[37m\u001b[0m \u001b[1m2s\u001b[0m 23ms/step\n",
      "\u001b[1m18/18\u001b[0m \u001b[32m━━━━━━━━━━━━━━━━━━━━\u001b[0m\u001b[37m\u001b[0m \u001b[1m0s\u001b[0m 16ms/step\n"
     ]
    }
   ],
   "source": [
    "import tensorflow as tf\n",
    "train_predict = model.predict(X_train)\n",
    "test_predict = model.predict(X_test)"
   ]
  },
  {
   "cell_type": "code",
   "execution_count": 18,
   "id": "1b62b9ca",
   "metadata": {},
   "outputs": [],
   "source": [
    "train_predict = scalar.inverse_transform(train_predict)\n",
    "test_predict = scalar.inverse_transform(test_predict)"
   ]
  },
  {
   "cell_type": "code",
   "execution_count": 19,
   "id": "158b9ff5",
   "metadata": {},
   "outputs": [
    {
     "data": {
      "text/plain": [
       "25207.28528368044"
      ]
     },
     "execution_count": 19,
     "metadata": {},
     "output_type": "execute_result"
    }
   ],
   "source": [
    "import math\n",
    "from sklearn.metrics import mean_squared_error\n",
    "math.sqrt(mean_squared_error(Y_train, train_predict))"
   ]
  },
  {
   "cell_type": "code",
   "execution_count": 20,
   "id": "65336b7f",
   "metadata": {},
   "outputs": [
    {
     "data": {
      "text/plain": [
       "29683.53763439173"
      ]
     },
     "execution_count": 20,
     "metadata": {},
     "output_type": "execute_result"
    }
   ],
   "source": [
    "math.sqrt(mean_squared_error(Y_test, test_predict))"
   ]
  },
  {
   "cell_type": "code",
   "execution_count": 21,
   "id": "b9a9e50a",
   "metadata": {},
   "outputs": [
    {
     "data": {
      "image/png": "[encoded data removed]",
      "text/plain": [
       "<Figure size 640x480 with 1 Axes>"
      ]
     },
     "metadata": {},
     "output_type": "display_data"
    }
   ],
   "source": [
    "look_back = 100\n",
    "trainPredictPlot = numpy.empty_like(Data)\n",
    "trainPredictPlot[:, :] = np.nan\n",
    "trainPredictPlot[look_back:len(train_predict)+look_back, :] = train_predict\n",
    "testPredictPlot = numpy.empty_like(Data)\n",
    "testPredictPlot[:,:] = numpy.nan\n",
    "testPredictPlot[len(train_predict)+(look_back*2)+1:len(Data)-1,:] = test_predict\n",
    "plt.plot(scalar.inverse_transform(Data))\n",
    "plt.plot(trainPredictPlot)\n",
    "plt.plot(testPredictPlot)\n",
    "plt.show()"
   ]
  },
  {
   "cell_type": "code",
   "execution_count": 22,
   "id": "c2a5a76c",
   "metadata": {},
   "outputs": [
    {
     "data": {
      "text/plain": [
       "654"
      ]
     },
     "execution_count": 22,
     "metadata": {},
     "output_type": "execute_result"
    }
   ],
   "source": [
    "len(test_data)"
   ]
  },
  {
   "cell_type": "code",
   "execution_count": 23,
   "id": "e9b07e27",
   "metadata": {},
   "outputs": [
    {
     "data": {
      "text/plain": [
       "(1, 100)"
      ]
     },
     "execution_count": 23,
     "metadata": {},
     "output_type": "execute_result"
    }
   ],
   "source": [
    "x_input = test_data[554:].reshape(1,-1)\n",
    "x_input.shape"
   ]
  },
  {
   "cell_type": "code",
   "execution_count": 24,
   "id": "9fcbe340",
   "metadata": {},
   "outputs": [],
   "source": [
    "temp_input = list(x_input)\n",
    "temp_input = temp_input[0].tolist()"
   ]
  },
  {
   "cell_type": "code",
   "execution_count": 25,
   "id": "08e43551",
   "metadata": {},
   "outputs": [
    {
     "data": {
      "text/plain": [
       "[0.5488110885698945,\n",
       " 0.546674230733336,\n",
       " 0.5531222940592095,\n",
       " 0.554267866511817,\n",
       " 0.5495115212787467,\n",
       " 0.5461434085582368,\n",
       " 0.5547813183300494,\n",
       " 0.5551916586678339,\n",
       " 0.553009473804718,\n",
       " 0.5676227015943055,\n",
       " 0.5794147810003969,\n",
       " 0.5869318581456323,\n",
       " 0.6169024356174055,\n",
       " 0.6483529520725453,\n",
       " 0.6433490925422253,\n",
       " 0.6365548484772668,\n",
       " 0.6496398859761049,\n",
       " 0.643042741073944,\n",
       " 0.6438469870247632,\n",
       " 0.6058786914965094,\n",
       " 0.6089688771596248,\n",
       " 0.630537069470698,\n",
       " 0.6325318639450602,\n",
       " 0.6161487217363376,\n",
       " 0.6207955804938758,\n",
       " 0.6076878502105031,\n",
       " 0.6265363680751671,\n",
       " 0.6212508967528707,\n",
       " 0.6419387523708003,\n",
       " 0.6451863247114834,\n",
       " 0.6471140353063205,\n",
       " 0.6432457471911793,\n",
       " 0.6324142478460588,\n",
       " 0.6413531869579351,\n",
       " 0.624992152557802,\n",
       " 0.6388035907864748,\n",
       " 0.6266009955647878,\n",
       " 0.6186887260690533,\n",
       " 0.6195496453638349,\n",
       " 0.6211709459478786,\n",
       " 0.6496508229451007,\n",
       " 0.6614886387261587,\n",
       " 0.6298997434936792,\n",
       " 0.6498393245935078,\n",
       " 0.6495813412181833,\n",
       " 0.6469836692171511,\n",
       " 0.6462934717157756,\n",
       " 0.6916213404769477,\n",
       " 0.6791825772754159,\n",
       " 0.6864898636604726,\n",
       " 0.6826091179682734,\n",
       " 0.6299744891057526,\n",
       " 0.629813008195469,\n",
       " 0.6141500671993079,\n",
       " 0.6248658805516233,\n",
       " 0.6344928531880807,\n",
       " 0.6283197927885014,\n",
       " 0.6061515888387963,\n",
       " 0.6114870075543489,\n",
       " 0.612193405909876,\n",
       " 0.610399687596278,\n",
       " 0.5798794552275384,\n",
       " 0.584942912232921,\n",
       " 0.5884093991318813,\n",
       " 0.5862643531293414,\n",
       " 0.6144585242515965,\n",
       " 0.6189979435750982,\n",
       " 0.6177333513507263,\n",
       " 0.6364887003795839,\n",
       " 0.6314633765591314,\n",
       " 0.6259234895110684,\n",
       " 0.6333074516143947,\n",
       " 0.6349557143940499,\n",
       " 0.632056896117655,\n",
       " 0.6259381110649206,\n",
       " 0.6270623360129696,\n",
       " 0.6334406835916027,\n",
       " 0.6519100343323834,\n",
       " 0.6666331579459118,\n",
       " 0.6942669126800158,\n",
       " 0.7036109282445205,\n",
       " 0.7114361700289347,\n",
       " 0.7363549877683521,\n",
       " 0.7331242009583157,\n",
       " 0.7643307122232512,\n",
       " 0.7660055278501087,\n",
       " 0.7693241612180086,\n",
       " 0.761879724100839,\n",
       " 0.7687603526581108,\n",
       " 0.7636187577191831,\n",
       " 0.7711908119727825,\n",
       " 0.7645176347210839,\n",
       " 0.7565192149030845,\n",
       " 0.7479396160185954,\n",
       " 0.7605038323797628,\n",
       " 0.7629314259561211,\n",
       " 0.8046922112703015,\n",
       " 0.8430662851624279,\n",
       " 0.9242085720643255,\n",
       " 0.9046483921087034]"
      ]
     },
     "execution_count": 25,
     "metadata": {},
     "output_type": "execute_result"
    }
   ],
   "source": [
    "temp_input"
   ]
  },
  {
   "cell_type": "code",
   "execution_count": 26,
   "id": "cde25e70",
   "metadata": {},
   "outputs": [
    {
     "name": "stdout",
     "output_type": "stream",
     "text": [
      "[0.89819616]\n",
      "101\n",
      "1 day input [0.54667423 0.55312229 0.55426787 0.54951152 0.54614341 0.55478132\n",
      " 0.55519166 0.55300947 0.5676227  0.57941478 0.58693186 0.61690244\n",
      " 0.64835295 0.64334909 0.63655485 0.64963989 0.64304274 0.64384699\n",
      " 0.60587869 0.60896888 0.63053707 0.63253186 0.61614872 0.62079558\n",
      " 0.60768785 0.62653637 0.6212509  0.64193875 0.64518632 0.64711404\n",
      " 0.64324575 0.63241425 0.64135319 0.62499215 0.63880359 0.626601\n",
      " 0.61868873 0.61954965 0.62117095 0.64965082 0.66148864 0.62989974\n",
      " 0.64983932 0.64958134 0.64698367 0.64629347 0.69162134 0.67918258\n",
      " 0.68648986 0.68260912 0.62997449 0.62981301 0.61415007 0.62486588\n",
      " 0.63449285 0.62831979 0.60615159 0.61148701 0.61219341 0.61039969\n",
      " 0.57987946 0.58494291 0.5884094  0.58626435 0.61445852 0.61899794\n",
      " 0.61773335 0.6364887  0.63146338 0.62592349 0.63330745 0.63495571\n",
      " 0.6320569  0.62593811 0.62706234 0.63344068 0.65191003 0.66663316\n",
      " 0.69426691 0.70361093 0.71143617 0.73635499 0.7331242  0.76433071\n",
      " 0.76600553 0.76932416 0.76187972 0.76876035 0.76361876 0.77119081\n",
      " 0.76451763 0.75651921 0.74793962 0.76050383 0.76293143 0.80469221\n",
      " 0.84306629 0.92420857 0.90464839 0.89819616]\n",
      "1 day output [[0.8923157]]\n",
      "1 day input [0.55312229 0.55426787 0.54951152 0.54614341 0.55478132 0.55519166\n",
      " 0.55300947 0.5676227  0.57941478 0.58693186 0.61690244 0.64835295\n",
      " 0.64334909 0.63655485 0.64963989 0.64304274 0.64384699 0.60587869\n",
      " 0.60896888 0.63053707 0.63253186 0.61614872 0.62079558 0.60768785\n",
      " 0.62653637 0.6212509  0.64193875 0.64518632 0.64711404 0.64324575\n",
      " 0.63241425 0.64135319 0.62499215 0.63880359 0.626601   0.61868873\n",
      " 0.61954965 0.62117095 0.64965082 0.66148864 0.62989974 0.64983932\n",
      " 0.64958134 0.64698367 0.64629347 0.69162134 0.67918258 0.68648986\n",
      " 0.68260912 0.62997449 0.62981301 0.61415007 0.62486588 0.63449285\n",
      " 0.62831979 0.60615159 0.61148701 0.61219341 0.61039969 0.57987946\n",
      " 0.58494291 0.5884094  0.58626435 0.61445852 0.61899794 0.61773335\n",
      " 0.6364887  0.63146338 0.62592349 0.63330745 0.63495571 0.6320569\n",
      " 0.62593811 0.62706234 0.63344068 0.65191003 0.66663316 0.69426691\n",
      " 0.70361093 0.71143617 0.73635499 0.7331242  0.76433071 0.76600553\n",
      " 0.76932416 0.76187972 0.76876035 0.76361876 0.77119081 0.76451763\n",
      " 0.75651921 0.74793962 0.76050383 0.76293143 0.80469221 0.84306629\n",
      " 0.92420857 0.90464839 0.89819616 0.89231569]\n",
      "2 day output [[0.88750625]]\n",
      "1 day input [0.55426787 0.54951152 0.54614341 0.55478132 0.55519166 0.55300947\n",
      " 0.5676227  0.57941478 0.58693186 0.61690244 0.64835295 0.64334909\n",
      " 0.63655485 0.64963989 0.64304274 0.64384699 0.60587869 0.60896888\n",
      " 0.63053707 0.63253186 0.61614872 0.62079558 0.60768785 0.62653637\n",
      " 0.6212509  0.64193875 0.64518632 0.64711404 0.64324575 0.63241425\n",
      " 0.64135319 0.62499215 0.63880359 0.626601   0.61868873 0.61954965\n",
      " 0.62117095 0.64965082 0.66148864 0.62989974 0.64983932 0.64958134\n",
      " 0.64698367 0.64629347 0.69162134 0.67918258 0.68648986 0.68260912\n",
      " 0.62997449 0.62981301 0.61415007 0.62486588 0.63449285 0.62831979\n",
      " 0.60615159 0.61148701 0.61219341 0.61039969 0.57987946 0.58494291\n",
      " 0.5884094  0.58626435 0.61445852 0.61899794 0.61773335 0.6364887\n",
      " 0.63146338 0.62592349 0.63330745 0.63495571 0.6320569  0.62593811\n",
      " 0.62706234 0.63344068 0.65191003 0.66663316 0.69426691 0.70361093\n",
      " 0.71143617 0.73635499 0.7331242  0.76433071 0.76600553 0.76932416\n",
      " 0.76187972 0.76876035 0.76361876 0.77119081 0.76451763 0.75651921\n",
      " 0.74793962 0.76050383 0.76293143 0.80469221 0.84306629 0.92420857\n",
      " 0.90464839 0.89819616 0.89231569 0.88750625]\n",
      "3 day output [[0.884317]]\n",
      "1 day input [0.54951152 0.54614341 0.55478132 0.55519166 0.55300947 0.5676227\n",
      " 0.57941478 0.58693186 0.61690244 0.64835295 0.64334909 0.63655485\n",
      " 0.64963989 0.64304274 0.64384699 0.60587869 0.60896888 0.63053707\n",
      " 0.63253186 0.61614872 0.62079558 0.60768785 0.62653637 0.6212509\n",
      " 0.64193875 0.64518632 0.64711404 0.64324575 0.63241425 0.64135319\n",
      " 0.62499215 0.63880359 0.626601   0.61868873 0.61954965 0.62117095\n",
      " 0.64965082 0.66148864 0.62989974 0.64983932 0.64958134 0.64698367\n",
      " 0.64629347 0.69162134 0.67918258 0.68648986 0.68260912 0.62997449\n",
      " 0.62981301 0.61415007 0.62486588 0.63449285 0.62831979 0.60615159\n",
      " 0.61148701 0.61219341 0.61039969 0.57987946 0.58494291 0.5884094\n",
      " 0.58626435 0.61445852 0.61899794 0.61773335 0.6364887  0.63146338\n",
      " 0.62592349 0.63330745 0.63495571 0.6320569  0.62593811 0.62706234\n",
      " 0.63344068 0.65191003 0.66663316 0.69426691 0.70361093 0.71143617\n",
      " 0.73635499 0.7331242  0.76433071 0.76600553 0.76932416 0.76187972\n",
      " 0.76876035 0.76361876 0.77119081 0.76451763 0.75651921 0.74793962\n",
      " 0.76050383 0.76293143 0.80469221 0.84306629 0.92420857 0.90464839\n",
      " 0.89819616 0.89231569 0.88750625 0.88431698]\n",
      "4 day output [[0.8820383]]\n",
      "1 day input [0.54614341 0.55478132 0.55519166 0.55300947 0.5676227  0.57941478\n",
      " 0.58693186 0.61690244 0.64835295 0.64334909 0.63655485 0.64963989\n",
      " 0.64304274 0.64384699 0.60587869 0.60896888 0.63053707 0.63253186\n",
      " 0.61614872 0.62079558 0.60768785 0.62653637 0.6212509  0.64193875\n",
      " 0.64518632 0.64711404 0.64324575 0.63241425 0.64135319 0.62499215\n",
      " 0.63880359 0.626601   0.61868873 0.61954965 0.62117095 0.64965082\n",
      " 0.66148864 0.62989974 0.64983932 0.64958134 0.64698367 0.64629347\n",
      " 0.69162134 0.67918258 0.68648986 0.68260912 0.62997449 0.62981301\n",
      " 0.61415007 0.62486588 0.63449285 0.62831979 0.60615159 0.61148701\n",
      " 0.61219341 0.61039969 0.57987946 0.58494291 0.5884094  0.58626435\n",
      " 0.61445852 0.61899794 0.61773335 0.6364887  0.63146338 0.62592349\n",
      " 0.63330745 0.63495571 0.6320569  0.62593811 0.62706234 0.63344068\n",
      " 0.65191003 0.66663316 0.69426691 0.70361093 0.71143617 0.73635499\n",
      " 0.7331242  0.76433071 0.76600553 0.76932416 0.76187972 0.76876035\n",
      " 0.76361876 0.77119081 0.76451763 0.75651921 0.74793962 0.76050383\n",
      " 0.76293143 0.80469221 0.84306629 0.92420857 0.90464839 0.89819616\n",
      " 0.89231569 0.88750625 0.88431698 0.8820383 ]\n",
      "5 day output [[0.87986696]]\n",
      "1 day input [0.55478132 0.55519166 0.55300947 0.5676227  0.57941478 0.58693186\n",
      " 0.61690244 0.64835295 0.64334909 0.63655485 0.64963989 0.64304274\n",
      " 0.64384699 0.60587869 0.60896888 0.63053707 0.63253186 0.61614872\n",
      " 0.62079558 0.60768785 0.62653637 0.6212509  0.64193875 0.64518632\n",
      " 0.64711404 0.64324575 0.63241425 0.64135319 0.62499215 0.63880359\n",
      " 0.626601   0.61868873 0.61954965 0.62117095 0.64965082 0.66148864\n",
      " 0.62989974 0.64983932 0.64958134 0.64698367 0.64629347 0.69162134\n",
      " 0.67918258 0.68648986 0.68260912 0.62997449 0.62981301 0.61415007\n",
      " 0.62486588 0.63449285 0.62831979 0.60615159 0.61148701 0.61219341\n",
      " 0.61039969 0.57987946 0.58494291 0.5884094  0.58626435 0.61445852\n",
      " 0.61899794 0.61773335 0.6364887  0.63146338 0.62592349 0.63330745\n",
      " 0.63495571 0.6320569  0.62593811 0.62706234 0.63344068 0.65191003\n",
      " 0.66663316 0.69426691 0.70361093 0.71143617 0.73635499 0.7331242\n",
      " 0.76433071 0.76600553 0.76932416 0.76187972 0.76876035 0.76361876\n",
      " 0.77119081 0.76451763 0.75651921 0.74793962 0.76050383 0.76293143\n",
      " 0.80469221 0.84306629 0.92420857 0.90464839 0.89819616 0.89231569\n",
      " 0.88750625 0.88431698 0.8820383  0.87986696]\n",
      "6 day output [[0.8772881]]\n",
      "1 day input [0.55519166 0.55300947 0.5676227  0.57941478 0.58693186 0.61690244\n",
      " 0.64835295 0.64334909 0.63655485 0.64963989 0.64304274 0.64384699\n",
      " 0.60587869 0.60896888 0.63053707 0.63253186 0.61614872 0.62079558\n",
      " 0.60768785 0.62653637 0.6212509  0.64193875 0.64518632 0.64711404\n",
      " 0.64324575 0.63241425 0.64135319 0.62499215 0.63880359 0.626601\n",
      " 0.61868873 0.61954965 0.62117095 0.64965082 0.66148864 0.62989974\n",
      " 0.64983932 0.64958134 0.64698367 0.64629347 0.69162134 0.67918258\n",
      " 0.68648986 0.68260912 0.62997449 0.62981301 0.61415007 0.62486588\n",
      " 0.63449285 0.62831979 0.60615159 0.61148701 0.61219341 0.61039969\n",
      " 0.57987946 0.58494291 0.5884094  0.58626435 0.61445852 0.61899794\n",
      " 0.61773335 0.6364887  0.63146338 0.62592349 0.63330745 0.63495571\n",
      " 0.6320569  0.62593811 0.62706234 0.63344068 0.65191003 0.66663316\n",
      " 0.69426691 0.70361093 0.71143617 0.73635499 0.7331242  0.76433071\n",
      " 0.76600553 0.76932416 0.76187972 0.76876035 0.76361876 0.77119081\n",
      " 0.76451763 0.75651921 0.74793962 0.76050383 0.76293143 0.80469221\n",
      " 0.84306629 0.92420857 0.90464839 0.89819616 0.89231569 0.88750625\n",
      " 0.88431698 0.8820383  0.87986696 0.8772881 ]\n",
      "7 day output [[0.8741512]]\n",
      "1 day input [0.55300947 0.5676227  0.57941478 0.58693186 0.61690244 0.64835295\n",
      " 0.64334909 0.63655485 0.64963989 0.64304274 0.64384699 0.60587869\n",
      " 0.60896888 0.63053707 0.63253186 0.61614872 0.62079558 0.60768785\n",
      " 0.62653637 0.6212509  0.64193875 0.64518632 0.64711404 0.64324575\n",
      " 0.63241425 0.64135319 0.62499215 0.63880359 0.626601   0.61868873\n",
      " 0.61954965 0.62117095 0.64965082 0.66148864 0.62989974 0.64983932\n",
      " 0.64958134 0.64698367 0.64629347 0.69162134 0.67918258 0.68648986\n",
      " 0.68260912 0.62997449 0.62981301 0.61415007 0.62486588 0.63449285\n",
      " 0.62831979 0.60615159 0.61148701 0.61219341 0.61039969 0.57987946\n",
      " 0.58494291 0.5884094  0.58626435 0.61445852 0.61899794 0.61773335\n",
      " 0.6364887  0.63146338 0.62592349 0.63330745 0.63495571 0.6320569\n",
      " 0.62593811 0.62706234 0.63344068 0.65191003 0.66663316 0.69426691\n",
      " 0.70361093 0.71143617 0.73635499 0.7331242  0.76433071 0.76600553\n",
      " 0.76932416 0.76187972 0.76876035 0.76361876 0.77119081 0.76451763\n",
      " 0.75651921 0.74793962 0.76050383 0.76293143 0.80469221 0.84306629\n",
      " 0.92420857 0.90464839 0.89819616 0.89231569 0.88750625 0.88431698\n",
      " 0.8820383  0.87986696 0.8772881  0.87415117]\n"
     ]
    },
    {
     "name": "stdout",
     "output_type": "stream",
     "text": [
      "8 day output [[0.8705644]]\n",
      "1 day input [0.5676227  0.57941478 0.58693186 0.61690244 0.64835295 0.64334909\n",
      " 0.63655485 0.64963989 0.64304274 0.64384699 0.60587869 0.60896888\n",
      " 0.63053707 0.63253186 0.61614872 0.62079558 0.60768785 0.62653637\n",
      " 0.6212509  0.64193875 0.64518632 0.64711404 0.64324575 0.63241425\n",
      " 0.64135319 0.62499215 0.63880359 0.626601   0.61868873 0.61954965\n",
      " 0.62117095 0.64965082 0.66148864 0.62989974 0.64983932 0.64958134\n",
      " 0.64698367 0.64629347 0.69162134 0.67918258 0.68648986 0.68260912\n",
      " 0.62997449 0.62981301 0.61415007 0.62486588 0.63449285 0.62831979\n",
      " 0.60615159 0.61148701 0.61219341 0.61039969 0.57987946 0.58494291\n",
      " 0.5884094  0.58626435 0.61445852 0.61899794 0.61773335 0.6364887\n",
      " 0.63146338 0.62592349 0.63330745 0.63495571 0.6320569  0.62593811\n",
      " 0.62706234 0.63344068 0.65191003 0.66663316 0.69426691 0.70361093\n",
      " 0.71143617 0.73635499 0.7331242  0.76433071 0.76600553 0.76932416\n",
      " 0.76187972 0.76876035 0.76361876 0.77119081 0.76451763 0.75651921\n",
      " 0.74793962 0.76050383 0.76293143 0.80469221 0.84306629 0.92420857\n",
      " 0.90464839 0.89819616 0.89231569 0.88750625 0.88431698 0.8820383\n",
      " 0.87986696 0.8772881  0.87415117 0.8705644 ]\n",
      "9 day output [[0.8667533]]\n",
      "1 day input [0.57941478 0.58693186 0.61690244 0.64835295 0.64334909 0.63655485\n",
      " 0.64963989 0.64304274 0.64384699 0.60587869 0.60896888 0.63053707\n",
      " 0.63253186 0.61614872 0.62079558 0.60768785 0.62653637 0.6212509\n",
      " 0.64193875 0.64518632 0.64711404 0.64324575 0.63241425 0.64135319\n",
      " 0.62499215 0.63880359 0.626601   0.61868873 0.61954965 0.62117095\n",
      " 0.64965082 0.66148864 0.62989974 0.64983932 0.64958134 0.64698367\n",
      " 0.64629347 0.69162134 0.67918258 0.68648986 0.68260912 0.62997449\n",
      " 0.62981301 0.61415007 0.62486588 0.63449285 0.62831979 0.60615159\n",
      " 0.61148701 0.61219341 0.61039969 0.57987946 0.58494291 0.5884094\n",
      " 0.58626435 0.61445852 0.61899794 0.61773335 0.6364887  0.63146338\n",
      " 0.62592349 0.63330745 0.63495571 0.6320569  0.62593811 0.62706234\n",
      " 0.63344068 0.65191003 0.66663316 0.69426691 0.70361093 0.71143617\n",
      " 0.73635499 0.7331242  0.76433071 0.76600553 0.76932416 0.76187972\n",
      " 0.76876035 0.76361876 0.77119081 0.76451763 0.75651921 0.74793962\n",
      " 0.76050383 0.76293143 0.80469221 0.84306629 0.92420857 0.90464839\n",
      " 0.89819616 0.89231569 0.88750625 0.88431698 0.8820383  0.87986696\n",
      " 0.8772881  0.87415117 0.8705644  0.86675328]\n",
      "10 day output [[0.8629523]]\n",
      "1 day input [0.58693186 0.61690244 0.64835295 0.64334909 0.63655485 0.64963989\n",
      " 0.64304274 0.64384699 0.60587869 0.60896888 0.63053707 0.63253186\n",
      " 0.61614872 0.62079558 0.60768785 0.62653637 0.6212509  0.64193875\n",
      " 0.64518632 0.64711404 0.64324575 0.63241425 0.64135319 0.62499215\n",
      " 0.63880359 0.626601   0.61868873 0.61954965 0.62117095 0.64965082\n",
      " 0.66148864 0.62989974 0.64983932 0.64958134 0.64698367 0.64629347\n",
      " 0.69162134 0.67918258 0.68648986 0.68260912 0.62997449 0.62981301\n",
      " 0.61415007 0.62486588 0.63449285 0.62831979 0.60615159 0.61148701\n",
      " 0.61219341 0.61039969 0.57987946 0.58494291 0.5884094  0.58626435\n",
      " 0.61445852 0.61899794 0.61773335 0.6364887  0.63146338 0.62592349\n",
      " 0.63330745 0.63495571 0.6320569  0.62593811 0.62706234 0.63344068\n",
      " 0.65191003 0.66663316 0.69426691 0.70361093 0.71143617 0.73635499\n",
      " 0.7331242  0.76433071 0.76600553 0.76932416 0.76187972 0.76876035\n",
      " 0.76361876 0.77119081 0.76451763 0.75651921 0.74793962 0.76050383\n",
      " 0.76293143 0.80469221 0.84306629 0.92420857 0.90464839 0.89819616\n",
      " 0.89231569 0.88750625 0.88431698 0.8820383  0.87986696 0.8772881\n",
      " 0.87415117 0.8705644  0.86675328 0.86295229]\n",
      "11 day output [[0.8593432]]\n",
      "1 day input [0.61690244 0.64835295 0.64334909 0.63655485 0.64963989 0.64304274\n",
      " 0.64384699 0.60587869 0.60896888 0.63053707 0.63253186 0.61614872\n",
      " 0.62079558 0.60768785 0.62653637 0.6212509  0.64193875 0.64518632\n",
      " 0.64711404 0.64324575 0.63241425 0.64135319 0.62499215 0.63880359\n",
      " 0.626601   0.61868873 0.61954965 0.62117095 0.64965082 0.66148864\n",
      " 0.62989974 0.64983932 0.64958134 0.64698367 0.64629347 0.69162134\n",
      " 0.67918258 0.68648986 0.68260912 0.62997449 0.62981301 0.61415007\n",
      " 0.62486588 0.63449285 0.62831979 0.60615159 0.61148701 0.61219341\n",
      " 0.61039969 0.57987946 0.58494291 0.5884094  0.58626435 0.61445852\n",
      " 0.61899794 0.61773335 0.6364887  0.63146338 0.62592349 0.63330745\n",
      " 0.63495571 0.6320569  0.62593811 0.62706234 0.63344068 0.65191003\n",
      " 0.66663316 0.69426691 0.70361093 0.71143617 0.73635499 0.7331242\n",
      " 0.76433071 0.76600553 0.76932416 0.76187972 0.76876035 0.76361876\n",
      " 0.77119081 0.76451763 0.75651921 0.74793962 0.76050383 0.76293143\n",
      " 0.80469221 0.84306629 0.92420857 0.90464839 0.89819616 0.89231569\n",
      " 0.88750625 0.88431698 0.8820383  0.87986696 0.8772881  0.87415117\n",
      " 0.8705644  0.86675328 0.86295229 0.85934317]\n",
      "12 day output [[0.85603756]]\n",
      "1 day input [0.64835295 0.64334909 0.63655485 0.64963989 0.64304274 0.64384699\n",
      " 0.60587869 0.60896888 0.63053707 0.63253186 0.61614872 0.62079558\n",
      " 0.60768785 0.62653637 0.6212509  0.64193875 0.64518632 0.64711404\n",
      " 0.64324575 0.63241425 0.64135319 0.62499215 0.63880359 0.626601\n",
      " 0.61868873 0.61954965 0.62117095 0.64965082 0.66148864 0.62989974\n",
      " 0.64983932 0.64958134 0.64698367 0.64629347 0.69162134 0.67918258\n",
      " 0.68648986 0.68260912 0.62997449 0.62981301 0.61415007 0.62486588\n",
      " 0.63449285 0.62831979 0.60615159 0.61148701 0.61219341 0.61039969\n",
      " 0.57987946 0.58494291 0.5884094  0.58626435 0.61445852 0.61899794\n",
      " 0.61773335 0.6364887  0.63146338 0.62592349 0.63330745 0.63495571\n",
      " 0.6320569  0.62593811 0.62706234 0.63344068 0.65191003 0.66663316\n",
      " 0.69426691 0.70361093 0.71143617 0.73635499 0.7331242  0.76433071\n",
      " 0.76600553 0.76932416 0.76187972 0.76876035 0.76361876 0.77119081\n",
      " 0.76451763 0.75651921 0.74793962 0.76050383 0.76293143 0.80469221\n",
      " 0.84306629 0.92420857 0.90464839 0.89819616 0.89231569 0.88750625\n",
      " 0.88431698 0.8820383  0.87986696 0.8772881  0.87415117 0.8705644\n",
      " 0.86675328 0.86295229 0.85934317 0.85603756]\n",
      "13 day output [[0.8530824]]\n",
      "1 day input [0.64334909 0.63655485 0.64963989 0.64304274 0.64384699 0.60587869\n",
      " 0.60896888 0.63053707 0.63253186 0.61614872 0.62079558 0.60768785\n",
      " 0.62653637 0.6212509  0.64193875 0.64518632 0.64711404 0.64324575\n",
      " 0.63241425 0.64135319 0.62499215 0.63880359 0.626601   0.61868873\n",
      " 0.61954965 0.62117095 0.64965082 0.66148864 0.62989974 0.64983932\n",
      " 0.64958134 0.64698367 0.64629347 0.69162134 0.67918258 0.68648986\n",
      " 0.68260912 0.62997449 0.62981301 0.61415007 0.62486588 0.63449285\n",
      " 0.62831979 0.60615159 0.61148701 0.61219341 0.61039969 0.57987946\n",
      " 0.58494291 0.5884094  0.58626435 0.61445852 0.61899794 0.61773335\n",
      " 0.6364887  0.63146338 0.62592349 0.63330745 0.63495571 0.6320569\n",
      " 0.62593811 0.62706234 0.63344068 0.65191003 0.66663316 0.69426691\n",
      " 0.70361093 0.71143617 0.73635499 0.7331242  0.76433071 0.76600553\n",
      " 0.76932416 0.76187972 0.76876035 0.76361876 0.77119081 0.76451763\n",
      " 0.75651921 0.74793962 0.76050383 0.76293143 0.80469221 0.84306629\n",
      " 0.92420857 0.90464839 0.89819616 0.89231569 0.88750625 0.88431698\n",
      " 0.8820383  0.87986696 0.8772881  0.87415117 0.8705644  0.86675328\n",
      " 0.86295229 0.85934317 0.85603756 0.85308242]\n",
      "14 day output [[0.85047644]]\n",
      "1 day input [0.63655485 0.64963989 0.64304274 0.64384699 0.60587869 0.60896888\n",
      " 0.63053707 0.63253186 0.61614872 0.62079558 0.60768785 0.62653637\n",
      " 0.6212509  0.64193875 0.64518632 0.64711404 0.64324575 0.63241425\n",
      " 0.64135319 0.62499215 0.63880359 0.626601   0.61868873 0.61954965\n",
      " 0.62117095 0.64965082 0.66148864 0.62989974 0.64983932 0.64958134\n",
      " 0.64698367 0.64629347 0.69162134 0.67918258 0.68648986 0.68260912\n",
      " 0.62997449 0.62981301 0.61415007 0.62486588 0.63449285 0.62831979\n",
      " 0.60615159 0.61148701 0.61219341 0.61039969 0.57987946 0.58494291\n",
      " 0.5884094  0.58626435 0.61445852 0.61899794 0.61773335 0.6364887\n",
      " 0.63146338 0.62592349 0.63330745 0.63495571 0.6320569  0.62593811\n",
      " 0.62706234 0.63344068 0.65191003 0.66663316 0.69426691 0.70361093\n",
      " 0.71143617 0.73635499 0.7331242  0.76433071 0.76600553 0.76932416\n",
      " 0.76187972 0.76876035 0.76361876 0.77119081 0.76451763 0.75651921\n",
      " 0.74793962 0.76050383 0.76293143 0.80469221 0.84306629 0.92420857\n",
      " 0.90464839 0.89819616 0.89231569 0.88750625 0.88431698 0.8820383\n",
      " 0.87986696 0.8772881  0.87415117 0.8705644  0.86675328 0.86295229\n",
      " 0.85934317 0.85603756 0.85308242 0.85047644]\n",
      "15 day output [[0.8481884]]\n",
      "1 day input [0.64963989 0.64304274 0.64384699 0.60587869 0.60896888 0.63053707\n",
      " 0.63253186 0.61614872 0.62079558 0.60768785 0.62653637 0.6212509\n",
      " 0.64193875 0.64518632 0.64711404 0.64324575 0.63241425 0.64135319\n",
      " 0.62499215 0.63880359 0.626601   0.61868873 0.61954965 0.62117095\n",
      " 0.64965082 0.66148864 0.62989974 0.64983932 0.64958134 0.64698367\n",
      " 0.64629347 0.69162134 0.67918258 0.68648986 0.68260912 0.62997449\n",
      " 0.62981301 0.61415007 0.62486588 0.63449285 0.62831979 0.60615159\n",
      " 0.61148701 0.61219341 0.61039969 0.57987946 0.58494291 0.5884094\n",
      " 0.58626435 0.61445852 0.61899794 0.61773335 0.6364887  0.63146338\n",
      " 0.62592349 0.63330745 0.63495571 0.6320569  0.62593811 0.62706234\n",
      " 0.63344068 0.65191003 0.66663316 0.69426691 0.70361093 0.71143617\n",
      " 0.73635499 0.7331242  0.76433071 0.76600553 0.76932416 0.76187972\n",
      " 0.76876035 0.76361876 0.77119081 0.76451763 0.75651921 0.74793962\n",
      " 0.76050383 0.76293143 0.80469221 0.84306629 0.92420857 0.90464839\n",
      " 0.89819616 0.89231569 0.88750625 0.88431698 0.8820383  0.87986696\n",
      " 0.8772881  0.87415117 0.8705644  0.86675328 0.86295229 0.85934317\n",
      " 0.85603756 0.85308242 0.85047644 0.8481884 ]\n",
      "16 day output [[0.84617]]\n",
      "1 day input [0.64304274 0.64384699 0.60587869 0.60896888 0.63053707 0.63253186\n",
      " 0.61614872 0.62079558 0.60768785 0.62653637 0.6212509  0.64193875\n",
      " 0.64518632 0.64711404 0.64324575 0.63241425 0.64135319 0.62499215\n",
      " 0.63880359 0.626601   0.61868873 0.61954965 0.62117095 0.64965082\n",
      " 0.66148864 0.62989974 0.64983932 0.64958134 0.64698367 0.64629347\n",
      " 0.69162134 0.67918258 0.68648986 0.68260912 0.62997449 0.62981301\n",
      " 0.61415007 0.62486588 0.63449285 0.62831979 0.60615159 0.61148701\n",
      " 0.61219341 0.61039969 0.57987946 0.58494291 0.5884094  0.58626435\n",
      " 0.61445852 0.61899794 0.61773335 0.6364887  0.63146338 0.62592349\n",
      " 0.63330745 0.63495571 0.6320569  0.62593811 0.62706234 0.63344068\n",
      " 0.65191003 0.66663316 0.69426691 0.70361093 0.71143617 0.73635499\n",
      " 0.7331242  0.76433071 0.76600553 0.76932416 0.76187972 0.76876035\n",
      " 0.76361876 0.77119081 0.76451763 0.75651921 0.74793962 0.76050383\n",
      " 0.76293143 0.80469221 0.84306629 0.92420857 0.90464839 0.89819616\n",
      " 0.89231569 0.88750625 0.88431698 0.8820383  0.87986696 0.8772881\n",
      " 0.87415117 0.8705644  0.86675328 0.86295229 0.85934317 0.85603756\n",
      " 0.85308242 0.85047644 0.8481884  0.84617001]\n"
     ]
    },
    {
     "name": "stdout",
     "output_type": "stream",
     "text": [
      "17 day output [[0.8443651]]\n",
      "1 day input [0.64384699 0.60587869 0.60896888 0.63053707 0.63253186 0.61614872\n",
      " 0.62079558 0.60768785 0.62653637 0.6212509  0.64193875 0.64518632\n",
      " 0.64711404 0.64324575 0.63241425 0.64135319 0.62499215 0.63880359\n",
      " 0.626601   0.61868873 0.61954965 0.62117095 0.64965082 0.66148864\n",
      " 0.62989974 0.64983932 0.64958134 0.64698367 0.64629347 0.69162134\n",
      " 0.67918258 0.68648986 0.68260912 0.62997449 0.62981301 0.61415007\n",
      " 0.62486588 0.63449285 0.62831979 0.60615159 0.61148701 0.61219341\n",
      " 0.61039969 0.57987946 0.58494291 0.5884094  0.58626435 0.61445852\n",
      " 0.61899794 0.61773335 0.6364887  0.63146338 0.62592349 0.63330745\n",
      " 0.63495571 0.6320569  0.62593811 0.62706234 0.63344068 0.65191003\n",
      " 0.66663316 0.69426691 0.70361093 0.71143617 0.73635499 0.7331242\n",
      " 0.76433071 0.76600553 0.76932416 0.76187972 0.76876035 0.76361876\n",
      " 0.77119081 0.76451763 0.75651921 0.74793962 0.76050383 0.76293143\n",
      " 0.80469221 0.84306629 0.92420857 0.90464839 0.89819616 0.89231569\n",
      " 0.88750625 0.88431698 0.8820383  0.87986696 0.8772881  0.87415117\n",
      " 0.8705644  0.86675328 0.86295229 0.85934317 0.85603756 0.85308242\n",
      " 0.85047644 0.8481884  0.84617001 0.84436512]\n",
      "18 day output [[0.8427173]]\n",
      "1 day input [0.60587869 0.60896888 0.63053707 0.63253186 0.61614872 0.62079558\n",
      " 0.60768785 0.62653637 0.6212509  0.64193875 0.64518632 0.64711404\n",
      " 0.64324575 0.63241425 0.64135319 0.62499215 0.63880359 0.626601\n",
      " 0.61868873 0.61954965 0.62117095 0.64965082 0.66148864 0.62989974\n",
      " 0.64983932 0.64958134 0.64698367 0.64629347 0.69162134 0.67918258\n",
      " 0.68648986 0.68260912 0.62997449 0.62981301 0.61415007 0.62486588\n",
      " 0.63449285 0.62831979 0.60615159 0.61148701 0.61219341 0.61039969\n",
      " 0.57987946 0.58494291 0.5884094  0.58626435 0.61445852 0.61899794\n",
      " 0.61773335 0.6364887  0.63146338 0.62592349 0.63330745 0.63495571\n",
      " 0.6320569  0.62593811 0.62706234 0.63344068 0.65191003 0.66663316\n",
      " 0.69426691 0.70361093 0.71143617 0.73635499 0.7331242  0.76433071\n",
      " 0.76600553 0.76932416 0.76187972 0.76876035 0.76361876 0.77119081\n",
      " 0.76451763 0.75651921 0.74793962 0.76050383 0.76293143 0.80469221\n",
      " 0.84306629 0.92420857 0.90464839 0.89819616 0.89231569 0.88750625\n",
      " 0.88431698 0.8820383  0.87986696 0.8772881  0.87415117 0.8705644\n",
      " 0.86675328 0.86295229 0.85934317 0.85603756 0.85308242 0.85047644\n",
      " 0.8481884  0.84617001 0.84436512 0.84271729]\n",
      "19 day output [[0.8411707]]\n",
      "1 day input [0.60896888 0.63053707 0.63253186 0.61614872 0.62079558 0.60768785\n",
      " 0.62653637 0.6212509  0.64193875 0.64518632 0.64711404 0.64324575\n",
      " 0.63241425 0.64135319 0.62499215 0.63880359 0.626601   0.61868873\n",
      " 0.61954965 0.62117095 0.64965082 0.66148864 0.62989974 0.64983932\n",
      " 0.64958134 0.64698367 0.64629347 0.69162134 0.67918258 0.68648986\n",
      " 0.68260912 0.62997449 0.62981301 0.61415007 0.62486588 0.63449285\n",
      " 0.62831979 0.60615159 0.61148701 0.61219341 0.61039969 0.57987946\n",
      " 0.58494291 0.5884094  0.58626435 0.61445852 0.61899794 0.61773335\n",
      " 0.6364887  0.63146338 0.62592349 0.63330745 0.63495571 0.6320569\n",
      " 0.62593811 0.62706234 0.63344068 0.65191003 0.66663316 0.69426691\n",
      " 0.70361093 0.71143617 0.73635499 0.7331242  0.76433071 0.76600553\n",
      " 0.76932416 0.76187972 0.76876035 0.76361876 0.77119081 0.76451763\n",
      " 0.75651921 0.74793962 0.76050383 0.76293143 0.80469221 0.84306629\n",
      " 0.92420857 0.90464839 0.89819616 0.89231569 0.88750625 0.88431698\n",
      " 0.8820383  0.87986696 0.8772881  0.87415117 0.8705644  0.86675328\n",
      " 0.86295229 0.85934317 0.85603756 0.85308242 0.85047644 0.8481884\n",
      " 0.84617001 0.84436512 0.84271729 0.84117073]\n",
      "20 day output [[0.8396738]]\n",
      "1 day input [0.63053707 0.63253186 0.61614872 0.62079558 0.60768785 0.62653637\n",
      " 0.6212509  0.64193875 0.64518632 0.64711404 0.64324575 0.63241425\n",
      " 0.64135319 0.62499215 0.63880359 0.626601   0.61868873 0.61954965\n",
      " 0.62117095 0.64965082 0.66148864 0.62989974 0.64983932 0.64958134\n",
      " 0.64698367 0.64629347 0.69162134 0.67918258 0.68648986 0.68260912\n",
      " 0.62997449 0.62981301 0.61415007 0.62486588 0.63449285 0.62831979\n",
      " 0.60615159 0.61148701 0.61219341 0.61039969 0.57987946 0.58494291\n",
      " 0.5884094  0.58626435 0.61445852 0.61899794 0.61773335 0.6364887\n",
      " 0.63146338 0.62592349 0.63330745 0.63495571 0.6320569  0.62593811\n",
      " 0.62706234 0.63344068 0.65191003 0.66663316 0.69426691 0.70361093\n",
      " 0.71143617 0.73635499 0.7331242  0.76433071 0.76600553 0.76932416\n",
      " 0.76187972 0.76876035 0.76361876 0.77119081 0.76451763 0.75651921\n",
      " 0.74793962 0.76050383 0.76293143 0.80469221 0.84306629 0.92420857\n",
      " 0.90464839 0.89819616 0.89231569 0.88750625 0.88431698 0.8820383\n",
      " 0.87986696 0.8772881  0.87415117 0.8705644  0.86675328 0.86295229\n",
      " 0.85934317 0.85603756 0.85308242 0.85047644 0.8481884  0.84617001\n",
      " 0.84436512 0.84271729 0.84117073 0.83967382]\n",
      "21 day output [[0.8381801]]\n",
      "1 day input [0.63253186 0.61614872 0.62079558 0.60768785 0.62653637 0.6212509\n",
      " 0.64193875 0.64518632 0.64711404 0.64324575 0.63241425 0.64135319\n",
      " 0.62499215 0.63880359 0.626601   0.61868873 0.61954965 0.62117095\n",
      " 0.64965082 0.66148864 0.62989974 0.64983932 0.64958134 0.64698367\n",
      " 0.64629347 0.69162134 0.67918258 0.68648986 0.68260912 0.62997449\n",
      " 0.62981301 0.61415007 0.62486588 0.63449285 0.62831979 0.60615159\n",
      " 0.61148701 0.61219341 0.61039969 0.57987946 0.58494291 0.5884094\n",
      " 0.58626435 0.61445852 0.61899794 0.61773335 0.6364887  0.63146338\n",
      " 0.62592349 0.63330745 0.63495571 0.6320569  0.62593811 0.62706234\n",
      " 0.63344068 0.65191003 0.66663316 0.69426691 0.70361093 0.71143617\n",
      " 0.73635499 0.7331242  0.76433071 0.76600553 0.76932416 0.76187972\n",
      " 0.76876035 0.76361876 0.77119081 0.76451763 0.75651921 0.74793962\n",
      " 0.76050383 0.76293143 0.80469221 0.84306629 0.92420857 0.90464839\n",
      " 0.89819616 0.89231569 0.88750625 0.88431698 0.8820383  0.87986696\n",
      " 0.8772881  0.87415117 0.8705644  0.86675328 0.86295229 0.85934317\n",
      " 0.85603756 0.85308242 0.85047644 0.8481884  0.84617001 0.84436512\n",
      " 0.84271729 0.84117073 0.83967382 0.83818012]\n",
      "22 day output [[0.83664954]]\n",
      "1 day input [0.61614872 0.62079558 0.60768785 0.62653637 0.6212509  0.64193875\n",
      " 0.64518632 0.64711404 0.64324575 0.63241425 0.64135319 0.62499215\n",
      " 0.63880359 0.626601   0.61868873 0.61954965 0.62117095 0.64965082\n",
      " 0.66148864 0.62989974 0.64983932 0.64958134 0.64698367 0.64629347\n",
      " 0.69162134 0.67918258 0.68648986 0.68260912 0.62997449 0.62981301\n",
      " 0.61415007 0.62486588 0.63449285 0.62831979 0.60615159 0.61148701\n",
      " 0.61219341 0.61039969 0.57987946 0.58494291 0.5884094  0.58626435\n",
      " 0.61445852 0.61899794 0.61773335 0.6364887  0.63146338 0.62592349\n",
      " 0.63330745 0.63495571 0.6320569  0.62593811 0.62706234 0.63344068\n",
      " 0.65191003 0.66663316 0.69426691 0.70361093 0.71143617 0.73635499\n",
      " 0.7331242  0.76433071 0.76600553 0.76932416 0.76187972 0.76876035\n",
      " 0.76361876 0.77119081 0.76451763 0.75651921 0.74793962 0.76050383\n",
      " 0.76293143 0.80469221 0.84306629 0.92420857 0.90464839 0.89819616\n",
      " 0.89231569 0.88750625 0.88431698 0.8820383  0.87986696 0.8772881\n",
      " 0.87415117 0.8705644  0.86675328 0.86295229 0.85934317 0.85603756\n",
      " 0.85308242 0.85047644 0.8481884  0.84617001 0.84436512 0.84271729\n",
      " 0.84117073 0.83967382 0.83818012 0.83664954]\n",
      "23 day output [[0.8350483]]\n",
      "1 day input [0.62079558 0.60768785 0.62653637 0.6212509  0.64193875 0.64518632\n",
      " 0.64711404 0.64324575 0.63241425 0.64135319 0.62499215 0.63880359\n",
      " 0.626601   0.61868873 0.61954965 0.62117095 0.64965082 0.66148864\n",
      " 0.62989974 0.64983932 0.64958134 0.64698367 0.64629347 0.69162134\n",
      " 0.67918258 0.68648986 0.68260912 0.62997449 0.62981301 0.61415007\n",
      " 0.62486588 0.63449285 0.62831979 0.60615159 0.61148701 0.61219341\n",
      " 0.61039969 0.57987946 0.58494291 0.5884094  0.58626435 0.61445852\n",
      " 0.61899794 0.61773335 0.6364887  0.63146338 0.62592349 0.63330745\n",
      " 0.63495571 0.6320569  0.62593811 0.62706234 0.63344068 0.65191003\n",
      " 0.66663316 0.69426691 0.70361093 0.71143617 0.73635499 0.7331242\n",
      " 0.76433071 0.76600553 0.76932416 0.76187972 0.76876035 0.76361876\n",
      " 0.77119081 0.76451763 0.75651921 0.74793962 0.76050383 0.76293143\n",
      " 0.80469221 0.84306629 0.92420857 0.90464839 0.89819616 0.89231569\n",
      " 0.88750625 0.88431698 0.8820383  0.87986696 0.8772881  0.87415117\n",
      " 0.8705644  0.86675328 0.86295229 0.85934317 0.85603756 0.85308242\n",
      " 0.85047644 0.8481884  0.84617001 0.84436512 0.84271729 0.84117073\n",
      " 0.83967382 0.83818012 0.83664954 0.83504832]\n",
      "24 day output [[0.8333502]]\n",
      "1 day input [0.60768785 0.62653637 0.6212509  0.64193875 0.64518632 0.64711404\n",
      " 0.64324575 0.63241425 0.64135319 0.62499215 0.63880359 0.626601\n",
      " 0.61868873 0.61954965 0.62117095 0.64965082 0.66148864 0.62989974\n",
      " 0.64983932 0.64958134 0.64698367 0.64629347 0.69162134 0.67918258\n",
      " 0.68648986 0.68260912 0.62997449 0.62981301 0.61415007 0.62486588\n",
      " 0.63449285 0.62831979 0.60615159 0.61148701 0.61219341 0.61039969\n",
      " 0.57987946 0.58494291 0.5884094  0.58626435 0.61445852 0.61899794\n",
      " 0.61773335 0.6364887  0.63146338 0.62592349 0.63330745 0.63495571\n",
      " 0.6320569  0.62593811 0.62706234 0.63344068 0.65191003 0.66663316\n",
      " 0.69426691 0.70361093 0.71143617 0.73635499 0.7331242  0.76433071\n",
      " 0.76600553 0.76932416 0.76187972 0.76876035 0.76361876 0.77119081\n",
      " 0.76451763 0.75651921 0.74793962 0.76050383 0.76293143 0.80469221\n",
      " 0.84306629 0.92420857 0.90464839 0.89819616 0.89231569 0.88750625\n",
      " 0.88431698 0.8820383  0.87986696 0.8772881  0.87415117 0.8705644\n",
      " 0.86675328 0.86295229 0.85934317 0.85603756 0.85308242 0.85047644\n",
      " 0.8481884  0.84617001 0.84436512 0.84271729 0.84117073 0.83967382\n",
      " 0.83818012 0.83664954 0.83504832 0.83335018]\n",
      "25 day output [[0.83153594]]\n",
      "1 day input [0.62653637 0.6212509  0.64193875 0.64518632 0.64711404 0.64324575\n",
      " 0.63241425 0.64135319 0.62499215 0.63880359 0.626601   0.61868873\n",
      " 0.61954965 0.62117095 0.64965082 0.66148864 0.62989974 0.64983932\n",
      " 0.64958134 0.64698367 0.64629347 0.69162134 0.67918258 0.68648986\n",
      " 0.68260912 0.62997449 0.62981301 0.61415007 0.62486588 0.63449285\n",
      " 0.62831979 0.60615159 0.61148701 0.61219341 0.61039969 0.57987946\n",
      " 0.58494291 0.5884094  0.58626435 0.61445852 0.61899794 0.61773335\n",
      " 0.6364887  0.63146338 0.62592349 0.63330745 0.63495571 0.6320569\n",
      " 0.62593811 0.62706234 0.63344068 0.65191003 0.66663316 0.69426691\n",
      " 0.70361093 0.71143617 0.73635499 0.7331242  0.76433071 0.76600553\n",
      " 0.76932416 0.76187972 0.76876035 0.76361876 0.77119081 0.76451763\n",
      " 0.75651921 0.74793962 0.76050383 0.76293143 0.80469221 0.84306629\n",
      " 0.92420857 0.90464839 0.89819616 0.89231569 0.88750625 0.88431698\n",
      " 0.8820383  0.87986696 0.8772881  0.87415117 0.8705644  0.86675328\n",
      " 0.86295229 0.85934317 0.85603756 0.85308242 0.85047644 0.8481884\n",
      " 0.84617001 0.84436512 0.84271729 0.84117073 0.83967382 0.83818012\n",
      " 0.83664954 0.83504832 0.83335018 0.83153594]\n"
     ]
    },
    {
     "name": "stdout",
     "output_type": "stream",
     "text": [
      "26 day output [[0.8295931]]\n",
      "1 day input [0.6212509  0.64193875 0.64518632 0.64711404 0.64324575 0.63241425\n",
      " 0.64135319 0.62499215 0.63880359 0.626601   0.61868873 0.61954965\n",
      " 0.62117095 0.64965082 0.66148864 0.62989974 0.64983932 0.64958134\n",
      " 0.64698367 0.64629347 0.69162134 0.67918258 0.68648986 0.68260912\n",
      " 0.62997449 0.62981301 0.61415007 0.62486588 0.63449285 0.62831979\n",
      " 0.60615159 0.61148701 0.61219341 0.61039969 0.57987946 0.58494291\n",
      " 0.5884094  0.58626435 0.61445852 0.61899794 0.61773335 0.6364887\n",
      " 0.63146338 0.62592349 0.63330745 0.63495571 0.6320569  0.62593811\n",
      " 0.62706234 0.63344068 0.65191003 0.66663316 0.69426691 0.70361093\n",
      " 0.71143617 0.73635499 0.7331242  0.76433071 0.76600553 0.76932416\n",
      " 0.76187972 0.76876035 0.76361876 0.77119081 0.76451763 0.75651921\n",
      " 0.74793962 0.76050383 0.76293143 0.80469221 0.84306629 0.92420857\n",
      " 0.90464839 0.89819616 0.89231569 0.88750625 0.88431698 0.8820383\n",
      " 0.87986696 0.8772881  0.87415117 0.8705644  0.86675328 0.86295229\n",
      " 0.85934317 0.85603756 0.85308242 0.85047644 0.8481884  0.84617001\n",
      " 0.84436512 0.84271729 0.84117073 0.83967382 0.83818012 0.83664954\n",
      " 0.83504832 0.83335018 0.83153594 0.82959312]\n",
      "27 day output [[0.8275156]]\n",
      "1 day input [0.64193875 0.64518632 0.64711404 0.64324575 0.63241425 0.64135319\n",
      " 0.62499215 0.63880359 0.626601   0.61868873 0.61954965 0.62117095\n",
      " 0.64965082 0.66148864 0.62989974 0.64983932 0.64958134 0.64698367\n",
      " 0.64629347 0.69162134 0.67918258 0.68648986 0.68260912 0.62997449\n",
      " 0.62981301 0.61415007 0.62486588 0.63449285 0.62831979 0.60615159\n",
      " 0.61148701 0.61219341 0.61039969 0.57987946 0.58494291 0.5884094\n",
      " 0.58626435 0.61445852 0.61899794 0.61773335 0.6364887  0.63146338\n",
      " 0.62592349 0.63330745 0.63495571 0.6320569  0.62593811 0.62706234\n",
      " 0.63344068 0.65191003 0.66663316 0.69426691 0.70361093 0.71143617\n",
      " 0.73635499 0.7331242  0.76433071 0.76600553 0.76932416 0.76187972\n",
      " 0.76876035 0.76361876 0.77119081 0.76451763 0.75651921 0.74793962\n",
      " 0.76050383 0.76293143 0.80469221 0.84306629 0.92420857 0.90464839\n",
      " 0.89819616 0.89231569 0.88750625 0.88431698 0.8820383  0.87986696\n",
      " 0.8772881  0.87415117 0.8705644  0.86675328 0.86295229 0.85934317\n",
      " 0.85603756 0.85308242 0.85047644 0.8481884  0.84617001 0.84436512\n",
      " 0.84271729 0.84117073 0.83967382 0.83818012 0.83664954 0.83504832\n",
      " 0.83335018 0.83153594 0.82959312 0.8275156 ]\n",
      "28 day output [[0.82530314]]\n",
      "1 day input [0.64518632 0.64711404 0.64324575 0.63241425 0.64135319 0.62499215\n",
      " 0.63880359 0.626601   0.61868873 0.61954965 0.62117095 0.64965082\n",
      " 0.66148864 0.62989974 0.64983932 0.64958134 0.64698367 0.64629347\n",
      " 0.69162134 0.67918258 0.68648986 0.68260912 0.62997449 0.62981301\n",
      " 0.61415007 0.62486588 0.63449285 0.62831979 0.60615159 0.61148701\n",
      " 0.61219341 0.61039969 0.57987946 0.58494291 0.5884094  0.58626435\n",
      " 0.61445852 0.61899794 0.61773335 0.6364887  0.63146338 0.62592349\n",
      " 0.63330745 0.63495571 0.6320569  0.62593811 0.62706234 0.63344068\n",
      " 0.65191003 0.66663316 0.69426691 0.70361093 0.71143617 0.73635499\n",
      " 0.7331242  0.76433071 0.76600553 0.76932416 0.76187972 0.76876035\n",
      " 0.76361876 0.77119081 0.76451763 0.75651921 0.74793962 0.76050383\n",
      " 0.76293143 0.80469221 0.84306629 0.92420857 0.90464839 0.89819616\n",
      " 0.89231569 0.88750625 0.88431698 0.8820383  0.87986696 0.8772881\n",
      " 0.87415117 0.8705644  0.86675328 0.86295229 0.85934317 0.85603756\n",
      " 0.85308242 0.85047644 0.8481884  0.84617001 0.84436512 0.84271729\n",
      " 0.84117073 0.83967382 0.83818012 0.83664954 0.83504832 0.83335018\n",
      " 0.83153594 0.82959312 0.8275156  0.82530314]\n",
      "29 day output [[0.8229602]]\n",
      "[[0.8981961607933044], [0.892315685749054], [0.8875062465667725], [0.8843169808387756], [0.8820382952690125], [0.8798669576644897], [0.8772881031036377], [0.8741511702537537], [0.8705644011497498], [0.8667532801628113], [0.8629522919654846], [0.8593431711196899], [0.8560375571250916], [0.8530824184417725], [0.8504764437675476], [0.8481884002685547], [0.8461700081825256], [0.844365119934082], [0.8427172899246216], [0.8411707282066345], [0.8396738171577454], [0.8381801247596741], [0.8366495370864868], [0.8350483179092407], [0.8333501815795898], [0.8315359354019165], [0.8295931220054626], [0.8275156021118164], [0.8253031373023987], [0.8229601979255676]]\n"
     ]
    }
   ],
   "source": [
    "from numpy import array\n",
    "lst_output = []\n",
    "n_steps = 100\n",
    "i = 0\n",
    "while (i<30):\n",
    "    if(len(temp_input)>100):\n",
    "        x_input = np.array(temp_input[1:])\n",
    "        print(\"{} day input {}\".format(1,x_input))\n",
    "        x_input = x_input.reshape(1,-1)\n",
    "        x_input = x_input.reshape (1, n_steps, 1)\n",
    "        yhat = model.predict(x_input, verbose = 0)\n",
    "        print(\"{} day output {}\". format (i, yhat))\n",
    "        temp_input.extend(yhat[0].tolist())\n",
    "        temp_input = temp_input[1:]\n",
    "        lst_output.extend(yhat.tolist())\n",
    "        i = i+1\n",
    "    else:\n",
    "        x_input = x_input.reshape((1, n_steps,1))\n",
    "        yhat = model.predict(x_input, verbose = 0)\n",
    "        print(yhat[0])\n",
    "        temp_input.extend(yhat[0].tolist())\n",
    "        print(len(temp_input))\n",
    "        lst_output.extend(yhat.tolist())\n",
    "        i = i+1\n",
    "print(lst_output)"
   ]
  },
  {
   "cell_type": "code",
   "execution_count": 27,
   "id": "4a8cd45e",
   "metadata": {},
   "outputs": [
    {
     "name": "stdout",
     "output_type": "stream",
     "text": [
      "[101 102 103 104 105 106 107 108 109 110 111 112 113 114 115 116 117 118\n",
      " 119 120 121 122 123 124 125 126 127 128 129 130]\n"
     ]
    }
   ],
   "source": [
    "day_new = np.arange(1,101)\n",
    "day_pred = np.arange(101,131)\n",
    "print(day_pred)"
   ]
  },
  {
   "cell_type": "code",
   "execution_count": 28,
   "id": "67d0d5fe",
   "metadata": {},
   "outputs": [
    {
     "data": {
      "text/plain": [
       "2616"
      ]
     },
     "execution_count": 28,
     "metadata": {},
     "output_type": "execute_result"
    }
   ],
   "source": [
    "import matplotlib.pyplot as plt\n",
    "len(Data)"
   ]
  },
  {
   "cell_type": "code",
   "execution_count": 29,
   "id": "ec6c804a",
   "metadata": {},
   "outputs": [],
   "source": [
    "df3 = Data.tolist()\n",
    "df3.extend(lst_output)"
   ]
  },
  {
   "cell_type": "code",
   "execution_count": 30,
   "id": "7b533fe6",
   "metadata": {},
   "outputs": [
    {
     "data": {
      "text/plain": [
       "[<matplotlib.lines.Line2D at 0x2814b4ba690>]"
      ]
     },
     "execution_count": 30,
     "metadata": {},
     "output_type": "execute_result"
    },
    {
     "data": {
      "image/png": "[encoded data removed]",
      "text/plain": [
       "<Figure size 640x480 with 1 Axes>"
      ]
     },
     "metadata": {},
     "output_type": "display_data"
    }
   ],
   "source": [
    "plt.plot(day_new,scalar.inverse_transform(Data[2516:]))\n",
    "plt.plot(day_pred,scalar.inverse_transform(lst_output))"
   ]
  },
  {
   "cell_type": "code",
   "execution_count": 31,
   "id": "9db58034",
   "metadata": {},
   "outputs": [
    {
     "data": {
      "text/plain": [
       "[<matplotlib.lines.Line2D at 0x2814b4ac210>]"
      ]
     },
     "execution_count": 31,
     "metadata": {},
     "output_type": "execute_result"
    },
    {
     "data": {
      "image/png": "[encoded data removed]",
      "text/plain": [
       "<Figure size 640x480 with 1 Axes>"
      ]
     },
     "metadata": {},
     "output_type": "display_data"
    }
   ],
   "source": [
    "df3=Data.tolist()\n",
    "df3.extend(lst_output)\n",
    "plt.plot(df3[2550:])"
   ]
  },
  {
   "cell_type": "code",
   "execution_count": 32,
   "id": "b51e6f10",
   "metadata": {},
   "outputs": [],
   "source": [
    "df3=scalar.inverse_transform(df3).tolist()"
   ]
  },
  {
   "cell_type": "code",
   "execution_count": 33,
   "id": "60ac6b31",
   "metadata": {},
   "outputs": [
    {
     "data": {
      "text/plain": [
       "[<matplotlib.lines.Line2D at 0x2814b074dd0>]"
      ]
     },
     "execution_count": 33,
     "metadata": {},
     "output_type": "execute_result"
    },
    {
     "data": {
      "image/png": "[encoded data removed]",
      "text/plain": [
       "<Figure size 640x480 with 1 Axes>"
      ]
     },
     "metadata": {},
     "output_type": "display_data"
    }
   ],
   "source": [
    "plt.plot(df3)"
   ]
  },
  {
   "cell_type": "code",
   "execution_count": null,
   "id": "e3ff7a9a",
   "metadata": {},
   "outputs": [],
   "source": []
  }
 ],
 "metadata": {
  "kernelspec": {
   "display_name": "Python 3 (ipykernel)",
   "language": "python",
   "name": "python3"
  },
  "language_info": {
   "codemirror_mode": {
    "name": "ipython",
    "version": 3
   },
   "file_extension": ".py",
   "mimetype": "text/x-python",
   "name": "python",
   "nbconvert_exporter": "python",
   "pygments_lexer": "ipython3",
   "version": "3.11.7"
  }
 },
 "nbformat": 4,
 "nbformat_minor": 5
}
