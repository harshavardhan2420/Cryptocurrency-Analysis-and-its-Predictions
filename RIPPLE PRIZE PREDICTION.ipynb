{
 "cells": [
  {
   "cell_type": "markdown",
   "id": "02c592e9",
   "metadata": {},
   "source": [
    "## RIPPLE COIN PRIZE PREDICTION"
   ]
  },
  {
   "cell_type": "code",
   "execution_count": 1,
   "id": "f2d07c70",
   "metadata": {},
   "outputs": [
    {
     "data": {
      "text/html": [
       "<div>\n",
       "<style scoped>\n",
       "    .dataframe tbody tr th:only-of-type {\n",
       "        vertical-align: middle;\n",
       "    }\n",
       "\n",
       "    .dataframe tbody tr th {\n",
       "        vertical-align: top;\n",
       "    }\n",
       "\n",
       "    .dataframe thead th {\n",
       "        text-align: right;\n",
       "    }\n",
       "</style>\n",
       "<table border=\"1\" class=\"dataframe\">\n",
       "  <thead>\n",
       "    <tr style=\"text-align: right;\">\n",
       "      <th></th>\n",
       "      <th>Date</th>\n",
       "      <th>Open</th>\n",
       "      <th>High</th>\n",
       "      <th>Low</th>\n",
       "      <th>Close</th>\n",
       "      <th>Adj Close</th>\n",
       "      <th>Volume</th>\n",
       "    </tr>\n",
       "  </thead>\n",
       "  <tbody>\n",
       "    <tr>\n",
       "      <th>0</th>\n",
       "      <td>01-01-2018</td>\n",
       "      <td>2.296020</td>\n",
       "      <td>2.391030</td>\n",
       "      <td>2.148970</td>\n",
       "      <td>2.391030</td>\n",
       "      <td>2.391030</td>\n",
       "      <td>1894230016</td>\n",
       "    </tr>\n",
       "    <tr>\n",
       "      <th>1</th>\n",
       "      <td>02-01-2018</td>\n",
       "      <td>2.369480</td>\n",
       "      <td>2.489190</td>\n",
       "      <td>2.247930</td>\n",
       "      <td>2.480900</td>\n",
       "      <td>2.480900</td>\n",
       "      <td>3171010048</td>\n",
       "    </tr>\n",
       "    <tr>\n",
       "      <th>2</th>\n",
       "      <td>03-01-2018</td>\n",
       "      <td>2.464100</td>\n",
       "      <td>3.279380</td>\n",
       "      <td>2.443150</td>\n",
       "      <td>3.105370</td>\n",
       "      <td>3.105370</td>\n",
       "      <td>6635879936</td>\n",
       "    </tr>\n",
       "    <tr>\n",
       "      <th>3</th>\n",
       "      <td>04-01-2018</td>\n",
       "      <td>3.117340</td>\n",
       "      <td>3.841940</td>\n",
       "      <td>3.117340</td>\n",
       "      <td>3.196630</td>\n",
       "      <td>3.196630</td>\n",
       "      <td>8103660032</td>\n",
       "    </tr>\n",
       "    <tr>\n",
       "      <th>4</th>\n",
       "      <td>05-01-2018</td>\n",
       "      <td>3.300810</td>\n",
       "      <td>3.564680</td>\n",
       "      <td>2.825610</td>\n",
       "      <td>3.048710</td>\n",
       "      <td>3.048710</td>\n",
       "      <td>6288500224</td>\n",
       "    </tr>\n",
       "    <tr>\n",
       "      <th>...</th>\n",
       "      <td>...</td>\n",
       "      <td>...</td>\n",
       "      <td>...</td>\n",
       "      <td>...</td>\n",
       "      <td>...</td>\n",
       "      <td>...</td>\n",
       "      <td>...</td>\n",
       "    </tr>\n",
       "    <tr>\n",
       "      <th>2246</th>\n",
       "      <td>25-02-2024</td>\n",
       "      <td>0.545114</td>\n",
       "      <td>0.548400</td>\n",
       "      <td>0.542346</td>\n",
       "      <td>0.542425</td>\n",
       "      <td>0.542425</td>\n",
       "      <td>702442509</td>\n",
       "    </tr>\n",
       "    <tr>\n",
       "      <th>2247</th>\n",
       "      <td>26-02-2024</td>\n",
       "      <td>0.542436</td>\n",
       "      <td>0.552444</td>\n",
       "      <td>0.529233</td>\n",
       "      <td>0.551405</td>\n",
       "      <td>0.551405</td>\n",
       "      <td>1154518101</td>\n",
       "    </tr>\n",
       "    <tr>\n",
       "      <th>2248</th>\n",
       "      <td>27-02-2024</td>\n",
       "      <td>0.551405</td>\n",
       "      <td>0.596065</td>\n",
       "      <td>0.548170</td>\n",
       "      <td>0.586258</td>\n",
       "      <td>0.586258</td>\n",
       "      <td>2360919082</td>\n",
       "    </tr>\n",
       "    <tr>\n",
       "      <th>2249</th>\n",
       "      <td>28-02-2024</td>\n",
       "      <td>0.586252</td>\n",
       "      <td>0.605205</td>\n",
       "      <td>0.543688</td>\n",
       "      <td>0.575811</td>\n",
       "      <td>0.575811</td>\n",
       "      <td>3080912384</td>\n",
       "    </tr>\n",
       "    <tr>\n",
       "      <th>2250</th>\n",
       "      <td>29-02-2024</td>\n",
       "      <td>0.575784</td>\n",
       "      <td>0.624383</td>\n",
       "      <td>0.569154</td>\n",
       "      <td>0.586325</td>\n",
       "      <td>0.586325</td>\n",
       "      <td>3647028817</td>\n",
       "    </tr>\n",
       "  </tbody>\n",
       "</table>\n",
       "<p>2251 rows × 7 columns</p>\n",
       "</div>"
      ],
      "text/plain": [
       "            Date      Open      High       Low     Close  Adj Close  \\\n",
       "0     01-01-2018  2.296020  2.391030  2.148970  2.391030   2.391030   \n",
       "1     02-01-2018  2.369480  2.489190  2.247930  2.480900   2.480900   \n",
       "2     03-01-2018  2.464100  3.279380  2.443150  3.105370   3.105370   \n",
       "3     04-01-2018  3.117340  3.841940  3.117340  3.196630   3.196630   \n",
       "4     05-01-2018  3.300810  3.564680  2.825610  3.048710   3.048710   \n",
       "...          ...       ...       ...       ...       ...        ...   \n",
       "2246  25-02-2024  0.545114  0.548400  0.542346  0.542425   0.542425   \n",
       "2247  26-02-2024  0.542436  0.552444  0.529233  0.551405   0.551405   \n",
       "2248  27-02-2024  0.551405  0.596065  0.548170  0.586258   0.586258   \n",
       "2249  28-02-2024  0.586252  0.605205  0.543688  0.575811   0.575811   \n",
       "2250  29-02-2024  0.575784  0.624383  0.569154  0.586325   0.586325   \n",
       "\n",
       "          Volume  \n",
       "0     1894230016  \n",
       "1     3171010048  \n",
       "2     6635879936  \n",
       "3     8103660032  \n",
       "4     6288500224  \n",
       "...          ...  \n",
       "2246   702442509  \n",
       "2247  1154518101  \n",
       "2248  2360919082  \n",
       "2249  3080912384  \n",
       "2250  3647028817  \n",
       "\n",
       "[2251 rows x 7 columns]"
      ]
     },
     "execution_count": 1,
     "metadata": {},
     "output_type": "execute_result"
    }
   ],
   "source": [
    "import pandas as pd\n",
    "Ripple_data = pd.read_csv(\"RIPPLE_DATA.csv\")\n",
    "Ripple_data"
   ]
  },
  {
   "cell_type": "code",
   "execution_count": 2,
   "id": "7b597f09",
   "metadata": {},
   "outputs": [
    {
     "data": {
      "text/plain": [
       "0    2.39103\n",
       "1    2.48090\n",
       "2    3.10537\n",
       "3    3.19663\n",
       "4    3.04871\n",
       "Name: Close, dtype: float64"
      ]
     },
     "execution_count": 2,
     "metadata": {},
     "output_type": "execute_result"
    }
   ],
   "source": [
    "Data = Ripple_data.reset_index()[\"Close\"]\n",
    "Data.head()"
   ]
  },
  {
   "cell_type": "code",
   "execution_count": 3,
   "id": "0a325691",
   "metadata": {},
   "outputs": [
    {
     "data": {
      "text/plain": [
       "[<matplotlib.lines.Line2D at 0x1dea476a3d0>]"
      ]
     },
     "execution_count": 3,
     "metadata": {},
     "output_type": "execute_result"
    },
    {
     "data": {
      "image/png": "[encoded data removed]",
      "text/plain": [
       "<Figure size 640x480 with 1 Axes>"
      ]
     },
     "metadata": {},
     "output_type": "display_data"
    }
   ],
   "source": [
    "import matplotlib.pyplot as plt\n",
    "plt.plot(Data)"
   ]
  },
  {
   "cell_type": "code",
   "execution_count": 4,
   "id": "22fef044",
   "metadata": {},
   "outputs": [
    {
     "data": {
      "text/plain": [
       "0       2.391030\n",
       "1       2.480900\n",
       "2       3.105370\n",
       "3       3.196630\n",
       "4       3.048710\n",
       "          ...   \n",
       "2246    0.542425\n",
       "2247    0.551405\n",
       "2248    0.586258\n",
       "2249    0.575811\n",
       "2250    0.586325\n",
       "Name: Close, Length: 2251, dtype: float64"
      ]
     },
     "execution_count": 4,
     "metadata": {},
     "output_type": "execute_result"
    }
   ],
   "source": [
    "import numpy as np\n",
    "Data"
   ]
  },
  {
   "cell_type": "code",
   "execution_count": 5,
   "id": "2acd13ff",
   "metadata": {},
   "outputs": [
    {
     "name": "stdout",
     "output_type": "stream",
     "text": [
      "[[0.69526662]\n",
      " [0.72301991]\n",
      " [0.91586619]\n",
      " ...\n",
      " [0.13792429]\n",
      " [0.13469809]\n",
      " [0.13794498]]\n"
     ]
    }
   ],
   "source": [
    "from sklearn.preprocessing import MinMaxScaler\n",
    "scalar = MinMaxScaler(feature_range = (0,1))\n",
    "Data = scalar.fit_transform(np.array(Data).reshape(-1,1))\n",
    "print(Data)"
   ]
  },
  {
   "cell_type": "code",
   "execution_count": 6,
   "id": "8930b0c9",
   "metadata": {},
   "outputs": [
    {
     "data": {
      "text/plain": [
       "(1688, 563)"
      ]
     },
     "execution_count": 6,
     "metadata": {},
     "output_type": "execute_result"
    }
   ],
   "source": [
    "training_size = int(len(Data)*0.75)\n",
    "test_size = len(Data)-training_size\n",
    "train_data, test_data = Data[0:training_size,:], Data[training_size:len(Data),:1]\n",
    "training_size, test_size"
   ]
  },
  {
   "cell_type": "code",
   "execution_count": 7,
   "id": "080d683b",
   "metadata": {},
   "outputs": [],
   "source": [
    "import numpy\n",
    "def create_dataset(dataset, time_step=1):\n",
    "    dataX, dataY = [],[]\n",
    "    for i in range(len(dataset)-time_step-1):\n",
    "        a = dataset[i:(i+time_step), 0]\n",
    "        dataX.append(a)\n",
    "        dataY.append(dataset[i + time_step,0])\n",
    "    return numpy.array(dataX), numpy.array(dataY) "
   ]
  },
  {
   "cell_type": "code",
   "execution_count": 8,
   "id": "0795f8ac",
   "metadata": {},
   "outputs": [],
   "source": [
    "time_step = 100\n",
    "X_train, Y_train = create_dataset(train_data, time_step)\n",
    "X_test, Y_test = create_dataset(test_data, time_step)"
   ]
  },
  {
   "cell_type": "code",
   "execution_count": 9,
   "id": "7f5118e0",
   "metadata": {},
   "outputs": [
    {
     "name": "stdout",
     "output_type": "stream",
     "text": [
      "(1587, 100)\n",
      "(1587,)\n"
     ]
    },
    {
     "data": {
      "text/plain": [
       "(None, None)"
      ]
     },
     "execution_count": 9,
     "metadata": {},
     "output_type": "execute_result"
    }
   ],
   "source": [
    "print(X_train.shape), print(Y_train.shape)"
   ]
  },
  {
   "cell_type": "code",
   "execution_count": 10,
   "id": "d4bcccf7",
   "metadata": {},
   "outputs": [
    {
     "name": "stdout",
     "output_type": "stream",
     "text": [
      "(462, 100)\n",
      "(462,)\n"
     ]
    },
    {
     "data": {
      "text/plain": [
       "(None, None)"
      ]
     },
     "execution_count": 10,
     "metadata": {},
     "output_type": "execute_result"
    }
   ],
   "source": [
    "print(X_test.shape), print(Y_test.shape)"
   ]
  },
  {
   "cell_type": "code",
   "execution_count": 11,
   "id": "0bf0a4b8",
   "metadata": {},
   "outputs": [],
   "source": [
    "X_train = X_train.reshape(X_train.shape[0],X_train.shape[1],1)\n",
    "X_test = X_test.reshape(X_test.shape[0],X_test.shape[1],1)"
   ]
  },
  {
   "cell_type": "code",
   "execution_count": 12,
   "id": "74e8626a",
   "metadata": {},
   "outputs": [],
   "source": [
    "from tensorflow.keras.models import Sequential\n",
    "from tensorflow.keras.layers import Dense\n",
    "from tensorflow.keras.layers import LSTM"
   ]
  },
  {
   "cell_type": "code",
   "execution_count": 13,
   "id": "98a8ee12",
   "metadata": {},
   "outputs": [
    {
     "name": "stderr",
     "output_type": "stream",
     "text": [
      "C:\\Users\\91636\\Desktop\\project\\my_kernal\\Lib\\site-packages\\keras\\src\\layers\\rnn\\rnn.py:204: UserWarning: Do not pass an `input_shape`/`input_dim` argument to a layer. When using Sequential models, prefer using an `Input(shape)` object as the first layer in the model instead.\n",
      "  super().__init__(**kwargs)\n"
     ]
    }
   ],
   "source": [
    "model = Sequential()\n",
    "model.add(LSTM(50,return_sequences=True, input_shape=(100,1)))\n",
    "model.add(LSTM(50,return_sequences=True))\n",
    "model.add(LSTM(50))\n",
    "model.add(Dense(1))\n",
    "model.compile(loss=\"mean_squared_error\",optimizer=\"adam\")"
   ]
  },
  {
   "cell_type": "code",
   "execution_count": 14,
   "id": "c31bc7ed",
   "metadata": {},
   "outputs": [
    {
     "data": {
      "text/html": [
       "<pre style=\"white-space:pre;overflow-x:auto;line-height:normal;font-family:Menlo,'DejaVu Sans Mono',consolas,'Courier New',monospace\"><span style=\"font-weight: bold\">Model: \"sequential\"</span>\n",
       "</pre>\n"
      ],
      "text/plain": [
       "\u001b[1mModel: \"sequential\"\u001b[0m\n"
      ]
     },
     "metadata": {},
     "output_type": "display_data"
    },
    {
     "data": {
      "text/html": [
       "<pre style=\"white-space:pre;overflow-x:auto;line-height:normal;font-family:Menlo,'DejaVu Sans Mono',consolas,'Courier New',monospace\">┏━━━━━━━━━━━━━━━━━━━━━━━━━━━━━━━━━┳━━━━━━━━━━━━━━━━━━━━━━━━┳━━━━━━━━━━━━━━━┓\n",
       "┃<span style=\"font-weight: bold\"> Layer (type)                    </span>┃<span style=\"font-weight: bold\"> Output Shape           </span>┃<span style=\"font-weight: bold\">       Param # </span>┃\n",
       "┡━━━━━━━━━━━━━━━━━━━━━━━━━━━━━━━━━╇━━━━━━━━━━━━━━━━━━━━━━━━╇━━━━━━━━━━━━━━━┩\n",
       "│ lstm (<span style=\"color: #0087ff; text-decoration-color: #0087ff\">LSTM</span>)                     │ (<span style=\"color: #00d7ff; text-decoration-color: #00d7ff\">None</span>, <span style=\"color: #00af00; text-decoration-color: #00af00\">100</span>, <span style=\"color: #00af00; text-decoration-color: #00af00\">50</span>)        │        <span style=\"color: #00af00; text-decoration-color: #00af00\">10,400</span> │\n",
       "├─────────────────────────────────┼────────────────────────┼───────────────┤\n",
       "│ lstm_1 (<span style=\"color: #0087ff; text-decoration-color: #0087ff\">LSTM</span>)                   │ (<span style=\"color: #00d7ff; text-decoration-color: #00d7ff\">None</span>, <span style=\"color: #00af00; text-decoration-color: #00af00\">100</span>, <span style=\"color: #00af00; text-decoration-color: #00af00\">50</span>)        │        <span style=\"color: #00af00; text-decoration-color: #00af00\">20,200</span> │\n",
       "├─────────────────────────────────┼────────────────────────┼───────────────┤\n",
       "│ lstm_2 (<span style=\"color: #0087ff; text-decoration-color: #0087ff\">LSTM</span>)                   │ (<span style=\"color: #00d7ff; text-decoration-color: #00d7ff\">None</span>, <span style=\"color: #00af00; text-decoration-color: #00af00\">50</span>)             │        <span style=\"color: #00af00; text-decoration-color: #00af00\">20,200</span> │\n",
       "├─────────────────────────────────┼────────────────────────┼───────────────┤\n",
       "│ dense (<span style=\"color: #0087ff; text-decoration-color: #0087ff\">Dense</span>)                   │ (<span style=\"color: #00d7ff; text-decoration-color: #00d7ff\">None</span>, <span style=\"color: #00af00; text-decoration-color: #00af00\">1</span>)              │            <span style=\"color: #00af00; text-decoration-color: #00af00\">51</span> │\n",
       "└─────────────────────────────────┴────────────────────────┴───────────────┘\n",
       "</pre>\n"
      ],
      "text/plain": [
       "┏━━━━━━━━━━━━━━━━━━━━━━━━━━━━━━━━━┳━━━━━━━━━━━━━━━━━━━━━━━━┳━━━━━━━━━━━━━━━┓\n",
       "┃\u001b[1m \u001b[0m\u001b[1mLayer (type)                   \u001b[0m\u001b[1m \u001b[0m┃\u001b[1m \u001b[0m\u001b[1mOutput Shape          \u001b[0m\u001b[1m \u001b[0m┃\u001b[1m \u001b[0m\u001b[1m      Param #\u001b[0m\u001b[1m \u001b[0m┃\n",
       "┡━━━━━━━━━━━━━━━━━━━━━━━━━━━━━━━━━╇━━━━━━━━━━━━━━━━━━━━━━━━╇━━━━━━━━━━━━━━━┩\n",
       "│ lstm (\u001b[38;5;33mLSTM\u001b[0m)                     │ (\u001b[38;5;45mNone\u001b[0m, \u001b[38;5;34m100\u001b[0m, \u001b[38;5;34m50\u001b[0m)        │        \u001b[38;5;34m10,400\u001b[0m │\n",
       "├─────────────────────────────────┼────────────────────────┼───────────────┤\n",
       "│ lstm_1 (\u001b[38;5;33mLSTM\u001b[0m)                   │ (\u001b[38;5;45mNone\u001b[0m, \u001b[38;5;34m100\u001b[0m, \u001b[38;5;34m50\u001b[0m)        │        \u001b[38;5;34m20,200\u001b[0m │\n",
       "├─────────────────────────────────┼────────────────────────┼───────────────┤\n",
       "│ lstm_2 (\u001b[38;5;33mLSTM\u001b[0m)                   │ (\u001b[38;5;45mNone\u001b[0m, \u001b[38;5;34m50\u001b[0m)             │        \u001b[38;5;34m20,200\u001b[0m │\n",
       "├─────────────────────────────────┼────────────────────────┼───────────────┤\n",
       "│ dense (\u001b[38;5;33mDense\u001b[0m)                   │ (\u001b[38;5;45mNone\u001b[0m, \u001b[38;5;34m1\u001b[0m)              │            \u001b[38;5;34m51\u001b[0m │\n",
       "└─────────────────────────────────┴────────────────────────┴───────────────┘\n"
      ]
     },
     "metadata": {},
     "output_type": "display_data"
    },
    {
     "data": {
      "text/html": [
       "<pre style=\"white-space:pre;overflow-x:auto;line-height:normal;font-family:Menlo,'DejaVu Sans Mono',consolas,'Courier New',monospace\"><span style=\"font-weight: bold\"> Total params: </span><span style=\"color: #00af00; text-decoration-color: #00af00\">50,851</span> (198.64 KB)\n",
       "</pre>\n"
      ],
      "text/plain": [
       "\u001b[1m Total params: \u001b[0m\u001b[38;5;34m50,851\u001b[0m (198.64 KB)\n"
      ]
     },
     "metadata": {},
     "output_type": "display_data"
    },
    {
     "data": {
      "text/html": [
       "<pre style=\"white-space:pre;overflow-x:auto;line-height:normal;font-family:Menlo,'DejaVu Sans Mono',consolas,'Courier New',monospace\"><span style=\"font-weight: bold\"> Trainable params: </span><span style=\"color: #00af00; text-decoration-color: #00af00\">50,851</span> (198.64 KB)\n",
       "</pre>\n"
      ],
      "text/plain": [
       "\u001b[1m Trainable params: \u001b[0m\u001b[38;5;34m50,851\u001b[0m (198.64 KB)\n"
      ]
     },
     "metadata": {},
     "output_type": "display_data"
    },
    {
     "data": {
      "text/html": [
       "<pre style=\"white-space:pre;overflow-x:auto;line-height:normal;font-family:Menlo,'DejaVu Sans Mono',consolas,'Courier New',monospace\"><span style=\"font-weight: bold\"> Non-trainable params: </span><span style=\"color: #00af00; text-decoration-color: #00af00\">0</span> (0.00 B)\n",
       "</pre>\n"
      ],
      "text/plain": [
       "\u001b[1m Non-trainable params: \u001b[0m\u001b[38;5;34m0\u001b[0m (0.00 B)\n"
      ]
     },
     "metadata": {},
     "output_type": "display_data"
    }
   ],
   "source": [
    "model.summary()"
   ]
  },
  {
   "cell_type": "code",
   "execution_count": 15,
   "id": "fcbc01d2",
   "metadata": {},
   "outputs": [
    {
     "name": "stdout",
     "output_type": "stream",
     "text": [
      "Epoch 1/100\n",
      "\u001b[1m25/25\u001b[0m \u001b[32m━━━━━━━━━━━━━━━━━━━━\u001b[0m\u001b[37m\u001b[0m \u001b[1m5s\u001b[0m 87ms/step - loss: 0.0099 - val_loss: 3.9331e-04\n",
      "Epoch 2/100\n",
      "\u001b[1m25/25\u001b[0m \u001b[32m━━━━━━━━━━━━━━━━━━━━\u001b[0m\u001b[37m\u001b[0m \u001b[1m2s\u001b[0m 69ms/step - loss: 0.0018 - val_loss: 2.3741e-04\n",
      "Epoch 3/100\n",
      "\u001b[1m25/25\u001b[0m \u001b[32m━━━━━━━━━━━━━━━━━━━━\u001b[0m\u001b[37m\u001b[0m \u001b[1m2s\u001b[0m 70ms/step - loss: 0.0011 - val_loss: 2.8482e-04\n",
      "Epoch 4/100\n",
      "\u001b[1m25/25\u001b[0m \u001b[32m━━━━━━━━━━━━━━━━━━━━\u001b[0m\u001b[37m\u001b[0m \u001b[1m2s\u001b[0m 70ms/step - loss: 9.4871e-04 - val_loss: 1.8022e-04\n",
      "Epoch 5/100\n",
      "\u001b[1m25/25\u001b[0m \u001b[32m━━━━━━━━━━━━━━━━━━━━\u001b[0m\u001b[37m\u001b[0m \u001b[1m2s\u001b[0m 70ms/step - loss: 6.7089e-04 - val_loss: 1.8041e-04\n",
      "Epoch 6/100\n",
      "\u001b[1m25/25\u001b[0m \u001b[32m━━━━━━━━━━━━━━━━━━━━\u001b[0m\u001b[37m\u001b[0m \u001b[1m2s\u001b[0m 69ms/step - loss: 7.2336e-04 - val_loss: 1.6139e-04\n",
      "Epoch 7/100\n",
      "\u001b[1m25/25\u001b[0m \u001b[32m━━━━━━━━━━━━━━━━━━━━\u001b[0m\u001b[37m\u001b[0m \u001b[1m2s\u001b[0m 78ms/step - loss: 6.9308e-04 - val_loss: 1.4911e-04\n",
      "Epoch 8/100\n",
      "\u001b[1m25/25\u001b[0m \u001b[32m━━━━━━━━━━━━━━━━━━━━\u001b[0m\u001b[37m\u001b[0m \u001b[1m2s\u001b[0m 75ms/step - loss: 7.8873e-04 - val_loss: 1.7783e-04\n",
      "Epoch 9/100\n",
      "\u001b[1m25/25\u001b[0m \u001b[32m━━━━━━━━━━━━━━━━━━━━\u001b[0m\u001b[37m\u001b[0m \u001b[1m2s\u001b[0m 73ms/step - loss: 6.3600e-04 - val_loss: 2.2564e-04\n",
      "Epoch 10/100\n",
      "\u001b[1m25/25\u001b[0m \u001b[32m━━━━━━━━━━━━━━━━━━━━\u001b[0m\u001b[37m\u001b[0m \u001b[1m2s\u001b[0m 78ms/step - loss: 6.5546e-04 - val_loss: 1.3604e-04\n",
      "Epoch 11/100\n",
      "\u001b[1m25/25\u001b[0m \u001b[32m━━━━━━━━━━━━━━━━━━━━\u001b[0m\u001b[37m\u001b[0m \u001b[1m2s\u001b[0m 71ms/step - loss: 6.1287e-04 - val_loss: 1.2154e-04\n",
      "Epoch 12/100\n",
      "\u001b[1m25/25\u001b[0m \u001b[32m━━━━━━━━━━━━━━━━━━━━\u001b[0m\u001b[37m\u001b[0m \u001b[1m2s\u001b[0m 72ms/step - loss: 6.0316e-04 - val_loss: 1.2797e-04\n",
      "Epoch 13/100\n",
      "\u001b[1m25/25\u001b[0m \u001b[32m━━━━━━━━━━━━━━━━━━━━\u001b[0m\u001b[37m\u001b[0m \u001b[1m2s\u001b[0m 76ms/step - loss: 4.9455e-04 - val_loss: 1.2556e-04\n",
      "Epoch 14/100\n",
      "\u001b[1m25/25\u001b[0m \u001b[32m━━━━━━━━━━━━━━━━━━━━\u001b[0m\u001b[37m\u001b[0m \u001b[1m2s\u001b[0m 75ms/step - loss: 5.4242e-04 - val_loss: 1.2674e-04\n",
      "Epoch 15/100\n",
      "\u001b[1m25/25\u001b[0m \u001b[32m━━━━━━━━━━━━━━━━━━━━\u001b[0m\u001b[37m\u001b[0m \u001b[1m2s\u001b[0m 72ms/step - loss: 4.7505e-04 - val_loss: 1.0480e-04\n",
      "Epoch 16/100\n",
      "\u001b[1m25/25\u001b[0m \u001b[32m━━━━━━━━━━━━━━━━━━━━\u001b[0m\u001b[37m\u001b[0m \u001b[1m2s\u001b[0m 72ms/step - loss: 3.7962e-04 - val_loss: 1.3709e-04\n",
      "Epoch 17/100\n",
      "\u001b[1m25/25\u001b[0m \u001b[32m━━━━━━━━━━━━━━━━━━━━\u001b[0m\u001b[37m\u001b[0m \u001b[1m2s\u001b[0m 73ms/step - loss: 3.7762e-04 - val_loss: 8.8480e-05\n",
      "Epoch 18/100\n",
      "\u001b[1m25/25\u001b[0m \u001b[32m━━━━━━━━━━━━━━━━━━━━\u001b[0m\u001b[37m\u001b[0m \u001b[1m2s\u001b[0m 73ms/step - loss: 4.8774e-04 - val_loss: 1.2911e-04\n",
      "Epoch 19/100\n",
      "\u001b[1m25/25\u001b[0m \u001b[32m━━━━━━━━━━━━━━━━━━━━\u001b[0m\u001b[37m\u001b[0m \u001b[1m2s\u001b[0m 73ms/step - loss: 3.3640e-04 - val_loss: 8.6320e-05\n",
      "Epoch 20/100\n",
      "\u001b[1m25/25\u001b[0m \u001b[32m━━━━━━━━━━━━━━━━━━━━\u001b[0m\u001b[37m\u001b[0m \u001b[1m2s\u001b[0m 72ms/step - loss: 3.5225e-04 - val_loss: 1.0233e-04\n",
      "Epoch 21/100\n",
      "\u001b[1m25/25\u001b[0m \u001b[32m━━━━━━━━━━━━━━━━━━━━\u001b[0m\u001b[37m\u001b[0m \u001b[1m2s\u001b[0m 72ms/step - loss: 2.8934e-04 - val_loss: 8.1156e-05\n",
      "Epoch 22/100\n",
      "\u001b[1m25/25\u001b[0m \u001b[32m━━━━━━━━━━━━━━━━━━━━\u001b[0m\u001b[37m\u001b[0m \u001b[1m2s\u001b[0m 71ms/step - loss: 3.1233e-04 - val_loss: 7.7642e-05\n",
      "Epoch 23/100\n",
      "\u001b[1m25/25\u001b[0m \u001b[32m━━━━━━━━━━━━━━━━━━━━\u001b[0m\u001b[37m\u001b[0m \u001b[1m2s\u001b[0m 73ms/step - loss: 2.8810e-04 - val_loss: 7.8719e-05\n",
      "Epoch 24/100\n",
      "\u001b[1m25/25\u001b[0m \u001b[32m━━━━━━━━━━━━━━━━━━━━\u001b[0m\u001b[37m\u001b[0m \u001b[1m2s\u001b[0m 72ms/step - loss: 2.8284e-04 - val_loss: 9.6598e-05\n",
      "Epoch 25/100\n",
      "\u001b[1m25/25\u001b[0m \u001b[32m━━━━━━━━━━━━━━━━━━━━\u001b[0m\u001b[37m\u001b[0m \u001b[1m2s\u001b[0m 73ms/step - loss: 3.2188e-04 - val_loss: 1.1285e-04\n",
      "Epoch 26/100\n",
      "\u001b[1m25/25\u001b[0m \u001b[32m━━━━━━━━━━━━━━━━━━━━\u001b[0m\u001b[37m\u001b[0m \u001b[1m2s\u001b[0m 72ms/step - loss: 3.3479e-04 - val_loss: 7.1140e-05\n",
      "Epoch 27/100\n",
      "\u001b[1m25/25\u001b[0m \u001b[32m━━━━━━━━━━━━━━━━━━━━\u001b[0m\u001b[37m\u001b[0m \u001b[1m2s\u001b[0m 72ms/step - loss: 2.7738e-04 - val_loss: 1.6005e-04\n",
      "Epoch 28/100\n",
      "\u001b[1m25/25\u001b[0m \u001b[32m━━━━━━━━━━━━━━━━━━━━\u001b[0m\u001b[37m\u001b[0m \u001b[1m2s\u001b[0m 75ms/step - loss: 3.2256e-04 - val_loss: 1.0492e-04\n",
      "Epoch 29/100\n",
      "\u001b[1m25/25\u001b[0m \u001b[32m━━━━━━━━━━━━━━━━━━━━\u001b[0m\u001b[37m\u001b[0m \u001b[1m2s\u001b[0m 73ms/step - loss: 2.6674e-04 - val_loss: 8.4939e-05\n",
      "Epoch 30/100\n",
      "\u001b[1m25/25\u001b[0m \u001b[32m━━━━━━━━━━━━━━━━━━━━\u001b[0m\u001b[37m\u001b[0m \u001b[1m2s\u001b[0m 73ms/step - loss: 2.5973e-04 - val_loss: 6.9887e-05\n",
      "Epoch 31/100\n",
      "\u001b[1m25/25\u001b[0m \u001b[32m━━━━━━━━━━━━━━━━━━━━\u001b[0m\u001b[37m\u001b[0m \u001b[1m2s\u001b[0m 72ms/step - loss: 3.1047e-04 - val_loss: 8.6384e-05\n",
      "Epoch 32/100\n",
      "\u001b[1m25/25\u001b[0m \u001b[32m━━━━━━━━━━━━━━━━━━━━\u001b[0m\u001b[37m\u001b[0m \u001b[1m2s\u001b[0m 72ms/step - loss: 2.5791e-04 - val_loss: 6.7429e-05\n",
      "Epoch 33/100\n",
      "\u001b[1m25/25\u001b[0m \u001b[32m━━━━━━━━━━━━━━━━━━━━\u001b[0m\u001b[37m\u001b[0m \u001b[1m2s\u001b[0m 71ms/step - loss: 2.4768e-04 - val_loss: 8.0237e-05\n",
      "Epoch 34/100\n",
      "\u001b[1m25/25\u001b[0m \u001b[32m━━━━━━━━━━━━━━━━━━━━\u001b[0m\u001b[37m\u001b[0m \u001b[1m2s\u001b[0m 72ms/step - loss: 2.3691e-04 - val_loss: 8.1365e-05\n",
      "Epoch 35/100\n",
      "\u001b[1m25/25\u001b[0m \u001b[32m━━━━━━━━━━━━━━━━━━━━\u001b[0m\u001b[37m\u001b[0m \u001b[1m2s\u001b[0m 75ms/step - loss: 3.0454e-04 - val_loss: 6.7579e-05\n",
      "Epoch 36/100\n",
      "\u001b[1m25/25\u001b[0m \u001b[32m━━━━━━━━━━━━━━━━━━━━\u001b[0m\u001b[37m\u001b[0m \u001b[1m2s\u001b[0m 73ms/step - loss: 2.2556e-04 - val_loss: 5.9778e-05\n",
      "Epoch 37/100\n",
      "\u001b[1m25/25\u001b[0m \u001b[32m━━━━━━━━━━━━━━━━━━━━\u001b[0m\u001b[37m\u001b[0m \u001b[1m2s\u001b[0m 76ms/step - loss: 2.3834e-04 - val_loss: 6.0194e-05\n",
      "Epoch 38/100\n",
      "\u001b[1m25/25\u001b[0m \u001b[32m━━━━━━━━━━━━━━━━━━━━\u001b[0m\u001b[37m\u001b[0m \u001b[1m2s\u001b[0m 74ms/step - loss: 2.4803e-04 - val_loss: 5.8480e-05\n",
      "Epoch 39/100\n",
      "\u001b[1m25/25\u001b[0m \u001b[32m━━━━━━━━━━━━━━━━━━━━\u001b[0m\u001b[37m\u001b[0m \u001b[1m2s\u001b[0m 73ms/step - loss: 2.0655e-04 - val_loss: 8.5209e-05\n",
      "Epoch 40/100\n",
      "\u001b[1m25/25\u001b[0m \u001b[32m━━━━━━━━━━━━━━━━━━━━\u001b[0m\u001b[37m\u001b[0m \u001b[1m2s\u001b[0m 77ms/step - loss: 2.6253e-04 - val_loss: 5.7846e-05\n",
      "Epoch 41/100\n",
      "\u001b[1m25/25\u001b[0m \u001b[32m━━━━━━━━━━━━━━━━━━━━\u001b[0m\u001b[37m\u001b[0m \u001b[1m2s\u001b[0m 73ms/step - loss: 1.9066e-04 - val_loss: 5.9464e-05\n",
      "Epoch 42/100\n",
      "\u001b[1m25/25\u001b[0m \u001b[32m━━━━━━━━━━━━━━━━━━━━\u001b[0m\u001b[37m\u001b[0m \u001b[1m2s\u001b[0m 73ms/step - loss: 2.6078e-04 - val_loss: 6.6770e-05\n",
      "Epoch 43/100\n",
      "\u001b[1m25/25\u001b[0m \u001b[32m━━━━━━━━━━━━━━━━━━━━\u001b[0m\u001b[37m\u001b[0m \u001b[1m2s\u001b[0m 72ms/step - loss: 1.9494e-04 - val_loss: 5.3196e-05\n",
      "Epoch 44/100\n",
      "\u001b[1m25/25\u001b[0m \u001b[32m━━━━━━━━━━━━━━━━━━━━\u001b[0m\u001b[37m\u001b[0m \u001b[1m2s\u001b[0m 74ms/step - loss: 2.0981e-04 - val_loss: 9.5308e-05\n",
      "Epoch 45/100\n",
      "\u001b[1m25/25\u001b[0m \u001b[32m━━━━━━━━━━━━━━━━━━━━\u001b[0m\u001b[37m\u001b[0m \u001b[1m2s\u001b[0m 73ms/step - loss: 2.8012e-04 - val_loss: 5.6214e-05\n",
      "Epoch 46/100\n",
      "\u001b[1m25/25\u001b[0m \u001b[32m━━━━━━━━━━━━━━━━━━━━\u001b[0m\u001b[37m\u001b[0m \u001b[1m2s\u001b[0m 73ms/step - loss: 2.2439e-04 - val_loss: 5.7226e-05\n",
      "Epoch 47/100\n",
      "\u001b[1m25/25\u001b[0m \u001b[32m━━━━━━━━━━━━━━━━━━━━\u001b[0m\u001b[37m\u001b[0m \u001b[1m2s\u001b[0m 75ms/step - loss: 2.1834e-04 - val_loss: 8.2680e-05\n",
      "Epoch 48/100\n",
      "\u001b[1m25/25\u001b[0m \u001b[32m━━━━━━━━━━━━━━━━━━━━\u001b[0m\u001b[37m\u001b[0m \u001b[1m2s\u001b[0m 72ms/step - loss: 2.0016e-04 - val_loss: 8.6187e-05\n",
      "Epoch 49/100\n",
      "\u001b[1m25/25\u001b[0m \u001b[32m━━━━━━━━━━━━━━━━━━━━\u001b[0m\u001b[37m\u001b[0m \u001b[1m2s\u001b[0m 75ms/step - loss: 2.0991e-04 - val_loss: 5.6923e-05\n",
      "Epoch 50/100\n",
      "\u001b[1m25/25\u001b[0m \u001b[32m━━━━━━━━━━━━━━━━━━━━\u001b[0m\u001b[37m\u001b[0m \u001b[1m2s\u001b[0m 73ms/step - loss: 1.5391e-04 - val_loss: 6.2064e-05\n",
      "Epoch 51/100\n",
      "\u001b[1m25/25\u001b[0m \u001b[32m━━━━━━━━━━━━━━━━━━━━\u001b[0m\u001b[37m\u001b[0m \u001b[1m2s\u001b[0m 73ms/step - loss: 2.2947e-04 - val_loss: 5.2128e-05\n",
      "Epoch 52/100\n",
      "\u001b[1m25/25\u001b[0m \u001b[32m━━━━━━━━━━━━━━━━━━━━\u001b[0m\u001b[37m\u001b[0m \u001b[1m2s\u001b[0m 84ms/step - loss: 1.6978e-04 - val_loss: 6.0323e-05\n",
      "Epoch 53/100\n",
      "\u001b[1m25/25\u001b[0m \u001b[32m━━━━━━━━━━━━━━━━━━━━\u001b[0m\u001b[37m\u001b[0m \u001b[1m2s\u001b[0m 76ms/step - loss: 1.8751e-04 - val_loss: 4.8367e-05\n",
      "Epoch 54/100\n",
      "\u001b[1m25/25\u001b[0m \u001b[32m━━━━━━━━━━━━━━━━━━━━\u001b[0m\u001b[37m\u001b[0m \u001b[1m2s\u001b[0m 77ms/step - loss: 2.2152e-04 - val_loss: 4.8448e-05\n",
      "Epoch 55/100\n",
      "\u001b[1m25/25\u001b[0m \u001b[32m━━━━━━━━━━━━━━━━━━━━\u001b[0m\u001b[37m\u001b[0m \u001b[1m2s\u001b[0m 81ms/step - loss: 2.2402e-04 - val_loss: 5.4082e-05\n",
      "Epoch 56/100\n",
      "\u001b[1m25/25\u001b[0m \u001b[32m━━━━━━━━━━━━━━━━━━━━\u001b[0m\u001b[37m\u001b[0m \u001b[1m2s\u001b[0m 78ms/step - loss: 1.9418e-04 - val_loss: 8.0588e-05\n",
      "Epoch 57/100\n",
      "\u001b[1m25/25\u001b[0m \u001b[32m━━━━━━━━━━━━━━━━━━━━\u001b[0m\u001b[37m\u001b[0m \u001b[1m2s\u001b[0m 79ms/step - loss: 2.4435e-04 - val_loss: 5.4535e-05\n",
      "Epoch 58/100\n",
      "\u001b[1m25/25\u001b[0m \u001b[32m━━━━━━━━━━━━━━━━━━━━\u001b[0m\u001b[37m\u001b[0m \u001b[1m2s\u001b[0m 76ms/step - loss: 1.6134e-04 - val_loss: 7.6713e-05\n",
      "Epoch 59/100\n",
      "\u001b[1m25/25\u001b[0m \u001b[32m━━━━━━━━━━━━━━━━━━━━\u001b[0m\u001b[37m\u001b[0m \u001b[1m2s\u001b[0m 75ms/step - loss: 2.2501e-04 - val_loss: 5.9652e-05\n",
      "Epoch 60/100\n",
      "\u001b[1m25/25\u001b[0m \u001b[32m━━━━━━━━━━━━━━━━━━━━\u001b[0m\u001b[37m\u001b[0m \u001b[1m2s\u001b[0m 76ms/step - loss: 2.0205e-04 - val_loss: 5.3930e-05\n",
      "Epoch 61/100\n",
      "\u001b[1m25/25\u001b[0m \u001b[32m━━━━━━━━━━━━━━━━━━━━\u001b[0m\u001b[37m\u001b[0m \u001b[1m2s\u001b[0m 72ms/step - loss: 1.4828e-04 - val_loss: 6.2618e-05\n",
      "Epoch 62/100\n",
      "\u001b[1m25/25\u001b[0m \u001b[32m━━━━━━━━━━━━━━━━━━━━\u001b[0m\u001b[37m\u001b[0m \u001b[1m2s\u001b[0m 80ms/step - loss: 2.2567e-04 - val_loss: 4.6185e-05\n",
      "Epoch 63/100\n",
      "\u001b[1m25/25\u001b[0m \u001b[32m━━━━━━━━━━━━━━━━━━━━\u001b[0m\u001b[37m\u001b[0m \u001b[1m2s\u001b[0m 97ms/step - loss: 2.0741e-04 - val_loss: 4.6461e-05\n",
      "Epoch 64/100\n",
      "\u001b[1m25/25\u001b[0m \u001b[32m━━━━━━━━━━━━━━━━━━━━\u001b[0m\u001b[37m\u001b[0m \u001b[1m3s\u001b[0m 107ms/step - loss: 1.8953e-04 - val_loss: 7.6506e-05\n",
      "Epoch 65/100\n",
      "\u001b[1m25/25\u001b[0m \u001b[32m━━━━━━━━━━━━━━━━━━━━\u001b[0m\u001b[37m\u001b[0m \u001b[1m2s\u001b[0m 71ms/step - loss: 1.9607e-04 - val_loss: 7.5464e-05\n",
      "Epoch 66/100\n",
      "\u001b[1m25/25\u001b[0m \u001b[32m━━━━━━━━━━━━━━━━━━━━\u001b[0m\u001b[37m\u001b[0m \u001b[1m2s\u001b[0m 72ms/step - loss: 1.9348e-04 - val_loss: 4.4554e-05\n",
      "Epoch 67/100\n",
      "\u001b[1m25/25\u001b[0m \u001b[32m━━━━━━━━━━━━━━━━━━━━\u001b[0m\u001b[37m\u001b[0m \u001b[1m2s\u001b[0m 75ms/step - loss: 1.7180e-04 - val_loss: 6.7388e-05\n",
      "Epoch 68/100\n",
      "\u001b[1m25/25\u001b[0m \u001b[32m━━━━━━━━━━━━━━━━━━━━\u001b[0m\u001b[37m\u001b[0m \u001b[1m2s\u001b[0m 77ms/step - loss: 2.0277e-04 - val_loss: 4.7210e-05\n",
      "Epoch 69/100\n",
      "\u001b[1m25/25\u001b[0m \u001b[32m━━━━━━━━━━━━━━━━━━━━\u001b[0m\u001b[37m\u001b[0m \u001b[1m2s\u001b[0m 78ms/step - loss: 1.6719e-04 - val_loss: 8.2221e-05\n",
      "Epoch 70/100\n",
      "\u001b[1m25/25\u001b[0m \u001b[32m━━━━━━━━━━━━━━━━━━━━\u001b[0m\u001b[37m\u001b[0m \u001b[1m2s\u001b[0m 75ms/step - loss: 1.8923e-04 - val_loss: 4.7586e-05\n",
      "Epoch 71/100\n",
      "\u001b[1m25/25\u001b[0m \u001b[32m━━━━━━━━━━━━━━━━━━━━\u001b[0m\u001b[37m\u001b[0m \u001b[1m2s\u001b[0m 79ms/step - loss: 1.5683e-04 - val_loss: 7.6882e-05\n",
      "Epoch 72/100\n",
      "\u001b[1m25/25\u001b[0m \u001b[32m━━━━━━━━━━━━━━━━━━━━\u001b[0m\u001b[37m\u001b[0m \u001b[1m2s\u001b[0m 79ms/step - loss: 1.8352e-04 - val_loss: 8.1288e-05\n",
      "Epoch 73/100\n",
      "\u001b[1m25/25\u001b[0m \u001b[32m━━━━━━━━━━━━━━━━━━━━\u001b[0m\u001b[37m\u001b[0m \u001b[1m2s\u001b[0m 71ms/step - loss: 1.6728e-04 - val_loss: 4.8217e-05\n",
      "Epoch 74/100\n",
      "\u001b[1m25/25\u001b[0m \u001b[32m━━━━━━━━━━━━━━━━━━━━\u001b[0m\u001b[37m\u001b[0m \u001b[1m3s\u001b[0m 113ms/step - loss: 1.6565e-04 - val_loss: 4.9425e-05\n",
      "Epoch 75/100\n",
      "\u001b[1m25/25\u001b[0m \u001b[32m━━━━━━━━━━━━━━━━━━━━\u001b[0m\u001b[37m\u001b[0m \u001b[1m2s\u001b[0m 75ms/step - loss: 1.9110e-04 - val_loss: 6.8704e-05\n",
      "Epoch 76/100\n",
      "\u001b[1m25/25\u001b[0m \u001b[32m━━━━━━━━━━━━━━━━━━━━\u001b[0m\u001b[37m\u001b[0m \u001b[1m2s\u001b[0m 87ms/step - loss: 2.4743e-04 - val_loss: 4.6674e-05\n",
      "Epoch 77/100\n",
      "\u001b[1m25/25\u001b[0m \u001b[32m━━━━━━━━━━━━━━━━━━━━\u001b[0m\u001b[37m\u001b[0m \u001b[1m2s\u001b[0m 84ms/step - loss: 1.5346e-04 - val_loss: 4.3909e-05\n",
      "Epoch 78/100\n",
      "\u001b[1m25/25\u001b[0m \u001b[32m━━━━━━━━━━━━━━━━━━━━\u001b[0m\u001b[37m\u001b[0m \u001b[1m2s\u001b[0m 77ms/step - loss: 1.5891e-04 - val_loss: 6.1588e-05\n",
      "Epoch 79/100\n",
      "\u001b[1m25/25\u001b[0m \u001b[32m━━━━━━━━━━━━━━━━━━━━\u001b[0m\u001b[37m\u001b[0m \u001b[1m3s\u001b[0m 108ms/step - loss: 1.8798e-04 - val_loss: 5.0782e-05\n",
      "Epoch 80/100\n",
      "\u001b[1m25/25\u001b[0m \u001b[32m━━━━━━━━━━━━━━━━━━━━\u001b[0m\u001b[37m\u001b[0m \u001b[1m3s\u001b[0m 98ms/step - loss: 1.6555e-04 - val_loss: 4.4916e-05\n",
      "Epoch 81/100\n",
      "\u001b[1m25/25\u001b[0m \u001b[32m━━━━━━━━━━━━━━━━━━━━\u001b[0m\u001b[37m\u001b[0m \u001b[1m2s\u001b[0m 75ms/step - loss: 1.5709e-04 - val_loss: 5.7255e-05\n",
      "Epoch 82/100\n",
      "\u001b[1m25/25\u001b[0m \u001b[32m━━━━━━━━━━━━━━━━━━━━\u001b[0m\u001b[37m\u001b[0m \u001b[1m2s\u001b[0m 74ms/step - loss: 1.8761e-04 - val_loss: 7.2203e-05\n",
      "Epoch 83/100\n",
      "\u001b[1m25/25\u001b[0m \u001b[32m━━━━━━━━━━━━━━━━━━━━\u001b[0m\u001b[37m\u001b[0m \u001b[1m2s\u001b[0m 72ms/step - loss: 1.8741e-04 - val_loss: 4.5295e-05\n",
      "Epoch 84/100\n",
      "\u001b[1m25/25\u001b[0m \u001b[32m━━━━━━━━━━━━━━━━━━━━\u001b[0m\u001b[37m\u001b[0m \u001b[1m2s\u001b[0m 73ms/step - loss: 1.6238e-04 - val_loss: 4.3479e-05\n",
      "Epoch 85/100\n",
      "\u001b[1m25/25\u001b[0m \u001b[32m━━━━━━━━━━━━━━━━━━━━\u001b[0m\u001b[37m\u001b[0m \u001b[1m2s\u001b[0m 70ms/step - loss: 1.9909e-04 - val_loss: 4.3828e-05\n",
      "Epoch 86/100\n",
      "\u001b[1m25/25\u001b[0m \u001b[32m━━━━━━━━━━━━━━━━━━━━\u001b[0m\u001b[37m\u001b[0m \u001b[1m2s\u001b[0m 72ms/step - loss: 1.8718e-04 - val_loss: 5.1073e-05\n",
      "Epoch 87/100\n",
      "\u001b[1m25/25\u001b[0m \u001b[32m━━━━━━━━━━━━━━━━━━━━\u001b[0m\u001b[37m\u001b[0m \u001b[1m2s\u001b[0m 70ms/step - loss: 1.5997e-04 - val_loss: 5.6520e-05\n",
      "Epoch 88/100\n",
      "\u001b[1m25/25\u001b[0m \u001b[32m━━━━━━━━━━━━━━━━━━━━\u001b[0m\u001b[37m\u001b[0m \u001b[1m2s\u001b[0m 72ms/step - loss: 2.2901e-04 - val_loss: 6.1396e-05\n",
      "Epoch 89/100\n",
      "\u001b[1m25/25\u001b[0m \u001b[32m━━━━━━━━━━━━━━━━━━━━\u001b[0m\u001b[37m\u001b[0m \u001b[1m2s\u001b[0m 70ms/step - loss: 1.7810e-04 - val_loss: 7.0795e-05\n",
      "Epoch 90/100\n",
      "\u001b[1m25/25\u001b[0m \u001b[32m━━━━━━━━━━━━━━━━━━━━\u001b[0m\u001b[37m\u001b[0m \u001b[1m2s\u001b[0m 70ms/step - loss: 1.9138e-04 - val_loss: 4.6494e-05\n",
      "Epoch 91/100\n",
      "\u001b[1m25/25\u001b[0m \u001b[32m━━━━━━━━━━━━━━━━━━━━\u001b[0m\u001b[37m\u001b[0m \u001b[1m2s\u001b[0m 70ms/step - loss: 1.7187e-04 - val_loss: 4.9191e-05\n",
      "Epoch 92/100\n",
      "\u001b[1m25/25\u001b[0m \u001b[32m━━━━━━━━━━━━━━━━━━━━\u001b[0m\u001b[37m\u001b[0m \u001b[1m2s\u001b[0m 71ms/step - loss: 1.5514e-04 - val_loss: 5.3963e-05\n",
      "Epoch 93/100\n",
      "\u001b[1m25/25\u001b[0m \u001b[32m━━━━━━━━━━━━━━━━━━━━\u001b[0m\u001b[37m\u001b[0m \u001b[1m2s\u001b[0m 70ms/step - loss: 1.8267e-04 - val_loss: 4.3931e-05\n",
      "Epoch 94/100\n",
      "\u001b[1m25/25\u001b[0m \u001b[32m━━━━━━━━━━━━━━━━━━━━\u001b[0m\u001b[37m\u001b[0m \u001b[1m2s\u001b[0m 77ms/step - loss: 1.7554e-04 - val_loss: 5.4016e-05\n",
      "Epoch 95/100\n",
      "\u001b[1m25/25\u001b[0m \u001b[32m━━━━━━━━━━━━━━━━━━━━\u001b[0m\u001b[37m\u001b[0m \u001b[1m2s\u001b[0m 71ms/step - loss: 1.8523e-04 - val_loss: 4.7376e-05\n",
      "Epoch 96/100\n",
      "\u001b[1m25/25\u001b[0m \u001b[32m━━━━━━━━━━━━━━━━━━━━\u001b[0m\u001b[37m\u001b[0m \u001b[1m2s\u001b[0m 74ms/step - loss: 1.4820e-04 - val_loss: 4.6570e-05\n",
      "Epoch 97/100\n",
      "\u001b[1m25/25\u001b[0m \u001b[32m━━━━━━━━━━━━━━━━━━━━\u001b[0m\u001b[37m\u001b[0m \u001b[1m2s\u001b[0m 74ms/step - loss: 1.8288e-04 - val_loss: 5.1825e-05\n",
      "Epoch 98/100\n",
      "\u001b[1m25/25\u001b[0m \u001b[32m━━━━━━━━━━━━━━━━━━━━\u001b[0m\u001b[37m\u001b[0m \u001b[1m2s\u001b[0m 75ms/step - loss: 1.5153e-04 - val_loss: 6.6127e-05\n",
      "Epoch 99/100\n",
      "\u001b[1m25/25\u001b[0m \u001b[32m━━━━━━━━━━━━━━━━━━━━\u001b[0m\u001b[37m\u001b[0m \u001b[1m2s\u001b[0m 70ms/step - loss: 1.6020e-04 - val_loss: 4.7389e-05\n",
      "Epoch 100/100\n",
      "\u001b[1m25/25\u001b[0m \u001b[32m━━━━━━━━━━━━━━━━━━━━\u001b[0m\u001b[37m\u001b[0m \u001b[1m2s\u001b[0m 70ms/step - loss: 1.6330e-04 - val_loss: 4.6396e-05\n"
     ]
    },
    {
     "data": {
      "text/plain": [
       "<keras.src.callbacks.history.History at 0x1debfea5a10>"
      ]
     },
     "execution_count": 15,
     "metadata": {},
     "output_type": "execute_result"
    }
   ],
   "source": [
    "model.fit(X_train,Y_train, validation_data=(X_test,Y_test),epochs=100,batch_size = 64, verbose = 1)"
   ]
  },
  {
   "cell_type": "code",
   "execution_count": 16,
   "id": "8d6419ec",
   "metadata": {},
   "outputs": [
    {
     "name": "stdout",
     "output_type": "stream",
     "text": [
      "\u001b[1m50/50\u001b[0m \u001b[32m━━━━━━━━━━━━━━━━━━━━\u001b[0m\u001b[37m\u001b[0m \u001b[1m1s\u001b[0m 23ms/step\n",
      "\u001b[1m15/15\u001b[0m \u001b[32m━━━━━━━━━━━━━━━━━━━━\u001b[0m\u001b[37m\u001b[0m \u001b[1m0s\u001b[0m 21ms/step\n"
     ]
    }
   ],
   "source": [
    "import tensorflow as tf\n",
    "train_predict = model.predict(X_train)\n",
    "test_predict = model.predict(X_test)"
   ]
  },
  {
   "cell_type": "code",
   "execution_count": 17,
   "id": "70bfe47d",
   "metadata": {},
   "outputs": [],
   "source": [
    "train_predict = scalar.inverse_transform(train_predict)\n",
    "test_predict = scalar.inverse_transform(test_predict)"
   ]
  },
  {
   "cell_type": "code",
   "execution_count": 18,
   "id": "a3436bfc",
   "metadata": {},
   "outputs": [
    {
     "data": {
      "text/plain": [
       "0.4311806669501336"
      ]
     },
     "execution_count": 18,
     "metadata": {},
     "output_type": "execute_result"
    }
   ],
   "source": [
    "import math\n",
    "from sklearn.metrics import mean_squared_error\n",
    "math.sqrt(mean_squared_error(Y_train, train_predict))"
   ]
  },
  {
   "cell_type": "code",
   "execution_count": 19,
   "id": "978b6481",
   "metadata": {},
   "outputs": [
    {
     "data": {
      "text/plain": [
       "0.39305441808101493"
      ]
     },
     "execution_count": 19,
     "metadata": {},
     "output_type": "execute_result"
    }
   ],
   "source": [
    "math.sqrt(mean_squared_error(Y_test, test_predict))"
   ]
  },
  {
   "cell_type": "code",
   "execution_count": 20,
   "id": "b9220329",
   "metadata": {},
   "outputs": [
    {
     "data": {
      "image/png": "[encoded data removed]",
      "text/plain": [
       "<Figure size 640x480 with 1 Axes>"
      ]
     },
     "metadata": {},
     "output_type": "display_data"
    }
   ],
   "source": [
    "look_back = 100\n",
    "trainPredictPlot = numpy.empty_like(Data)\n",
    "trainPredictPlot[:, :] = np.nan\n",
    "trainPredictPlot[look_back:len(train_predict)+look_back, :] = train_predict\n",
    "testPredictPlot = numpy.empty_like(Data)\n",
    "testPredictPlot[:,:] = numpy.nan\n",
    "testPredictPlot[len(train_predict)+(look_back*2)+1:len(Data)-1,:] = test_predict\n",
    "plt.plot(scalar.inverse_transform(Data))\n",
    "plt.plot(trainPredictPlot)\n",
    "plt.plot(testPredictPlot)\n",
    "plt.show()"
   ]
  },
  {
   "cell_type": "code",
   "execution_count": 21,
   "id": "2f56f039",
   "metadata": {},
   "outputs": [
    {
     "data": {
      "text/plain": [
       "563"
      ]
     },
     "execution_count": 21,
     "metadata": {},
     "output_type": "execute_result"
    }
   ],
   "source": [
    "len(test_data)"
   ]
  },
  {
   "cell_type": "code",
   "execution_count": 22,
   "id": "236b926e",
   "metadata": {},
   "outputs": [
    {
     "data": {
      "text/plain": [
       "(1, 100)"
      ]
     },
     "execution_count": 22,
     "metadata": {},
     "output_type": "execute_result"
    }
   ],
   "source": [
    "x_input = test_data[463:].reshape(1,-1)\n",
    "x_input.shape"
   ]
  },
  {
   "cell_type": "code",
   "execution_count": 23,
   "id": "a694b876",
   "metadata": {},
   "outputs": [],
   "source": [
    "temp_input = list(x_input)\n",
    "temp_input = temp_input[0].tolist()"
   ]
  },
  {
   "cell_type": "code",
   "execution_count": 24,
   "id": "291223dc",
   "metadata": {},
   "outputs": [
    {
     "data": {
      "text/plain": [
       "[0.14584264284666515,\n",
       " 0.1484190940884912,\n",
       " 0.14892524338554897,\n",
       " 0.14940792267249298,\n",
       " 0.14736201718560607,\n",
       " 0.1434505547106009,\n",
       " 0.1456953376516093,\n",
       " 0.14505794158746824,\n",
       " 0.14413149381982132,\n",
       " 0.1461563998239749,\n",
       " 0.14864576497564214,\n",
       " 0.14949408231488415,\n",
       " 0.14969512148046352,\n",
       " 0.14896106603256465,\n",
       " 0.15462351478842248,\n",
       " 0.15564229851691153,\n",
       " 0.16475422112764135,\n",
       " 0.16033074185304994,\n",
       " 0.1611843090629753,\n",
       " 0.14840952079489217,\n",
       " 0.14820508465416476,\n",
       " 0.15096497255398486,\n",
       " 0.1521835601843631,\n",
       " 0.14695221845638362,\n",
       " 0.14829340600801377,\n",
       " 0.14538528646537016,\n",
       " 0.14603750569379356,\n",
       " 0.14385294185768216,\n",
       " 0.14751642514688054,\n",
       " 0.1495518308924008,\n",
       " 0.15001258424884387,\n",
       " 0.1484076678993569,\n",
       " 0.14634261582527194,\n",
       " 0.15647764558740648,\n",
       " 0.14907594555575282,\n",
       " 0.15293212998062178,\n",
       " 0.15297598184162373,\n",
       " 0.14939495240374592,\n",
       " 0.1489138171964146,\n",
       " 0.14678206088305912,\n",
       " 0.15145784276637303,\n",
       " 0.15000054042786445,\n",
       " 0.136788468813452,\n",
       " 0.1385320435121635,\n",
       " 0.13490654458143864,\n",
       " 0.13244404641503316,\n",
       " 0.12726489457796444,\n",
       " 0.13535031306214146,\n",
       " 0.13186378129656365,\n",
       " 0.14216464520910696,\n",
       " 0.1428150115419951,\n",
       " 0.13299590046862816,\n",
       " 0.13447173176248967,\n",
       " 0.13482841415303373,\n",
       " 0.1347317547692759,\n",
       " 0.13474009279918472,\n",
       " 0.13227759463277924,\n",
       " 0.12731615802110757,\n",
       " 0.1249534073976854,\n",
       " 0.12769260463069476,\n",
       " 0.12552626093401376,\n",
       " 0.11953677611617652,\n",
       " 0.11676391794760937,\n",
       " 0.11684143074416917,\n",
       " 0.1154881993715596,\n",
       " 0.12122692566028703,\n",
       " 0.12063121974569008,\n",
       " 0.11872706076725315,\n",
       " 0.12212280065160158,\n",
       " 0.11459016266878719,\n",
       " 0.11227249917005719,\n",
       " 0.11309580241957273,\n",
       " 0.11450184131493818,\n",
       " 0.11713511468651325,\n",
       " 0.11230183668269933,\n",
       " 0.1132146965497541,\n",
       " 0.11287777837825316,\n",
       " 0.11554471268538608,\n",
       " 0.11577323646807228,\n",
       " 0.1193252372092305,\n",
       " 0.11873261945385905,\n",
       " 0.11934160445312558,\n",
       " 0.12113675141090272,\n",
       " 0.11895589336586196,\n",
       " 0.12314529017116121,\n",
       " 0.13066619314891875,\n",
       " 0.13134713225813924,\n",
       " 0.1266920410416361,\n",
       " 0.1288590023701622,\n",
       " 0.13061740023315602,\n",
       " 0.13071776540798444,\n",
       " 0.1264196653979479,\n",
       " 0.12392134458452678,\n",
       " 0.12195109899866435,\n",
       " 0.12521960672292262,\n",
       " 0.12438796544349828,\n",
       " 0.127161132427988,\n",
       " 0.1379242937765871,\n",
       " 0.13469809383371806,\n",
       " 0.1379449844433979]"
      ]
     },
     "execution_count": 24,
     "metadata": {},
     "output_type": "execute_result"
    }
   ],
   "source": [
    "temp_input"
   ]
  },
  {
   "cell_type": "code",
   "execution_count": 25,
   "id": "0a73bcb7",
   "metadata": {},
   "outputs": [
    {
     "name": "stdout",
     "output_type": "stream",
     "text": [
      "[0.1358498]\n",
      "101\n",
      "1 day input [0.14841909 0.14892524 0.14940792 0.14736202 0.14345055 0.14569534\n",
      " 0.14505794 0.14413149 0.1461564  0.14864576 0.14949408 0.14969512\n",
      " 0.14896107 0.15462351 0.1556423  0.16475422 0.16033074 0.16118431\n",
      " 0.14840952 0.14820508 0.15096497 0.15218356 0.14695222 0.14829341\n",
      " 0.14538529 0.14603751 0.14385294 0.14751643 0.14955183 0.15001258\n",
      " 0.14840767 0.14634262 0.15647765 0.14907595 0.15293213 0.15297598\n",
      " 0.14939495 0.14891382 0.14678206 0.15145784 0.15000054 0.13678847\n",
      " 0.13853204 0.13490654 0.13244405 0.12726489 0.13535031 0.13186378\n",
      " 0.14216465 0.14281501 0.1329959  0.13447173 0.13482841 0.13473175\n",
      " 0.13474009 0.13227759 0.12731616 0.12495341 0.1276926  0.12552626\n",
      " 0.11953678 0.11676392 0.11684143 0.1154882  0.12122693 0.12063122\n",
      " 0.11872706 0.1221228  0.11459016 0.1122725  0.1130958  0.11450184\n",
      " 0.11713511 0.11230184 0.1132147  0.11287778 0.11554471 0.11577324\n",
      " 0.11932524 0.11873262 0.1193416  0.12113675 0.11895589 0.12314529\n",
      " 0.13066619 0.13134713 0.12669204 0.128859   0.1306174  0.13071777\n",
      " 0.12641967 0.12392134 0.1219511  0.12521961 0.12438797 0.12716113\n",
      " 0.13792429 0.13469809 0.13794498 0.1358498 ]\n",
      "1 day output [[0.13504018]]\n",
      "1 day input [0.14892524 0.14940792 0.14736202 0.14345055 0.14569534 0.14505794\n",
      " 0.14413149 0.1461564  0.14864576 0.14949408 0.14969512 0.14896107\n",
      " 0.15462351 0.1556423  0.16475422 0.16033074 0.16118431 0.14840952\n",
      " 0.14820508 0.15096497 0.15218356 0.14695222 0.14829341 0.14538529\n",
      " 0.14603751 0.14385294 0.14751643 0.14955183 0.15001258 0.14840767\n",
      " 0.14634262 0.15647765 0.14907595 0.15293213 0.15297598 0.14939495\n",
      " 0.14891382 0.14678206 0.15145784 0.15000054 0.13678847 0.13853204\n",
      " 0.13490654 0.13244405 0.12726489 0.13535031 0.13186378 0.14216465\n",
      " 0.14281501 0.1329959  0.13447173 0.13482841 0.13473175 0.13474009\n",
      " 0.13227759 0.12731616 0.12495341 0.1276926  0.12552626 0.11953678\n",
      " 0.11676392 0.11684143 0.1154882  0.12122693 0.12063122 0.11872706\n",
      " 0.1221228  0.11459016 0.1122725  0.1130958  0.11450184 0.11713511\n",
      " 0.11230184 0.1132147  0.11287778 0.11554471 0.11577324 0.11932524\n",
      " 0.11873262 0.1193416  0.12113675 0.11895589 0.12314529 0.13066619\n",
      " 0.13134713 0.12669204 0.128859   0.1306174  0.13071777 0.12641967\n",
      " 0.12392134 0.1219511  0.12521961 0.12438797 0.12716113 0.13792429\n",
      " 0.13469809 0.13794498 0.1358498  0.13504018]\n",
      "2 day output [[0.13393602]]\n",
      "1 day input [0.14940792 0.14736202 0.14345055 0.14569534 0.14505794 0.14413149\n",
      " 0.1461564  0.14864576 0.14949408 0.14969512 0.14896107 0.15462351\n",
      " 0.1556423  0.16475422 0.16033074 0.16118431 0.14840952 0.14820508\n",
      " 0.15096497 0.15218356 0.14695222 0.14829341 0.14538529 0.14603751\n",
      " 0.14385294 0.14751643 0.14955183 0.15001258 0.14840767 0.14634262\n",
      " 0.15647765 0.14907595 0.15293213 0.15297598 0.14939495 0.14891382\n",
      " 0.14678206 0.15145784 0.15000054 0.13678847 0.13853204 0.13490654\n",
      " 0.13244405 0.12726489 0.13535031 0.13186378 0.14216465 0.14281501\n",
      " 0.1329959  0.13447173 0.13482841 0.13473175 0.13474009 0.13227759\n",
      " 0.12731616 0.12495341 0.1276926  0.12552626 0.11953678 0.11676392\n",
      " 0.11684143 0.1154882  0.12122693 0.12063122 0.11872706 0.1221228\n",
      " 0.11459016 0.1122725  0.1130958  0.11450184 0.11713511 0.11230184\n",
      " 0.1132147  0.11287778 0.11554471 0.11577324 0.11932524 0.11873262\n",
      " 0.1193416  0.12113675 0.11895589 0.12314529 0.13066619 0.13134713\n",
      " 0.12669204 0.128859   0.1306174  0.13071777 0.12641967 0.12392134\n",
      " 0.1219511  0.12521961 0.12438797 0.12716113 0.13792429 0.13469809\n",
      " 0.13794498 0.1358498  0.13504018 0.13393602]\n",
      "3 day output [[0.13269794]]\n",
      "1 day input [0.14736202 0.14345055 0.14569534 0.14505794 0.14413149 0.1461564\n",
      " 0.14864576 0.14949408 0.14969512 0.14896107 0.15462351 0.1556423\n",
      " 0.16475422 0.16033074 0.16118431 0.14840952 0.14820508 0.15096497\n",
      " 0.15218356 0.14695222 0.14829341 0.14538529 0.14603751 0.14385294\n",
      " 0.14751643 0.14955183 0.15001258 0.14840767 0.14634262 0.15647765\n",
      " 0.14907595 0.15293213 0.15297598 0.14939495 0.14891382 0.14678206\n",
      " 0.15145784 0.15000054 0.13678847 0.13853204 0.13490654 0.13244405\n",
      " 0.12726489 0.13535031 0.13186378 0.14216465 0.14281501 0.1329959\n",
      " 0.13447173 0.13482841 0.13473175 0.13474009 0.13227759 0.12731616\n",
      " 0.12495341 0.1276926  0.12552626 0.11953678 0.11676392 0.11684143\n",
      " 0.1154882  0.12122693 0.12063122 0.11872706 0.1221228  0.11459016\n",
      " 0.1122725  0.1130958  0.11450184 0.11713511 0.11230184 0.1132147\n",
      " 0.11287778 0.11554471 0.11577324 0.11932524 0.11873262 0.1193416\n",
      " 0.12113675 0.11895589 0.12314529 0.13066619 0.13134713 0.12669204\n",
      " 0.128859   0.1306174  0.13071777 0.12641967 0.12392134 0.1219511\n",
      " 0.12521961 0.12438797 0.12716113 0.13792429 0.13469809 0.13794498\n",
      " 0.1358498  0.13504018 0.13393602 0.13269794]\n",
      "4 day output [[0.13137893]]\n",
      "1 day input [0.14345055 0.14569534 0.14505794 0.14413149 0.1461564  0.14864576\n",
      " 0.14949408 0.14969512 0.14896107 0.15462351 0.1556423  0.16475422\n",
      " 0.16033074 0.16118431 0.14840952 0.14820508 0.15096497 0.15218356\n",
      " 0.14695222 0.14829341 0.14538529 0.14603751 0.14385294 0.14751643\n",
      " 0.14955183 0.15001258 0.14840767 0.14634262 0.15647765 0.14907595\n",
      " 0.15293213 0.15297598 0.14939495 0.14891382 0.14678206 0.15145784\n",
      " 0.15000054 0.13678847 0.13853204 0.13490654 0.13244405 0.12726489\n",
      " 0.13535031 0.13186378 0.14216465 0.14281501 0.1329959  0.13447173\n",
      " 0.13482841 0.13473175 0.13474009 0.13227759 0.12731616 0.12495341\n",
      " 0.1276926  0.12552626 0.11953678 0.11676392 0.11684143 0.1154882\n",
      " 0.12122693 0.12063122 0.11872706 0.1221228  0.11459016 0.1122725\n",
      " 0.1130958  0.11450184 0.11713511 0.11230184 0.1132147  0.11287778\n",
      " 0.11554471 0.11577324 0.11932524 0.11873262 0.1193416  0.12113675\n",
      " 0.11895589 0.12314529 0.13066619 0.13134713 0.12669204 0.128859\n",
      " 0.1306174  0.13071777 0.12641967 0.12392134 0.1219511  0.12521961\n",
      " 0.12438797 0.12716113 0.13792429 0.13469809 0.13794498 0.1358498\n",
      " 0.13504018 0.13393602 0.13269794 0.13137893]\n",
      "5 day output [[0.13000385]]\n",
      "1 day input [0.14569534 0.14505794 0.14413149 0.1461564  0.14864576 0.14949408\n",
      " 0.14969512 0.14896107 0.15462351 0.1556423  0.16475422 0.16033074\n",
      " 0.16118431 0.14840952 0.14820508 0.15096497 0.15218356 0.14695222\n",
      " 0.14829341 0.14538529 0.14603751 0.14385294 0.14751643 0.14955183\n",
      " 0.15001258 0.14840767 0.14634262 0.15647765 0.14907595 0.15293213\n",
      " 0.15297598 0.14939495 0.14891382 0.14678206 0.15145784 0.15000054\n",
      " 0.13678847 0.13853204 0.13490654 0.13244405 0.12726489 0.13535031\n",
      " 0.13186378 0.14216465 0.14281501 0.1329959  0.13447173 0.13482841\n",
      " 0.13473175 0.13474009 0.13227759 0.12731616 0.12495341 0.1276926\n",
      " 0.12552626 0.11953678 0.11676392 0.11684143 0.1154882  0.12122693\n",
      " 0.12063122 0.11872706 0.1221228  0.11459016 0.1122725  0.1130958\n",
      " 0.11450184 0.11713511 0.11230184 0.1132147  0.11287778 0.11554471\n",
      " 0.11577324 0.11932524 0.11873262 0.1193416  0.12113675 0.11895589\n",
      " 0.12314529 0.13066619 0.13134713 0.12669204 0.128859   0.1306174\n",
      " 0.13071777 0.12641967 0.12392134 0.1219511  0.12521961 0.12438797\n",
      " 0.12716113 0.13792429 0.13469809 0.13794498 0.1358498  0.13504018\n",
      " 0.13393602 0.13269794 0.13137893 0.13000385]\n",
      "6 day output [[0.12858628]]\n",
      "1 day input [0.14505794 0.14413149 0.1461564  0.14864576 0.14949408 0.14969512\n",
      " 0.14896107 0.15462351 0.1556423  0.16475422 0.16033074 0.16118431\n",
      " 0.14840952 0.14820508 0.15096497 0.15218356 0.14695222 0.14829341\n",
      " 0.14538529 0.14603751 0.14385294 0.14751643 0.14955183 0.15001258\n",
      " 0.14840767 0.14634262 0.15647765 0.14907595 0.15293213 0.15297598\n",
      " 0.14939495 0.14891382 0.14678206 0.15145784 0.15000054 0.13678847\n",
      " 0.13853204 0.13490654 0.13244405 0.12726489 0.13535031 0.13186378\n",
      " 0.14216465 0.14281501 0.1329959  0.13447173 0.13482841 0.13473175\n",
      " 0.13474009 0.13227759 0.12731616 0.12495341 0.1276926  0.12552626\n",
      " 0.11953678 0.11676392 0.11684143 0.1154882  0.12122693 0.12063122\n",
      " 0.11872706 0.1221228  0.11459016 0.1122725  0.1130958  0.11450184\n",
      " 0.11713511 0.11230184 0.1132147  0.11287778 0.11554471 0.11577324\n",
      " 0.11932524 0.11873262 0.1193416  0.12113675 0.11895589 0.12314529\n",
      " 0.13066619 0.13134713 0.12669204 0.128859   0.1306174  0.13071777\n",
      " 0.12641967 0.12392134 0.1219511  0.12521961 0.12438797 0.12716113\n",
      " 0.13792429 0.13469809 0.13794498 0.1358498  0.13504018 0.13393602\n",
      " 0.13269794 0.13137893 0.13000385 0.12858628]\n",
      "7 day output [[0.12713468]]\n",
      "1 day input [0.14413149 0.1461564  0.14864576 0.14949408 0.14969512 0.14896107\n",
      " 0.15462351 0.1556423  0.16475422 0.16033074 0.16118431 0.14840952\n",
      " 0.14820508 0.15096497 0.15218356 0.14695222 0.14829341 0.14538529\n",
      " 0.14603751 0.14385294 0.14751643 0.14955183 0.15001258 0.14840767\n",
      " 0.14634262 0.15647765 0.14907595 0.15293213 0.15297598 0.14939495\n",
      " 0.14891382 0.14678206 0.15145784 0.15000054 0.13678847 0.13853204\n",
      " 0.13490654 0.13244405 0.12726489 0.13535031 0.13186378 0.14216465\n",
      " 0.14281501 0.1329959  0.13447173 0.13482841 0.13473175 0.13474009\n",
      " 0.13227759 0.12731616 0.12495341 0.1276926  0.12552626 0.11953678\n",
      " 0.11676392 0.11684143 0.1154882  0.12122693 0.12063122 0.11872706\n",
      " 0.1221228  0.11459016 0.1122725  0.1130958  0.11450184 0.11713511\n",
      " 0.11230184 0.1132147  0.11287778 0.11554471 0.11577324 0.11932524\n",
      " 0.11873262 0.1193416  0.12113675 0.11895589 0.12314529 0.13066619\n",
      " 0.13134713 0.12669204 0.128859   0.1306174  0.13071777 0.12641967\n",
      " 0.12392134 0.1219511  0.12521961 0.12438797 0.12716113 0.13792429\n",
      " 0.13469809 0.13794498 0.1358498  0.13504018 0.13393602 0.13269794\n",
      " 0.13137893 0.13000385 0.12858628 0.12713468]\n"
     ]
    },
    {
     "name": "stdout",
     "output_type": "stream",
     "text": [
      "8 day output [[0.12565526]]\n",
      "1 day input [0.1461564  0.14864576 0.14949408 0.14969512 0.14896107 0.15462351\n",
      " 0.1556423  0.16475422 0.16033074 0.16118431 0.14840952 0.14820508\n",
      " 0.15096497 0.15218356 0.14695222 0.14829341 0.14538529 0.14603751\n",
      " 0.14385294 0.14751643 0.14955183 0.15001258 0.14840767 0.14634262\n",
      " 0.15647765 0.14907595 0.15293213 0.15297598 0.14939495 0.14891382\n",
      " 0.14678206 0.15145784 0.15000054 0.13678847 0.13853204 0.13490654\n",
      " 0.13244405 0.12726489 0.13535031 0.13186378 0.14216465 0.14281501\n",
      " 0.1329959  0.13447173 0.13482841 0.13473175 0.13474009 0.13227759\n",
      " 0.12731616 0.12495341 0.1276926  0.12552626 0.11953678 0.11676392\n",
      " 0.11684143 0.1154882  0.12122693 0.12063122 0.11872706 0.1221228\n",
      " 0.11459016 0.1122725  0.1130958  0.11450184 0.11713511 0.11230184\n",
      " 0.1132147  0.11287778 0.11554471 0.11577324 0.11932524 0.11873262\n",
      " 0.1193416  0.12113675 0.11895589 0.12314529 0.13066619 0.13134713\n",
      " 0.12669204 0.128859   0.1306174  0.13071777 0.12641967 0.12392134\n",
      " 0.1219511  0.12521961 0.12438797 0.12716113 0.13792429 0.13469809\n",
      " 0.13794498 0.1358498  0.13504018 0.13393602 0.13269794 0.13137893\n",
      " 0.13000385 0.12858628 0.12713468 0.12565526]\n",
      "9 day output [[0.12415335]]\n",
      "1 day input [0.14864576 0.14949408 0.14969512 0.14896107 0.15462351 0.1556423\n",
      " 0.16475422 0.16033074 0.16118431 0.14840952 0.14820508 0.15096497\n",
      " 0.15218356 0.14695222 0.14829341 0.14538529 0.14603751 0.14385294\n",
      " 0.14751643 0.14955183 0.15001258 0.14840767 0.14634262 0.15647765\n",
      " 0.14907595 0.15293213 0.15297598 0.14939495 0.14891382 0.14678206\n",
      " 0.15145784 0.15000054 0.13678847 0.13853204 0.13490654 0.13244405\n",
      " 0.12726489 0.13535031 0.13186378 0.14216465 0.14281501 0.1329959\n",
      " 0.13447173 0.13482841 0.13473175 0.13474009 0.13227759 0.12731616\n",
      " 0.12495341 0.1276926  0.12552626 0.11953678 0.11676392 0.11684143\n",
      " 0.1154882  0.12122693 0.12063122 0.11872706 0.1221228  0.11459016\n",
      " 0.1122725  0.1130958  0.11450184 0.11713511 0.11230184 0.1132147\n",
      " 0.11287778 0.11554471 0.11577324 0.11932524 0.11873262 0.1193416\n",
      " 0.12113675 0.11895589 0.12314529 0.13066619 0.13134713 0.12669204\n",
      " 0.128859   0.1306174  0.13071777 0.12641967 0.12392134 0.1219511\n",
      " 0.12521961 0.12438797 0.12716113 0.13792429 0.13469809 0.13794498\n",
      " 0.1358498  0.13504018 0.13393602 0.13269794 0.13137893 0.13000385\n",
      " 0.12858628 0.12713468 0.12565526 0.12415335]\n",
      "10 day output [[0.12263392]]\n",
      "1 day input [0.14949408 0.14969512 0.14896107 0.15462351 0.1556423  0.16475422\n",
      " 0.16033074 0.16118431 0.14840952 0.14820508 0.15096497 0.15218356\n",
      " 0.14695222 0.14829341 0.14538529 0.14603751 0.14385294 0.14751643\n",
      " 0.14955183 0.15001258 0.14840767 0.14634262 0.15647765 0.14907595\n",
      " 0.15293213 0.15297598 0.14939495 0.14891382 0.14678206 0.15145784\n",
      " 0.15000054 0.13678847 0.13853204 0.13490654 0.13244405 0.12726489\n",
      " 0.13535031 0.13186378 0.14216465 0.14281501 0.1329959  0.13447173\n",
      " 0.13482841 0.13473175 0.13474009 0.13227759 0.12731616 0.12495341\n",
      " 0.1276926  0.12552626 0.11953678 0.11676392 0.11684143 0.1154882\n",
      " 0.12122693 0.12063122 0.11872706 0.1221228  0.11459016 0.1122725\n",
      " 0.1130958  0.11450184 0.11713511 0.11230184 0.1132147  0.11287778\n",
      " 0.11554471 0.11577324 0.11932524 0.11873262 0.1193416  0.12113675\n",
      " 0.11895589 0.12314529 0.13066619 0.13134713 0.12669204 0.128859\n",
      " 0.1306174  0.13071777 0.12641967 0.12392134 0.1219511  0.12521961\n",
      " 0.12438797 0.12716113 0.13792429 0.13469809 0.13794498 0.1358498\n",
      " 0.13504018 0.13393602 0.13269794 0.13137893 0.13000385 0.12858628\n",
      " 0.12713468 0.12565526 0.12415335 0.12263392]\n",
      "11 day output [[0.12110139]]\n",
      "1 day input [0.14969512 0.14896107 0.15462351 0.1556423  0.16475422 0.16033074\n",
      " 0.16118431 0.14840952 0.14820508 0.15096497 0.15218356 0.14695222\n",
      " 0.14829341 0.14538529 0.14603751 0.14385294 0.14751643 0.14955183\n",
      " 0.15001258 0.14840767 0.14634262 0.15647765 0.14907595 0.15293213\n",
      " 0.15297598 0.14939495 0.14891382 0.14678206 0.15145784 0.15000054\n",
      " 0.13678847 0.13853204 0.13490654 0.13244405 0.12726489 0.13535031\n",
      " 0.13186378 0.14216465 0.14281501 0.1329959  0.13447173 0.13482841\n",
      " 0.13473175 0.13474009 0.13227759 0.12731616 0.12495341 0.1276926\n",
      " 0.12552626 0.11953678 0.11676392 0.11684143 0.1154882  0.12122693\n",
      " 0.12063122 0.11872706 0.1221228  0.11459016 0.1122725  0.1130958\n",
      " 0.11450184 0.11713511 0.11230184 0.1132147  0.11287778 0.11554471\n",
      " 0.11577324 0.11932524 0.11873262 0.1193416  0.12113675 0.11895589\n",
      " 0.12314529 0.13066619 0.13134713 0.12669204 0.128859   0.1306174\n",
      " 0.13071777 0.12641967 0.12392134 0.1219511  0.12521961 0.12438797\n",
      " 0.12716113 0.13792429 0.13469809 0.13794498 0.1358498  0.13504018\n",
      " 0.13393602 0.13269794 0.13137893 0.13000385 0.12858628 0.12713468\n",
      " 0.12565526 0.12415335 0.12263392 0.12110139]\n",
      "12 day output [[0.11955968]]\n",
      "1 day input [0.14896107 0.15462351 0.1556423  0.16475422 0.16033074 0.16118431\n",
      " 0.14840952 0.14820508 0.15096497 0.15218356 0.14695222 0.14829341\n",
      " 0.14538529 0.14603751 0.14385294 0.14751643 0.14955183 0.15001258\n",
      " 0.14840767 0.14634262 0.15647765 0.14907595 0.15293213 0.15297598\n",
      " 0.14939495 0.14891382 0.14678206 0.15145784 0.15000054 0.13678847\n",
      " 0.13853204 0.13490654 0.13244405 0.12726489 0.13535031 0.13186378\n",
      " 0.14216465 0.14281501 0.1329959  0.13447173 0.13482841 0.13473175\n",
      " 0.13474009 0.13227759 0.12731616 0.12495341 0.1276926  0.12552626\n",
      " 0.11953678 0.11676392 0.11684143 0.1154882  0.12122693 0.12063122\n",
      " 0.11872706 0.1221228  0.11459016 0.1122725  0.1130958  0.11450184\n",
      " 0.11713511 0.11230184 0.1132147  0.11287778 0.11554471 0.11577324\n",
      " 0.11932524 0.11873262 0.1193416  0.12113675 0.11895589 0.12314529\n",
      " 0.13066619 0.13134713 0.12669204 0.128859   0.1306174  0.13071777\n",
      " 0.12641967 0.12392134 0.1219511  0.12521961 0.12438797 0.12716113\n",
      " 0.13792429 0.13469809 0.13794498 0.1358498  0.13504018 0.13393602\n",
      " 0.13269794 0.13137893 0.13000385 0.12858628 0.12713468 0.12565526\n",
      " 0.12415335 0.12263392 0.12110139 0.11955968]\n",
      "13 day output [[0.11801199]]\n",
      "1 day input [0.15462351 0.1556423  0.16475422 0.16033074 0.16118431 0.14840952\n",
      " 0.14820508 0.15096497 0.15218356 0.14695222 0.14829341 0.14538529\n",
      " 0.14603751 0.14385294 0.14751643 0.14955183 0.15001258 0.14840767\n",
      " 0.14634262 0.15647765 0.14907595 0.15293213 0.15297598 0.14939495\n",
      " 0.14891382 0.14678206 0.15145784 0.15000054 0.13678847 0.13853204\n",
      " 0.13490654 0.13244405 0.12726489 0.13535031 0.13186378 0.14216465\n",
      " 0.14281501 0.1329959  0.13447173 0.13482841 0.13473175 0.13474009\n",
      " 0.13227759 0.12731616 0.12495341 0.1276926  0.12552626 0.11953678\n",
      " 0.11676392 0.11684143 0.1154882  0.12122693 0.12063122 0.11872706\n",
      " 0.1221228  0.11459016 0.1122725  0.1130958  0.11450184 0.11713511\n",
      " 0.11230184 0.1132147  0.11287778 0.11554471 0.11577324 0.11932524\n",
      " 0.11873262 0.1193416  0.12113675 0.11895589 0.12314529 0.13066619\n",
      " 0.13134713 0.12669204 0.128859   0.1306174  0.13071777 0.12641967\n",
      " 0.12392134 0.1219511  0.12521961 0.12438797 0.12716113 0.13792429\n",
      " 0.13469809 0.13794498 0.1358498  0.13504018 0.13393602 0.13269794\n",
      " 0.13137893 0.13000385 0.12858628 0.12713468 0.12565526 0.12415335\n",
      " 0.12263392 0.12110139 0.11955968 0.11801199]\n",
      "14 day output [[0.11646087]]\n",
      "1 day input [0.1556423  0.16475422 0.16033074 0.16118431 0.14840952 0.14820508\n",
      " 0.15096497 0.15218356 0.14695222 0.14829341 0.14538529 0.14603751\n",
      " 0.14385294 0.14751643 0.14955183 0.15001258 0.14840767 0.14634262\n",
      " 0.15647765 0.14907595 0.15293213 0.15297598 0.14939495 0.14891382\n",
      " 0.14678206 0.15145784 0.15000054 0.13678847 0.13853204 0.13490654\n",
      " 0.13244405 0.12726489 0.13535031 0.13186378 0.14216465 0.14281501\n",
      " 0.1329959  0.13447173 0.13482841 0.13473175 0.13474009 0.13227759\n",
      " 0.12731616 0.12495341 0.1276926  0.12552626 0.11953678 0.11676392\n",
      " 0.11684143 0.1154882  0.12122693 0.12063122 0.11872706 0.1221228\n",
      " 0.11459016 0.1122725  0.1130958  0.11450184 0.11713511 0.11230184\n",
      " 0.1132147  0.11287778 0.11554471 0.11577324 0.11932524 0.11873262\n",
      " 0.1193416  0.12113675 0.11895589 0.12314529 0.13066619 0.13134713\n",
      " 0.12669204 0.128859   0.1306174  0.13071777 0.12641967 0.12392134\n",
      " 0.1219511  0.12521961 0.12438797 0.12716113 0.13792429 0.13469809\n",
      " 0.13794498 0.1358498  0.13504018 0.13393602 0.13269794 0.13137893\n",
      " 0.13000385 0.12858628 0.12713468 0.12565526 0.12415335 0.12263392\n",
      " 0.12110139 0.11955968 0.11801199 0.11646087]\n",
      "15 day output [[0.11490811]]\n",
      "1 day input [0.16475422 0.16033074 0.16118431 0.14840952 0.14820508 0.15096497\n",
      " 0.15218356 0.14695222 0.14829341 0.14538529 0.14603751 0.14385294\n",
      " 0.14751643 0.14955183 0.15001258 0.14840767 0.14634262 0.15647765\n",
      " 0.14907595 0.15293213 0.15297598 0.14939495 0.14891382 0.14678206\n",
      " 0.15145784 0.15000054 0.13678847 0.13853204 0.13490654 0.13244405\n",
      " 0.12726489 0.13535031 0.13186378 0.14216465 0.14281501 0.1329959\n",
      " 0.13447173 0.13482841 0.13473175 0.13474009 0.13227759 0.12731616\n",
      " 0.12495341 0.1276926  0.12552626 0.11953678 0.11676392 0.11684143\n",
      " 0.1154882  0.12122693 0.12063122 0.11872706 0.1221228  0.11459016\n",
      " 0.1122725  0.1130958  0.11450184 0.11713511 0.11230184 0.1132147\n",
      " 0.11287778 0.11554471 0.11577324 0.11932524 0.11873262 0.1193416\n",
      " 0.12113675 0.11895589 0.12314529 0.13066619 0.13134713 0.12669204\n",
      " 0.128859   0.1306174  0.13071777 0.12641967 0.12392134 0.1219511\n",
      " 0.12521961 0.12438797 0.12716113 0.13792429 0.13469809 0.13794498\n",
      " 0.1358498  0.13504018 0.13393602 0.13269794 0.13137893 0.13000385\n",
      " 0.12858628 0.12713468 0.12565526 0.12415335 0.12263392 0.12110139\n",
      " 0.11955968 0.11801199 0.11646087 0.11490811]\n",
      "16 day output [[0.11335506]]\n",
      "1 day input [0.16033074 0.16118431 0.14840952 0.14820508 0.15096497 0.15218356\n",
      " 0.14695222 0.14829341 0.14538529 0.14603751 0.14385294 0.14751643\n",
      " 0.14955183 0.15001258 0.14840767 0.14634262 0.15647765 0.14907595\n",
      " 0.15293213 0.15297598 0.14939495 0.14891382 0.14678206 0.15145784\n",
      " 0.15000054 0.13678847 0.13853204 0.13490654 0.13244405 0.12726489\n",
      " 0.13535031 0.13186378 0.14216465 0.14281501 0.1329959  0.13447173\n",
      " 0.13482841 0.13473175 0.13474009 0.13227759 0.12731616 0.12495341\n",
      " 0.1276926  0.12552626 0.11953678 0.11676392 0.11684143 0.1154882\n",
      " 0.12122693 0.12063122 0.11872706 0.1221228  0.11459016 0.1122725\n",
      " 0.1130958  0.11450184 0.11713511 0.11230184 0.1132147  0.11287778\n",
      " 0.11554471 0.11577324 0.11932524 0.11873262 0.1193416  0.12113675\n",
      " 0.11895589 0.12314529 0.13066619 0.13134713 0.12669204 0.128859\n",
      " 0.1306174  0.13071777 0.12641967 0.12392134 0.1219511  0.12521961\n",
      " 0.12438797 0.12716113 0.13792429 0.13469809 0.13794498 0.1358498\n",
      " 0.13504018 0.13393602 0.13269794 0.13137893 0.13000385 0.12858628\n",
      " 0.12713468 0.12565526 0.12415335 0.12263392 0.12110139 0.11955968\n",
      " 0.11801199 0.11646087 0.11490811 0.11335506]\n"
     ]
    },
    {
     "name": "stdout",
     "output_type": "stream",
     "text": [
      "17 day output [[0.11180253]]\n",
      "1 day input [0.16118431 0.14840952 0.14820508 0.15096497 0.15218356 0.14695222\n",
      " 0.14829341 0.14538529 0.14603751 0.14385294 0.14751643 0.14955183\n",
      " 0.15001258 0.14840767 0.14634262 0.15647765 0.14907595 0.15293213\n",
      " 0.15297598 0.14939495 0.14891382 0.14678206 0.15145784 0.15000054\n",
      " 0.13678847 0.13853204 0.13490654 0.13244405 0.12726489 0.13535031\n",
      " 0.13186378 0.14216465 0.14281501 0.1329959  0.13447173 0.13482841\n",
      " 0.13473175 0.13474009 0.13227759 0.12731616 0.12495341 0.1276926\n",
      " 0.12552626 0.11953678 0.11676392 0.11684143 0.1154882  0.12122693\n",
      " 0.12063122 0.11872706 0.1221228  0.11459016 0.1122725  0.1130958\n",
      " 0.11450184 0.11713511 0.11230184 0.1132147  0.11287778 0.11554471\n",
      " 0.11577324 0.11932524 0.11873262 0.1193416  0.12113675 0.11895589\n",
      " 0.12314529 0.13066619 0.13134713 0.12669204 0.128859   0.1306174\n",
      " 0.13071777 0.12641967 0.12392134 0.1219511  0.12521961 0.12438797\n",
      " 0.12716113 0.13792429 0.13469809 0.13794498 0.1358498  0.13504018\n",
      " 0.13393602 0.13269794 0.13137893 0.13000385 0.12858628 0.12713468\n",
      " 0.12565526 0.12415335 0.12263392 0.12110139 0.11955968 0.11801199\n",
      " 0.11646087 0.11490811 0.11335506 0.11180253]\n",
      "18 day output [[0.11025111]]\n",
      "1 day input [0.14840952 0.14820508 0.15096497 0.15218356 0.14695222 0.14829341\n",
      " 0.14538529 0.14603751 0.14385294 0.14751643 0.14955183 0.15001258\n",
      " 0.14840767 0.14634262 0.15647765 0.14907595 0.15293213 0.15297598\n",
      " 0.14939495 0.14891382 0.14678206 0.15145784 0.15000054 0.13678847\n",
      " 0.13853204 0.13490654 0.13244405 0.12726489 0.13535031 0.13186378\n",
      " 0.14216465 0.14281501 0.1329959  0.13447173 0.13482841 0.13473175\n",
      " 0.13474009 0.13227759 0.12731616 0.12495341 0.1276926  0.12552626\n",
      " 0.11953678 0.11676392 0.11684143 0.1154882  0.12122693 0.12063122\n",
      " 0.11872706 0.1221228  0.11459016 0.1122725  0.1130958  0.11450184\n",
      " 0.11713511 0.11230184 0.1132147  0.11287778 0.11554471 0.11577324\n",
      " 0.11932524 0.11873262 0.1193416  0.12113675 0.11895589 0.12314529\n",
      " 0.13066619 0.13134713 0.12669204 0.128859   0.1306174  0.13071777\n",
      " 0.12641967 0.12392134 0.1219511  0.12521961 0.12438797 0.12716113\n",
      " 0.13792429 0.13469809 0.13794498 0.1358498  0.13504018 0.13393602\n",
      " 0.13269794 0.13137893 0.13000385 0.12858628 0.12713468 0.12565526\n",
      " 0.12415335 0.12263392 0.12110139 0.11955968 0.11801199 0.11646087\n",
      " 0.11490811 0.11335506 0.11180253 0.11025111]\n",
      "19 day output [[0.10870126]]\n",
      "1 day input [0.14820508 0.15096497 0.15218356 0.14695222 0.14829341 0.14538529\n",
      " 0.14603751 0.14385294 0.14751643 0.14955183 0.15001258 0.14840767\n",
      " 0.14634262 0.15647765 0.14907595 0.15293213 0.15297598 0.14939495\n",
      " 0.14891382 0.14678206 0.15145784 0.15000054 0.13678847 0.13853204\n",
      " 0.13490654 0.13244405 0.12726489 0.13535031 0.13186378 0.14216465\n",
      " 0.14281501 0.1329959  0.13447173 0.13482841 0.13473175 0.13474009\n",
      " 0.13227759 0.12731616 0.12495341 0.1276926  0.12552626 0.11953678\n",
      " 0.11676392 0.11684143 0.1154882  0.12122693 0.12063122 0.11872706\n",
      " 0.1221228  0.11459016 0.1122725  0.1130958  0.11450184 0.11713511\n",
      " 0.11230184 0.1132147  0.11287778 0.11554471 0.11577324 0.11932524\n",
      " 0.11873262 0.1193416  0.12113675 0.11895589 0.12314529 0.13066619\n",
      " 0.13134713 0.12669204 0.128859   0.1306174  0.13071777 0.12641967\n",
      " 0.12392134 0.1219511  0.12521961 0.12438797 0.12716113 0.13792429\n",
      " 0.13469809 0.13794498 0.1358498  0.13504018 0.13393602 0.13269794\n",
      " 0.13137893 0.13000385 0.12858628 0.12713468 0.12565526 0.12415335\n",
      " 0.12263392 0.12110139 0.11955968 0.11801199 0.11646087 0.11490811\n",
      " 0.11335506 0.11180253 0.11025111 0.10870126]\n",
      "20 day output [[0.10715327]]\n",
      "1 day input [0.15096497 0.15218356 0.14695222 0.14829341 0.14538529 0.14603751\n",
      " 0.14385294 0.14751643 0.14955183 0.15001258 0.14840767 0.14634262\n",
      " 0.15647765 0.14907595 0.15293213 0.15297598 0.14939495 0.14891382\n",
      " 0.14678206 0.15145784 0.15000054 0.13678847 0.13853204 0.13490654\n",
      " 0.13244405 0.12726489 0.13535031 0.13186378 0.14216465 0.14281501\n",
      " 0.1329959  0.13447173 0.13482841 0.13473175 0.13474009 0.13227759\n",
      " 0.12731616 0.12495341 0.1276926  0.12552626 0.11953678 0.11676392\n",
      " 0.11684143 0.1154882  0.12122693 0.12063122 0.11872706 0.1221228\n",
      " 0.11459016 0.1122725  0.1130958  0.11450184 0.11713511 0.11230184\n",
      " 0.1132147  0.11287778 0.11554471 0.11577324 0.11932524 0.11873262\n",
      " 0.1193416  0.12113675 0.11895589 0.12314529 0.13066619 0.13134713\n",
      " 0.12669204 0.128859   0.1306174  0.13071777 0.12641967 0.12392134\n",
      " 0.1219511  0.12521961 0.12438797 0.12716113 0.13792429 0.13469809\n",
      " 0.13794498 0.1358498  0.13504018 0.13393602 0.13269794 0.13137893\n",
      " 0.13000385 0.12858628 0.12713468 0.12565526 0.12415335 0.12263392\n",
      " 0.12110139 0.11955968 0.11801199 0.11646087 0.11490811 0.11335506\n",
      " 0.11180253 0.11025111 0.10870126 0.10715327]\n",
      "21 day output [[0.1056075]]\n",
      "1 day input [0.15218356 0.14695222 0.14829341 0.14538529 0.14603751 0.14385294\n",
      " 0.14751643 0.14955183 0.15001258 0.14840767 0.14634262 0.15647765\n",
      " 0.14907595 0.15293213 0.15297598 0.14939495 0.14891382 0.14678206\n",
      " 0.15145784 0.15000054 0.13678847 0.13853204 0.13490654 0.13244405\n",
      " 0.12726489 0.13535031 0.13186378 0.14216465 0.14281501 0.1329959\n",
      " 0.13447173 0.13482841 0.13473175 0.13474009 0.13227759 0.12731616\n",
      " 0.12495341 0.1276926  0.12552626 0.11953678 0.11676392 0.11684143\n",
      " 0.1154882  0.12122693 0.12063122 0.11872706 0.1221228  0.11459016\n",
      " 0.1122725  0.1130958  0.11450184 0.11713511 0.11230184 0.1132147\n",
      " 0.11287778 0.11554471 0.11577324 0.11932524 0.11873262 0.1193416\n",
      " 0.12113675 0.11895589 0.12314529 0.13066619 0.13134713 0.12669204\n",
      " 0.128859   0.1306174  0.13071777 0.12641967 0.12392134 0.1219511\n",
      " 0.12521961 0.12438797 0.12716113 0.13792429 0.13469809 0.13794498\n",
      " 0.1358498  0.13504018 0.13393602 0.13269794 0.13137893 0.13000385\n",
      " 0.12858628 0.12713468 0.12565526 0.12415335 0.12263392 0.12110139\n",
      " 0.11955968 0.11801199 0.11646087 0.11490811 0.11335506 0.11180253\n",
      " 0.11025111 0.10870126 0.10715327 0.1056075 ]\n",
      "22 day output [[0.10406442]]\n",
      "1 day input [0.14695222 0.14829341 0.14538529 0.14603751 0.14385294 0.14751643\n",
      " 0.14955183 0.15001258 0.14840767 0.14634262 0.15647765 0.14907595\n",
      " 0.15293213 0.15297598 0.14939495 0.14891382 0.14678206 0.15145784\n",
      " 0.15000054 0.13678847 0.13853204 0.13490654 0.13244405 0.12726489\n",
      " 0.13535031 0.13186378 0.14216465 0.14281501 0.1329959  0.13447173\n",
      " 0.13482841 0.13473175 0.13474009 0.13227759 0.12731616 0.12495341\n",
      " 0.1276926  0.12552626 0.11953678 0.11676392 0.11684143 0.1154882\n",
      " 0.12122693 0.12063122 0.11872706 0.1221228  0.11459016 0.1122725\n",
      " 0.1130958  0.11450184 0.11713511 0.11230184 0.1132147  0.11287778\n",
      " 0.11554471 0.11577324 0.11932524 0.11873262 0.1193416  0.12113675\n",
      " 0.11895589 0.12314529 0.13066619 0.13134713 0.12669204 0.128859\n",
      " 0.1306174  0.13071777 0.12641967 0.12392134 0.1219511  0.12521961\n",
      " 0.12438797 0.12716113 0.13792429 0.13469809 0.13794498 0.1358498\n",
      " 0.13504018 0.13393602 0.13269794 0.13137893 0.13000385 0.12858628\n",
      " 0.12713468 0.12565526 0.12415335 0.12263392 0.12110139 0.11955968\n",
      " 0.11801199 0.11646087 0.11490811 0.11335506 0.11180253 0.11025111\n",
      " 0.10870126 0.10715327 0.1056075  0.10406442]\n",
      "23 day output [[0.10252453]]\n",
      "1 day input [0.14829341 0.14538529 0.14603751 0.14385294 0.14751643 0.14955183\n",
      " 0.15001258 0.14840767 0.14634262 0.15647765 0.14907595 0.15293213\n",
      " 0.15297598 0.14939495 0.14891382 0.14678206 0.15145784 0.15000054\n",
      " 0.13678847 0.13853204 0.13490654 0.13244405 0.12726489 0.13535031\n",
      " 0.13186378 0.14216465 0.14281501 0.1329959  0.13447173 0.13482841\n",
      " 0.13473175 0.13474009 0.13227759 0.12731616 0.12495341 0.1276926\n",
      " 0.12552626 0.11953678 0.11676392 0.11684143 0.1154882  0.12122693\n",
      " 0.12063122 0.11872706 0.1221228  0.11459016 0.1122725  0.1130958\n",
      " 0.11450184 0.11713511 0.11230184 0.1132147  0.11287778 0.11554471\n",
      " 0.11577324 0.11932524 0.11873262 0.1193416  0.12113675 0.11895589\n",
      " 0.12314529 0.13066619 0.13134713 0.12669204 0.128859   0.1306174\n",
      " 0.13071777 0.12641967 0.12392134 0.1219511  0.12521961 0.12438797\n",
      " 0.12716113 0.13792429 0.13469809 0.13794498 0.1358498  0.13504018\n",
      " 0.13393602 0.13269794 0.13137893 0.13000385 0.12858628 0.12713468\n",
      " 0.12565526 0.12415335 0.12263392 0.12110139 0.11955968 0.11801199\n",
      " 0.11646087 0.11490811 0.11335506 0.11180253 0.11025111 0.10870126\n",
      " 0.10715327 0.1056075  0.10406442 0.10252453]\n",
      "24 day output [[0.10098839]]\n",
      "1 day input [0.14538529 0.14603751 0.14385294 0.14751643 0.14955183 0.15001258\n",
      " 0.14840767 0.14634262 0.15647765 0.14907595 0.15293213 0.15297598\n",
      " 0.14939495 0.14891382 0.14678206 0.15145784 0.15000054 0.13678847\n",
      " 0.13853204 0.13490654 0.13244405 0.12726489 0.13535031 0.13186378\n",
      " 0.14216465 0.14281501 0.1329959  0.13447173 0.13482841 0.13473175\n",
      " 0.13474009 0.13227759 0.12731616 0.12495341 0.1276926  0.12552626\n",
      " 0.11953678 0.11676392 0.11684143 0.1154882  0.12122693 0.12063122\n",
      " 0.11872706 0.1221228  0.11459016 0.1122725  0.1130958  0.11450184\n",
      " 0.11713511 0.11230184 0.1132147  0.11287778 0.11554471 0.11577324\n",
      " 0.11932524 0.11873262 0.1193416  0.12113675 0.11895589 0.12314529\n",
      " 0.13066619 0.13134713 0.12669204 0.128859   0.1306174  0.13071777\n",
      " 0.12641967 0.12392134 0.1219511  0.12521961 0.12438797 0.12716113\n",
      " 0.13792429 0.13469809 0.13794498 0.1358498  0.13504018 0.13393602\n",
      " 0.13269794 0.13137893 0.13000385 0.12858628 0.12713468 0.12565526\n",
      " 0.12415335 0.12263392 0.12110139 0.11955968 0.11801199 0.11646087\n",
      " 0.11490811 0.11335506 0.11180253 0.11025111 0.10870126 0.10715327\n",
      " 0.1056075  0.10406442 0.10252453 0.10098839]\n",
      "25 day output [[0.09945674]]\n",
      "1 day input [0.14603751 0.14385294 0.14751643 0.14955183 0.15001258 0.14840767\n",
      " 0.14634262 0.15647765 0.14907595 0.15293213 0.15297598 0.14939495\n",
      " 0.14891382 0.14678206 0.15145784 0.15000054 0.13678847 0.13853204\n",
      " 0.13490654 0.13244405 0.12726489 0.13535031 0.13186378 0.14216465\n",
      " 0.14281501 0.1329959  0.13447173 0.13482841 0.13473175 0.13474009\n",
      " 0.13227759 0.12731616 0.12495341 0.1276926  0.12552626 0.11953678\n",
      " 0.11676392 0.11684143 0.1154882  0.12122693 0.12063122 0.11872706\n",
      " 0.1221228  0.11459016 0.1122725  0.1130958  0.11450184 0.11713511\n",
      " 0.11230184 0.1132147  0.11287778 0.11554471 0.11577324 0.11932524\n",
      " 0.11873262 0.1193416  0.12113675 0.11895589 0.12314529 0.13066619\n",
      " 0.13134713 0.12669204 0.128859   0.1306174  0.13071777 0.12641967\n",
      " 0.12392134 0.1219511  0.12521961 0.12438797 0.12716113 0.13792429\n",
      " 0.13469809 0.13794498 0.1358498  0.13504018 0.13393602 0.13269794\n",
      " 0.13137893 0.13000385 0.12858628 0.12713468 0.12565526 0.12415335\n",
      " 0.12263392 0.12110139 0.11955968 0.11801199 0.11646087 0.11490811\n",
      " 0.11335506 0.11180253 0.11025111 0.10870126 0.10715327 0.1056075\n",
      " 0.10406442 0.10252453 0.10098839 0.09945674]\n",
      "26 day output [[0.09793036]]\n",
      "1 day input [0.14385294 0.14751643 0.14955183 0.15001258 0.14840767 0.14634262\n",
      " 0.15647765 0.14907595 0.15293213 0.15297598 0.14939495 0.14891382\n",
      " 0.14678206 0.15145784 0.15000054 0.13678847 0.13853204 0.13490654\n",
      " 0.13244405 0.12726489 0.13535031 0.13186378 0.14216465 0.14281501\n",
      " 0.1329959  0.13447173 0.13482841 0.13473175 0.13474009 0.13227759\n",
      " 0.12731616 0.12495341 0.1276926  0.12552626 0.11953678 0.11676392\n",
      " 0.11684143 0.1154882  0.12122693 0.12063122 0.11872706 0.1221228\n",
      " 0.11459016 0.1122725  0.1130958  0.11450184 0.11713511 0.11230184\n",
      " 0.1132147  0.11287778 0.11554471 0.11577324 0.11932524 0.11873262\n",
      " 0.1193416  0.12113675 0.11895589 0.12314529 0.13066619 0.13134713\n",
      " 0.12669204 0.128859   0.1306174  0.13071777 0.12641967 0.12392134\n",
      " 0.1219511  0.12521961 0.12438797 0.12716113 0.13792429 0.13469809\n",
      " 0.13794498 0.1358498  0.13504018 0.13393602 0.13269794 0.13137893\n",
      " 0.13000385 0.12858628 0.12713468 0.12565526 0.12415335 0.12263392\n",
      " 0.12110139 0.11955968 0.11801199 0.11646087 0.11490811 0.11335506\n",
      " 0.11180253 0.11025111 0.10870126 0.10715327 0.1056075  0.10406442\n",
      " 0.10252453 0.10098839 0.09945674 0.09793036]\n"
     ]
    },
    {
     "name": "stdout",
     "output_type": "stream",
     "text": [
      "27 day output [[0.09641001]]\n",
      "1 day input [0.14751643 0.14955183 0.15001258 0.14840767 0.14634262 0.15647765\n",
      " 0.14907595 0.15293213 0.15297598 0.14939495 0.14891382 0.14678206\n",
      " 0.15145784 0.15000054 0.13678847 0.13853204 0.13490654 0.13244405\n",
      " 0.12726489 0.13535031 0.13186378 0.14216465 0.14281501 0.1329959\n",
      " 0.13447173 0.13482841 0.13473175 0.13474009 0.13227759 0.12731616\n",
      " 0.12495341 0.1276926  0.12552626 0.11953678 0.11676392 0.11684143\n",
      " 0.1154882  0.12122693 0.12063122 0.11872706 0.1221228  0.11459016\n",
      " 0.1122725  0.1130958  0.11450184 0.11713511 0.11230184 0.1132147\n",
      " 0.11287778 0.11554471 0.11577324 0.11932524 0.11873262 0.1193416\n",
      " 0.12113675 0.11895589 0.12314529 0.13066619 0.13134713 0.12669204\n",
      " 0.128859   0.1306174  0.13071777 0.12641967 0.12392134 0.1219511\n",
      " 0.12521961 0.12438797 0.12716113 0.13792429 0.13469809 0.13794498\n",
      " 0.1358498  0.13504018 0.13393602 0.13269794 0.13137893 0.13000385\n",
      " 0.12858628 0.12713468 0.12565526 0.12415335 0.12263392 0.12110139\n",
      " 0.11955968 0.11801199 0.11646087 0.11490811 0.11335506 0.11180253\n",
      " 0.11025111 0.10870126 0.10715327 0.1056075  0.10406442 0.10252453\n",
      " 0.10098839 0.09945674 0.09793036 0.09641001]\n",
      "28 day output [[0.09489659]]\n",
      "1 day input [0.14955183 0.15001258 0.14840767 0.14634262 0.15647765 0.14907595\n",
      " 0.15293213 0.15297598 0.14939495 0.14891382 0.14678206 0.15145784\n",
      " 0.15000054 0.13678847 0.13853204 0.13490654 0.13244405 0.12726489\n",
      " 0.13535031 0.13186378 0.14216465 0.14281501 0.1329959  0.13447173\n",
      " 0.13482841 0.13473175 0.13474009 0.13227759 0.12731616 0.12495341\n",
      " 0.1276926  0.12552626 0.11953678 0.11676392 0.11684143 0.1154882\n",
      " 0.12122693 0.12063122 0.11872706 0.1221228  0.11459016 0.1122725\n",
      " 0.1130958  0.11450184 0.11713511 0.11230184 0.1132147  0.11287778\n",
      " 0.11554471 0.11577324 0.11932524 0.11873262 0.1193416  0.12113675\n",
      " 0.11895589 0.12314529 0.13066619 0.13134713 0.12669204 0.128859\n",
      " 0.1306174  0.13071777 0.12641967 0.12392134 0.1219511  0.12521961\n",
      " 0.12438797 0.12716113 0.13792429 0.13469809 0.13794498 0.1358498\n",
      " 0.13504018 0.13393602 0.13269794 0.13137893 0.13000385 0.12858628\n",
      " 0.12713468 0.12565526 0.12415335 0.12263392 0.12110139 0.11955968\n",
      " 0.11801199 0.11646087 0.11490811 0.11335506 0.11180253 0.11025111\n",
      " 0.10870126 0.10715327 0.1056075  0.10406442 0.10252453 0.10098839\n",
      " 0.09945674 0.09793036 0.09641001 0.09489659]\n",
      "29 day output [[0.09339097]]\n",
      "[[0.13584980368614197], [0.13504017889499664], [0.13393601775169373], [0.1326979398727417], [0.1313789337873459], [0.13000385463237762], [0.1285862773656845], [0.12713468074798584], [0.12565526366233826], [0.12415335327386856], [0.1226339191198349], [0.12110139429569244], [0.11955968290567398], [0.11801198869943619], [0.11646086722612381], [0.1149081140756607], [0.11335505545139313], [0.11180253326892853], [0.11025111377239227], [0.10870125889778137], [0.1071532741189003], [0.10560750216245651], [0.10406441986560822], [0.1025245264172554], [0.10098838806152344], [0.09945674240589142], [0.09793035686016083], [0.09641001373529434], [0.0948965921998024], [0.09339097142219543]]\n"
     ]
    }
   ],
   "source": [
    "from numpy import array\n",
    "lst_output = []\n",
    "n_steps = 100\n",
    "i = 0\n",
    "while (i<30):\n",
    "    if(len(temp_input)>100):\n",
    "        x_input = np.array(temp_input[1:])\n",
    "        print(\"{} day input {}\".format(1,x_input))\n",
    "        x_input = x_input.reshape(1,-1)\n",
    "        x_input = x_input.reshape (1, n_steps, 1)\n",
    "        yhat = model.predict(x_input, verbose = 0)\n",
    "        print(\"{} day output {}\". format (i, yhat))\n",
    "        temp_input.extend(yhat[0].tolist())\n",
    "        temp_input = temp_input[1:]\n",
    "        lst_output.extend(yhat.tolist())\n",
    "        i = i+1\n",
    "    else:\n",
    "        x_input = x_input.reshape((1, n_steps,1))\n",
    "        yhat = model.predict(x_input, verbose = 0)\n",
    "        print(yhat[0])\n",
    "        temp_input.extend(yhat[0].tolist())\n",
    "        print(len(temp_input))\n",
    "        lst_output.extend(yhat.tolist())\n",
    "        i = i+1\n",
    "print(lst_output)"
   ]
  },
  {
   "cell_type": "code",
   "execution_count": 26,
   "id": "04c4053d",
   "metadata": {},
   "outputs": [
    {
     "name": "stdout",
     "output_type": "stream",
     "text": [
      "[101 102 103 104 105 106 107 108 109 110 111 112 113 114 115 116 117 118\n",
      " 119 120 121 122 123 124 125 126 127 128 129 130]\n"
     ]
    }
   ],
   "source": [
    "day_new = np.arange(1,101)\n",
    "day_pred = np.arange(101,131)\n",
    "print(day_pred)"
   ]
  },
  {
   "cell_type": "code",
   "execution_count": 27,
   "id": "a3637f55",
   "metadata": {},
   "outputs": [
    {
     "data": {
      "text/plain": [
       "2251"
      ]
     },
     "execution_count": 27,
     "metadata": {},
     "output_type": "execute_result"
    }
   ],
   "source": [
    "import matplotlib.pyplot as plt\n",
    "len(Data)"
   ]
  },
  {
   "cell_type": "code",
   "execution_count": 28,
   "id": "37073cd1",
   "metadata": {},
   "outputs": [],
   "source": [
    "df3 = Data.tolist()\n",
    "df3.extend(lst_output)"
   ]
  },
  {
   "cell_type": "code",
   "execution_count": 29,
   "id": "e601afca",
   "metadata": {},
   "outputs": [
    {
     "data": {
      "text/plain": [
       "[<matplotlib.lines.Line2D at 0x1decc004090>]"
      ]
     },
     "execution_count": 29,
     "metadata": {},
     "output_type": "execute_result"
    },
    {
     "data": {
      "image/png": "[encoded data removed]",
      "text/plain": [
       "<Figure size 640x480 with 1 Axes>"
      ]
     },
     "metadata": {},
     "output_type": "display_data"
    }
   ],
   "source": [
    "plt.plot(day_new,scalar.inverse_transform(Data[2151:]))\n",
    "plt.plot(day_pred,scalar.inverse_transform(lst_output))"
   ]
  },
  {
   "cell_type": "code",
   "execution_count": 30,
   "id": "42439ab5",
   "metadata": {},
   "outputs": [
    {
     "data": {
      "text/plain": [
       "[<matplotlib.lines.Line2D at 0x1decbdd2b50>]"
      ]
     },
     "execution_count": 30,
     "metadata": {},
     "output_type": "execute_result"
    },
    {
     "data": {
      "image/png": "[encoded data removed]",
      "text/plain": [
       "<Figure size 640x480 with 1 Axes>"
      ]
     },
     "metadata": {},
     "output_type": "display_data"
    }
   ],
   "source": [
    "df3=Data.tolist()\n",
    "df3.extend(lst_output)\n",
    "plt.plot(df3[2200:])"
   ]
  },
  {
   "cell_type": "code",
   "execution_count": 31,
   "id": "7bdad9dc",
   "metadata": {},
   "outputs": [],
   "source": [
    "df3=scalar.inverse_transform(df3).tolist()"
   ]
  },
  {
   "cell_type": "code",
   "execution_count": 32,
   "id": "dd8aa88d",
   "metadata": {},
   "outputs": [
    {
     "data": {
      "text/plain": [
       "[<matplotlib.lines.Line2D at 0x1decc2cc710>]"
      ]
     },
     "execution_count": 32,
     "metadata": {},
     "output_type": "execute_result"
    },
    {
     "data": {
      "image/png": "[encoded data removed]",
      "text/plain": [
       "<Figure size 640x480 with 1 Axes>"
      ]
     },
     "metadata": {},
     "output_type": "display_data"
    }
   ],
   "source": [
    "plt.plot(df3)"
   ]
  },
  {
   "cell_type": "code",
   "execution_count": null,
   "id": "45c99b57",
   "metadata": {},
   "outputs": [],
   "source": []
  }
 ],
 "metadata": {
  "kernelspec": {
   "display_name": "ML-Kernel",
   "language": "python",
   "name": "ml-kernel"
  },
  "language_info": {
   "codemirror_mode": {
    "name": "ipython",
    "version": 3
   },
   "file_extension": ".py",
   "mimetype": "text/x-python",
   "name": "python",
   "nbconvert_exporter": "python",
   "pygments_lexer": "ipython3",
   "version": "3.11.0"
  }
 },
 "nbformat": 4,
 "nbformat_minor": 5
}
