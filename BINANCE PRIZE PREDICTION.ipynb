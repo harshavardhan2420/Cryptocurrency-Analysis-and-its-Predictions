{
 "cells": [
  {
   "cell_type": "markdown",
   "id": "03896681",
   "metadata": {},
   "source": [
    "## BINANCE COIN PRIZE PREDICTION"
   ]
  },
  {
   "cell_type": "code",
   "execution_count": 2,
   "id": "f3e8b6d3",
   "metadata": {},
   "outputs": [
    {
     "data": {
      "text/html": [
       "<div>\n",
       "<style scoped>\n",
       "    .dataframe tbody tr th:only-of-type {\n",
       "        vertical-align: middle;\n",
       "    }\n",
       "\n",
       "    .dataframe tbody tr th {\n",
       "        vertical-align: top;\n",
       "    }\n",
       "\n",
       "    .dataframe thead th {\n",
       "        text-align: right;\n",
       "    }\n",
       "</style>\n",
       "<table border=\"1\" class=\"dataframe\">\n",
       "  <thead>\n",
       "    <tr style=\"text-align: right;\">\n",
       "      <th></th>\n",
       "      <th>Date</th>\n",
       "      <th>Open</th>\n",
       "      <th>High</th>\n",
       "      <th>Low</th>\n",
       "      <th>Close</th>\n",
       "      <th>Adj Close</th>\n",
       "      <th>Volume</th>\n",
       "    </tr>\n",
       "  </thead>\n",
       "  <tbody>\n",
       "    <tr>\n",
       "      <th>0</th>\n",
       "      <td>01-01-2018</td>\n",
       "      <td>8.629530</td>\n",
       "      <td>8.700570</td>\n",
       "      <td>7.959220</td>\n",
       "      <td>8.414610</td>\n",
       "      <td>8.414610</td>\n",
       "      <td>66422800</td>\n",
       "    </tr>\n",
       "    <tr>\n",
       "      <th>1</th>\n",
       "      <td>02-01-2018</td>\n",
       "      <td>8.457700</td>\n",
       "      <td>9.122590</td>\n",
       "      <td>8.217180</td>\n",
       "      <td>8.837770</td>\n",
       "      <td>8.837770</td>\n",
       "      <td>104789000</td>\n",
       "    </tr>\n",
       "    <tr>\n",
       "      <th>2</th>\n",
       "      <td>03-01-2018</td>\n",
       "      <td>8.770140</td>\n",
       "      <td>9.580780</td>\n",
       "      <td>8.529180</td>\n",
       "      <td>9.535880</td>\n",
       "      <td>9.535880</td>\n",
       "      <td>108852000</td>\n",
       "    </tr>\n",
       "    <tr>\n",
       "      <th>3</th>\n",
       "      <td>04-01-2018</td>\n",
       "      <td>9.445840</td>\n",
       "      <td>9.538490</td>\n",
       "      <td>8.854130</td>\n",
       "      <td>9.213990</td>\n",
       "      <td>9.213990</td>\n",
       "      <td>158819008</td>\n",
       "    </tr>\n",
       "    <tr>\n",
       "      <th>4</th>\n",
       "      <td>05-01-2018</td>\n",
       "      <td>9.145680</td>\n",
       "      <td>16.717699</td>\n",
       "      <td>9.094680</td>\n",
       "      <td>14.917200</td>\n",
       "      <td>14.917200</td>\n",
       "      <td>341504992</td>\n",
       "    </tr>\n",
       "    <tr>\n",
       "      <th>...</th>\n",
       "      <td>...</td>\n",
       "      <td>...</td>\n",
       "      <td>...</td>\n",
       "      <td>...</td>\n",
       "      <td>...</td>\n",
       "      <td>...</td>\n",
       "      <td>...</td>\n",
       "    </tr>\n",
       "    <tr>\n",
       "      <th>2246</th>\n",
       "      <td>25-02-2024</td>\n",
       "      <td>381.742615</td>\n",
       "      <td>390.450104</td>\n",
       "      <td>378.128571</td>\n",
       "      <td>388.551727</td>\n",
       "      <td>388.551727</td>\n",
       "      <td>1324081579</td>\n",
       "    </tr>\n",
       "    <tr>\n",
       "      <th>2247</th>\n",
       "      <td>26-02-2024</td>\n",
       "      <td>388.535004</td>\n",
       "      <td>404.440094</td>\n",
       "      <td>382.256866</td>\n",
       "      <td>401.643890</td>\n",
       "      <td>401.643890</td>\n",
       "      <td>2011146388</td>\n",
       "    </tr>\n",
       "    <tr>\n",
       "      <th>2248</th>\n",
       "      <td>27-02-2024</td>\n",
       "      <td>401.643890</td>\n",
       "      <td>403.740051</td>\n",
       "      <td>390.917877</td>\n",
       "      <td>394.995636</td>\n",
       "      <td>394.995636</td>\n",
       "      <td>1750697179</td>\n",
       "    </tr>\n",
       "    <tr>\n",
       "      <th>2249</th>\n",
       "      <td>28-02-2024</td>\n",
       "      <td>394.951721</td>\n",
       "      <td>427.046814</td>\n",
       "      <td>394.661072</td>\n",
       "      <td>415.771606</td>\n",
       "      <td>415.771606</td>\n",
       "      <td>2323818531</td>\n",
       "    </tr>\n",
       "    <tr>\n",
       "      <th>2250</th>\n",
       "      <td>29-02-2024</td>\n",
       "      <td>415.583618</td>\n",
       "      <td>419.779022</td>\n",
       "      <td>392.379883</td>\n",
       "      <td>399.778717</td>\n",
       "      <td>399.778717</td>\n",
       "      <td>2058367303</td>\n",
       "    </tr>\n",
       "  </tbody>\n",
       "</table>\n",
       "<p>2251 rows × 7 columns</p>\n",
       "</div>"
      ],
      "text/plain": [
       "            Date        Open        High         Low       Close   Adj Close  \\\n",
       "0     01-01-2018    8.629530    8.700570    7.959220    8.414610    8.414610   \n",
       "1     02-01-2018    8.457700    9.122590    8.217180    8.837770    8.837770   \n",
       "2     03-01-2018    8.770140    9.580780    8.529180    9.535880    9.535880   \n",
       "3     04-01-2018    9.445840    9.538490    8.854130    9.213990    9.213990   \n",
       "4     05-01-2018    9.145680   16.717699    9.094680   14.917200   14.917200   \n",
       "...          ...         ...         ...         ...         ...         ...   \n",
       "2246  25-02-2024  381.742615  390.450104  378.128571  388.551727  388.551727   \n",
       "2247  26-02-2024  388.535004  404.440094  382.256866  401.643890  401.643890   \n",
       "2248  27-02-2024  401.643890  403.740051  390.917877  394.995636  394.995636   \n",
       "2249  28-02-2024  394.951721  427.046814  394.661072  415.771606  415.771606   \n",
       "2250  29-02-2024  415.583618  419.779022  392.379883  399.778717  399.778717   \n",
       "\n",
       "          Volume  \n",
       "0       66422800  \n",
       "1      104789000  \n",
       "2      108852000  \n",
       "3      158819008  \n",
       "4      341504992  \n",
       "...          ...  \n",
       "2246  1324081579  \n",
       "2247  2011146388  \n",
       "2248  1750697179  \n",
       "2249  2323818531  \n",
       "2250  2058367303  \n",
       "\n",
       "[2251 rows x 7 columns]"
      ]
     },
     "execution_count": 2,
     "metadata": {},
     "output_type": "execute_result"
    }
   ],
   "source": [
    "import pandas as pd\n",
    "Binance_data = pd.read_csv(\"BINANCE_DATA.csv\")\n",
    "Binance_data"
   ]
  },
  {
   "cell_type": "code",
   "execution_count": 3,
   "id": "cffb7ca8",
   "metadata": {},
   "outputs": [
    {
     "data": {
      "text/plain": [
       "0     8.41461\n",
       "1     8.83777\n",
       "2     9.53588\n",
       "3     9.21399\n",
       "4    14.91720\n",
       "Name: Close, dtype: float64"
      ]
     },
     "execution_count": 3,
     "metadata": {},
     "output_type": "execute_result"
    }
   ],
   "source": [
    "Data = Binance_data.reset_index()[\"Close\"]\n",
    "Data.head()"
   ]
  },
  {
   "cell_type": "code",
   "execution_count": 4,
   "id": "a3009a17",
   "metadata": {},
   "outputs": [
    {
     "data": {
      "text/plain": [
       "[<matplotlib.lines.Line2D at 0x16fe45bda50>]"
      ]
     },
     "execution_count": 4,
     "metadata": {},
     "output_type": "execute_result"
    },
    {
     "data": {
      "image/png": "[encoded data removed]",
      "text/plain": [
       "<Figure size 640x480 with 1 Axes>"
      ]
     },
     "metadata": {},
     "output_type": "display_data"
    }
   ],
   "source": [
    "import matplotlib.pyplot as plt\n",
    "plt.plot(Data)"
   ]
  },
  {
   "cell_type": "code",
   "execution_count": 5,
   "id": "ee9573a1",
   "metadata": {},
   "outputs": [
    {
     "data": {
      "text/plain": [
       "0         8.414610\n",
       "1         8.837770\n",
       "2         9.535880\n",
       "3         9.213990\n",
       "4        14.917200\n",
       "           ...    \n",
       "2246    388.551727\n",
       "2247    401.643890\n",
       "2248    394.995636\n",
       "2249    415.771606\n",
       "2250    399.778717\n",
       "Name: Close, Length: 2251, dtype: float64"
      ]
     },
     "execution_count": 5,
     "metadata": {},
     "output_type": "execute_result"
    }
   ],
   "source": [
    "import numpy as np\n",
    "Data"
   ]
  },
  {
   "cell_type": "code",
   "execution_count": 6,
   "id": "e50f91f4",
   "metadata": {},
   "outputs": [
    {
     "name": "stdout",
     "output_type": "stream",
     "text": [
      "[[0.00578996]\n",
      " [0.00642045]\n",
      " [0.00746061]\n",
      " ...\n",
      " [0.58178325]\n",
      " [0.61273877]\n",
      " [0.58890988]]\n"
     ]
    }
   ],
   "source": [
    "from sklearn.preprocessing import MinMaxScaler\n",
    "scalar = MinMaxScaler(feature_range = (0,1))\n",
    "Data = scalar.fit_transform(np.array(Data).reshape(-1,1))\n",
    "print(Data)"
   ]
  },
  {
   "cell_type": "code",
   "execution_count": 7,
   "id": "04ee7281",
   "metadata": {},
   "outputs": [
    {
     "data": {
      "text/plain": [
       "(1688, 563)"
      ]
     },
     "execution_count": 7,
     "metadata": {},
     "output_type": "execute_result"
    }
   ],
   "source": [
    "training_size = int(len(Data)*0.75)\n",
    "test_size = len(Data)-training_size\n",
    "train_data, test_data = Data[0:training_size,:], Data[training_size:len(Data),:1]\n",
    "training_size, test_size"
   ]
  },
  {
   "cell_type": "code",
   "execution_count": 8,
   "id": "44d99e78",
   "metadata": {},
   "outputs": [
    {
     "data": {
      "text/plain": [
       "array([[0.00578996],\n",
       "       [0.00642045],\n",
       "       [0.00746061],\n",
       "       ...,\n",
       "       [0.47580856],\n",
       "       [0.46704231],\n",
       "       [0.46987424]])"
      ]
     },
     "execution_count": 8,
     "metadata": {},
     "output_type": "execute_result"
    }
   ],
   "source": [
    "train_data"
   ]
  },
  {
   "cell_type": "code",
   "execution_count": 9,
   "id": "0143dafe",
   "metadata": {},
   "outputs": [],
   "source": [
    "import numpy\n",
    "def create_dataset(dataset, time_step=1):\n",
    "    dataX, dataY = [],[]\n",
    "    for i in range(len(dataset)-time_step-1):\n",
    "        a = dataset[i:(i+time_step), 0]\n",
    "        dataX.append(a)\n",
    "        dataY.append(dataset[i + time_step,0])\n",
    "    return numpy.array(dataX), numpy.array(dataY) "
   ]
  },
  {
   "cell_type": "code",
   "execution_count": 10,
   "id": "2786b4d4",
   "metadata": {},
   "outputs": [],
   "source": [
    "time_step = 100\n",
    "X_train, Y_train = create_dataset(train_data, time_step)\n",
    "X_test, Y_test = create_dataset(test_data, time_step)"
   ]
  },
  {
   "cell_type": "code",
   "execution_count": 11,
   "id": "586c0282",
   "metadata": {},
   "outputs": [
    {
     "name": "stdout",
     "output_type": "stream",
     "text": [
      "(1587, 100)\n",
      "(1587,)\n"
     ]
    },
    {
     "data": {
      "text/plain": [
       "(None, None)"
      ]
     },
     "execution_count": 11,
     "metadata": {},
     "output_type": "execute_result"
    }
   ],
   "source": [
    "print(X_train.shape), print(Y_train.shape)"
   ]
  },
  {
   "cell_type": "code",
   "execution_count": 12,
   "id": "ce6aba47",
   "metadata": {},
   "outputs": [
    {
     "name": "stdout",
     "output_type": "stream",
     "text": [
      "(462, 100)\n",
      "(462,)\n"
     ]
    },
    {
     "data": {
      "text/plain": [
       "(None, None)"
      ]
     },
     "execution_count": 12,
     "metadata": {},
     "output_type": "execute_result"
    }
   ],
   "source": [
    "print(X_test.shape), print(Y_test.shape)"
   ]
  },
  {
   "cell_type": "code",
   "execution_count": 13,
   "id": "f262f902",
   "metadata": {},
   "outputs": [],
   "source": [
    "X_train = X_train.reshape(X_train.shape[0],X_train.shape[1],1)\n",
    "X_test = X_test.reshape(X_test.shape[0],X_test.shape[1],1)"
   ]
  },
  {
   "cell_type": "code",
   "execution_count": 14,
   "id": "80271b7a",
   "metadata": {},
   "outputs": [],
   "source": [
    "from tensorflow.keras.models import Sequential\n",
    "from tensorflow.keras.layers import Dense\n",
    "from tensorflow.keras.layers import LSTM"
   ]
  },
  {
   "cell_type": "code",
   "execution_count": 15,
   "id": "6643a40e",
   "metadata": {},
   "outputs": [
    {
     "name": "stderr",
     "output_type": "stream",
     "text": [
      "C:\\Users\\91636\\Desktop\\project\\my_kernal\\Lib\\site-packages\\keras\\src\\layers\\rnn\\rnn.py:204: UserWarning: Do not pass an `input_shape`/`input_dim` argument to a layer. When using Sequential models, prefer using an `Input(shape)` object as the first layer in the model instead.\n",
      "  super().__init__(**kwargs)\n"
     ]
    }
   ],
   "source": [
    "model = Sequential()\n",
    "model.add(LSTM(50,return_sequences=True, input_shape=(100,1)))\n",
    "model.add(LSTM(50,return_sequences=True))\n",
    "model.add(LSTM(50))\n",
    "model.add(Dense(1))\n",
    "model.compile(loss=\"mean_squared_error\",optimizer=\"adam\")"
   ]
  },
  {
   "cell_type": "code",
   "execution_count": 16,
   "id": "f2e6ec58",
   "metadata": {},
   "outputs": [
    {
     "data": {
      "text/html": [
       "<pre style=\"white-space:pre;overflow-x:auto;line-height:normal;font-family:Menlo,'DejaVu Sans Mono',consolas,'Courier New',monospace\"><span style=\"font-weight: bold\">Model: \"sequential\"</span>\n",
       "</pre>\n"
      ],
      "text/plain": [
       "\u001b[1mModel: \"sequential\"\u001b[0m\n"
      ]
     },
     "metadata": {},
     "output_type": "display_data"
    },
    {
     "data": {
      "text/html": [
       "<pre style=\"white-space:pre;overflow-x:auto;line-height:normal;font-family:Menlo,'DejaVu Sans Mono',consolas,'Courier New',monospace\">┏━━━━━━━━━━━━━━━━━━━━━━━━━━━━━━━━━┳━━━━━━━━━━━━━━━━━━━━━━━━┳━━━━━━━━━━━━━━━┓\n",
       "┃<span style=\"font-weight: bold\"> Layer (type)                    </span>┃<span style=\"font-weight: bold\"> Output Shape           </span>┃<span style=\"font-weight: bold\">       Param # </span>┃\n",
       "┡━━━━━━━━━━━━━━━━━━━━━━━━━━━━━━━━━╇━━━━━━━━━━━━━━━━━━━━━━━━╇━━━━━━━━━━━━━━━┩\n",
       "│ lstm (<span style=\"color: #0087ff; text-decoration-color: #0087ff\">LSTM</span>)                     │ (<span style=\"color: #00d7ff; text-decoration-color: #00d7ff\">None</span>, <span style=\"color: #00af00; text-decoration-color: #00af00\">100</span>, <span style=\"color: #00af00; text-decoration-color: #00af00\">50</span>)        │        <span style=\"color: #00af00; text-decoration-color: #00af00\">10,400</span> │\n",
       "├─────────────────────────────────┼────────────────────────┼───────────────┤\n",
       "│ lstm_1 (<span style=\"color: #0087ff; text-decoration-color: #0087ff\">LSTM</span>)                   │ (<span style=\"color: #00d7ff; text-decoration-color: #00d7ff\">None</span>, <span style=\"color: #00af00; text-decoration-color: #00af00\">100</span>, <span style=\"color: #00af00; text-decoration-color: #00af00\">50</span>)        │        <span style=\"color: #00af00; text-decoration-color: #00af00\">20,200</span> │\n",
       "├─────────────────────────────────┼────────────────────────┼───────────────┤\n",
       "│ lstm_2 (<span style=\"color: #0087ff; text-decoration-color: #0087ff\">LSTM</span>)                   │ (<span style=\"color: #00d7ff; text-decoration-color: #00d7ff\">None</span>, <span style=\"color: #00af00; text-decoration-color: #00af00\">50</span>)             │        <span style=\"color: #00af00; text-decoration-color: #00af00\">20,200</span> │\n",
       "├─────────────────────────────────┼────────────────────────┼───────────────┤\n",
       "│ dense (<span style=\"color: #0087ff; text-decoration-color: #0087ff\">Dense</span>)                   │ (<span style=\"color: #00d7ff; text-decoration-color: #00d7ff\">None</span>, <span style=\"color: #00af00; text-decoration-color: #00af00\">1</span>)              │            <span style=\"color: #00af00; text-decoration-color: #00af00\">51</span> │\n",
       "└─────────────────────────────────┴────────────────────────┴───────────────┘\n",
       "</pre>\n"
      ],
      "text/plain": [
       "┏━━━━━━━━━━━━━━━━━━━━━━━━━━━━━━━━━┳━━━━━━━━━━━━━━━━━━━━━━━━┳━━━━━━━━━━━━━━━┓\n",
       "┃\u001b[1m \u001b[0m\u001b[1mLayer (type)                   \u001b[0m\u001b[1m \u001b[0m┃\u001b[1m \u001b[0m\u001b[1mOutput Shape          \u001b[0m\u001b[1m \u001b[0m┃\u001b[1m \u001b[0m\u001b[1m      Param #\u001b[0m\u001b[1m \u001b[0m┃\n",
       "┡━━━━━━━━━━━━━━━━━━━━━━━━━━━━━━━━━╇━━━━━━━━━━━━━━━━━━━━━━━━╇━━━━━━━━━━━━━━━┩\n",
       "│ lstm (\u001b[38;5;33mLSTM\u001b[0m)                     │ (\u001b[38;5;45mNone\u001b[0m, \u001b[38;5;34m100\u001b[0m, \u001b[38;5;34m50\u001b[0m)        │        \u001b[38;5;34m10,400\u001b[0m │\n",
       "├─────────────────────────────────┼────────────────────────┼───────────────┤\n",
       "│ lstm_1 (\u001b[38;5;33mLSTM\u001b[0m)                   │ (\u001b[38;5;45mNone\u001b[0m, \u001b[38;5;34m100\u001b[0m, \u001b[38;5;34m50\u001b[0m)        │        \u001b[38;5;34m20,200\u001b[0m │\n",
       "├─────────────────────────────────┼────────────────────────┼───────────────┤\n",
       "│ lstm_2 (\u001b[38;5;33mLSTM\u001b[0m)                   │ (\u001b[38;5;45mNone\u001b[0m, \u001b[38;5;34m50\u001b[0m)             │        \u001b[38;5;34m20,200\u001b[0m │\n",
       "├─────────────────────────────────┼────────────────────────┼───────────────┤\n",
       "│ dense (\u001b[38;5;33mDense\u001b[0m)                   │ (\u001b[38;5;45mNone\u001b[0m, \u001b[38;5;34m1\u001b[0m)              │            \u001b[38;5;34m51\u001b[0m │\n",
       "└─────────────────────────────────┴────────────────────────┴───────────────┘\n"
      ]
     },
     "metadata": {},
     "output_type": "display_data"
    },
    {
     "data": {
      "text/html": [
       "<pre style=\"white-space:pre;overflow-x:auto;line-height:normal;font-family:Menlo,'DejaVu Sans Mono',consolas,'Courier New',monospace\"><span style=\"font-weight: bold\"> Total params: </span><span style=\"color: #00af00; text-decoration-color: #00af00\">50,851</span> (198.64 KB)\n",
       "</pre>\n"
      ],
      "text/plain": [
       "\u001b[1m Total params: \u001b[0m\u001b[38;5;34m50,851\u001b[0m (198.64 KB)\n"
      ]
     },
     "metadata": {},
     "output_type": "display_data"
    },
    {
     "data": {
      "text/html": [
       "<pre style=\"white-space:pre;overflow-x:auto;line-height:normal;font-family:Menlo,'DejaVu Sans Mono',consolas,'Courier New',monospace\"><span style=\"font-weight: bold\"> Trainable params: </span><span style=\"color: #00af00; text-decoration-color: #00af00\">50,851</span> (198.64 KB)\n",
       "</pre>\n"
      ],
      "text/plain": [
       "\u001b[1m Trainable params: \u001b[0m\u001b[38;5;34m50,851\u001b[0m (198.64 KB)\n"
      ]
     },
     "metadata": {},
     "output_type": "display_data"
    },
    {
     "data": {
      "text/html": [
       "<pre style=\"white-space:pre;overflow-x:auto;line-height:normal;font-family:Menlo,'DejaVu Sans Mono',consolas,'Courier New',monospace\"><span style=\"font-weight: bold\"> Non-trainable params: </span><span style=\"color: #00af00; text-decoration-color: #00af00\">0</span> (0.00 B)\n",
       "</pre>\n"
      ],
      "text/plain": [
       "\u001b[1m Non-trainable params: \u001b[0m\u001b[38;5;34m0\u001b[0m (0.00 B)\n"
      ]
     },
     "metadata": {},
     "output_type": "display_data"
    }
   ],
   "source": [
    "model.summary()"
   ]
  },
  {
   "cell_type": "code",
   "execution_count": 17,
   "id": "932f0b0d",
   "metadata": {},
   "outputs": [
    {
     "name": "stdout",
     "output_type": "stream",
     "text": [
      "Epoch 1/100\n",
      "\u001b[1m25/25\u001b[0m \u001b[32m━━━━━━━━━━━━━━━━━━━━\u001b[0m\u001b[37m\u001b[0m \u001b[1m5s\u001b[0m 82ms/step - loss: 0.0484 - val_loss: 0.0014\n",
      "Epoch 2/100\n",
      "\u001b[1m25/25\u001b[0m \u001b[32m━━━━━━━━━━━━━━━━━━━━\u001b[0m\u001b[37m\u001b[0m \u001b[1m2s\u001b[0m 62ms/step - loss: 0.0058 - val_loss: 0.0024\n",
      "Epoch 3/100\n",
      "\u001b[1m25/25\u001b[0m \u001b[32m━━━━━━━━━━━━━━━━━━━━\u001b[0m\u001b[37m\u001b[0m \u001b[1m2s\u001b[0m 64ms/step - loss: 0.0033 - val_loss: 0.0012\n",
      "Epoch 4/100\n",
      "\u001b[1m25/25\u001b[0m \u001b[32m━━━━━━━━━━━━━━━━━━━━\u001b[0m\u001b[37m\u001b[0m \u001b[1m2s\u001b[0m 64ms/step - loss: 0.0026 - val_loss: 0.0013\n",
      "Epoch 5/100\n",
      "\u001b[1m25/25\u001b[0m \u001b[32m━━━━━━━━━━━━━━━━━━━━\u001b[0m\u001b[37m\u001b[0m \u001b[1m2s\u001b[0m 63ms/step - loss: 0.0026 - val_loss: 0.0012\n",
      "Epoch 6/100\n",
      "\u001b[1m25/25\u001b[0m \u001b[32m━━━━━━━━━━━━━━━━━━━━\u001b[0m\u001b[37m\u001b[0m \u001b[1m2s\u001b[0m 64ms/step - loss: 0.0020 - val_loss: 0.0011\n",
      "Epoch 7/100\n",
      "\u001b[1m25/25\u001b[0m \u001b[32m━━━━━━━━━━━━━━━━━━━━\u001b[0m\u001b[37m\u001b[0m \u001b[1m2s\u001b[0m 64ms/step - loss: 0.0023 - val_loss: 0.0011\n",
      "Epoch 8/100\n",
      "\u001b[1m25/25\u001b[0m \u001b[32m━━━━━━━━━━━━━━━━━━━━\u001b[0m\u001b[37m\u001b[0m \u001b[1m2s\u001b[0m 63ms/step - loss: 0.0019 - val_loss: 0.0011\n",
      "Epoch 9/100\n",
      "\u001b[1m25/25\u001b[0m \u001b[32m━━━━━━━━━━━━━━━━━━━━\u001b[0m\u001b[37m\u001b[0m \u001b[1m2s\u001b[0m 64ms/step - loss: 0.0021 - val_loss: 7.9450e-04\n",
      "Epoch 10/100\n",
      "\u001b[1m25/25\u001b[0m \u001b[32m━━━━━━━━━━━━━━━━━━━━\u001b[0m\u001b[37m\u001b[0m \u001b[1m2s\u001b[0m 64ms/step - loss: 0.0015 - val_loss: 6.5127e-04\n",
      "Epoch 11/100\n",
      "\u001b[1m25/25\u001b[0m \u001b[32m━━━━━━━━━━━━━━━━━━━━\u001b[0m\u001b[37m\u001b[0m \u001b[1m2s\u001b[0m 64ms/step - loss: 0.0017 - val_loss: 7.8896e-04\n",
      "Epoch 12/100\n",
      "\u001b[1m25/25\u001b[0m \u001b[32m━━━━━━━━━━━━━━━━━━━━\u001b[0m\u001b[37m\u001b[0m \u001b[1m2s\u001b[0m 64ms/step - loss: 0.0017 - val_loss: 0.0023\n",
      "Epoch 13/100\n",
      "\u001b[1m25/25\u001b[0m \u001b[32m━━━━━━━━━━━━━━━━━━━━\u001b[0m\u001b[37m\u001b[0m \u001b[1m2s\u001b[0m 63ms/step - loss: 0.0017 - val_loss: 6.9080e-04\n",
      "Epoch 14/100\n",
      "\u001b[1m25/25\u001b[0m \u001b[32m━━━━━━━━━━━━━━━━━━━━\u001b[0m\u001b[37m\u001b[0m \u001b[1m2s\u001b[0m 64ms/step - loss: 0.0016 - val_loss: 5.6428e-04\n",
      "Epoch 15/100\n",
      "\u001b[1m25/25\u001b[0m \u001b[32m━━━━━━━━━━━━━━━━━━━━\u001b[0m\u001b[37m\u001b[0m \u001b[1m2s\u001b[0m 65ms/step - loss: 0.0013 - val_loss: 7.4248e-04\n",
      "Epoch 16/100\n",
      "\u001b[1m25/25\u001b[0m \u001b[32m━━━━━━━━━━━━━━━━━━━━\u001b[0m\u001b[37m\u001b[0m \u001b[1m2s\u001b[0m 63ms/step - loss: 0.0014 - val_loss: 7.1652e-04\n",
      "Epoch 17/100\n",
      "\u001b[1m25/25\u001b[0m \u001b[32m━━━━━━━━━━━━━━━━━━━━\u001b[0m\u001b[37m\u001b[0m \u001b[1m2s\u001b[0m 64ms/step - loss: 0.0010 - val_loss: 4.3027e-04\n",
      "Epoch 18/100\n",
      "\u001b[1m25/25\u001b[0m \u001b[32m━━━━━━━━━━━━━━━━━━━━\u001b[0m\u001b[37m\u001b[0m \u001b[1m2s\u001b[0m 66ms/step - loss: 0.0011 - val_loss: 7.5195e-04\n",
      "Epoch 19/100\n",
      "\u001b[1m25/25\u001b[0m \u001b[32m━━━━━━━━━━━━━━━━━━━━\u001b[0m\u001b[37m\u001b[0m \u001b[1m2s\u001b[0m 64ms/step - loss: 0.0011 - val_loss: 4.7666e-04\n",
      "Epoch 20/100\n",
      "\u001b[1m25/25\u001b[0m \u001b[32m━━━━━━━━━━━━━━━━━━━━\u001b[0m\u001b[37m\u001b[0m \u001b[1m2s\u001b[0m 66ms/step - loss: 9.5233e-04 - val_loss: 4.0115e-04\n",
      "Epoch 21/100\n",
      "\u001b[1m25/25\u001b[0m \u001b[32m━━━━━━━━━━━━━━━━━━━━\u001b[0m\u001b[37m\u001b[0m \u001b[1m2s\u001b[0m 65ms/step - loss: 9.1761e-04 - val_loss: 4.0389e-04\n",
      "Epoch 22/100\n",
      "\u001b[1m25/25\u001b[0m \u001b[32m━━━━━━━━━━━━━━━━━━━━\u001b[0m\u001b[37m\u001b[0m \u001b[1m2s\u001b[0m 66ms/step - loss: 8.1620e-04 - val_loss: 3.5157e-04\n",
      "Epoch 23/100\n",
      "\u001b[1m25/25\u001b[0m \u001b[32m━━━━━━━━━━━━━━━━━━━━\u001b[0m\u001b[37m\u001b[0m \u001b[1m2s\u001b[0m 64ms/step - loss: 9.2897e-04 - val_loss: 8.3258e-04\n",
      "Epoch 24/100\n",
      "\u001b[1m25/25\u001b[0m \u001b[32m━━━━━━━━━━━━━━━━━━━━\u001b[0m\u001b[37m\u001b[0m \u001b[1m2s\u001b[0m 66ms/step - loss: 0.0010 - val_loss: 6.9416e-04\n",
      "Epoch 25/100\n",
      "\u001b[1m25/25\u001b[0m \u001b[32m━━━━━━━━━━━━━━━━━━━━\u001b[0m\u001b[37m\u001b[0m \u001b[1m2s\u001b[0m 63ms/step - loss: 0.0012 - val_loss: 4.3997e-04\n",
      "Epoch 26/100\n",
      "\u001b[1m25/25\u001b[0m \u001b[32m━━━━━━━━━━━━━━━━━━━━\u001b[0m\u001b[37m\u001b[0m \u001b[1m2s\u001b[0m 65ms/step - loss: 7.7186e-04 - val_loss: 3.1964e-04\n",
      "Epoch 27/100\n",
      "\u001b[1m25/25\u001b[0m \u001b[32m━━━━━━━━━━━━━━━━━━━━\u001b[0m\u001b[37m\u001b[0m \u001b[1m2s\u001b[0m 67ms/step - loss: 8.4105e-04 - val_loss: 6.2030e-04\n",
      "Epoch 28/100\n",
      "\u001b[1m25/25\u001b[0m \u001b[32m━━━━━━━━━━━━━━━━━━━━\u001b[0m\u001b[37m\u001b[0m \u001b[1m2s\u001b[0m 67ms/step - loss: 9.0546e-04 - val_loss: 3.5652e-04\n",
      "Epoch 29/100\n",
      "\u001b[1m25/25\u001b[0m \u001b[32m━━━━━━━━━━━━━━━━━━━━\u001b[0m\u001b[37m\u001b[0m \u001b[1m2s\u001b[0m 67ms/step - loss: 7.8158e-04 - val_loss: 3.9031e-04\n",
      "Epoch 30/100\n",
      "\u001b[1m25/25\u001b[0m \u001b[32m━━━━━━━━━━━━━━━━━━━━\u001b[0m\u001b[37m\u001b[0m \u001b[1m2s\u001b[0m 67ms/step - loss: 7.4921e-04 - val_loss: 2.8165e-04\n",
      "Epoch 31/100\n",
      "\u001b[1m25/25\u001b[0m \u001b[32m━━━━━━━━━━━━━━━━━━━━\u001b[0m\u001b[37m\u001b[0m \u001b[1m2s\u001b[0m 66ms/step - loss: 7.9359e-04 - val_loss: 3.8582e-04\n",
      "Epoch 32/100\n",
      "\u001b[1m25/25\u001b[0m \u001b[32m━━━━━━━━━━━━━━━━━━━━\u001b[0m\u001b[37m\u001b[0m \u001b[1m2s\u001b[0m 67ms/step - loss: 7.4852e-04 - val_loss: 2.8487e-04\n",
      "Epoch 33/100\n",
      "\u001b[1m25/25\u001b[0m \u001b[32m━━━━━━━━━━━━━━━━━━━━\u001b[0m\u001b[37m\u001b[0m \u001b[1m2s\u001b[0m 67ms/step - loss: 7.0514e-04 - val_loss: 2.7169e-04\n",
      "Epoch 34/100\n",
      "\u001b[1m25/25\u001b[0m \u001b[32m━━━━━━━━━━━━━━━━━━━━\u001b[0m\u001b[37m\u001b[0m \u001b[1m2s\u001b[0m 63ms/step - loss: 9.4571e-04 - val_loss: 4.3527e-04\n",
      "Epoch 35/100\n",
      "\u001b[1m25/25\u001b[0m \u001b[32m━━━━━━━━━━━━━━━━━━━━\u001b[0m\u001b[37m\u001b[0m \u001b[1m2s\u001b[0m 65ms/step - loss: 9.3119e-04 - val_loss: 5.4365e-04\n",
      "Epoch 36/100\n",
      "\u001b[1m25/25\u001b[0m \u001b[32m━━━━━━━━━━━━━━━━━━━━\u001b[0m\u001b[37m\u001b[0m \u001b[1m2s\u001b[0m 68ms/step - loss: 6.2997e-04 - val_loss: 3.6334e-04\n",
      "Epoch 37/100\n",
      "\u001b[1m25/25\u001b[0m \u001b[32m━━━━━━━━━━━━━━━━━━━━\u001b[0m\u001b[37m\u001b[0m \u001b[1m2s\u001b[0m 96ms/step - loss: 6.3760e-04 - val_loss: 2.9341e-04\n",
      "Epoch 38/100\n",
      "\u001b[1m25/25\u001b[0m \u001b[32m━━━━━━━━━━━━━━━━━━━━\u001b[0m\u001b[37m\u001b[0m \u001b[1m2s\u001b[0m 73ms/step - loss: 6.5306e-04 - val_loss: 2.6883e-04\n",
      "Epoch 39/100\n",
      "\u001b[1m25/25\u001b[0m \u001b[32m━━━━━━━━━━━━━━━━━━━━\u001b[0m\u001b[37m\u001b[0m \u001b[1m2s\u001b[0m 73ms/step - loss: 6.9091e-04 - val_loss: 0.0011\n",
      "Epoch 40/100\n",
      "\u001b[1m25/25\u001b[0m \u001b[32m━━━━━━━━━━━━━━━━━━━━\u001b[0m\u001b[37m\u001b[0m \u001b[1m2s\u001b[0m 66ms/step - loss: 7.3306e-04 - val_loss: 6.7024e-04\n",
      "Epoch 41/100\n",
      "\u001b[1m25/25\u001b[0m \u001b[32m━━━━━━━━━━━━━━━━━━━━\u001b[0m\u001b[37m\u001b[0m \u001b[1m2s\u001b[0m 100ms/step - loss: 6.5943e-04 - val_loss: 2.4584e-04\n",
      "Epoch 42/100\n",
      "\u001b[1m25/25\u001b[0m \u001b[32m━━━━━━━━━━━━━━━━━━━━\u001b[0m\u001b[37m\u001b[0m \u001b[1m2s\u001b[0m 75ms/step - loss: 6.6055e-04 - val_loss: 3.3163e-04\n",
      "Epoch 43/100\n",
      "\u001b[1m25/25\u001b[0m \u001b[32m━━━━━━━━━━━━━━━━━━━━\u001b[0m\u001b[37m\u001b[0m \u001b[1m2s\u001b[0m 69ms/step - loss: 6.6101e-04 - val_loss: 2.6545e-04\n",
      "Epoch 44/100\n",
      "\u001b[1m25/25\u001b[0m \u001b[32m━━━━━━━━━━━━━━━━━━━━\u001b[0m\u001b[37m\u001b[0m \u001b[1m2s\u001b[0m 73ms/step - loss: 6.8498e-04 - val_loss: 2.4950e-04\n",
      "Epoch 45/100\n",
      "\u001b[1m25/25\u001b[0m \u001b[32m━━━━━━━━━━━━━━━━━━━━\u001b[0m\u001b[37m\u001b[0m \u001b[1m2s\u001b[0m 71ms/step - loss: 5.0455e-04 - val_loss: 0.0012\n",
      "Epoch 46/100\n",
      "\u001b[1m25/25\u001b[0m \u001b[32m━━━━━━━━━━━━━━━━━━━━\u001b[0m\u001b[37m\u001b[0m \u001b[1m2s\u001b[0m 71ms/step - loss: 6.1772e-04 - val_loss: 2.1623e-04\n",
      "Epoch 47/100\n",
      "\u001b[1m25/25\u001b[0m \u001b[32m━━━━━━━━━━━━━━━━━━━━\u001b[0m\u001b[37m\u001b[0m \u001b[1m2s\u001b[0m 73ms/step - loss: 5.8917e-04 - val_loss: 2.7377e-04\n",
      "Epoch 48/100\n",
      "\u001b[1m25/25\u001b[0m \u001b[32m━━━━━━━━━━━━━━━━━━━━\u001b[0m\u001b[37m\u001b[0m \u001b[1m2s\u001b[0m 68ms/step - loss: 5.0266e-04 - val_loss: 2.4352e-04\n",
      "Epoch 49/100\n",
      "\u001b[1m25/25\u001b[0m \u001b[32m━━━━━━━━━━━━━━━━━━━━\u001b[0m\u001b[37m\u001b[0m \u001b[1m2s\u001b[0m 72ms/step - loss: 5.1497e-04 - val_loss: 3.1130e-04\n",
      "Epoch 50/100\n",
      "\u001b[1m25/25\u001b[0m \u001b[32m━━━━━━━━━━━━━━━━━━━━\u001b[0m\u001b[37m\u001b[0m \u001b[1m2s\u001b[0m 70ms/step - loss: 6.0747e-04 - val_loss: 8.4124e-04\n",
      "Epoch 51/100\n",
      "\u001b[1m25/25\u001b[0m \u001b[32m━━━━━━━━━━━━━━━━━━━━\u001b[0m\u001b[37m\u001b[0m \u001b[1m2s\u001b[0m 68ms/step - loss: 4.7753e-04 - val_loss: 7.2765e-04\n",
      "Epoch 52/100\n",
      "\u001b[1m25/25\u001b[0m \u001b[32m━━━━━━━━━━━━━━━━━━━━\u001b[0m\u001b[37m\u001b[0m \u001b[1m2s\u001b[0m 70ms/step - loss: 5.4818e-04 - val_loss: 5.7571e-04\n",
      "Epoch 53/100\n",
      "\u001b[1m25/25\u001b[0m \u001b[32m━━━━━━━━━━━━━━━━━━━━\u001b[0m\u001b[37m\u001b[0m \u001b[1m2s\u001b[0m 68ms/step - loss: 5.1385e-04 - val_loss: 2.2593e-04\n",
      "Epoch 54/100\n",
      "\u001b[1m25/25\u001b[0m \u001b[32m━━━━━━━━━━━━━━━━━━━━\u001b[0m\u001b[37m\u001b[0m \u001b[1m2s\u001b[0m 69ms/step - loss: 4.5977e-04 - val_loss: 1.8812e-04\n",
      "Epoch 55/100\n",
      "\u001b[1m25/25\u001b[0m \u001b[32m━━━━━━━━━━━━━━━━━━━━\u001b[0m\u001b[37m\u001b[0m \u001b[1m2s\u001b[0m 69ms/step - loss: 5.9724e-04 - val_loss: 1.7686e-04\n",
      "Epoch 56/100\n",
      "\u001b[1m25/25\u001b[0m \u001b[32m━━━━━━━━━━━━━━━━━━━━\u001b[0m\u001b[37m\u001b[0m \u001b[1m2s\u001b[0m 65ms/step - loss: 5.6884e-04 - val_loss: 5.2896e-04\n",
      "Epoch 57/100\n",
      "\u001b[1m25/25\u001b[0m \u001b[32m━━━━━━━━━━━━━━━━━━━━\u001b[0m\u001b[37m\u001b[0m \u001b[1m2s\u001b[0m 64ms/step - loss: 5.0904e-04 - val_loss: 1.8043e-04\n",
      "Epoch 58/100\n",
      "\u001b[1m25/25\u001b[0m \u001b[32m━━━━━━━━━━━━━━━━━━━━\u001b[0m\u001b[37m\u001b[0m \u001b[1m2s\u001b[0m 63ms/step - loss: 5.8805e-04 - val_loss: 2.2777e-04\n",
      "Epoch 59/100\n",
      "\u001b[1m25/25\u001b[0m \u001b[32m━━━━━━━━━━━━━━━━━━━━\u001b[0m\u001b[37m\u001b[0m \u001b[1m2s\u001b[0m 64ms/step - loss: 5.2171e-04 - val_loss: 5.8540e-04\n",
      "Epoch 60/100\n",
      "\u001b[1m25/25\u001b[0m \u001b[32m━━━━━━━━━━━━━━━━━━━━\u001b[0m\u001b[37m\u001b[0m \u001b[1m2s\u001b[0m 71ms/step - loss: 6.9584e-04 - val_loss: 1.9523e-04\n",
      "Epoch 61/100\n",
      "\u001b[1m25/25\u001b[0m \u001b[32m━━━━━━━━━━━━━━━━━━━━\u001b[0m\u001b[37m\u001b[0m \u001b[1m2s\u001b[0m 61ms/step - loss: 6.1690e-04 - val_loss: 2.2217e-04\n",
      "Epoch 62/100\n",
      "\u001b[1m25/25\u001b[0m \u001b[32m━━━━━━━━━━━━━━━━━━━━\u001b[0m\u001b[37m\u001b[0m \u001b[1m2s\u001b[0m 65ms/step - loss: 4.2029e-04 - val_loss: 2.4498e-04\n",
      "Epoch 63/100\n",
      "\u001b[1m25/25\u001b[0m \u001b[32m━━━━━━━━━━━━━━━━━━━━\u001b[0m\u001b[37m\u001b[0m \u001b[1m2s\u001b[0m 63ms/step - loss: 4.4498e-04 - val_loss: 1.9563e-04\n",
      "Epoch 64/100\n",
      "\u001b[1m25/25\u001b[0m \u001b[32m━━━━━━━━━━━━━━━━━━━━\u001b[0m\u001b[37m\u001b[0m \u001b[1m2s\u001b[0m 64ms/step - loss: 4.6462e-04 - val_loss: 1.7351e-04\n",
      "Epoch 65/100\n",
      "\u001b[1m25/25\u001b[0m \u001b[32m━━━━━━━━━━━━━━━━━━━━\u001b[0m\u001b[37m\u001b[0m \u001b[1m2s\u001b[0m 63ms/step - loss: 4.1200e-04 - val_loss: 3.2372e-04\n",
      "Epoch 66/100\n",
      "\u001b[1m25/25\u001b[0m \u001b[32m━━━━━━━━━━━━━━━━━━━━\u001b[0m\u001b[37m\u001b[0m \u001b[1m2s\u001b[0m 63ms/step - loss: 5.7379e-04 - val_loss: 2.8172e-04\n",
      "Epoch 67/100\n",
      "\u001b[1m25/25\u001b[0m \u001b[32m━━━━━━━━━━━━━━━━━━━━\u001b[0m\u001b[37m\u001b[0m \u001b[1m2s\u001b[0m 67ms/step - loss: 4.2209e-04 - val_loss: 1.8236e-04\n",
      "Epoch 68/100\n",
      "\u001b[1m25/25\u001b[0m \u001b[32m━━━━━━━━━━━━━━━━━━━━\u001b[0m\u001b[37m\u001b[0m \u001b[1m2s\u001b[0m 73ms/step - loss: 4.5640e-04 - val_loss: 4.4309e-04\n",
      "Epoch 69/100\n",
      "\u001b[1m25/25\u001b[0m \u001b[32m━━━━━━━━━━━━━━━━━━━━\u001b[0m\u001b[37m\u001b[0m \u001b[1m2s\u001b[0m 64ms/step - loss: 3.9394e-04 - val_loss: 1.6114e-04\n",
      "Epoch 70/100\n",
      "\u001b[1m25/25\u001b[0m \u001b[32m━━━━━━━━━━━━━━━━━━━━\u001b[0m\u001b[37m\u001b[0m \u001b[1m2s\u001b[0m 65ms/step - loss: 4.8157e-04 - val_loss: 4.5476e-04\n",
      "Epoch 71/100\n",
      "\u001b[1m25/25\u001b[0m \u001b[32m━━━━━━━━━━━━━━━━━━━━\u001b[0m\u001b[37m\u001b[0m \u001b[1m2s\u001b[0m 65ms/step - loss: 6.0806e-04 - val_loss: 1.6001e-04\n",
      "Epoch 72/100\n",
      "\u001b[1m25/25\u001b[0m \u001b[32m━━━━━━━━━━━━━━━━━━━━\u001b[0m\u001b[37m\u001b[0m \u001b[1m2s\u001b[0m 63ms/step - loss: 4.0909e-04 - val_loss: 2.7658e-04\n",
      "Epoch 73/100\n",
      "\u001b[1m25/25\u001b[0m \u001b[32m━━━━━━━━━━━━━━━━━━━━\u001b[0m\u001b[37m\u001b[0m \u001b[1m2s\u001b[0m 63ms/step - loss: 5.5412e-04 - val_loss: 1.7046e-04\n",
      "Epoch 74/100\n",
      "\u001b[1m25/25\u001b[0m \u001b[32m━━━━━━━━━━━━━━━━━━━━\u001b[0m\u001b[37m\u001b[0m \u001b[1m2s\u001b[0m 74ms/step - loss: 3.6718e-04 - val_loss: 3.5792e-04\n",
      "Epoch 75/100\n",
      "\u001b[1m25/25\u001b[0m \u001b[32m━━━━━━━━━━━━━━━━━━━━\u001b[0m\u001b[37m\u001b[0m \u001b[1m2s\u001b[0m 75ms/step - loss: 4.1727e-04 - val_loss: 2.5733e-04\n",
      "Epoch 76/100\n",
      "\u001b[1m25/25\u001b[0m \u001b[32m━━━━━━━━━━━━━━━━━━━━\u001b[0m\u001b[37m\u001b[0m \u001b[1m2s\u001b[0m 67ms/step - loss: 3.9528e-04 - val_loss: 1.6728e-04\n",
      "Epoch 77/100\n",
      "\u001b[1m25/25\u001b[0m \u001b[32m━━━━━━━━━━━━━━━━━━━━\u001b[0m\u001b[37m\u001b[0m \u001b[1m2s\u001b[0m 66ms/step - loss: 4.7053e-04 - val_loss: 1.6285e-04\n",
      "Epoch 78/100\n",
      "\u001b[1m25/25\u001b[0m \u001b[32m━━━━━━━━━━━━━━━━━━━━\u001b[0m\u001b[37m\u001b[0m \u001b[1m2s\u001b[0m 66ms/step - loss: 4.2557e-04 - val_loss: 2.3545e-04\n",
      "Epoch 79/100\n",
      "\u001b[1m25/25\u001b[0m \u001b[32m━━━━━━━━━━━━━━━━━━━━\u001b[0m\u001b[37m\u001b[0m \u001b[1m2s\u001b[0m 71ms/step - loss: 3.6893e-04 - val_loss: 3.6782e-04\n",
      "Epoch 80/100\n",
      "\u001b[1m25/25\u001b[0m \u001b[32m━━━━━━━━━━━━━━━━━━━━\u001b[0m\u001b[37m\u001b[0m \u001b[1m2s\u001b[0m 69ms/step - loss: 5.2782e-04 - val_loss: 1.6089e-04\n",
      "Epoch 81/100\n",
      "\u001b[1m25/25\u001b[0m \u001b[32m━━━━━━━━━━━━━━━━━━━━\u001b[0m\u001b[37m\u001b[0m \u001b[1m2s\u001b[0m 65ms/step - loss: 4.4639e-04 - val_loss: 1.6123e-04\n",
      "Epoch 82/100\n",
      "\u001b[1m25/25\u001b[0m \u001b[32m━━━━━━━━━━━━━━━━━━━━\u001b[0m\u001b[37m\u001b[0m \u001b[1m2s\u001b[0m 67ms/step - loss: 3.7467e-04 - val_loss: 2.1198e-04\n",
      "Epoch 83/100\n",
      "\u001b[1m25/25\u001b[0m \u001b[32m━━━━━━━━━━━━━━━━━━━━\u001b[0m\u001b[37m\u001b[0m \u001b[1m2s\u001b[0m 65ms/step - loss: 4.6088e-04 - val_loss: 2.4743e-04\n",
      "Epoch 84/100\n",
      "\u001b[1m25/25\u001b[0m \u001b[32m━━━━━━━━━━━━━━━━━━━━\u001b[0m\u001b[37m\u001b[0m \u001b[1m2s\u001b[0m 70ms/step - loss: 3.1657e-04 - val_loss: 1.9036e-04\n",
      "Epoch 85/100\n",
      "\u001b[1m25/25\u001b[0m \u001b[32m━━━━━━━━━━━━━━━━━━━━\u001b[0m\u001b[37m\u001b[0m \u001b[1m2s\u001b[0m 69ms/step - loss: 5.2803e-04 - val_loss: 4.6742e-04\n",
      "Epoch 86/100\n",
      "\u001b[1m25/25\u001b[0m \u001b[32m━━━━━━━━━━━━━━━━━━━━\u001b[0m\u001b[37m\u001b[0m \u001b[1m2s\u001b[0m 68ms/step - loss: 4.1676e-04 - val_loss: 2.6689e-04\n",
      "Epoch 87/100\n",
      "\u001b[1m25/25\u001b[0m \u001b[32m━━━━━━━━━━━━━━━━━━━━\u001b[0m\u001b[37m\u001b[0m \u001b[1m2s\u001b[0m 68ms/step - loss: 4.2865e-04 - val_loss: 1.6392e-04\n",
      "Epoch 88/100\n",
      "\u001b[1m25/25\u001b[0m \u001b[32m━━━━━━━━━━━━━━━━━━━━\u001b[0m\u001b[37m\u001b[0m \u001b[1m2s\u001b[0m 70ms/step - loss: 5.0511e-04 - val_loss: 1.6692e-04\n",
      "Epoch 89/100\n",
      "\u001b[1m25/25\u001b[0m \u001b[32m━━━━━━━━━━━━━━━━━━━━\u001b[0m\u001b[37m\u001b[0m \u001b[1m2s\u001b[0m 67ms/step - loss: 3.1153e-04 - val_loss: 2.9046e-04\n",
      "Epoch 90/100\n",
      "\u001b[1m25/25\u001b[0m \u001b[32m━━━━━━━━━━━━━━━━━━━━\u001b[0m\u001b[37m\u001b[0m \u001b[1m2s\u001b[0m 68ms/step - loss: 3.6322e-04 - val_loss: 1.4715e-04\n",
      "Epoch 91/100\n",
      "\u001b[1m25/25\u001b[0m \u001b[32m━━━━━━━━━━━━━━━━━━━━\u001b[0m\u001b[37m\u001b[0m \u001b[1m2s\u001b[0m 69ms/step - loss: 4.2762e-04 - val_loss: 4.3132e-04\n",
      "Epoch 92/100\n",
      "\u001b[1m25/25\u001b[0m \u001b[32m━━━━━━━━━━━━━━━━━━━━\u001b[0m\u001b[37m\u001b[0m \u001b[1m2s\u001b[0m 68ms/step - loss: 4.2793e-04 - val_loss: 5.5239e-04\n",
      "Epoch 93/100\n",
      "\u001b[1m25/25\u001b[0m \u001b[32m━━━━━━━━━━━━━━━━━━━━\u001b[0m\u001b[37m\u001b[0m \u001b[1m2s\u001b[0m 68ms/step - loss: 5.8225e-04 - val_loss: 1.7335e-04\n",
      "Epoch 94/100\n",
      "\u001b[1m25/25\u001b[0m \u001b[32m━━━━━━━━━━━━━━━━━━━━\u001b[0m\u001b[37m\u001b[0m \u001b[1m2s\u001b[0m 70ms/step - loss: 3.9836e-04 - val_loss: 1.7497e-04\n",
      "Epoch 95/100\n",
      "\u001b[1m25/25\u001b[0m \u001b[32m━━━━━━━━━━━━━━━━━━━━\u001b[0m\u001b[37m\u001b[0m \u001b[1m2s\u001b[0m 69ms/step - loss: 4.7966e-04 - val_loss: 3.5664e-04\n",
      "Epoch 96/100\n",
      "\u001b[1m25/25\u001b[0m \u001b[32m━━━━━━━━━━━━━━━━━━━━\u001b[0m\u001b[37m\u001b[0m \u001b[1m2s\u001b[0m 67ms/step - loss: 5.0443e-04 - val_loss: 4.0961e-04\n",
      "Epoch 97/100\n",
      "\u001b[1m25/25\u001b[0m \u001b[32m━━━━━━━━━━━━━━━━━━━━\u001b[0m\u001b[37m\u001b[0m \u001b[1m2s\u001b[0m 66ms/step - loss: 4.1509e-04 - val_loss: 1.4808e-04\n",
      "Epoch 98/100\n",
      "\u001b[1m25/25\u001b[0m \u001b[32m━━━━━━━━━━━━━━━━━━━━\u001b[0m\u001b[37m\u001b[0m \u001b[1m2s\u001b[0m 69ms/step - loss: 4.3432e-04 - val_loss: 3.2245e-04\n",
      "Epoch 99/100\n",
      "\u001b[1m25/25\u001b[0m \u001b[32m━━━━━━━━━━━━━━━━━━━━\u001b[0m\u001b[37m\u001b[0m \u001b[1m2s\u001b[0m 66ms/step - loss: 4.6819e-04 - val_loss: 3.4747e-04\n",
      "Epoch 100/100\n",
      "\u001b[1m25/25\u001b[0m \u001b[32m━━━━━━━━━━━━━━━━━━━━\u001b[0m\u001b[37m\u001b[0m \u001b[1m2s\u001b[0m 65ms/step - loss: 3.9900e-04 - val_loss: 2.1339e-04\n"
     ]
    },
    {
     "data": {
      "text/plain": [
       "<keras.src.callbacks.history.History at 0x16fff41fdd0>"
      ]
     },
     "execution_count": 17,
     "metadata": {},
     "output_type": "execute_result"
    }
   ],
   "source": [
    "model.fit(X_train,Y_train, validation_data=(X_test,Y_test),epochs=100,batch_size = 64, verbose = 1)"
   ]
  },
  {
   "cell_type": "code",
   "execution_count": 18,
   "id": "3d32af7c",
   "metadata": {},
   "outputs": [
    {
     "name": "stdout",
     "output_type": "stream",
     "text": [
      "\u001b[1m50/50\u001b[0m \u001b[32m━━━━━━━━━━━━━━━━━━━━\u001b[0m\u001b[37m\u001b[0m \u001b[1m1s\u001b[0m 21ms/step\n",
      "\u001b[1m15/15\u001b[0m \u001b[32m━━━━━━━━━━━━━━━━━━━━\u001b[0m\u001b[37m\u001b[0m \u001b[1m0s\u001b[0m 18ms/step\n"
     ]
    }
   ],
   "source": [
    "import tensorflow as tf\n",
    "train_predict = model.predict(X_train)\n",
    "test_predict = model.predict(X_test)"
   ]
  },
  {
   "cell_type": "code",
   "execution_count": 19,
   "id": "04601510",
   "metadata": {},
   "outputs": [],
   "source": [
    "train_predict = scalar.inverse_transform(train_predict)\n",
    "test_predict = scalar.inverse_transform(test_predict)"
   ]
  },
  {
   "cell_type": "code",
   "execution_count": 20,
   "id": "4c1440b5",
   "metadata": {},
   "outputs": [
    {
     "data": {
      "text/plain": [
       "242.8644724859601"
      ]
     },
     "execution_count": 20,
     "metadata": {},
     "output_type": "execute_result"
    }
   ],
   "source": [
    "import math\n",
    "from sklearn.metrics import mean_squared_error\n",
    "math.sqrt(mean_squared_error(Y_train, train_predict))"
   ]
  },
  {
   "cell_type": "code",
   "execution_count": 21,
   "id": "81df5f25",
   "metadata": {},
   "outputs": [
    {
     "data": {
      "text/plain": [
       "283.7153812017885"
      ]
     },
     "execution_count": 21,
     "metadata": {},
     "output_type": "execute_result"
    }
   ],
   "source": [
    "math.sqrt(mean_squared_error(Y_test, test_predict))"
   ]
  },
  {
   "cell_type": "code",
   "execution_count": 22,
   "id": "547a53bc",
   "metadata": {},
   "outputs": [
    {
     "data": {
      "image/png": "[encoded data removed]",
      "text/plain": [
       "<Figure size 640x480 with 1 Axes>"
      ]
     },
     "metadata": {},
     "output_type": "display_data"
    }
   ],
   "source": [
    "look_back = 100\n",
    "trainPredictPlot = numpy.empty_like(Data)\n",
    "trainPredictPlot[:, :] = np.nan\n",
    "trainPredictPlot[look_back:len(train_predict)+look_back, :] = train_predict\n",
    "testPredictPlot = numpy.empty_like(Data)\n",
    "testPredictPlot[:,:] = numpy.nan\n",
    "testPredictPlot[len(train_predict)+(look_back*2)+1:len(Data)-1,:] = test_predict\n",
    "plt.plot(scalar.inverse_transform(Data))\n",
    "plt.plot(trainPredictPlot)\n",
    "plt.plot(testPredictPlot)\n",
    "plt.show()"
   ]
  },
  {
   "cell_type": "code",
   "execution_count": 23,
   "id": "e5aee5d6",
   "metadata": {},
   "outputs": [
    {
     "data": {
      "text/plain": [
       "563"
      ]
     },
     "execution_count": 23,
     "metadata": {},
     "output_type": "execute_result"
    }
   ],
   "source": [
    "len(test_data)"
   ]
  },
  {
   "cell_type": "code",
   "execution_count": 24,
   "id": "abd20838",
   "metadata": {},
   "outputs": [
    {
     "data": {
      "text/plain": [
       "(1, 100)"
      ]
     },
     "execution_count": 24,
     "metadata": {},
     "output_type": "execute_result"
    }
   ],
   "source": [
    "x_input = test_data[463:].reshape(1,-1)\n",
    "x_input.shape"
   ]
  },
  {
   "cell_type": "code",
   "execution_count": 25,
   "id": "bd4ec2a2",
   "metadata": {},
   "outputs": [],
   "source": [
    "temp_input = list(x_input)\n",
    "temp_input = temp_input[0].tolist()"
   ]
  },
  {
   "cell_type": "code",
   "execution_count": 26,
   "id": "8efcb361",
   "metadata": {},
   "outputs": [
    {
     "data": {
      "text/plain": [
       "[0.3450883893017497,\n",
       " 0.3415559899692505,\n",
       " 0.34026738682493446,\n",
       " 0.3425604264497706,\n",
       " 0.33899531189371346,\n",
       " 0.33210314239101624,\n",
       " 0.3354875819585112,\n",
       " 0.3319858521237447,\n",
       " 0.3324940041608722,\n",
       " 0.33377810611238556,\n",
       " 0.3349033342845685,\n",
       " 0.33311144533804504,\n",
       " 0.3408549526572259,\n",
       " 0.3378244325973063,\n",
       " 0.3350874436489698,\n",
       " 0.34038133509437196,\n",
       " 0.3492295879980302,\n",
       " 0.3475200212638672,\n",
       " 0.350447143516526,\n",
       " 0.3604116222067618,\n",
       " 0.372441789311183,\n",
       " 0.3693550900143799,\n",
       " 0.3710207086575439,\n",
       " 0.35814325048925477,\n",
       " 0.35732753631352565,\n",
       " 0.3498141083360851,\n",
       " 0.35285385874668745,\n",
       " 0.36967374496344685,\n",
       " 0.3808040564290628,\n",
       " 0.3974011373270089,\n",
       " 0.3975947035172025,\n",
       " 0.3976162573917751,\n",
       " 0.3876724222057701,\n",
       " 0.39118317677565934,\n",
       " 0.43680580238528116,\n",
       " 0.4755212768657142,\n",
       " 0.4754045542761844,\n",
       " 0.46092170196426274,\n",
       " 0.465819889244374,\n",
       " 0.4587715964429533,\n",
       " 0.4617107010168697,\n",
       " 0.458277108900759,\n",
       " 0.46506758362942074,\n",
       " 0.4754060546737853,\n",
       " 0.4662431712241584,\n",
       " 0.45185635180853306,\n",
       " 0.44454960620805944,\n",
       " 0.4469482517724747,\n",
       " 0.44169717008265236,\n",
       " 0.44783692073284154,\n",
       " 0.453207771996398,\n",
       " 0.4352223033188533,\n",
       " 0.44356140292700486,\n",
       " 0.43882931875011627,\n",
       " 0.46641745872064994,\n",
       " 0.4629294380798515,\n",
       " 0.4537797408454857,\n",
       " 0.4600487640842039,\n",
       " 0.46155000947679137,\n",
       " 0.46551323747611423,\n",
       " 0.46753707120409627,\n",
       " 0.4483437779879281,\n",
       " 0.43786466739048907,\n",
       " 0.42994925950327406,\n",
       " 0.4282027937158974,\n",
       " 0.4436965400288975,\n",
       " 0.44892161284034726,\n",
       " 0.4476563127928316,\n",
       " 0.4561973924394908,\n",
       " 0.4513620445524458,\n",
       " 0.44076589400232996,\n",
       " 0.4405048948482622,\n",
       " 0.4419636701979341,\n",
       " 0.43985053375832617,\n",
       " 0.44729655261137774,\n",
       " 0.44151528822015107,\n",
       " 0.444280832401875,\n",
       " 0.45161808807352394,\n",
       " 0.4683613094857586,\n",
       " 0.4757670425887278,\n",
       " 0.47471154342083904,\n",
       " 0.47121556635184914,\n",
       " 0.4818793763409487,\n",
       " 0.47729566018024866,\n",
       " 0.4912682014916628,\n",
       " 0.521760159128087,\n",
       " 0.5309675136474199,\n",
       " 0.5190741896580523,\n",
       " 0.5142643500201902,\n",
       " 0.5174337142219538,\n",
       " 0.5219882836320395,\n",
       " 0.5572608894566766,\n",
       " 0.5624347178046829,\n",
       " 0.5524658288096818,\n",
       " 0.5620369440740814,\n",
       " 0.5721820292143595,\n",
       " 0.5916889308585674,\n",
       " 0.58178324629875,\n",
       " 0.6127387731550089,\n",
       " 0.5889098830984355]"
      ]
     },
     "execution_count": 26,
     "metadata": {},
     "output_type": "execute_result"
    }
   ],
   "source": [
    "temp_input"
   ]
  },
  {
   "cell_type": "code",
   "execution_count": 27,
   "id": "6e627e69",
   "metadata": {},
   "outputs": [
    {
     "name": "stdout",
     "output_type": "stream",
     "text": [
      "[0.60696524]\n",
      "101\n",
      "1 day input [0.34155599 0.34026739 0.34256043 0.33899531 0.33210314 0.33548758\n",
      " 0.33198585 0.332494   0.33377811 0.33490333 0.33311145 0.34085495\n",
      " 0.33782443 0.33508744 0.34038134 0.34922959 0.34752002 0.35044714\n",
      " 0.36041162 0.37244179 0.36935509 0.37102071 0.35814325 0.35732754\n",
      " 0.34981411 0.35285386 0.36967374 0.38080406 0.39740114 0.3975947\n",
      " 0.39761626 0.38767242 0.39118318 0.4368058  0.47552128 0.47540455\n",
      " 0.4609217  0.46581989 0.4587716  0.4617107  0.45827711 0.46506758\n",
      " 0.47540605 0.46624317 0.45185635 0.44454961 0.44694825 0.44169717\n",
      " 0.44783692 0.45320777 0.4352223  0.4435614  0.43882932 0.46641746\n",
      " 0.46292944 0.45377974 0.46004876 0.46155001 0.46551324 0.46753707\n",
      " 0.44834378 0.43786467 0.42994926 0.42820279 0.44369654 0.44892161\n",
      " 0.44765631 0.45619739 0.45136204 0.44076589 0.44050489 0.44196367\n",
      " 0.43985053 0.44729655 0.44151529 0.44428083 0.45161809 0.46836131\n",
      " 0.47576704 0.47471154 0.47121557 0.48187938 0.47729566 0.4912682\n",
      " 0.52176016 0.53096751 0.51907419 0.51426435 0.51743371 0.52198828\n",
      " 0.55726089 0.56243472 0.55246583 0.56203694 0.57218203 0.59168893\n",
      " 0.58178325 0.61273877 0.58890988 0.60696524]\n",
      "1 day output [[0.61363876]]\n",
      "1 day input [0.34026739 0.34256043 0.33899531 0.33210314 0.33548758 0.33198585\n",
      " 0.332494   0.33377811 0.33490333 0.33311145 0.34085495 0.33782443\n",
      " 0.33508744 0.34038134 0.34922959 0.34752002 0.35044714 0.36041162\n",
      " 0.37244179 0.36935509 0.37102071 0.35814325 0.35732754 0.34981411\n",
      " 0.35285386 0.36967374 0.38080406 0.39740114 0.3975947  0.39761626\n",
      " 0.38767242 0.39118318 0.4368058  0.47552128 0.47540455 0.4609217\n",
      " 0.46581989 0.4587716  0.4617107  0.45827711 0.46506758 0.47540605\n",
      " 0.46624317 0.45185635 0.44454961 0.44694825 0.44169717 0.44783692\n",
      " 0.45320777 0.4352223  0.4435614  0.43882932 0.46641746 0.46292944\n",
      " 0.45377974 0.46004876 0.46155001 0.46551324 0.46753707 0.44834378\n",
      " 0.43786467 0.42994926 0.42820279 0.44369654 0.44892161 0.44765631\n",
      " 0.45619739 0.45136204 0.44076589 0.44050489 0.44196367 0.43985053\n",
      " 0.44729655 0.44151529 0.44428083 0.45161809 0.46836131 0.47576704\n",
      " 0.47471154 0.47121557 0.48187938 0.47729566 0.4912682  0.52176016\n",
      " 0.53096751 0.51907419 0.51426435 0.51743371 0.52198828 0.55726089\n",
      " 0.56243472 0.55246583 0.56203694 0.57218203 0.59168893 0.58178325\n",
      " 0.61273877 0.58890988 0.60696524 0.61363876]\n",
      "2 day output [[0.623958]]\n",
      "1 day input [0.34256043 0.33899531 0.33210314 0.33548758 0.33198585 0.332494\n",
      " 0.33377811 0.33490333 0.33311145 0.34085495 0.33782443 0.33508744\n",
      " 0.34038134 0.34922959 0.34752002 0.35044714 0.36041162 0.37244179\n",
      " 0.36935509 0.37102071 0.35814325 0.35732754 0.34981411 0.35285386\n",
      " 0.36967374 0.38080406 0.39740114 0.3975947  0.39761626 0.38767242\n",
      " 0.39118318 0.4368058  0.47552128 0.47540455 0.4609217  0.46581989\n",
      " 0.4587716  0.4617107  0.45827711 0.46506758 0.47540605 0.46624317\n",
      " 0.45185635 0.44454961 0.44694825 0.44169717 0.44783692 0.45320777\n",
      " 0.4352223  0.4435614  0.43882932 0.46641746 0.46292944 0.45377974\n",
      " 0.46004876 0.46155001 0.46551324 0.46753707 0.44834378 0.43786467\n",
      " 0.42994926 0.42820279 0.44369654 0.44892161 0.44765631 0.45619739\n",
      " 0.45136204 0.44076589 0.44050489 0.44196367 0.43985053 0.44729655\n",
      " 0.44151529 0.44428083 0.45161809 0.46836131 0.47576704 0.47471154\n",
      " 0.47121557 0.48187938 0.47729566 0.4912682  0.52176016 0.53096751\n",
      " 0.51907419 0.51426435 0.51743371 0.52198828 0.55726089 0.56243472\n",
      " 0.55246583 0.56203694 0.57218203 0.59168893 0.58178325 0.61273877\n",
      " 0.58890988 0.60696524 0.61363876 0.62395799]\n",
      "3 day output [[0.63527125]]\n",
      "1 day input [0.33899531 0.33210314 0.33548758 0.33198585 0.332494   0.33377811\n",
      " 0.33490333 0.33311145 0.34085495 0.33782443 0.33508744 0.34038134\n",
      " 0.34922959 0.34752002 0.35044714 0.36041162 0.37244179 0.36935509\n",
      " 0.37102071 0.35814325 0.35732754 0.34981411 0.35285386 0.36967374\n",
      " 0.38080406 0.39740114 0.3975947  0.39761626 0.38767242 0.39118318\n",
      " 0.4368058  0.47552128 0.47540455 0.4609217  0.46581989 0.4587716\n",
      " 0.4617107  0.45827711 0.46506758 0.47540605 0.46624317 0.45185635\n",
      " 0.44454961 0.44694825 0.44169717 0.44783692 0.45320777 0.4352223\n",
      " 0.4435614  0.43882932 0.46641746 0.46292944 0.45377974 0.46004876\n",
      " 0.46155001 0.46551324 0.46753707 0.44834378 0.43786467 0.42994926\n",
      " 0.42820279 0.44369654 0.44892161 0.44765631 0.45619739 0.45136204\n",
      " 0.44076589 0.44050489 0.44196367 0.43985053 0.44729655 0.44151529\n",
      " 0.44428083 0.45161809 0.46836131 0.47576704 0.47471154 0.47121557\n",
      " 0.48187938 0.47729566 0.4912682  0.52176016 0.53096751 0.51907419\n",
      " 0.51426435 0.51743371 0.52198828 0.55726089 0.56243472 0.55246583\n",
      " 0.56203694 0.57218203 0.59168893 0.58178325 0.61273877 0.58890988\n",
      " 0.60696524 0.61363876 0.62395799 0.63527125]\n",
      "4 day output [[0.6466721]]\n",
      "1 day input [0.33210314 0.33548758 0.33198585 0.332494   0.33377811 0.33490333\n",
      " 0.33311145 0.34085495 0.33782443 0.33508744 0.34038134 0.34922959\n",
      " 0.34752002 0.35044714 0.36041162 0.37244179 0.36935509 0.37102071\n",
      " 0.35814325 0.35732754 0.34981411 0.35285386 0.36967374 0.38080406\n",
      " 0.39740114 0.3975947  0.39761626 0.38767242 0.39118318 0.4368058\n",
      " 0.47552128 0.47540455 0.4609217  0.46581989 0.4587716  0.4617107\n",
      " 0.45827711 0.46506758 0.47540605 0.46624317 0.45185635 0.44454961\n",
      " 0.44694825 0.44169717 0.44783692 0.45320777 0.4352223  0.4435614\n",
      " 0.43882932 0.46641746 0.46292944 0.45377974 0.46004876 0.46155001\n",
      " 0.46551324 0.46753707 0.44834378 0.43786467 0.42994926 0.42820279\n",
      " 0.44369654 0.44892161 0.44765631 0.45619739 0.45136204 0.44076589\n",
      " 0.44050489 0.44196367 0.43985053 0.44729655 0.44151529 0.44428083\n",
      " 0.45161809 0.46836131 0.47576704 0.47471154 0.47121557 0.48187938\n",
      " 0.47729566 0.4912682  0.52176016 0.53096751 0.51907419 0.51426435\n",
      " 0.51743371 0.52198828 0.55726089 0.56243472 0.55246583 0.56203694\n",
      " 0.57218203 0.59168893 0.58178325 0.61273877 0.58890988 0.60696524\n",
      " 0.61363876 0.62395799 0.63527125 0.64667213]\n",
      "5 day output [[0.65777034]]\n",
      "1 day input [0.33548758 0.33198585 0.332494   0.33377811 0.33490333 0.33311145\n",
      " 0.34085495 0.33782443 0.33508744 0.34038134 0.34922959 0.34752002\n",
      " 0.35044714 0.36041162 0.37244179 0.36935509 0.37102071 0.35814325\n",
      " 0.35732754 0.34981411 0.35285386 0.36967374 0.38080406 0.39740114\n",
      " 0.3975947  0.39761626 0.38767242 0.39118318 0.4368058  0.47552128\n",
      " 0.47540455 0.4609217  0.46581989 0.4587716  0.4617107  0.45827711\n",
      " 0.46506758 0.47540605 0.46624317 0.45185635 0.44454961 0.44694825\n",
      " 0.44169717 0.44783692 0.45320777 0.4352223  0.4435614  0.43882932\n",
      " 0.46641746 0.46292944 0.45377974 0.46004876 0.46155001 0.46551324\n",
      " 0.46753707 0.44834378 0.43786467 0.42994926 0.42820279 0.44369654\n",
      " 0.44892161 0.44765631 0.45619739 0.45136204 0.44076589 0.44050489\n",
      " 0.44196367 0.43985053 0.44729655 0.44151529 0.44428083 0.45161809\n",
      " 0.46836131 0.47576704 0.47471154 0.47121557 0.48187938 0.47729566\n",
      " 0.4912682  0.52176016 0.53096751 0.51907419 0.51426435 0.51743371\n",
      " 0.52198828 0.55726089 0.56243472 0.55246583 0.56203694 0.57218203\n",
      " 0.59168893 0.58178325 0.61273877 0.58890988 0.60696524 0.61363876\n",
      " 0.62395799 0.63527125 0.64667213 0.65777034]\n",
      "6 day output [[0.66854113]]\n",
      "1 day input [0.33198585 0.332494   0.33377811 0.33490333 0.33311145 0.34085495\n",
      " 0.33782443 0.33508744 0.34038134 0.34922959 0.34752002 0.35044714\n",
      " 0.36041162 0.37244179 0.36935509 0.37102071 0.35814325 0.35732754\n",
      " 0.34981411 0.35285386 0.36967374 0.38080406 0.39740114 0.3975947\n",
      " 0.39761626 0.38767242 0.39118318 0.4368058  0.47552128 0.47540455\n",
      " 0.4609217  0.46581989 0.4587716  0.4617107  0.45827711 0.46506758\n",
      " 0.47540605 0.46624317 0.45185635 0.44454961 0.44694825 0.44169717\n",
      " 0.44783692 0.45320777 0.4352223  0.4435614  0.43882932 0.46641746\n",
      " 0.46292944 0.45377974 0.46004876 0.46155001 0.46551324 0.46753707\n",
      " 0.44834378 0.43786467 0.42994926 0.42820279 0.44369654 0.44892161\n",
      " 0.44765631 0.45619739 0.45136204 0.44076589 0.44050489 0.44196367\n",
      " 0.43985053 0.44729655 0.44151529 0.44428083 0.45161809 0.46836131\n",
      " 0.47576704 0.47471154 0.47121557 0.48187938 0.47729566 0.4912682\n",
      " 0.52176016 0.53096751 0.51907419 0.51426435 0.51743371 0.52198828\n",
      " 0.55726089 0.56243472 0.55246583 0.56203694 0.57218203 0.59168893\n",
      " 0.58178325 0.61273877 0.58890988 0.60696524 0.61363876 0.62395799\n",
      " 0.63527125 0.64667213 0.65777034 0.66854113]\n",
      "7 day output [[0.67915905]]\n",
      "1 day input [0.332494   0.33377811 0.33490333 0.33311145 0.34085495 0.33782443\n",
      " 0.33508744 0.34038134 0.34922959 0.34752002 0.35044714 0.36041162\n",
      " 0.37244179 0.36935509 0.37102071 0.35814325 0.35732754 0.34981411\n",
      " 0.35285386 0.36967374 0.38080406 0.39740114 0.3975947  0.39761626\n",
      " 0.38767242 0.39118318 0.4368058  0.47552128 0.47540455 0.4609217\n",
      " 0.46581989 0.4587716  0.4617107  0.45827711 0.46506758 0.47540605\n",
      " 0.46624317 0.45185635 0.44454961 0.44694825 0.44169717 0.44783692\n",
      " 0.45320777 0.4352223  0.4435614  0.43882932 0.46641746 0.46292944\n",
      " 0.45377974 0.46004876 0.46155001 0.46551324 0.46753707 0.44834378\n",
      " 0.43786467 0.42994926 0.42820279 0.44369654 0.44892161 0.44765631\n",
      " 0.45619739 0.45136204 0.44076589 0.44050489 0.44196367 0.43985053\n",
      " 0.44729655 0.44151529 0.44428083 0.45161809 0.46836131 0.47576704\n",
      " 0.47471154 0.47121557 0.48187938 0.47729566 0.4912682  0.52176016\n",
      " 0.53096751 0.51907419 0.51426435 0.51743371 0.52198828 0.55726089\n",
      " 0.56243472 0.55246583 0.56203694 0.57218203 0.59168893 0.58178325\n",
      " 0.61273877 0.58890988 0.60696524 0.61363876 0.62395799 0.63527125\n",
      " 0.64667213 0.65777034 0.66854113 0.67915905]\n"
     ]
    },
    {
     "name": "stdout",
     "output_type": "stream",
     "text": [
      "8 day output [[0.6898382]]\n",
      "1 day input [0.33377811 0.33490333 0.33311145 0.34085495 0.33782443 0.33508744\n",
      " 0.34038134 0.34922959 0.34752002 0.35044714 0.36041162 0.37244179\n",
      " 0.36935509 0.37102071 0.35814325 0.35732754 0.34981411 0.35285386\n",
      " 0.36967374 0.38080406 0.39740114 0.3975947  0.39761626 0.38767242\n",
      " 0.39118318 0.4368058  0.47552128 0.47540455 0.4609217  0.46581989\n",
      " 0.4587716  0.4617107  0.45827711 0.46506758 0.47540605 0.46624317\n",
      " 0.45185635 0.44454961 0.44694825 0.44169717 0.44783692 0.45320777\n",
      " 0.4352223  0.4435614  0.43882932 0.46641746 0.46292944 0.45377974\n",
      " 0.46004876 0.46155001 0.46551324 0.46753707 0.44834378 0.43786467\n",
      " 0.42994926 0.42820279 0.44369654 0.44892161 0.44765631 0.45619739\n",
      " 0.45136204 0.44076589 0.44050489 0.44196367 0.43985053 0.44729655\n",
      " 0.44151529 0.44428083 0.45161809 0.46836131 0.47576704 0.47471154\n",
      " 0.47121557 0.48187938 0.47729566 0.4912682  0.52176016 0.53096751\n",
      " 0.51907419 0.51426435 0.51743371 0.52198828 0.55726089 0.56243472\n",
      " 0.55246583 0.56203694 0.57218203 0.59168893 0.58178325 0.61273877\n",
      " 0.58890988 0.60696524 0.61363876 0.62395799 0.63527125 0.64667213\n",
      " 0.65777034 0.66854113 0.67915905 0.68983817]\n",
      "9 day output [[0.7007265]]\n",
      "1 day input [0.33490333 0.33311145 0.34085495 0.33782443 0.33508744 0.34038134\n",
      " 0.34922959 0.34752002 0.35044714 0.36041162 0.37244179 0.36935509\n",
      " 0.37102071 0.35814325 0.35732754 0.34981411 0.35285386 0.36967374\n",
      " 0.38080406 0.39740114 0.3975947  0.39761626 0.38767242 0.39118318\n",
      " 0.4368058  0.47552128 0.47540455 0.4609217  0.46581989 0.4587716\n",
      " 0.4617107  0.45827711 0.46506758 0.47540605 0.46624317 0.45185635\n",
      " 0.44454961 0.44694825 0.44169717 0.44783692 0.45320777 0.4352223\n",
      " 0.4435614  0.43882932 0.46641746 0.46292944 0.45377974 0.46004876\n",
      " 0.46155001 0.46551324 0.46753707 0.44834378 0.43786467 0.42994926\n",
      " 0.42820279 0.44369654 0.44892161 0.44765631 0.45619739 0.45136204\n",
      " 0.44076589 0.44050489 0.44196367 0.43985053 0.44729655 0.44151529\n",
      " 0.44428083 0.45161809 0.46836131 0.47576704 0.47471154 0.47121557\n",
      " 0.48187938 0.47729566 0.4912682  0.52176016 0.53096751 0.51907419\n",
      " 0.51426435 0.51743371 0.52198828 0.55726089 0.56243472 0.55246583\n",
      " 0.56203694 0.57218203 0.59168893 0.58178325 0.61273877 0.58890988\n",
      " 0.60696524 0.61363876 0.62395799 0.63527125 0.64667213 0.65777034\n",
      " 0.66854113 0.67915905 0.68983817 0.70072651]\n",
      "10 day output [[0.7118703]]\n",
      "1 day input [0.33311145 0.34085495 0.33782443 0.33508744 0.34038134 0.34922959\n",
      " 0.34752002 0.35044714 0.36041162 0.37244179 0.36935509 0.37102071\n",
      " 0.35814325 0.35732754 0.34981411 0.35285386 0.36967374 0.38080406\n",
      " 0.39740114 0.3975947  0.39761626 0.38767242 0.39118318 0.4368058\n",
      " 0.47552128 0.47540455 0.4609217  0.46581989 0.4587716  0.4617107\n",
      " 0.45827711 0.46506758 0.47540605 0.46624317 0.45185635 0.44454961\n",
      " 0.44694825 0.44169717 0.44783692 0.45320777 0.4352223  0.4435614\n",
      " 0.43882932 0.46641746 0.46292944 0.45377974 0.46004876 0.46155001\n",
      " 0.46551324 0.46753707 0.44834378 0.43786467 0.42994926 0.42820279\n",
      " 0.44369654 0.44892161 0.44765631 0.45619739 0.45136204 0.44076589\n",
      " 0.44050489 0.44196367 0.43985053 0.44729655 0.44151529 0.44428083\n",
      " 0.45161809 0.46836131 0.47576704 0.47471154 0.47121557 0.48187938\n",
      " 0.47729566 0.4912682  0.52176016 0.53096751 0.51907419 0.51426435\n",
      " 0.51743371 0.52198828 0.55726089 0.56243472 0.55246583 0.56203694\n",
      " 0.57218203 0.59168893 0.58178325 0.61273877 0.58890988 0.60696524\n",
      " 0.61363876 0.62395799 0.63527125 0.64667213 0.65777034 0.66854113\n",
      " 0.67915905 0.68983817 0.70072651 0.71187031]\n",
      "11 day output [[0.7232279]]\n",
      "1 day input [0.34085495 0.33782443 0.33508744 0.34038134 0.34922959 0.34752002\n",
      " 0.35044714 0.36041162 0.37244179 0.36935509 0.37102071 0.35814325\n",
      " 0.35732754 0.34981411 0.35285386 0.36967374 0.38080406 0.39740114\n",
      " 0.3975947  0.39761626 0.38767242 0.39118318 0.4368058  0.47552128\n",
      " 0.47540455 0.4609217  0.46581989 0.4587716  0.4617107  0.45827711\n",
      " 0.46506758 0.47540605 0.46624317 0.45185635 0.44454961 0.44694825\n",
      " 0.44169717 0.44783692 0.45320777 0.4352223  0.4435614  0.43882932\n",
      " 0.46641746 0.46292944 0.45377974 0.46004876 0.46155001 0.46551324\n",
      " 0.46753707 0.44834378 0.43786467 0.42994926 0.42820279 0.44369654\n",
      " 0.44892161 0.44765631 0.45619739 0.45136204 0.44076589 0.44050489\n",
      " 0.44196367 0.43985053 0.44729655 0.44151529 0.44428083 0.45161809\n",
      " 0.46836131 0.47576704 0.47471154 0.47121557 0.48187938 0.47729566\n",
      " 0.4912682  0.52176016 0.53096751 0.51907419 0.51426435 0.51743371\n",
      " 0.52198828 0.55726089 0.56243472 0.55246583 0.56203694 0.57218203\n",
      " 0.59168893 0.58178325 0.61273877 0.58890988 0.60696524 0.61363876\n",
      " 0.62395799 0.63527125 0.64667213 0.65777034 0.66854113 0.67915905\n",
      " 0.68983817 0.70072651 0.71187031 0.72322792]\n",
      "12 day output [[0.734709]]\n",
      "1 day input [0.33782443 0.33508744 0.34038134 0.34922959 0.34752002 0.35044714\n",
      " 0.36041162 0.37244179 0.36935509 0.37102071 0.35814325 0.35732754\n",
      " 0.34981411 0.35285386 0.36967374 0.38080406 0.39740114 0.3975947\n",
      " 0.39761626 0.38767242 0.39118318 0.4368058  0.47552128 0.47540455\n",
      " 0.4609217  0.46581989 0.4587716  0.4617107  0.45827711 0.46506758\n",
      " 0.47540605 0.46624317 0.45185635 0.44454961 0.44694825 0.44169717\n",
      " 0.44783692 0.45320777 0.4352223  0.4435614  0.43882932 0.46641746\n",
      " 0.46292944 0.45377974 0.46004876 0.46155001 0.46551324 0.46753707\n",
      " 0.44834378 0.43786467 0.42994926 0.42820279 0.44369654 0.44892161\n",
      " 0.44765631 0.45619739 0.45136204 0.44076589 0.44050489 0.44196367\n",
      " 0.43985053 0.44729655 0.44151529 0.44428083 0.45161809 0.46836131\n",
      " 0.47576704 0.47471154 0.47121557 0.48187938 0.47729566 0.4912682\n",
      " 0.52176016 0.53096751 0.51907419 0.51426435 0.51743371 0.52198828\n",
      " 0.55726089 0.56243472 0.55246583 0.56203694 0.57218203 0.59168893\n",
      " 0.58178325 0.61273877 0.58890988 0.60696524 0.61363876 0.62395799\n",
      " 0.63527125 0.64667213 0.65777034 0.66854113 0.67915905 0.68983817\n",
      " 0.70072651 0.71187031 0.72322792 0.73470902]\n",
      "13 day output [[0.7462124]]\n",
      "1 day input [0.33508744 0.34038134 0.34922959 0.34752002 0.35044714 0.36041162\n",
      " 0.37244179 0.36935509 0.37102071 0.35814325 0.35732754 0.34981411\n",
      " 0.35285386 0.36967374 0.38080406 0.39740114 0.3975947  0.39761626\n",
      " 0.38767242 0.39118318 0.4368058  0.47552128 0.47540455 0.4609217\n",
      " 0.46581989 0.4587716  0.4617107  0.45827711 0.46506758 0.47540605\n",
      " 0.46624317 0.45185635 0.44454961 0.44694825 0.44169717 0.44783692\n",
      " 0.45320777 0.4352223  0.4435614  0.43882932 0.46641746 0.46292944\n",
      " 0.45377974 0.46004876 0.46155001 0.46551324 0.46753707 0.44834378\n",
      " 0.43786467 0.42994926 0.42820279 0.44369654 0.44892161 0.44765631\n",
      " 0.45619739 0.45136204 0.44076589 0.44050489 0.44196367 0.43985053\n",
      " 0.44729655 0.44151529 0.44428083 0.45161809 0.46836131 0.47576704\n",
      " 0.47471154 0.47121557 0.48187938 0.47729566 0.4912682  0.52176016\n",
      " 0.53096751 0.51907419 0.51426435 0.51743371 0.52198828 0.55726089\n",
      " 0.56243472 0.55246583 0.56203694 0.57218203 0.59168893 0.58178325\n",
      " 0.61273877 0.58890988 0.60696524 0.61363876 0.62395799 0.63527125\n",
      " 0.64667213 0.65777034 0.66854113 0.67915905 0.68983817 0.70072651\n",
      " 0.71187031 0.72322792 0.73470902 0.74621242]\n",
      "14 day output [[0.7576503]]\n",
      "1 day input [0.34038134 0.34922959 0.34752002 0.35044714 0.36041162 0.37244179\n",
      " 0.36935509 0.37102071 0.35814325 0.35732754 0.34981411 0.35285386\n",
      " 0.36967374 0.38080406 0.39740114 0.3975947  0.39761626 0.38767242\n",
      " 0.39118318 0.4368058  0.47552128 0.47540455 0.4609217  0.46581989\n",
      " 0.4587716  0.4617107  0.45827711 0.46506758 0.47540605 0.46624317\n",
      " 0.45185635 0.44454961 0.44694825 0.44169717 0.44783692 0.45320777\n",
      " 0.4352223  0.4435614  0.43882932 0.46641746 0.46292944 0.45377974\n",
      " 0.46004876 0.46155001 0.46551324 0.46753707 0.44834378 0.43786467\n",
      " 0.42994926 0.42820279 0.44369654 0.44892161 0.44765631 0.45619739\n",
      " 0.45136204 0.44076589 0.44050489 0.44196367 0.43985053 0.44729655\n",
      " 0.44151529 0.44428083 0.45161809 0.46836131 0.47576704 0.47471154\n",
      " 0.47121557 0.48187938 0.47729566 0.4912682  0.52176016 0.53096751\n",
      " 0.51907419 0.51426435 0.51743371 0.52198828 0.55726089 0.56243472\n",
      " 0.55246583 0.56203694 0.57218203 0.59168893 0.58178325 0.61273877\n",
      " 0.58890988 0.60696524 0.61363876 0.62395799 0.63527125 0.64667213\n",
      " 0.65777034 0.66854113 0.67915905 0.68983817 0.70072651 0.71187031\n",
      " 0.72322792 0.73470902 0.74621242 0.75765032]\n",
      "15 day output [[0.76895684]]\n",
      "1 day input [0.34922959 0.34752002 0.35044714 0.36041162 0.37244179 0.36935509\n",
      " 0.37102071 0.35814325 0.35732754 0.34981411 0.35285386 0.36967374\n",
      " 0.38080406 0.39740114 0.3975947  0.39761626 0.38767242 0.39118318\n",
      " 0.4368058  0.47552128 0.47540455 0.4609217  0.46581989 0.4587716\n",
      " 0.4617107  0.45827711 0.46506758 0.47540605 0.46624317 0.45185635\n",
      " 0.44454961 0.44694825 0.44169717 0.44783692 0.45320777 0.4352223\n",
      " 0.4435614  0.43882932 0.46641746 0.46292944 0.45377974 0.46004876\n",
      " 0.46155001 0.46551324 0.46753707 0.44834378 0.43786467 0.42994926\n",
      " 0.42820279 0.44369654 0.44892161 0.44765631 0.45619739 0.45136204\n",
      " 0.44076589 0.44050489 0.44196367 0.43985053 0.44729655 0.44151529\n",
      " 0.44428083 0.45161809 0.46836131 0.47576704 0.47471154 0.47121557\n",
      " 0.48187938 0.47729566 0.4912682  0.52176016 0.53096751 0.51907419\n",
      " 0.51426435 0.51743371 0.52198828 0.55726089 0.56243472 0.55246583\n",
      " 0.56203694 0.57218203 0.59168893 0.58178325 0.61273877 0.58890988\n",
      " 0.60696524 0.61363876 0.62395799 0.63527125 0.64667213 0.65777034\n",
      " 0.66854113 0.67915905 0.68983817 0.70072651 0.71187031 0.72322792\n",
      " 0.73470902 0.74621242 0.75765032 0.76895684]\n"
     ]
    },
    {
     "name": "stdout",
     "output_type": "stream",
     "text": [
      "16 day output [[0.7800843]]\n",
      "1 day input [0.34752002 0.35044714 0.36041162 0.37244179 0.36935509 0.37102071\n",
      " 0.35814325 0.35732754 0.34981411 0.35285386 0.36967374 0.38080406\n",
      " 0.39740114 0.3975947  0.39761626 0.38767242 0.39118318 0.4368058\n",
      " 0.47552128 0.47540455 0.4609217  0.46581989 0.4587716  0.4617107\n",
      " 0.45827711 0.46506758 0.47540605 0.46624317 0.45185635 0.44454961\n",
      " 0.44694825 0.44169717 0.44783692 0.45320777 0.4352223  0.4435614\n",
      " 0.43882932 0.46641746 0.46292944 0.45377974 0.46004876 0.46155001\n",
      " 0.46551324 0.46753707 0.44834378 0.43786467 0.42994926 0.42820279\n",
      " 0.44369654 0.44892161 0.44765631 0.45619739 0.45136204 0.44076589\n",
      " 0.44050489 0.44196367 0.43985053 0.44729655 0.44151529 0.44428083\n",
      " 0.45161809 0.46836131 0.47576704 0.47471154 0.47121557 0.48187938\n",
      " 0.47729566 0.4912682  0.52176016 0.53096751 0.51907419 0.51426435\n",
      " 0.51743371 0.52198828 0.55726089 0.56243472 0.55246583 0.56203694\n",
      " 0.57218203 0.59168893 0.58178325 0.61273877 0.58890988 0.60696524\n",
      " 0.61363876 0.62395799 0.63527125 0.64667213 0.65777034 0.66854113\n",
      " 0.67915905 0.68983817 0.70072651 0.71187031 0.72322792 0.73470902\n",
      " 0.74621242 0.75765032 0.76895684 0.78008431]\n",
      "17 day output [[0.7909951]]\n",
      "1 day input [0.35044714 0.36041162 0.37244179 0.36935509 0.37102071 0.35814325\n",
      " 0.35732754 0.34981411 0.35285386 0.36967374 0.38080406 0.39740114\n",
      " 0.3975947  0.39761626 0.38767242 0.39118318 0.4368058  0.47552128\n",
      " 0.47540455 0.4609217  0.46581989 0.4587716  0.4617107  0.45827711\n",
      " 0.46506758 0.47540605 0.46624317 0.45185635 0.44454961 0.44694825\n",
      " 0.44169717 0.44783692 0.45320777 0.4352223  0.4435614  0.43882932\n",
      " 0.46641746 0.46292944 0.45377974 0.46004876 0.46155001 0.46551324\n",
      " 0.46753707 0.44834378 0.43786467 0.42994926 0.42820279 0.44369654\n",
      " 0.44892161 0.44765631 0.45619739 0.45136204 0.44076589 0.44050489\n",
      " 0.44196367 0.43985053 0.44729655 0.44151529 0.44428083 0.45161809\n",
      " 0.46836131 0.47576704 0.47471154 0.47121557 0.48187938 0.47729566\n",
      " 0.4912682  0.52176016 0.53096751 0.51907419 0.51426435 0.51743371\n",
      " 0.52198828 0.55726089 0.56243472 0.55246583 0.56203694 0.57218203\n",
      " 0.59168893 0.58178325 0.61273877 0.58890988 0.60696524 0.61363876\n",
      " 0.62395799 0.63527125 0.64667213 0.65777034 0.66854113 0.67915905\n",
      " 0.68983817 0.70072651 0.71187031 0.72322792 0.73470902 0.74621242\n",
      " 0.75765032 0.76895684 0.78008431 0.79099512]\n",
      "18 day output [[0.80165297]]\n",
      "1 day input [0.36041162 0.37244179 0.36935509 0.37102071 0.35814325 0.35732754\n",
      " 0.34981411 0.35285386 0.36967374 0.38080406 0.39740114 0.3975947\n",
      " 0.39761626 0.38767242 0.39118318 0.4368058  0.47552128 0.47540455\n",
      " 0.4609217  0.46581989 0.4587716  0.4617107  0.45827711 0.46506758\n",
      " 0.47540605 0.46624317 0.45185635 0.44454961 0.44694825 0.44169717\n",
      " 0.44783692 0.45320777 0.4352223  0.4435614  0.43882932 0.46641746\n",
      " 0.46292944 0.45377974 0.46004876 0.46155001 0.46551324 0.46753707\n",
      " 0.44834378 0.43786467 0.42994926 0.42820279 0.44369654 0.44892161\n",
      " 0.44765631 0.45619739 0.45136204 0.44076589 0.44050489 0.44196367\n",
      " 0.43985053 0.44729655 0.44151529 0.44428083 0.45161809 0.46836131\n",
      " 0.47576704 0.47471154 0.47121557 0.48187938 0.47729566 0.4912682\n",
      " 0.52176016 0.53096751 0.51907419 0.51426435 0.51743371 0.52198828\n",
      " 0.55726089 0.56243472 0.55246583 0.56203694 0.57218203 0.59168893\n",
      " 0.58178325 0.61273877 0.58890988 0.60696524 0.61363876 0.62395799\n",
      " 0.63527125 0.64667213 0.65777034 0.66854113 0.67915905 0.68983817\n",
      " 0.70072651 0.71187031 0.72322792 0.73470902 0.74621242 0.75765032\n",
      " 0.76895684 0.78008431 0.79099512 0.80165297]\n",
      "19 day output [[0.8120188]]\n",
      "1 day input [0.37244179 0.36935509 0.37102071 0.35814325 0.35732754 0.34981411\n",
      " 0.35285386 0.36967374 0.38080406 0.39740114 0.3975947  0.39761626\n",
      " 0.38767242 0.39118318 0.4368058  0.47552128 0.47540455 0.4609217\n",
      " 0.46581989 0.4587716  0.4617107  0.45827711 0.46506758 0.47540605\n",
      " 0.46624317 0.45185635 0.44454961 0.44694825 0.44169717 0.44783692\n",
      " 0.45320777 0.4352223  0.4435614  0.43882932 0.46641746 0.46292944\n",
      " 0.45377974 0.46004876 0.46155001 0.46551324 0.46753707 0.44834378\n",
      " 0.43786467 0.42994926 0.42820279 0.44369654 0.44892161 0.44765631\n",
      " 0.45619739 0.45136204 0.44076589 0.44050489 0.44196367 0.43985053\n",
      " 0.44729655 0.44151529 0.44428083 0.45161809 0.46836131 0.47576704\n",
      " 0.47471154 0.47121557 0.48187938 0.47729566 0.4912682  0.52176016\n",
      " 0.53096751 0.51907419 0.51426435 0.51743371 0.52198828 0.55726089\n",
      " 0.56243472 0.55246583 0.56203694 0.57218203 0.59168893 0.58178325\n",
      " 0.61273877 0.58890988 0.60696524 0.61363876 0.62395799 0.63527125\n",
      " 0.64667213 0.65777034 0.66854113 0.67915905 0.68983817 0.70072651\n",
      " 0.71187031 0.72322792 0.73470902 0.74621242 0.75765032 0.76895684\n",
      " 0.78008431 0.79099512 0.80165297 0.81201881]\n",
      "20 day output [[0.82204986]]\n",
      "1 day input [0.36935509 0.37102071 0.35814325 0.35732754 0.34981411 0.35285386\n",
      " 0.36967374 0.38080406 0.39740114 0.3975947  0.39761626 0.38767242\n",
      " 0.39118318 0.4368058  0.47552128 0.47540455 0.4609217  0.46581989\n",
      " 0.4587716  0.4617107  0.45827711 0.46506758 0.47540605 0.46624317\n",
      " 0.45185635 0.44454961 0.44694825 0.44169717 0.44783692 0.45320777\n",
      " 0.4352223  0.4435614  0.43882932 0.46641746 0.46292944 0.45377974\n",
      " 0.46004876 0.46155001 0.46551324 0.46753707 0.44834378 0.43786467\n",
      " 0.42994926 0.42820279 0.44369654 0.44892161 0.44765631 0.45619739\n",
      " 0.45136204 0.44076589 0.44050489 0.44196367 0.43985053 0.44729655\n",
      " 0.44151529 0.44428083 0.45161809 0.46836131 0.47576704 0.47471154\n",
      " 0.47121557 0.48187938 0.47729566 0.4912682  0.52176016 0.53096751\n",
      " 0.51907419 0.51426435 0.51743371 0.52198828 0.55726089 0.56243472\n",
      " 0.55246583 0.56203694 0.57218203 0.59168893 0.58178325 0.61273877\n",
      " 0.58890988 0.60696524 0.61363876 0.62395799 0.63527125 0.64667213\n",
      " 0.65777034 0.66854113 0.67915905 0.68983817 0.70072651 0.71187031\n",
      " 0.72322792 0.73470902 0.74621242 0.75765032 0.76895684 0.78008431\n",
      " 0.79099512 0.80165297 0.81201881 0.82204986]\n",
      "21 day output [[0.8317005]]\n",
      "1 day input [0.37102071 0.35814325 0.35732754 0.34981411 0.35285386 0.36967374\n",
      " 0.38080406 0.39740114 0.3975947  0.39761626 0.38767242 0.39118318\n",
      " 0.4368058  0.47552128 0.47540455 0.4609217  0.46581989 0.4587716\n",
      " 0.4617107  0.45827711 0.46506758 0.47540605 0.46624317 0.45185635\n",
      " 0.44454961 0.44694825 0.44169717 0.44783692 0.45320777 0.4352223\n",
      " 0.4435614  0.43882932 0.46641746 0.46292944 0.45377974 0.46004876\n",
      " 0.46155001 0.46551324 0.46753707 0.44834378 0.43786467 0.42994926\n",
      " 0.42820279 0.44369654 0.44892161 0.44765631 0.45619739 0.45136204\n",
      " 0.44076589 0.44050489 0.44196367 0.43985053 0.44729655 0.44151529\n",
      " 0.44428083 0.45161809 0.46836131 0.47576704 0.47471154 0.47121557\n",
      " 0.48187938 0.47729566 0.4912682  0.52176016 0.53096751 0.51907419\n",
      " 0.51426435 0.51743371 0.52198828 0.55726089 0.56243472 0.55246583\n",
      " 0.56203694 0.57218203 0.59168893 0.58178325 0.61273877 0.58890988\n",
      " 0.60696524 0.61363876 0.62395799 0.63527125 0.64667213 0.65777034\n",
      " 0.66854113 0.67915905 0.68983817 0.70072651 0.71187031 0.72322792\n",
      " 0.73470902 0.74621242 0.75765032 0.76895684 0.78008431 0.79099512\n",
      " 0.80165297 0.81201881 0.82204986 0.8317005 ]\n",
      "22 day output [[0.8409251]]\n",
      "1 day input [0.35814325 0.35732754 0.34981411 0.35285386 0.36967374 0.38080406\n",
      " 0.39740114 0.3975947  0.39761626 0.38767242 0.39118318 0.4368058\n",
      " 0.47552128 0.47540455 0.4609217  0.46581989 0.4587716  0.4617107\n",
      " 0.45827711 0.46506758 0.47540605 0.46624317 0.45185635 0.44454961\n",
      " 0.44694825 0.44169717 0.44783692 0.45320777 0.4352223  0.4435614\n",
      " 0.43882932 0.46641746 0.46292944 0.45377974 0.46004876 0.46155001\n",
      " 0.46551324 0.46753707 0.44834378 0.43786467 0.42994926 0.42820279\n",
      " 0.44369654 0.44892161 0.44765631 0.45619739 0.45136204 0.44076589\n",
      " 0.44050489 0.44196367 0.43985053 0.44729655 0.44151529 0.44428083\n",
      " 0.45161809 0.46836131 0.47576704 0.47471154 0.47121557 0.48187938\n",
      " 0.47729566 0.4912682  0.52176016 0.53096751 0.51907419 0.51426435\n",
      " 0.51743371 0.52198828 0.55726089 0.56243472 0.55246583 0.56203694\n",
      " 0.57218203 0.59168893 0.58178325 0.61273877 0.58890988 0.60696524\n",
      " 0.61363876 0.62395799 0.63527125 0.64667213 0.65777034 0.66854113\n",
      " 0.67915905 0.68983817 0.70072651 0.71187031 0.72322792 0.73470902\n",
      " 0.74621242 0.75765032 0.76895684 0.78008431 0.79099512 0.80165297\n",
      " 0.81201881 0.82204986 0.8317005  0.8409251 ]\n",
      "23 day output [[0.8496799]]\n",
      "1 day input [0.35732754 0.34981411 0.35285386 0.36967374 0.38080406 0.39740114\n",
      " 0.3975947  0.39761626 0.38767242 0.39118318 0.4368058  0.47552128\n",
      " 0.47540455 0.4609217  0.46581989 0.4587716  0.4617107  0.45827711\n",
      " 0.46506758 0.47540605 0.46624317 0.45185635 0.44454961 0.44694825\n",
      " 0.44169717 0.44783692 0.45320777 0.4352223  0.4435614  0.43882932\n",
      " 0.46641746 0.46292944 0.45377974 0.46004876 0.46155001 0.46551324\n",
      " 0.46753707 0.44834378 0.43786467 0.42994926 0.42820279 0.44369654\n",
      " 0.44892161 0.44765631 0.45619739 0.45136204 0.44076589 0.44050489\n",
      " 0.44196367 0.43985053 0.44729655 0.44151529 0.44428083 0.45161809\n",
      " 0.46836131 0.47576704 0.47471154 0.47121557 0.48187938 0.47729566\n",
      " 0.4912682  0.52176016 0.53096751 0.51907419 0.51426435 0.51743371\n",
      " 0.52198828 0.55726089 0.56243472 0.55246583 0.56203694 0.57218203\n",
      " 0.59168893 0.58178325 0.61273877 0.58890988 0.60696524 0.61363876\n",
      " 0.62395799 0.63527125 0.64667213 0.65777034 0.66854113 0.67915905\n",
      " 0.68983817 0.70072651 0.71187031 0.72322792 0.73470902 0.74621242\n",
      " 0.75765032 0.76895684 0.78008431 0.79099512 0.80165297 0.81201881\n",
      " 0.82204986 0.8317005  0.8409251  0.84967989]\n"
     ]
    },
    {
     "name": "stdout",
     "output_type": "stream",
     "text": [
      "24 day output [[0.8579241]]\n",
      "1 day input [0.34981411 0.35285386 0.36967374 0.38080406 0.39740114 0.3975947\n",
      " 0.39761626 0.38767242 0.39118318 0.4368058  0.47552128 0.47540455\n",
      " 0.4609217  0.46581989 0.4587716  0.4617107  0.45827711 0.46506758\n",
      " 0.47540605 0.46624317 0.45185635 0.44454961 0.44694825 0.44169717\n",
      " 0.44783692 0.45320777 0.4352223  0.4435614  0.43882932 0.46641746\n",
      " 0.46292944 0.45377974 0.46004876 0.46155001 0.46551324 0.46753707\n",
      " 0.44834378 0.43786467 0.42994926 0.42820279 0.44369654 0.44892161\n",
      " 0.44765631 0.45619739 0.45136204 0.44076589 0.44050489 0.44196367\n",
      " 0.43985053 0.44729655 0.44151529 0.44428083 0.45161809 0.46836131\n",
      " 0.47576704 0.47471154 0.47121557 0.48187938 0.47729566 0.4912682\n",
      " 0.52176016 0.53096751 0.51907419 0.51426435 0.51743371 0.52198828\n",
      " 0.55726089 0.56243472 0.55246583 0.56203694 0.57218203 0.59168893\n",
      " 0.58178325 0.61273877 0.58890988 0.60696524 0.61363876 0.62395799\n",
      " 0.63527125 0.64667213 0.65777034 0.66854113 0.67915905 0.68983817\n",
      " 0.70072651 0.71187031 0.72322792 0.73470902 0.74621242 0.75765032\n",
      " 0.76895684 0.78008431 0.79099512 0.80165297 0.81201881 0.82204986\n",
      " 0.8317005  0.8409251  0.84967989 0.8579241 ]\n",
      "25 day output [[0.8656208]]\n",
      "1 day input [0.35285386 0.36967374 0.38080406 0.39740114 0.3975947  0.39761626\n",
      " 0.38767242 0.39118318 0.4368058  0.47552128 0.47540455 0.4609217\n",
      " 0.46581989 0.4587716  0.4617107  0.45827711 0.46506758 0.47540605\n",
      " 0.46624317 0.45185635 0.44454961 0.44694825 0.44169717 0.44783692\n",
      " 0.45320777 0.4352223  0.4435614  0.43882932 0.46641746 0.46292944\n",
      " 0.45377974 0.46004876 0.46155001 0.46551324 0.46753707 0.44834378\n",
      " 0.43786467 0.42994926 0.42820279 0.44369654 0.44892161 0.44765631\n",
      " 0.45619739 0.45136204 0.44076589 0.44050489 0.44196367 0.43985053\n",
      " 0.44729655 0.44151529 0.44428083 0.45161809 0.46836131 0.47576704\n",
      " 0.47471154 0.47121557 0.48187938 0.47729566 0.4912682  0.52176016\n",
      " 0.53096751 0.51907419 0.51426435 0.51743371 0.52198828 0.55726089\n",
      " 0.56243472 0.55246583 0.56203694 0.57218203 0.59168893 0.58178325\n",
      " 0.61273877 0.58890988 0.60696524 0.61363876 0.62395799 0.63527125\n",
      " 0.64667213 0.65777034 0.66854113 0.67915905 0.68983817 0.70072651\n",
      " 0.71187031 0.72322792 0.73470902 0.74621242 0.75765032 0.76895684\n",
      " 0.78008431 0.79099512 0.80165297 0.81201881 0.82204986 0.8317005\n",
      " 0.8409251  0.84967989 0.8579241  0.86562079]\n",
      "26 day output [[0.8727386]]\n",
      "1 day input [0.36967374 0.38080406 0.39740114 0.3975947  0.39761626 0.38767242\n",
      " 0.39118318 0.4368058  0.47552128 0.47540455 0.4609217  0.46581989\n",
      " 0.4587716  0.4617107  0.45827711 0.46506758 0.47540605 0.46624317\n",
      " 0.45185635 0.44454961 0.44694825 0.44169717 0.44783692 0.45320777\n",
      " 0.4352223  0.4435614  0.43882932 0.46641746 0.46292944 0.45377974\n",
      " 0.46004876 0.46155001 0.46551324 0.46753707 0.44834378 0.43786467\n",
      " 0.42994926 0.42820279 0.44369654 0.44892161 0.44765631 0.45619739\n",
      " 0.45136204 0.44076589 0.44050489 0.44196367 0.43985053 0.44729655\n",
      " 0.44151529 0.44428083 0.45161809 0.46836131 0.47576704 0.47471154\n",
      " 0.47121557 0.48187938 0.47729566 0.4912682  0.52176016 0.53096751\n",
      " 0.51907419 0.51426435 0.51743371 0.52198828 0.55726089 0.56243472\n",
      " 0.55246583 0.56203694 0.57218203 0.59168893 0.58178325 0.61273877\n",
      " 0.58890988 0.60696524 0.61363876 0.62395799 0.63527125 0.64667213\n",
      " 0.65777034 0.66854113 0.67915905 0.68983817 0.70072651 0.71187031\n",
      " 0.72322792 0.73470902 0.74621242 0.75765032 0.76895684 0.78008431\n",
      " 0.79099512 0.80165297 0.81201881 0.82204986 0.8317005  0.8409251\n",
      " 0.84967989 0.8579241  0.86562079 0.8727386 ]\n",
      "27 day output [[0.87924886]]\n",
      "1 day input [0.38080406 0.39740114 0.3975947  0.39761626 0.38767242 0.39118318\n",
      " 0.4368058  0.47552128 0.47540455 0.4609217  0.46581989 0.4587716\n",
      " 0.4617107  0.45827711 0.46506758 0.47540605 0.46624317 0.45185635\n",
      " 0.44454961 0.44694825 0.44169717 0.44783692 0.45320777 0.4352223\n",
      " 0.4435614  0.43882932 0.46641746 0.46292944 0.45377974 0.46004876\n",
      " 0.46155001 0.46551324 0.46753707 0.44834378 0.43786467 0.42994926\n",
      " 0.42820279 0.44369654 0.44892161 0.44765631 0.45619739 0.45136204\n",
      " 0.44076589 0.44050489 0.44196367 0.43985053 0.44729655 0.44151529\n",
      " 0.44428083 0.45161809 0.46836131 0.47576704 0.47471154 0.47121557\n",
      " 0.48187938 0.47729566 0.4912682  0.52176016 0.53096751 0.51907419\n",
      " 0.51426435 0.51743371 0.52198828 0.55726089 0.56243472 0.55246583\n",
      " 0.56203694 0.57218203 0.59168893 0.58178325 0.61273877 0.58890988\n",
      " 0.60696524 0.61363876 0.62395799 0.63527125 0.64667213 0.65777034\n",
      " 0.66854113 0.67915905 0.68983817 0.70072651 0.71187031 0.72322792\n",
      " 0.73470902 0.74621242 0.75765032 0.76895684 0.78008431 0.79099512\n",
      " 0.80165297 0.81201881 0.82204986 0.8317005  0.8409251  0.84967989\n",
      " 0.8579241  0.86562079 0.8727386  0.87924886]\n",
      "28 day output [[0.88512915]]\n",
      "1 day input [0.39740114 0.3975947  0.39761626 0.38767242 0.39118318 0.4368058\n",
      " 0.47552128 0.47540455 0.4609217  0.46581989 0.4587716  0.4617107\n",
      " 0.45827711 0.46506758 0.47540605 0.46624317 0.45185635 0.44454961\n",
      " 0.44694825 0.44169717 0.44783692 0.45320777 0.4352223  0.4435614\n",
      " 0.43882932 0.46641746 0.46292944 0.45377974 0.46004876 0.46155001\n",
      " 0.46551324 0.46753707 0.44834378 0.43786467 0.42994926 0.42820279\n",
      " 0.44369654 0.44892161 0.44765631 0.45619739 0.45136204 0.44076589\n",
      " 0.44050489 0.44196367 0.43985053 0.44729655 0.44151529 0.44428083\n",
      " 0.45161809 0.46836131 0.47576704 0.47471154 0.47121557 0.48187938\n",
      " 0.47729566 0.4912682  0.52176016 0.53096751 0.51907419 0.51426435\n",
      " 0.51743371 0.52198828 0.55726089 0.56243472 0.55246583 0.56203694\n",
      " 0.57218203 0.59168893 0.58178325 0.61273877 0.58890988 0.60696524\n",
      " 0.61363876 0.62395799 0.63527125 0.64667213 0.65777034 0.66854113\n",
      " 0.67915905 0.68983817 0.70072651 0.71187031 0.72322792 0.73470902\n",
      " 0.74621242 0.75765032 0.76895684 0.78008431 0.79099512 0.80165297\n",
      " 0.81201881 0.82204986 0.8317005  0.8409251  0.84967989 0.8579241\n",
      " 0.86562079 0.8727386  0.87924886 0.88512915]\n",
      "29 day output [[0.890362]]\n",
      "[[0.6069652438163757], [0.6136387586593628], [0.6239579916000366], [0.6352712512016296], [0.6466721296310425], [0.6577703356742859], [0.6685411334037781], [0.6791590452194214], [0.689838171005249], [0.7007265090942383], [0.7118703126907349], [0.7232279181480408], [0.7347090244293213], [0.7462124228477478], [0.7576503157615662], [0.7689568400382996], [0.7800843119621277], [0.7909951210021973], [0.8016529679298401], [0.8120188117027283], [0.8220498561859131], [0.8317005038261414], [0.8409250974655151], [0.8496798872947693], [0.8579241037368774], [0.8656207919120789], [0.8727385997772217], [0.879248857498169], [0.8851291537284851], [0.890362024307251]]\n"
     ]
    }
   ],
   "source": [
    "from numpy import array\n",
    "lst_output = []\n",
    "n_steps = 100\n",
    "i = 0\n",
    "while (i<30):\n",
    "    if(len(temp_input)>100):\n",
    "        x_input = np.array(temp_input[1:])\n",
    "        print(\"{} day input {}\".format(1,x_input))\n",
    "        x_input = x_input.reshape(1,-1)\n",
    "        x_input = x_input.reshape (1, n_steps, 1)\n",
    "        yhat = model.predict(x_input, verbose = 0)\n",
    "        print(\"{} day output {}\". format (i, yhat))\n",
    "        temp_input.extend(yhat[0].tolist())\n",
    "        temp_input = temp_input[1:]\n",
    "        lst_output.extend(yhat.tolist())\n",
    "        i = i+1\n",
    "    else:\n",
    "        x_input = x_input.reshape((1, n_steps,1))\n",
    "        yhat = model.predict(x_input, verbose = 0)\n",
    "        print(yhat[0])\n",
    "        temp_input.extend(yhat[0].tolist())\n",
    "        print(len(temp_input))\n",
    "        lst_output.extend(yhat.tolist())\n",
    "        i = i+1\n",
    "print(lst_output)"
   ]
  },
  {
   "cell_type": "code",
   "execution_count": 28,
   "id": "2b7616f1",
   "metadata": {},
   "outputs": [
    {
     "name": "stdout",
     "output_type": "stream",
     "text": [
      "[101 102 103 104 105 106 107 108 109 110 111 112 113 114 115 116 117 118\n",
      " 119 120 121 122 123 124 125 126 127 128 129 130]\n"
     ]
    }
   ],
   "source": [
    "day_new = np.arange(1,101)\n",
    "day_pred = np.arange(101,131)\n",
    "print(day_pred)"
   ]
  },
  {
   "cell_type": "code",
   "execution_count": 29,
   "id": "03108b19",
   "metadata": {},
   "outputs": [
    {
     "data": {
      "text/plain": [
       "2251"
      ]
     },
     "execution_count": 29,
     "metadata": {},
     "output_type": "execute_result"
    }
   ],
   "source": [
    "import matplotlib.pyplot as plt\n",
    "len(Data)"
   ]
  },
  {
   "cell_type": "code",
   "execution_count": 30,
   "id": "2a08985c",
   "metadata": {},
   "outputs": [],
   "source": [
    "df3 = Data.tolist()\n",
    "df3.extend(lst_output)"
   ]
  },
  {
   "cell_type": "code",
   "execution_count": 31,
   "id": "b700e4a4",
   "metadata": {},
   "outputs": [
    {
     "name": "stdout",
     "output_type": "stream",
     "text": [
      "[[411.89667042]\n",
      " [416.37563616]\n",
      " [423.3014454 ]\n",
      " [430.89440104]\n",
      " [438.54616252]\n",
      " [445.9947838 ]\n",
      " [453.2236632 ]\n",
      " [460.34993239]\n",
      " [467.51728567]\n",
      " [474.82505292]\n",
      " [482.30427724]\n",
      " [489.92699584]\n",
      " [497.63260269]\n",
      " [505.35317102]\n",
      " [513.02977498]\n",
      " [520.61821017]\n",
      " [528.08647339]\n",
      " [535.40932215]\n",
      " [542.56239401]\n",
      " [549.51948636]\n",
      " [556.25187635]\n",
      " [562.72896094]\n",
      " [568.92009707]\n",
      " [574.79592182]\n",
      " [580.32907247]\n",
      " [585.49474654]\n",
      " [590.27190196]\n",
      " [594.64129679]\n",
      " [598.58788955]\n",
      " [602.09995906]]\n"
     ]
    }
   ],
   "source": [
    "print(scalar.inverse_transform(lst_output))"
   ]
  },
  {
   "cell_type": "code",
   "execution_count": 32,
   "id": "12a7a72a",
   "metadata": {},
   "outputs": [
    {
     "data": {
      "text/plain": [
       "[<matplotlib.lines.Line2D at 0x16f8be42250>]"
      ]
     },
     "execution_count": 32,
     "metadata": {},
     "output_type": "execute_result"
    },
    {
     "data": {
      "image/png": "[encoded data removed]",
      "text/plain": [
       "<Figure size 640x480 with 1 Axes>"
      ]
     },
     "metadata": {},
     "output_type": "display_data"
    }
   ],
   "source": [
    "plt.plot(day_new,scalar.inverse_transform(Data[2151:]))\n",
    "plt.plot(day_pred,scalar.inverse_transform(lst_output))"
   ]
  },
  {
   "cell_type": "code",
   "execution_count": 33,
   "id": "92910e83",
   "metadata": {},
   "outputs": [
    {
     "data": {
      "text/plain": [
       "[<matplotlib.lines.Line2D at 0x16f8a8263d0>]"
      ]
     },
     "execution_count": 33,
     "metadata": {},
     "output_type": "execute_result"
    },
    {
     "data": {
      "image/png": "[encoded data removed]",
      "text/plain": [
       "<Figure size 640x480 with 1 Axes>"
      ]
     },
     "metadata": {},
     "output_type": "display_data"
    }
   ],
   "source": [
    "df3=Data.tolist()\n",
    "df3.extend(lst_output)\n",
    "plt.plot(df3[2200:])"
   ]
  },
  {
   "cell_type": "code",
   "execution_count": 34,
   "id": "234f5b8e",
   "metadata": {},
   "outputs": [],
   "source": [
    "df3=scalar.inverse_transform(df3).tolist()"
   ]
  },
  {
   "cell_type": "code",
   "execution_count": 35,
   "id": "30503695",
   "metadata": {},
   "outputs": [
    {
     "data": {
      "text/plain": [
       "[<matplotlib.lines.Line2D at 0x16f8bde0e10>]"
      ]
     },
     "execution_count": 35,
     "metadata": {},
     "output_type": "execute_result"
    },
    {
     "data": {
      "image/png": "[encoded data removed]",
      "text/plain": [
       "<Figure size 640x480 with 1 Axes>"
      ]
     },
     "metadata": {},
     "output_type": "display_data"
    }
   ],
   "source": [
    "plt.plot(df3)"
   ]
  },
  {
   "cell_type": "code",
   "execution_count": null,
   "id": "619a7e76",
   "metadata": {},
   "outputs": [],
   "source": []
  }
 ],
 "metadata": {
  "kernelspec": {
   "display_name": "Python 3 (ipykernel)",
   "language": "python",
   "name": "python3"
  },
  "language_info": {
   "codemirror_mode": {
    "name": "ipython",
    "version": 3
   },
   "file_extension": ".py",
   "mimetype": "text/x-python",
   "name": "python",
   "nbconvert_exporter": "python",
   "pygments_lexer": "ipython3",
   "version": "3.11.7"
  }
 },
 "nbformat": 4,
 "nbformat_minor": 5
}
